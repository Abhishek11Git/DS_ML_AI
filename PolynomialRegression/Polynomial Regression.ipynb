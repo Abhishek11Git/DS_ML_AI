{
 "cells": [
  {
   "cell_type": "markdown",
   "metadata": {},
   "source": [
    "## <font color=blue>Ploynomial Regression</font>\n",
    "\n",
    "`In statistics, polynomial regression is a form of regression analysis in which the relationship between the independent variable x and the dependent variable y is modelled as an n th degree polynomial in x. Polynomial regression fits a nonlinear relationship between the value of x and the corresponding conditional mean of y, denoted E ( y | x ).`"
   ]
  },
  {
   "cell_type": "code",
   "execution_count": 1,
   "metadata": {},
   "outputs": [
    {
     "name": "stdout",
     "output_type": "stream",
     "text": [
      "Numpy : 1.16.5\n"
     ]
    }
   ],
   "source": [
    "#Import required libraries\n",
    "import numpy as np\n",
    "import matplotlib.pyplot as plt\n",
    "from sklearn.linear_model import LinearRegression\n",
    "from sklearn.metrics import r2_score\n",
    "from sklearn.metrics import mean_squared_error\n",
    "\n",
    "#check vesrions\n",
    "\n",
    "print(f'Numpy : {np.__version__}')"
   ]
  },
  {
   "cell_type": "markdown",
   "metadata": {},
   "source": [
    "### Sample DataSet"
   ]
  },
  {
   "cell_type": "code",
   "execution_count": 2,
   "metadata": {},
   "outputs": [
    {
     "data": {
      "image/png": "[encoded data removed]",
      "text/plain": [
       "<Figure size 432x288 with 1 Axes>"
      ]
     },
     "metadata": {
      "needs_background": "light"
     },
     "output_type": "display_data"
    }
   ],
   "source": [
    "np.random.seed(0)\n",
    "#np.random.normal(mu, sigma, 20)\n",
    "x=2-3*np.random.normal(0,1,20)\n",
    "y = x - 2 * (x ** 2) + 0.5 * (x ** 3) + np.random.normal(-3, 3, 20)\n",
    "plt.scatter(x,y,s=10)\n",
    "plt.show()"
   ]
  },
  {
   "cell_type": "markdown",
   "metadata": {},
   "source": [
    "### Apply linearRegression to above dataset"
   ]
  },
  {
   "cell_type": "code",
   "execution_count": 3,
   "metadata": {},
   "outputs": [
    {
     "data": {
      "image/png": "[encoded data removed]",
      "text/plain": [
       "<Figure size 432x288 with 1 Axes>"
      ]
     },
     "metadata": {
      "needs_background": "light"
     },
     "output_type": "display_data"
    }
   ],
   "source": [
    "np.random.normal(0)\n",
    "x=2 -3*np.random.normal(0,1,20)\n",
    "y=x - 2*(x**2) + 0.5*(x**3) + np.random.normal(-3,3,20)\n",
    "\n",
    "#tranferring data to add new axis\n",
    "x=x[:,np.newaxis]\n",
    "y=y[:,np.newaxis]\n",
    "\n",
    "model=LinearRegression()\n",
    "model.fit(x,y)\n",
    "y_pred=model.predict(x)\n",
    "\n",
    "plt.scatter(x,y,s=10)\n",
    "plt.plot(x, y_pred, color='r')\n",
    "plt.show()"
   ]
  },
  {
   "cell_type": "markdown",
   "metadata": {},
   "source": [
    "<img src=\"SimpleLREq.png\">"
   ]
  },
  {
   "cell_type": "markdown",
   "metadata": {},
   "source": [
    "### Observation : \n",
    "<font color=Green>Under-fitting</font>"
   ]
  },
  {
   "cell_type": "code",
   "execution_count": 4,
   "metadata": {},
   "outputs": [
    {
     "name": "stdout",
     "output_type": "stream",
     "text": [
      "R2 Score: 0.7737582858041104\n"
     ]
    }
   ],
   "source": [
    "score = r2_score(y , y_pred)\n",
    "print('R2 Score:',score)"
   ]
  },
  {
   "cell_type": "markdown",
   "metadata": {},
   "source": [
    "### Increase order of feature"
   ]
  },
  {
   "cell_type": "markdown",
   "metadata": {},
   "source": [
    "<img src=\"SimpleLREq.png\">"
   ]
  },
  {
   "cell_type": "markdown",
   "metadata": {},
   "source": [
    "<font color=Green>Still a linear model because we are increase order of features and not coefficients.</font>"
   ]
  },
  {
   "attachments": {},
   "cell_type": "markdown",
   "metadata": {},
   "source": [
    "<img src=\"PolyPipeline.png\">"
   ]
  },
  {
   "cell_type": "markdown",
   "metadata": {},
   "source": [
    "### Polynomial Regression with Degree=2"
   ]
  },
  {
   "cell_type": "code",
   "execution_count": 5,
   "metadata": {},
   "outputs": [
    {
     "name": "stdout",
     "output_type": "stream",
     "text": [
      "R2 Score: 0.8537647164420812\n"
     ]
    },
    {
     "data": {
      "image/png": "[encoded data removed]",
      "text/plain": [
       "<Figure size 432x288 with 1 Axes>"
      ]
     },
     "metadata": {
      "needs_background": "light"
     },
     "output_type": "display_data"
    }
   ],
   "source": [
    "from sklearn.preprocessing import PolynomialFeatures\n",
    "import operator\n",
    "\n",
    "np.random.seed(0)\n",
    "x = 2 - 3 * np.random.normal(0, 1, 20)\n",
    "y = x - 2 * (x ** 2) + 0.5 * (x ** 3) + np.random.normal(-3, 3, 20)\n",
    "\n",
    "#transforming data to include another axis\n",
    "x=x[:,np.newaxis]\n",
    "y=y[:,np.newaxis]\n",
    "\n",
    "polynomial_features=PolynomialFeatures(degree=2)\n",
    "x_poly=polynomial_features.fit_transform(x)\n",
    "\n",
    "model=LinearRegression()\n",
    "model.fit(x_poly,y)\n",
    "y_pred_poly=model.predict(x_poly)\n",
    "\n",
    "rmse=np.sqrt(mean_squared_error(y,y_pred_poly))\n",
    "r2=r2_score(y,y_pred_poly)\n",
    "print('R2 Score:',r2)\n",
    "\n",
    "plt.scatter(x,y,s=10)\n",
    "# sort the values of x before line plot\n",
    "sort_axis=operator.itemgetter(0)\n",
    "sorted_zip=sorted(zip(x,y_pred_poly),key=sort_axis)\n",
    "x,y_pred_poly=zip(*sorted_zip)\n",
    "plt.plot(x,y_pred_poly,color='r')\n",
    "plt.show()"
   ]
  },
  {
   "cell_type": "markdown",
   "metadata": {},
   "source": [
    "### Observation :\n",
    "\n",
    "<font color=Green>We are converting the features to higher order and training with LinearRegression</font>"
   ]
  },
  {
   "cell_type": "markdown",
   "metadata": {},
   "source": [
    "### Polynomial Regression with Degree=3"
   ]
  },
  {
   "cell_type": "code",
   "execution_count": 6,
   "metadata": {},
   "outputs": [
    {
     "name": "stdout",
     "output_type": "stream",
     "text": [
      "R2 Score: 0.9830071790386679\n"
     ]
    },
    {
     "data": {
      "image/png": "[encoded data removed]",
      "text/plain": [
       "<Figure size 432x288 with 1 Axes>"
      ]
     },
     "metadata": {
      "needs_background": "light"
     },
     "output_type": "display_data"
    }
   ],
   "source": [
    "from sklearn.preprocessing import PolynomialFeatures\n",
    "import operator\n",
    "\n",
    "np.random.seed(0)\n",
    "x = 2 - 3 * np.random.normal(0, 1, 20)\n",
    "y = x - 2 * (x ** 2) + 0.5 * (x ** 3) + np.random.normal(-3, 3, 20)\n",
    "\n",
    "#transforming data to include another axis\n",
    "x=x[:,np.newaxis]\n",
    "y=y[:,np.newaxis]\n",
    "\n",
    "polynomial_features=PolynomialFeatures(degree=3)\n",
    "x_poly=polynomial_features.fit_transform(x)\n",
    "\n",
    "model=LinearRegression()\n",
    "model.fit(x_poly,y)\n",
    "y_pred_poly=model.predict(x_poly)\n",
    "\n",
    "rmse=np.sqrt(mean_squared_error(y,y_pred_poly))\n",
    "r2=r2_score(y,y_pred_poly)\n",
    "print('R2 Score:',r2)\n",
    "\n",
    "plt.scatter(x,y,s=10)\n",
    "# sort the values of x before line plot\n",
    "sort_axis=operator.itemgetter(0)\n",
    "sorted_zip=sorted(zip(x,y_pred_poly),key=sort_axis)\n",
    "x,y_pred_poly=zip(*sorted_zip)\n",
    "plt.plot(x,y_pred_poly,color='m')\n",
    "plt.show()"
   ]
  },
  {
   "cell_type": "markdown",
   "metadata": {},
   "source": [
    "### Observation:\n",
    "<font color=Green>degree 3 fits the dataset even more</font>"
   ]
  },
  {
   "cell_type": "markdown",
   "metadata": {},
   "source": [
    "### Polynomial Degree=20"
   ]
  },
  {
   "cell_type": "code",
   "execution_count": 7,
   "metadata": {},
   "outputs": [
    {
     "name": "stdout",
     "output_type": "stream",
     "text": [
      "R2 Score: 0.9982308265442509\n"
     ]
    },
    {
     "data": {
      "image/png": "[encoded data removed]",
      "text/plain": [
       "<Figure size 432x288 with 1 Axes>"
      ]
     },
     "metadata": {
      "needs_background": "light"
     },
     "output_type": "display_data"
    }
   ],
   "source": [
    "from sklearn.preprocessing import PolynomialFeatures\n",
    "import operator\n",
    "\n",
    "np.random.seed(0)\n",
    "x = 2 - 3 * np.random.normal(0, 1, 20)\n",
    "y = x - 2 * (x ** 2) + 0.5 * (x ** 3) + np.random.normal(-3, 3, 20)\n",
    "\n",
    "#transforming data to include another axis\n",
    "x=x[:,np.newaxis]\n",
    "y=y[:,np.newaxis]\n",
    "\n",
    "polynomial_features=PolynomialFeatures(degree=20)\n",
    "x_poly=polynomial_features.fit_transform(x)\n",
    "\n",
    "model=LinearRegression()\n",
    "model.fit(x_poly,y)\n",
    "y_pred_poly=model.predict(x_poly)\n",
    "\n",
    "rmse=np.sqrt(mean_squared_error(y,y_pred_poly))\n",
    "r2=r2_score(y,y_pred_poly)\n",
    "print('R2 Score:',r2)\n",
    "\n",
    "plt.scatter(x,y,s=10)\n",
    "# sort the values of x before line plot\n",
    "sort_axis=operator.itemgetter(0)\n",
    "sorted_zip=sorted(zip(x,y_pred_poly),key=sort_axis)\n",
    "x,y_pred_poly=zip(*sorted_zip)\n",
    "plt.plot(x,y_pred_poly,color='m')\n",
    "plt.show()"
   ]
  },
  {
   "cell_type": "markdown",
   "metadata": {},
   "source": [
    "## The Bias vs Variance trade-off:"
   ]
  },
  {
   "cell_type": "markdown",
   "metadata": {},
   "source": [
    "- Bias:\n",
    "    1. Simplistic assumptions of the model\n",
    "    2. Higher the bias, lesser is the model able to capture pattern"
   ]
  },
  {
   "cell_type": "markdown",
   "metadata": {},
   "source": [
    "- Variance:\n",
    "    1. Error due to complex model trying to fit the data\n",
    "    2. Over-fitting"
   ]
  },
  {
   "cell_type": "markdown",
   "metadata": {},
   "source": [
    "**We can assume that a model with low bias and low variance is optimum, but its not possible choose both. Hence its a trade off!!**"
   ]
  },
  {
   "cell_type": "markdown",
   "metadata": {},
   "source": [
    "<img src=\"BiasVarianceTradeoff.png\">"
   ]
  },
  {
   "cell_type": "markdown",
   "metadata": {},
   "source": [
    "### Advantages:\n",
    "- Best Approx of relationship with dependent and independent variable\n",
    "- fits wide range of curvature\n",
    "\n",
    "### Disadvantage:\n",
    "- Presence of outliers can affect the analysis as its too sensitive to outliers"
   ]
  },
  {
   "cell_type": "markdown",
   "metadata": {},
   "source": [
    "### What about more than one feature?"
   ]
  },
  {
   "cell_type": "markdown",
   "metadata": {},
   "source": [
    "<img src=\"multiplefeatuesEq.png\">"
   ]
  },
  {
   "cell_type": "code",
   "execution_count": null,
   "metadata": {},
   "outputs": [],
   "source": []
  }
 ],
 "metadata": {
  "kernelspec": {
   "display_name": "Python 3",
   "language": "python",
   "name": "python3"
  },
  "language_info": {
   "codemirror_mode": {
    "name": "ipython",
    "version": 3
   },
   "file_extension": ".py",
   "mimetype": "text/x-python",
   "name": "python",
   "nbconvert_exporter": "python",
   "pygments_lexer": "ipython3",
   "version": "3.7.4"
  }
 },
 "nbformat": 4,
 "nbformat_minor": 2
}
