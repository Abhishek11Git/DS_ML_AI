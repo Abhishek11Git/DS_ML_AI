{
 "cells": [
  {
   "cell_type": "markdown",
   "metadata": {},
   "source": [
    "# Spark Funds Investments Analysis"
   ]
  },
  {
   "cell_type": "markdown",
   "metadata": {},
   "source": [
    "## Objective : "
   ]
  },
  {
   "cell_type": "markdown",
   "metadata": {},
   "source": [
    "1.) __Business Objective:__\n",
    "- To understand the global trends in investments so that the company can take the investment decisions effectively.\n",
    "    \n",
    "2.) __Goals for data analysis:__\n",
    "\n",
    "- `Investment type analysis` : Typical investment amounts in the venture, seed, angel, private equity etc.\n",
    "- `Country analysis`: Identifying the countries which have been the most heavily invested in the past.\n",
    "- `Sector analysis`: Understanding the distribution of investments across the eight main sectors.\n",
    "    "
   ]
  },
  {
   "cell_type": "markdown",
   "metadata": {},
   "source": [
    "- __Spark Funds has two minor constraints for investments:__\n",
    "\n",
    "    1.) It wants to invest between 5 to 15 million USD per round of investment\n",
    "\n",
    "    2.) It wants to invest only in English-speaking countries because of the ease of communication with the companies it would       invest in.\n",
    "    \n",
    "\n",
    "- __Source of data__ :Real investment data from <font color = blue>**crunchbase.com**</font>\n"
   ]
  },
  {
   "cell_type": "markdown",
   "metadata": {},
   "source": [
    "# Step 1 : Data Understanding and Preparation"
   ]
  },
  {
   "cell_type": "code",
   "execution_count": 1,
   "metadata": {},
   "outputs": [],
   "source": [
    "#import pandas and numpy\n",
    "import pandas as pd\n",
    "import numpy as np"
   ]
  },
  {
   "cell_type": "markdown",
   "metadata": {},
   "source": [
    "### Load given datasets"
   ]
  },
  {
   "cell_type": "markdown",
   "metadata": {},
   "source": [
    "__companies details__"
   ]
  },
  {
   "cell_type": "code",
   "execution_count": 2,
   "metadata": {},
   "outputs": [],
   "source": [
    "#import companies data set\n",
    "# encoding='latin1' to solve UnicodeDecodeError: 'utf-8' codec can't decode byte 0xa0 in position 25: invalid start byte\n",
    "companies=pd.read_csv('companies.csv',encoding='latin1') "
   ]
  },
  {
   "cell_type": "code",
   "execution_count": 3,
   "metadata": {
    "scrolled": true
   },
   "outputs": [
    {
     "data": {
      "text/html": [
       "<div>\n",
       "<style scoped>\n",
       "    .dataframe tbody tr th:only-of-type {\n",
       "        vertical-align: middle;\n",
       "    }\n",
       "\n",
       "    .dataframe tbody tr th {\n",
       "        vertical-align: top;\n",
       "    }\n",
       "\n",
       "    .dataframe thead th {\n",
       "        text-align: right;\n",
       "    }\n",
       "</style>\n",
       "<table border=\"1\" class=\"dataframe\">\n",
       "  <thead>\n",
       "    <tr style=\"text-align: right;\">\n",
       "      <th></th>\n",
       "      <th>permalink</th>\n",
       "      <th>name</th>\n",
       "      <th>homepage_url</th>\n",
       "      <th>category_list</th>\n",
       "      <th>status</th>\n",
       "      <th>country_code</th>\n",
       "      <th>state_code</th>\n",
       "      <th>region</th>\n",
       "      <th>city</th>\n",
       "      <th>founded_at</th>\n",
       "    </tr>\n",
       "  </thead>\n",
       "  <tbody>\n",
       "    <tr>\n",
       "      <th>0</th>\n",
       "      <td>/Organization/-Fame</td>\n",
       "      <td>#fame</td>\n",
       "      <td>http://livfame.com</td>\n",
       "      <td>Media</td>\n",
       "      <td>operating</td>\n",
       "      <td>IND</td>\n",
       "      <td>16</td>\n",
       "      <td>Mumbai</td>\n",
       "      <td>Mumbai</td>\n",
       "      <td>NaN</td>\n",
       "    </tr>\n",
       "    <tr>\n",
       "      <th>1</th>\n",
       "      <td>/Organization/-Qounter</td>\n",
       "      <td>:Qounter</td>\n",
       "      <td>http://www.qounter.com</td>\n",
       "      <td>Application Platforms|Real Time|Social Network...</td>\n",
       "      <td>operating</td>\n",
       "      <td>USA</td>\n",
       "      <td>DE</td>\n",
       "      <td>DE - Other</td>\n",
       "      <td>Delaware City</td>\n",
       "      <td>04-09-2014</td>\n",
       "    </tr>\n",
       "    <tr>\n",
       "      <th>2</th>\n",
       "      <td>/Organization/-The-One-Of-Them-Inc-</td>\n",
       "      <td>(THE) ONE of THEM,Inc.</td>\n",
       "      <td>http://oneofthem.jp</td>\n",
       "      <td>Apps|Games|Mobile</td>\n",
       "      <td>operating</td>\n",
       "      <td>NaN</td>\n",
       "      <td>NaN</td>\n",
       "      <td>NaN</td>\n",
       "      <td>NaN</td>\n",
       "      <td>NaN</td>\n",
       "    </tr>\n",
       "    <tr>\n",
       "      <th>3</th>\n",
       "      <td>/Organization/0-6-Com</td>\n",
       "      <td>0-6.com</td>\n",
       "      <td>http://www.0-6.com</td>\n",
       "      <td>Curated Web</td>\n",
       "      <td>operating</td>\n",
       "      <td>CHN</td>\n",
       "      <td>22</td>\n",
       "      <td>Beijing</td>\n",
       "      <td>Beijing</td>\n",
       "      <td>01-01-2007</td>\n",
       "    </tr>\n",
       "    <tr>\n",
       "      <th>4</th>\n",
       "      <td>/Organization/004-Technologies</td>\n",
       "      <td>004 Technologies</td>\n",
       "      <td>http://004gmbh.de/en/004-interact</td>\n",
       "      <td>Software</td>\n",
       "      <td>operating</td>\n",
       "      <td>USA</td>\n",
       "      <td>IL</td>\n",
       "      <td>Springfield, Illinois</td>\n",
       "      <td>Champaign</td>\n",
       "      <td>01-01-2010</td>\n",
       "    </tr>\n",
       "  </tbody>\n",
       "</table>\n",
       "</div>"
      ],
      "text/plain": [
       "                             permalink                    name  \\\n",
       "0                  /Organization/-Fame                   #fame   \n",
       "1               /Organization/-Qounter                :Qounter   \n",
       "2  /Organization/-The-One-Of-Them-Inc-  (THE) ONE of THEM,Inc.   \n",
       "3                /Organization/0-6-Com                 0-6.com   \n",
       "4       /Organization/004-Technologies        004 Technologies   \n",
       "\n",
       "                        homepage_url  \\\n",
       "0                 http://livfame.com   \n",
       "1             http://www.qounter.com   \n",
       "2                http://oneofthem.jp   \n",
       "3                 http://www.0-6.com   \n",
       "4  http://004gmbh.de/en/004-interact   \n",
       "\n",
       "                                       category_list     status country_code  \\\n",
       "0                                              Media  operating          IND   \n",
       "1  Application Platforms|Real Time|Social Network...  operating          USA   \n",
       "2                                  Apps|Games|Mobile  operating          NaN   \n",
       "3                                        Curated Web  operating          CHN   \n",
       "4                                           Software  operating          USA   \n",
       "\n",
       "  state_code                 region           city  founded_at  \n",
       "0         16                 Mumbai         Mumbai         NaN  \n",
       "1         DE             DE - Other  Delaware City  04-09-2014  \n",
       "2        NaN                    NaN            NaN         NaN  \n",
       "3         22                Beijing        Beijing  01-01-2007  \n",
       "4         IL  Springfield, Illinois      Champaign  01-01-2010  "
      ]
     },
     "execution_count": 3,
     "metadata": {},
     "output_type": "execute_result"
    }
   ],
   "source": [
    "companies.head()"
   ]
  },
  {
   "cell_type": "markdown",
   "metadata": {},
   "source": [
    "__rounds2 details__"
   ]
  },
  {
   "cell_type": "code",
   "execution_count": 4,
   "metadata": {},
   "outputs": [],
   "source": [
    "rounds2=pd.read_csv('rounds2.csv', encoding='latin1') "
   ]
  },
  {
   "cell_type": "code",
   "execution_count": 5,
   "metadata": {
    "scrolled": false
   },
   "outputs": [
    {
     "data": {
      "text/html": [
       "<div>\n",
       "<style scoped>\n",
       "    .dataframe tbody tr th:only-of-type {\n",
       "        vertical-align: middle;\n",
       "    }\n",
       "\n",
       "    .dataframe tbody tr th {\n",
       "        vertical-align: top;\n",
       "    }\n",
       "\n",
       "    .dataframe thead th {\n",
       "        text-align: right;\n",
       "    }\n",
       "</style>\n",
       "<table border=\"1\" class=\"dataframe\">\n",
       "  <thead>\n",
       "    <tr style=\"text-align: right;\">\n",
       "      <th></th>\n",
       "      <th>company_permalink</th>\n",
       "      <th>funding_round_permalink</th>\n",
       "      <th>funding_round_type</th>\n",
       "      <th>funding_round_code</th>\n",
       "      <th>funded_at</th>\n",
       "      <th>raised_amount_usd</th>\n",
       "    </tr>\n",
       "  </thead>\n",
       "  <tbody>\n",
       "    <tr>\n",
       "      <th>0</th>\n",
       "      <td>/organization/-fame</td>\n",
       "      <td>/funding-round/9a01d05418af9f794eebff7ace91f638</td>\n",
       "      <td>venture</td>\n",
       "      <td>B</td>\n",
       "      <td>05-01-2015</td>\n",
       "      <td>10000000.0</td>\n",
       "    </tr>\n",
       "    <tr>\n",
       "      <th>1</th>\n",
       "      <td>/ORGANIZATION/-QOUNTER</td>\n",
       "      <td>/funding-round/22dacff496eb7acb2b901dec1dfe5633</td>\n",
       "      <td>venture</td>\n",
       "      <td>A</td>\n",
       "      <td>14-10-2014</td>\n",
       "      <td>NaN</td>\n",
       "    </tr>\n",
       "    <tr>\n",
       "      <th>2</th>\n",
       "      <td>/organization/-qounter</td>\n",
       "      <td>/funding-round/b44fbb94153f6cdef13083530bb48030</td>\n",
       "      <td>seed</td>\n",
       "      <td>NaN</td>\n",
       "      <td>01-03-2014</td>\n",
       "      <td>700000.0</td>\n",
       "    </tr>\n",
       "    <tr>\n",
       "      <th>3</th>\n",
       "      <td>/ORGANIZATION/-THE-ONE-OF-THEM-INC-</td>\n",
       "      <td>/funding-round/650b8f704416801069bb178a1418776b</td>\n",
       "      <td>venture</td>\n",
       "      <td>B</td>\n",
       "      <td>30-01-2014</td>\n",
       "      <td>3406878.0</td>\n",
       "    </tr>\n",
       "    <tr>\n",
       "      <th>4</th>\n",
       "      <td>/organization/0-6-com</td>\n",
       "      <td>/funding-round/5727accaeaa57461bd22a9bdd945382d</td>\n",
       "      <td>venture</td>\n",
       "      <td>A</td>\n",
       "      <td>19-03-2008</td>\n",
       "      <td>2000000.0</td>\n",
       "    </tr>\n",
       "  </tbody>\n",
       "</table>\n",
       "</div>"
      ],
      "text/plain": [
       "                     company_permalink  \\\n",
       "0                  /organization/-fame   \n",
       "1               /ORGANIZATION/-QOUNTER   \n",
       "2               /organization/-qounter   \n",
       "3  /ORGANIZATION/-THE-ONE-OF-THEM-INC-   \n",
       "4                /organization/0-6-com   \n",
       "\n",
       "                           funding_round_permalink funding_round_type  \\\n",
       "0  /funding-round/9a01d05418af9f794eebff7ace91f638            venture   \n",
       "1  /funding-round/22dacff496eb7acb2b901dec1dfe5633            venture   \n",
       "2  /funding-round/b44fbb94153f6cdef13083530bb48030               seed   \n",
       "3  /funding-round/650b8f704416801069bb178a1418776b            venture   \n",
       "4  /funding-round/5727accaeaa57461bd22a9bdd945382d            venture   \n",
       "\n",
       "  funding_round_code   funded_at  raised_amount_usd  \n",
       "0                  B  05-01-2015         10000000.0  \n",
       "1                  A  14-10-2014                NaN  \n",
       "2                NaN  01-03-2014           700000.0  \n",
       "3                  B  30-01-2014          3406878.0  \n",
       "4                  A  19-03-2008          2000000.0  "
      ]
     },
     "execution_count": 5,
     "metadata": {},
     "output_type": "execute_result"
    }
   ],
   "source": [
    "rounds2.head()"
   ]
  },
  {
   "cell_type": "markdown",
   "metadata": {},
   "source": [
    "__mapping details__"
   ]
  },
  {
   "cell_type": "code",
   "execution_count": 6,
   "metadata": {},
   "outputs": [
    {
     "data": {
      "text/html": [
       "<div>\n",
       "<style scoped>\n",
       "    .dataframe tbody tr th:only-of-type {\n",
       "        vertical-align: middle;\n",
       "    }\n",
       "\n",
       "    .dataframe tbody tr th {\n",
       "        vertical-align: top;\n",
       "    }\n",
       "\n",
       "    .dataframe thead th {\n",
       "        text-align: right;\n",
       "    }\n",
       "</style>\n",
       "<table border=\"1\" class=\"dataframe\">\n",
       "  <thead>\n",
       "    <tr style=\"text-align: right;\">\n",
       "      <th></th>\n",
       "      <th>category_list</th>\n",
       "      <th>Automotive &amp; Sports</th>\n",
       "      <th>Blanks</th>\n",
       "      <th>Cleantech / Semiconductors</th>\n",
       "      <th>Entertainment</th>\n",
       "      <th>Health</th>\n",
       "      <th>Manufacturing</th>\n",
       "      <th>News, Search and Messaging</th>\n",
       "      <th>Others</th>\n",
       "      <th>Social, Finance, Analytics, Advertising</th>\n",
       "    </tr>\n",
       "  </thead>\n",
       "  <tbody>\n",
       "    <tr>\n",
       "      <th>0</th>\n",
       "      <td>NaN</td>\n",
       "      <td>0</td>\n",
       "      <td>1</td>\n",
       "      <td>0</td>\n",
       "      <td>0</td>\n",
       "      <td>0</td>\n",
       "      <td>0</td>\n",
       "      <td>0</td>\n",
       "      <td>0</td>\n",
       "      <td>0</td>\n",
       "    </tr>\n",
       "    <tr>\n",
       "      <th>1</th>\n",
       "      <td>3D</td>\n",
       "      <td>0</td>\n",
       "      <td>0</td>\n",
       "      <td>0</td>\n",
       "      <td>0</td>\n",
       "      <td>0</td>\n",
       "      <td>1</td>\n",
       "      <td>0</td>\n",
       "      <td>0</td>\n",
       "      <td>0</td>\n",
       "    </tr>\n",
       "    <tr>\n",
       "      <th>2</th>\n",
       "      <td>3D Printing</td>\n",
       "      <td>0</td>\n",
       "      <td>0</td>\n",
       "      <td>0</td>\n",
       "      <td>0</td>\n",
       "      <td>0</td>\n",
       "      <td>1</td>\n",
       "      <td>0</td>\n",
       "      <td>0</td>\n",
       "      <td>0</td>\n",
       "    </tr>\n",
       "    <tr>\n",
       "      <th>3</th>\n",
       "      <td>3D Technology</td>\n",
       "      <td>0</td>\n",
       "      <td>0</td>\n",
       "      <td>0</td>\n",
       "      <td>0</td>\n",
       "      <td>0</td>\n",
       "      <td>1</td>\n",
       "      <td>0</td>\n",
       "      <td>0</td>\n",
       "      <td>0</td>\n",
       "    </tr>\n",
       "    <tr>\n",
       "      <th>4</th>\n",
       "      <td>Accounting</td>\n",
       "      <td>0</td>\n",
       "      <td>0</td>\n",
       "      <td>0</td>\n",
       "      <td>0</td>\n",
       "      <td>0</td>\n",
       "      <td>0</td>\n",
       "      <td>0</td>\n",
       "      <td>0</td>\n",
       "      <td>1</td>\n",
       "    </tr>\n",
       "  </tbody>\n",
       "</table>\n",
       "</div>"
      ],
      "text/plain": [
       "   category_list  Automotive & Sports  Blanks  Cleantech / Semiconductors  \\\n",
       "0            NaN                    0       1                           0   \n",
       "1             3D                    0       0                           0   \n",
       "2    3D Printing                    0       0                           0   \n",
       "3  3D Technology                    0       0                           0   \n",
       "4     Accounting                    0       0                           0   \n",
       "\n",
       "   Entertainment  Health  Manufacturing  News, Search and Messaging  Others  \\\n",
       "0              0       0              0                           0       0   \n",
       "1              0       0              1                           0       0   \n",
       "2              0       0              1                           0       0   \n",
       "3              0       0              1                           0       0   \n",
       "4              0       0              0                           0       0   \n",
       "\n",
       "   Social, Finance, Analytics, Advertising  \n",
       "0                                        0  \n",
       "1                                        0  \n",
       "2                                        0  \n",
       "3                                        0  \n",
       "4                                        1  "
      ]
     },
     "execution_count": 6,
     "metadata": {},
     "output_type": "execute_result"
    }
   ],
   "source": [
    "mapping=pd.read_csv('mapping.csv')\n",
    "mapping.head()"
   ]
  },
  {
   "cell_type": "markdown",
   "metadata": {},
   "source": [
    "### Understand the Data Set "
   ]
  },
  {
   "cell_type": "code",
   "execution_count": 7,
   "metadata": {},
   "outputs": [],
   "source": [
    "#Convert all entries in 'company_permalink' to lower case for merging\n",
    "companies['permalink']=companies['permalink'].str.lower()\n",
    "rounds2['company_permalink']=rounds2['company_permalink'].str.lower()"
   ]
  },
  {
   "cell_type": "markdown",
   "metadata": {},
   "source": [
    "__1. How many unique companies are present in rounds2?__"
   ]
  },
  {
   "cell_type": "code",
   "execution_count": 8,
   "metadata": {
    "scrolled": true
   },
   "outputs": [
    {
     "name": "stdout",
     "output_type": "stream",
     "text": [
      "Unqiue companies in rounds2 : 66370\n"
     ]
    }
   ],
   "source": [
    "rounds2_unique=rounds2['company_permalink'].nunique()\n",
    "print(\"Unqiue companies in rounds2 : {}\".format(rounds2_unique))\n",
    "\n",
    "#or, We can also get number of unique columns with rounds2.describe(include='all')"
   ]
  },
  {
   "cell_type": "markdown",
   "metadata": {},
   "source": [
    "__2.How many unique companies are present in companies?__"
   ]
  },
  {
   "cell_type": "code",
   "execution_count": 9,
   "metadata": {},
   "outputs": [
    {
     "name": "stdout",
     "output_type": "stream",
     "text": [
      "Unique comapny names in comapnies : 66368\n"
     ]
    }
   ],
   "source": [
    "comapnies_unique=companies['permalink'].nunique()\n",
    "print(\"Unique comapny names in comapnies : {}\".format(comapnies_unique))\n",
    "\n",
    "#or, We can also get number of unique columns with companies.describe(include='all')"
   ]
  },
  {
   "cell_type": "markdown",
   "metadata": {},
   "source": [
    "__3.Merge the rounds2 and companies data frames so that all variables (columns) in the companies frame are added to the rounds2 data frame__"
   ]
  },
  {
   "cell_type": "code",
   "execution_count": 10,
   "metadata": {},
   "outputs": [],
   "source": [
    "#Join companies and round table to get the master_frame\n",
    "master_frame=pd.merge(rounds2,companies,how=\"left\",left_on=\"company_permalink\",right_on=\"permalink\")"
   ]
  },
  {
   "cell_type": "code",
   "execution_count": 11,
   "metadata": {
    "scrolled": true
   },
   "outputs": [
    {
     "data": {
      "text/html": [
       "<div>\n",
       "<style scoped>\n",
       "    .dataframe tbody tr th:only-of-type {\n",
       "        vertical-align: middle;\n",
       "    }\n",
       "\n",
       "    .dataframe tbody tr th {\n",
       "        vertical-align: top;\n",
       "    }\n",
       "\n",
       "    .dataframe thead th {\n",
       "        text-align: right;\n",
       "    }\n",
       "</style>\n",
       "<table border=\"1\" class=\"dataframe\">\n",
       "  <thead>\n",
       "    <tr style=\"text-align: right;\">\n",
       "      <th></th>\n",
       "      <th>company_permalink</th>\n",
       "      <th>funding_round_permalink</th>\n",
       "      <th>funding_round_type</th>\n",
       "      <th>funding_round_code</th>\n",
       "      <th>funded_at</th>\n",
       "      <th>raised_amount_usd</th>\n",
       "      <th>permalink</th>\n",
       "      <th>name</th>\n",
       "      <th>homepage_url</th>\n",
       "      <th>category_list</th>\n",
       "      <th>status</th>\n",
       "      <th>country_code</th>\n",
       "      <th>state_code</th>\n",
       "      <th>region</th>\n",
       "      <th>city</th>\n",
       "      <th>founded_at</th>\n",
       "    </tr>\n",
       "  </thead>\n",
       "  <tbody>\n",
       "    <tr>\n",
       "      <th>0</th>\n",
       "      <td>/organization/-fame</td>\n",
       "      <td>/funding-round/9a01d05418af9f794eebff7ace91f638</td>\n",
       "      <td>venture</td>\n",
       "      <td>B</td>\n",
       "      <td>05-01-2015</td>\n",
       "      <td>10000000.0</td>\n",
       "      <td>/organization/-fame</td>\n",
       "      <td>#fame</td>\n",
       "      <td>http://livfame.com</td>\n",
       "      <td>Media</td>\n",
       "      <td>operating</td>\n",
       "      <td>IND</td>\n",
       "      <td>16</td>\n",
       "      <td>Mumbai</td>\n",
       "      <td>Mumbai</td>\n",
       "      <td>NaN</td>\n",
       "    </tr>\n",
       "    <tr>\n",
       "      <th>1</th>\n",
       "      <td>/organization/-qounter</td>\n",
       "      <td>/funding-round/22dacff496eb7acb2b901dec1dfe5633</td>\n",
       "      <td>venture</td>\n",
       "      <td>A</td>\n",
       "      <td>14-10-2014</td>\n",
       "      <td>NaN</td>\n",
       "      <td>/organization/-qounter</td>\n",
       "      <td>:Qounter</td>\n",
       "      <td>http://www.qounter.com</td>\n",
       "      <td>Application Platforms|Real Time|Social Network...</td>\n",
       "      <td>operating</td>\n",
       "      <td>USA</td>\n",
       "      <td>DE</td>\n",
       "      <td>DE - Other</td>\n",
       "      <td>Delaware City</td>\n",
       "      <td>04-09-2014</td>\n",
       "    </tr>\n",
       "    <tr>\n",
       "      <th>2</th>\n",
       "      <td>/organization/-qounter</td>\n",
       "      <td>/funding-round/b44fbb94153f6cdef13083530bb48030</td>\n",
       "      <td>seed</td>\n",
       "      <td>NaN</td>\n",
       "      <td>01-03-2014</td>\n",
       "      <td>700000.0</td>\n",
       "      <td>/organization/-qounter</td>\n",
       "      <td>:Qounter</td>\n",
       "      <td>http://www.qounter.com</td>\n",
       "      <td>Application Platforms|Real Time|Social Network...</td>\n",
       "      <td>operating</td>\n",
       "      <td>USA</td>\n",
       "      <td>DE</td>\n",
       "      <td>DE - Other</td>\n",
       "      <td>Delaware City</td>\n",
       "      <td>04-09-2014</td>\n",
       "    </tr>\n",
       "    <tr>\n",
       "      <th>3</th>\n",
       "      <td>/organization/-the-one-of-them-inc-</td>\n",
       "      <td>/funding-round/650b8f704416801069bb178a1418776b</td>\n",
       "      <td>venture</td>\n",
       "      <td>B</td>\n",
       "      <td>30-01-2014</td>\n",
       "      <td>3406878.0</td>\n",
       "      <td>/organization/-the-one-of-them-inc-</td>\n",
       "      <td>(THE) ONE of THEM,Inc.</td>\n",
       "      <td>http://oneofthem.jp</td>\n",
       "      <td>Apps|Games|Mobile</td>\n",
       "      <td>operating</td>\n",
       "      <td>NaN</td>\n",
       "      <td>NaN</td>\n",
       "      <td>NaN</td>\n",
       "      <td>NaN</td>\n",
       "      <td>NaN</td>\n",
       "    </tr>\n",
       "    <tr>\n",
       "      <th>4</th>\n",
       "      <td>/organization/0-6-com</td>\n",
       "      <td>/funding-round/5727accaeaa57461bd22a9bdd945382d</td>\n",
       "      <td>venture</td>\n",
       "      <td>A</td>\n",
       "      <td>19-03-2008</td>\n",
       "      <td>2000000.0</td>\n",
       "      <td>/organization/0-6-com</td>\n",
       "      <td>0-6.com</td>\n",
       "      <td>http://www.0-6.com</td>\n",
       "      <td>Curated Web</td>\n",
       "      <td>operating</td>\n",
       "      <td>CHN</td>\n",
       "      <td>22</td>\n",
       "      <td>Beijing</td>\n",
       "      <td>Beijing</td>\n",
       "      <td>01-01-2007</td>\n",
       "    </tr>\n",
       "  </tbody>\n",
       "</table>\n",
       "</div>"
      ],
      "text/plain": [
       "                     company_permalink  \\\n",
       "0                  /organization/-fame   \n",
       "1               /organization/-qounter   \n",
       "2               /organization/-qounter   \n",
       "3  /organization/-the-one-of-them-inc-   \n",
       "4                /organization/0-6-com   \n",
       "\n",
       "                           funding_round_permalink funding_round_type  \\\n",
       "0  /funding-round/9a01d05418af9f794eebff7ace91f638            venture   \n",
       "1  /funding-round/22dacff496eb7acb2b901dec1dfe5633            venture   \n",
       "2  /funding-round/b44fbb94153f6cdef13083530bb48030               seed   \n",
       "3  /funding-round/650b8f704416801069bb178a1418776b            venture   \n",
       "4  /funding-round/5727accaeaa57461bd22a9bdd945382d            venture   \n",
       "\n",
       "  funding_round_code   funded_at  raised_amount_usd  \\\n",
       "0                  B  05-01-2015         10000000.0   \n",
       "1                  A  14-10-2014                NaN   \n",
       "2                NaN  01-03-2014           700000.0   \n",
       "3                  B  30-01-2014          3406878.0   \n",
       "4                  A  19-03-2008          2000000.0   \n",
       "\n",
       "                             permalink                    name  \\\n",
       "0                  /organization/-fame                   #fame   \n",
       "1               /organization/-qounter                :Qounter   \n",
       "2               /organization/-qounter                :Qounter   \n",
       "3  /organization/-the-one-of-them-inc-  (THE) ONE of THEM,Inc.   \n",
       "4                /organization/0-6-com                 0-6.com   \n",
       "\n",
       "             homepage_url                                      category_list  \\\n",
       "0      http://livfame.com                                              Media   \n",
       "1  http://www.qounter.com  Application Platforms|Real Time|Social Network...   \n",
       "2  http://www.qounter.com  Application Platforms|Real Time|Social Network...   \n",
       "3     http://oneofthem.jp                                  Apps|Games|Mobile   \n",
       "4      http://www.0-6.com                                        Curated Web   \n",
       "\n",
       "      status country_code state_code      region           city  founded_at  \n",
       "0  operating          IND         16      Mumbai         Mumbai         NaN  \n",
       "1  operating          USA         DE  DE - Other  Delaware City  04-09-2014  \n",
       "2  operating          USA         DE  DE - Other  Delaware City  04-09-2014  \n",
       "3  operating          NaN        NaN         NaN            NaN         NaN  \n",
       "4  operating          CHN         22     Beijing        Beijing  01-01-2007  "
      ]
     },
     "execution_count": 11,
     "metadata": {},
     "output_type": "execute_result"
    }
   ],
   "source": [
    "master_frame.head()"
   ]
  },
  {
   "cell_type": "code",
   "execution_count": 12,
   "metadata": {},
   "outputs": [
    {
     "data": {
      "text/plain": [
       "(114949, 16)"
      ]
     },
     "execution_count": 12,
     "metadata": {},
     "output_type": "execute_result"
    }
   ],
   "source": [
    "#To check the shape of master_frame\n",
    "master_frame.shape"
   ]
  },
  {
   "cell_type": "code",
   "execution_count": 13,
   "metadata": {},
   "outputs": [
    {
     "name": "stdout",
     "output_type": "stream",
     "text": [
      "<class 'pandas.core.frame.DataFrame'>\n",
      "Int64Index: 114949 entries, 0 to 114948\n",
      "Data columns (total 16 columns):\n",
      " #   Column                   Non-Null Count   Dtype  \n",
      "---  ------                   --------------   -----  \n",
      " 0   company_permalink        114949 non-null  object \n",
      " 1   funding_round_permalink  114949 non-null  object \n",
      " 2   funding_round_type       114949 non-null  object \n",
      " 3   funding_round_code       31140 non-null   object \n",
      " 4   funded_at                114949 non-null  object \n",
      " 5   raised_amount_usd        94959 non-null   float64\n",
      " 6   permalink                114942 non-null  object \n",
      " 7   name                     114941 non-null  object \n",
      " 8   homepage_url             108810 non-null  object \n",
      " 9   category_list            111535 non-null  object \n",
      " 10  status                   114942 non-null  object \n",
      " 11  country_code             106271 non-null  object \n",
      " 12  state_code               104003 non-null  object \n",
      " 13  region                   104782 non-null  object \n",
      " 14  city                     104785 non-null  object \n",
      " 15  founded_at               94422 non-null   object \n",
      "dtypes: float64(1), object(15)\n",
      "memory usage: 14.9+ MB\n"
     ]
    }
   ],
   "source": [
    "master_frame.info()"
   ]
  },
  {
   "cell_type": "markdown",
   "metadata": {},
   "source": [
    "# Step 2 :Data cleaning"
   ]
  },
  {
   "cell_type": "code",
   "execution_count": 14,
   "metadata": {
    "scrolled": true
   },
   "outputs": [
    {
     "data": {
      "text/plain": [
       "company_permalink              0\n",
       "funding_round_permalink        0\n",
       "funding_round_type             0\n",
       "funding_round_code         83809\n",
       "funded_at                      0\n",
       "raised_amount_usd          19990\n",
       "permalink                      7\n",
       "name                           8\n",
       "homepage_url                6139\n",
       "category_list               3414\n",
       "status                         7\n",
       "country_code                8678\n",
       "state_code                 10946\n",
       "region                     10167\n",
       "city                       10164\n",
       "founded_at                 20527\n",
       "dtype: int64"
      ]
     },
     "execution_count": 14,
     "metadata": {},
     "output_type": "execute_result"
    }
   ],
   "source": [
    "#Get the number of missing values for each column\n",
    "master_frame.isnull().sum()"
   ]
  },
  {
   "cell_type": "code",
   "execution_count": 15,
   "metadata": {},
   "outputs": [
    {
     "data": {
      "text/plain": [
       "company_permalink           0.00\n",
       "funding_round_permalink     0.00\n",
       "funding_round_type          0.00\n",
       "funding_round_code         72.91\n",
       "funded_at                   0.00\n",
       "raised_amount_usd          17.39\n",
       "permalink                   0.01\n",
       "name                        0.01\n",
       "homepage_url                5.34\n",
       "category_list               2.97\n",
       "status                      0.01\n",
       "country_code                7.55\n",
       "state_code                  9.52\n",
       "region                      8.84\n",
       "city                        8.84\n",
       "founded_at                 17.86\n",
       "dtype: float64"
      ]
     },
     "execution_count": 15,
     "metadata": {},
     "output_type": "execute_result"
    }
   ],
   "source": [
    "# calculate % missing values of total number of values rounded to 2 decimals\n",
    "round(100*(master_frame.isnull().sum()/len(master_frame.index)), 2)"
   ]
  },
  {
   "cell_type": "code",
   "execution_count": 16,
   "metadata": {},
   "outputs": [],
   "source": [
    "# Remove the rows entries in name column as NaN\n",
    "master_frame=master_frame[~(master_frame['name'].isnull())]"
   ]
  },
  {
   "cell_type": "code",
   "execution_count": 17,
   "metadata": {},
   "outputs": [],
   "source": [
    "# Remove the rows entries in name column as NaN\n",
    "master_frame=master_frame[~(master_frame['status']=='closed')]"
   ]
  },
  {
   "cell_type": "code",
   "execution_count": 18,
   "metadata": {},
   "outputs": [
    {
     "data": {
      "text/plain": [
       "company_permalink              0\n",
       "funding_round_permalink        0\n",
       "funding_round_type             0\n",
       "funding_round_code         77269\n",
       "funded_at                      0\n",
       "raised_amount_usd          18319\n",
       "permalink                      0\n",
       "name                           0\n",
       "homepage_url                5313\n",
       "category_list               2383\n",
       "status                         0\n",
       "country_code                6829\n",
       "state_code                  8935\n",
       "region                      8195\n",
       "city                        8192\n",
       "founded_at                 17843\n",
       "dtype: int64"
      ]
     },
     "execution_count": 18,
     "metadata": {},
     "output_type": "execute_result"
    }
   ],
   "source": [
    "#To check remaining null values\n",
    "master_frame.isnull().sum()"
   ]
  },
  {
   "cell_type": "code",
   "execution_count": 19,
   "metadata": {},
   "outputs": [],
   "source": [
    "#condition to check country_code with NaN values\n",
    "a=(master_frame['country_code'].isnull())\n",
    "\n",
    "#condtion to check state_code with NaN values\n",
    "b=(master_frame['state_code'].isnull())\n",
    "\n",
    "#condtion to check region with NaN values\n",
    "c=(master_frame['region'].isnull())\n",
    "\n",
    "#condtion to check city with NaN values\n",
    "d=(master_frame['city'].isnull())\n",
    "\n",
    "#Remove the rows with missing country_code ,state_code,region and city by combining all above conditions\n",
    "\n",
    "master_frame=master_frame[~(a & b & c & d)]\n"
   ]
  },
  {
   "cell_type": "code",
   "execution_count": 20,
   "metadata": {
    "scrolled": true
   },
   "outputs": [
    {
     "data": {
      "text/plain": [
       "company_permalink           0.00\n",
       "funding_round_permalink     0.00\n",
       "funding_round_type          0.00\n",
       "funding_round_code         72.13\n",
       "funded_at                   0.00\n",
       "raised_amount_usd          16.21\n",
       "permalink                   0.00\n",
       "name                        0.00\n",
       "homepage_url                4.24\n",
       "category_list               1.42\n",
       "status                      0.00\n",
       "country_code                0.00\n",
       "state_code                  2.12\n",
       "region                      1.37\n",
       "city                        1.37\n",
       "founded_at                 15.15\n",
       "dtype: float64"
      ]
     },
     "execution_count": 20,
     "metadata": {},
     "output_type": "execute_result"
    }
   ],
   "source": [
    "#Calculate % of missing values\n",
    "round(100*(master_frame.isnull().sum()/len(master_frame.index)),2)"
   ]
  },
  {
   "cell_type": "code",
   "execution_count": 21,
   "metadata": {},
   "outputs": [],
   "source": [
    "#raised_amount_usd column still has 16.21% of missing values\n",
    "#that we will be using for our analysis so it NaN values in that column can be removed\n",
    "\n",
    "master_frame=master_frame[~master_frame[\"raised_amount_usd\"].isnull()]"
   ]
  },
  {
   "cell_type": "code",
   "execution_count": 22,
   "metadata": {},
   "outputs": [
    {
     "data": {
      "text/plain": [
       "company_permalink           0.00\n",
       "funding_round_permalink     0.00\n",
       "funding_round_type          0.00\n",
       "funding_round_code         69.75\n",
       "funded_at                   0.00\n",
       "raised_amount_usd           0.00\n",
       "permalink                   0.00\n",
       "name                        0.00\n",
       "homepage_url                3.74\n",
       "category_list               0.52\n",
       "status                      0.00\n",
       "country_code                0.00\n",
       "state_code                  1.94\n",
       "region                      1.31\n",
       "city                        1.31\n",
       "founded_at                 14.62\n",
       "dtype: float64"
      ]
     },
     "execution_count": 22,
     "metadata": {},
     "output_type": "execute_result"
    }
   ],
   "source": [
    "#Again check for the % of missing values\n",
    "round(100*(master_frame.isnull().sum()/len(master_frame.index)),2)"
   ]
  },
  {
   "cell_type": "markdown",
   "metadata": {},
   "source": [
    "Furthermore columns funding_round_code ,founded_at and homepage_url have significant number of missing values and will not be used for our analysis so we can remove these columns"
   ]
  },
  {
   "cell_type": "code",
   "execution_count": 23,
   "metadata": {},
   "outputs": [],
   "source": [
    "master_frame=master_frame.drop(\"funding_round_code\",axis=1)\n",
    "master_frame=master_frame.drop(\"homepage_url\",axis=1)\n",
    "master_frame=master_frame.drop(\"founded_at\",axis=1)"
   ]
  },
  {
   "cell_type": "code",
   "execution_count": 24,
   "metadata": {},
   "outputs": [],
   "source": [
    "#Remove Null values from category_list as this required for our analysis\n",
    "master_frame=master_frame[~master_frame[\"category_list\"].isnull()]"
   ]
  },
  {
   "cell_type": "code",
   "execution_count": 25,
   "metadata": {},
   "outputs": [
    {
     "data": {
      "text/plain": [
       "company_permalink          0.00\n",
       "funding_round_permalink    0.00\n",
       "funding_round_type         0.00\n",
       "funded_at                  0.00\n",
       "raised_amount_usd          0.00\n",
       "permalink                  0.00\n",
       "name                       0.00\n",
       "category_list              0.00\n",
       "status                     0.00\n",
       "country_code               0.00\n",
       "state_code                 1.93\n",
       "region                     1.31\n",
       "city                       1.30\n",
       "dtype: float64"
      ]
     },
     "execution_count": 25,
     "metadata": {},
     "output_type": "execute_result"
    }
   ],
   "source": [
    "round(100*(master_frame.isnull().sum()/len(master_frame.index)),2)"
   ]
  },
  {
   "cell_type": "markdown",
   "metadata": {},
   "source": [
    "Now we have got the required data for analysis and the percentage of missing values is also very low."
   ]
  },
  {
   "cell_type": "code",
   "execution_count": 26,
   "metadata": {},
   "outputs": [
    {
     "data": {
      "text/plain": [
       "(82846, 13)"
      ]
     },
     "execution_count": 26,
     "metadata": {},
     "output_type": "execute_result"
    }
   ],
   "source": [
    "#Check the shape of master_frame available for analysis\n",
    "master_frame.shape"
   ]
  },
  {
   "cell_type": "code",
   "execution_count": 27,
   "metadata": {},
   "outputs": [
    {
     "data": {
      "text/plain": [
       "72.08"
      ]
     },
     "execution_count": 27,
     "metadata": {},
     "output_type": "execute_result"
    }
   ],
   "source": [
    "#peecentage of rows left after cleaning\n",
    "\n",
    "round(100*(len(master_frame.index)/114942),2)"
   ]
  },
  {
   "cell_type": "markdown",
   "metadata": {},
   "source": [
    "# Step 3 : Data Analysis and Visualiztaion"
   ]
  },
  {
   "cell_type": "markdown",
   "metadata": {},
   "source": [
    "### Funding Type Analysis\n",
    "\n",
    "The funding types such as seed, venture, angel, etc. depend on the type of the company (startup, corporate, etc.), its stage (early stage startup, funded startup, etc.), the amount of funding (a few million USD to a billion USD), and so on. For example, seed, angel and venture are three common stages of startup funding.\n",
    "\n",
    "Seed/angel funding refer to early stage startups whereas venture funding occurs after seed or angel stage/s and involves a relatively higher amount of investment.\n",
    "Private equity type investments are associated with much larger companies and involve much higher investments than venture type. Startups which have grown in scale may also receive private equity funding. This means that if a company has reached the venture stage, it would have already passed through the angel or seed stage/s.\n",
    " \n",
    "\n",
    "Spark Funds wants to choose one of these four investment types for each potential investment they will make.\n",
    "\n",
    "Considering the constraints of Spark Funds, you have to decide one funding type which is most suitable for them.\n",
    "\n",
    "Calculate the most representative value of the investment amount for each of the four funding types (venture, angel, seed, and private equity).\n"
   ]
  },
  {
   "cell_type": "code",
   "execution_count": 28,
   "metadata": {},
   "outputs": [
    {
     "name": "stderr",
     "output_type": "stream",
     "text": [
      "G:\\Anaconda\\lib\\site-packages\\statsmodels\\tools\\_testing.py:19: FutureWarning: pandas.util.testing is deprecated. Use the functions in the public API at pandas.testing instead.\n",
      "  import pandas.util.testing as tm\n"
     ]
    }
   ],
   "source": [
    "import matplotlib.pyplot as plt\n",
    "\n",
    "# the commonly used alias for seaborn is sns\n",
    "import seaborn as sns\n",
    "\n",
    "# set a seaborn style of your taste\n",
    "sns.set_style(\"whitegrid\")"
   ]
  },
  {
   "cell_type": "markdown",
   "metadata": {},
   "source": [
    "#### Spark Funds wants to choose one of the four below mentioned investment types for each potential investment they will make. \n",
    "- seed\n",
    "- angle\n",
    "- venture\n",
    "- private_equity\n",
    "    "
   ]
  },
  {
   "cell_type": "code",
   "execution_count": 29,
   "metadata": {
    "scrolled": true
   },
   "outputs": [
    {
     "data": {
      "text/plain": [
       "array(['venture', 'seed', 'undisclosed', 'convertible_note',\n",
       "       'private_equity', 'debt_financing', 'angel', 'grant',\n",
       "       'equity_crowdfunding', 'post_ipo_equity', 'post_ipo_debt',\n",
       "       'product_crowdfunding', 'secondary_market',\n",
       "       'non_equity_assistance'], dtype=object)"
      ]
     },
     "execution_count": 29,
     "metadata": {},
     "output_type": "execute_result"
    }
   ],
   "source": [
    "#Check for all types of investment types available\n",
    "master_frame[\"funding_round_type\"].unique()"
   ]
  },
  {
   "cell_type": "markdown",
   "metadata": {},
   "source": [
    "14 unqiue funding round type are available\n",
    "\n",
    "#### Since spark funds wants to invest in seed,angel,venture,private_equity funding_round_type. we will filter our dataframe based on those 4 types"
   ]
  },
  {
   "cell_type": "code",
   "execution_count": 30,
   "metadata": {},
   "outputs": [],
   "source": [
    "master_frame=master_frame[master_frame[\"funding_round_type\"].isin(['seed','angel','venture','private_equity'])]"
   ]
  },
  {
   "cell_type": "code",
   "execution_count": 31,
   "metadata": {},
   "outputs": [
    {
     "data": {
      "text/plain": [
       "array(['venture', 'seed', 'private_equity', 'angel'], dtype=object)"
      ]
     },
     "execution_count": 31,
     "metadata": {},
     "output_type": "execute_result"
    }
   ],
   "source": [
    "#Check for all types of investment types available now in master_frame\n",
    "master_frame[\"funding_round_type\"].unique()"
   ]
  },
  {
   "cell_type": "code",
   "execution_count": 32,
   "metadata": {
    "scrolled": true
   },
   "outputs": [
    {
     "data": {
      "image/png": "[encoded data removed]",
      "text/plain": [
       "<Figure size 432x288 with 1 Axes>"
      ]
     },
     "metadata": {
      "needs_background": "light"
     },
     "output_type": "display_data"
    }
   ],
   "source": [
    "#Visualize the raised amount in USD on boxplot\n",
    "sns.boxplot(y=master_frame['raised_amount_usd'])\n",
    "plt.yscale('log')\n",
    "plt.show()"
   ]
  },
  {
   "cell_type": "code",
   "execution_count": 33,
   "metadata": {},
   "outputs": [
    {
     "data": {
      "text/plain": [
       "funding_round_type\n",
       "private_equity    21000000.0\n",
       "venture            5000000.0\n",
       "angel               418856.0\n",
       "seed                313837.0\n",
       "Name: raised_amount_usd, dtype: float64"
      ]
     },
     "execution_count": 33,
     "metadata": {},
     "output_type": "execute_result"
    }
   ],
   "source": [
    "master_frame.groupby(\"funding_round_type\")[\"raised_amount_usd\"].median().sort_values(ascending=False)"
   ]
  },
  {
   "cell_type": "code",
   "execution_count": 34,
   "metadata": {},
   "outputs": [
    {
     "data": {
      "image/png": "[encoded data removed]",
      "text/plain": [
       "<Figure size 1080x576 with 1 Axes>"
      ]
     },
     "metadata": {
      "needs_background": "light"
     },
     "output_type": "display_data"
    }
   ],
   "source": [
    "# boxplot between variable across various funding round type\n",
    "plt.figure(figsize=(15, 8))\n",
    "sns.boxplot(x='funding_round_type', y='raised_amount_usd', data=master_frame)\n",
    "plt.yscale('log')\n",
    "plt.show()"
   ]
  },
  {
   "cell_type": "code",
   "execution_count": 35,
   "metadata": {
    "scrolled": true
   },
   "outputs": [
    {
     "data": {
      "text/plain": [
       "funding_round_type\n",
       "private_equity    7.597602e+07\n",
       "venture           1.189396e+07\n",
       "angel             9.971881e+05\n",
       "seed              7.632798e+05\n",
       "Name: raised_amount_usd, dtype: float64"
      ]
     },
     "execution_count": 35,
     "metadata": {},
     "output_type": "execute_result"
    }
   ],
   "source": [
    "# averages investment across funding_round_type\n",
    "master_frame.groupby('funding_round_type')['raised_amount_usd'].mean().sort_values(ascending=False)\n"
   ]
  },
  {
   "cell_type": "code",
   "execution_count": 36,
   "metadata": {},
   "outputs": [
    {
     "data": {
      "image/png": "[encoded data removed]",
      "text/plain": [
       "<Figure size 1008x432 with 2 Axes>"
      ]
     },
     "metadata": {
      "needs_background": "light"
     },
     "output_type": "display_data"
    }
   ],
   "source": [
    "# Average and number on ivestments across different funding category\n",
    "\n",
    "plt.figure(figsize=(14, 6))\n",
    "plt.subplot(1, 2, 1)\n",
    "sns.countplot(x=\"funding_round_type\", data=master_frame)\n",
    "plt.title(\"# of Investments\")\n",
    "plt.subplot(1, 2, 2)\n",
    "sns.barplot(y='raised_amount_usd', x=\"funding_round_type\", data=master_frame, estimator=np.mean)\n",
    "plt.title(\"Average\")\n",
    "plt.axhline(y=5000000, linewidth=2, color = 'k')\n",
    "plt.axhline(y=15000000, linewidth=2, color = 'k')\n",
    "plt.show()"
   ]
  },
  {
   "cell_type": "markdown",
   "metadata": {},
   "source": [
    "### After seeing the above barplot and countplot we can see the Venture type Falls between 5 to 15 million USD and most number of investment are in that category. So Clearly, Venture type of investment is the ideal investment type for Spark Funds. "
   ]
  },
  {
   "cell_type": "markdown",
   "metadata": {},
   "source": [
    "## Country analysis\n",
    "\n",
    "Now we know the type of investment suited for Spark Funds, let's narrow down the countries\n",
    "\n",
    "Spark Funds wants to invest in countries with the highest amount of funding for the chosen investment type. This is a part of its broader strategy to invest where most investments are occurring.\n",
    "\n",
    "Spark Funds wants to see the top nine countries which have received the highest total funding (across ALL sectors for the chosen investment type)\n"
   ]
  },
  {
   "cell_type": "code",
   "execution_count": 37,
   "metadata": {
    "scrolled": true
   },
   "outputs": [],
   "source": [
    "#First lets purge our data to only venture type as thats the type suitable for spark funds\n",
    "venture_invest=master_frame[master_frame[\"funding_round_type\"]=='venture']"
   ]
  },
  {
   "cell_type": "code",
   "execution_count": 38,
   "metadata": {},
   "outputs": [
    {
     "data": {
      "text/plain": [
       "array(['venture'], dtype=object)"
      ]
     },
     "execution_count": 38,
     "metadata": {},
     "output_type": "execute_result"
    }
   ],
   "source": [
    "venture_invest[\"funding_round_type\"].unique()"
   ]
  },
  {
   "cell_type": "code",
   "execution_count": 39,
   "metadata": {},
   "outputs": [
    {
     "data": {
      "text/plain": [
       "count     44748\n",
       "unique       97\n",
       "top         USA\n",
       "freq      33620\n",
       "Name: country_code, dtype: object"
      ]
     },
     "execution_count": 39,
     "metadata": {},
     "output_type": "execute_result"
    }
   ],
   "source": [
    "venture_invest[\"country_code\"].describe()"
   ]
  },
  {
   "cell_type": "markdown",
   "metadata": {},
   "source": [
    "### Spark Funds wants to see the top nine countries which have received the highest total funding"
   ]
  },
  {
   "cell_type": "code",
   "execution_count": 40,
   "metadata": {},
   "outputs": [
    {
     "data": {
      "text/plain": [
       "country_code\n",
       "USA    3.983246e+11\n",
       "CHN    3.864227e+10\n",
       "GBR    1.814229e+10\n",
       "IND    1.392025e+10\n",
       "CAN    8.747168e+09\n",
       "FRA    6.742609e+09\n",
       "ISR    6.484357e+09\n",
       "DEU    6.021103e+09\n",
       "JPN    3.156202e+09\n",
       "Name: raised_amount_usd, dtype: float64"
      ]
     },
     "execution_count": 40,
     "metadata": {},
     "output_type": "execute_result"
    }
   ],
   "source": [
    "venture_invest.groupby('country_code')['raised_amount_usd'].sum().sort_values(ascending=False).head(9)"
   ]
  },
  {
   "cell_type": "code",
   "execution_count": 41,
   "metadata": {},
   "outputs": [],
   "source": [
    "# Create a new data frame top9 with the list of countries with highest funding\n",
    "\n",
    "top9 = venture_invest[venture_invest['country_code'].isin([\"USA\",\"CHN\",\"GBR\",\"IND\",\"CAN\",\"FRA\",\"ISR\",\"DEU\",\"JPN\"])]"
   ]
  },
  {
   "cell_type": "code",
   "execution_count": 42,
   "metadata": {},
   "outputs": [
    {
     "data": {
      "text/plain": [
       "array(['IND', 'CHN', 'CAN', 'USA', 'GBR', 'FRA', 'JPN', 'DEU', 'ISR'],\n",
       "      dtype=object)"
      ]
     },
     "execution_count": 42,
     "metadata": {},
     "output_type": "execute_result"
    }
   ],
   "source": [
    "top9['country_code'].unique()"
   ]
  },
  {
   "cell_type": "markdown",
   "metadata": {},
   "source": [
    "### Identify the top three English-speaking countries in the data frame top9"
   ]
  },
  {
   "cell_type": "markdown",
   "metadata": {},
   "source": [
    "**Top three English speaking countries:**\n",
    "1. USA\n",
    "2. GBR\n",
    "3. IND"
   ]
  },
  {
   "cell_type": "markdown",
   "metadata": {},
   "source": [
    "## sector analysis\n",
    "\n",
    "Category list is a list of multiple sub-sectors separated by a pipe (vertical bar |).\n",
    "\n",
    "After discussing with the CEO we come up with the business rule that the first string before the vertical bar will be considered the primary sector.\n"
   ]
  },
  {
   "cell_type": "code",
   "execution_count": 43,
   "metadata": {},
   "outputs": [
    {
     "name": "stderr",
     "output_type": "stream",
     "text": [
      "G:\\Anaconda\\lib\\site-packages\\ipykernel_launcher.py:2: SettingWithCopyWarning: \n",
      "A value is trying to be set on a copy of a slice from a DataFrame.\n",
      "Try using .loc[row_indexer,col_indexer] = value instead\n",
      "\n",
      "See the caveats in the documentation: https://pandas.pydata.org/pandas-docs/stable/user_guide/indexing.html#returning-a-view-versus-a-copy\n",
      "  \n",
      "G:\\Anaconda\\lib\\site-packages\\ipykernel_launcher.py:3: SettingWithCopyWarning: \n",
      "A value is trying to be set on a copy of a slice from a DataFrame.\n",
      "Try using .loc[row_indexer,col_indexer] = value instead\n",
      "\n",
      "See the caveats in the documentation: https://pandas.pydata.org/pandas-docs/stable/user_guide/indexing.html#returning-a-view-versus-a-copy\n",
      "  This is separate from the ipykernel package so we can avoid doing imports until\n"
     ]
    }
   ],
   "source": [
    "#Extract the primary sector of each category list from the category_list column\n",
    "top9['primary_sector'] =top9['category_list'].apply(lambda x: x.split('|')[0])\n",
    "top9['primary_sector'] = top9['primary_sector'].str.lower()"
   ]
  },
  {
   "cell_type": "code",
   "execution_count": 44,
   "metadata": {},
   "outputs": [
    {
     "data": {
      "text/html": [
       "<div>\n",
       "<style scoped>\n",
       "    .dataframe tbody tr th:only-of-type {\n",
       "        vertical-align: middle;\n",
       "    }\n",
       "\n",
       "    .dataframe tbody tr th {\n",
       "        vertical-align: top;\n",
       "    }\n",
       "\n",
       "    .dataframe thead th {\n",
       "        text-align: right;\n",
       "    }\n",
       "</style>\n",
       "<table border=\"1\" class=\"dataframe\">\n",
       "  <thead>\n",
       "    <tr style=\"text-align: right;\">\n",
       "      <th></th>\n",
       "      <th>company_permalink</th>\n",
       "      <th>funding_round_permalink</th>\n",
       "      <th>funding_round_type</th>\n",
       "      <th>funded_at</th>\n",
       "      <th>raised_amount_usd</th>\n",
       "      <th>permalink</th>\n",
       "      <th>name</th>\n",
       "      <th>category_list</th>\n",
       "      <th>status</th>\n",
       "      <th>country_code</th>\n",
       "      <th>state_code</th>\n",
       "      <th>region</th>\n",
       "      <th>city</th>\n",
       "      <th>primary_sector</th>\n",
       "    </tr>\n",
       "  </thead>\n",
       "  <tbody>\n",
       "    <tr>\n",
       "      <th>0</th>\n",
       "      <td>/organization/-fame</td>\n",
       "      <td>/funding-round/9a01d05418af9f794eebff7ace91f638</td>\n",
       "      <td>venture</td>\n",
       "      <td>05-01-2015</td>\n",
       "      <td>10000000.0</td>\n",
       "      <td>/organization/-fame</td>\n",
       "      <td>#fame</td>\n",
       "      <td>Media</td>\n",
       "      <td>operating</td>\n",
       "      <td>IND</td>\n",
       "      <td>16</td>\n",
       "      <td>Mumbai</td>\n",
       "      <td>Mumbai</td>\n",
       "      <td>media</td>\n",
       "    </tr>\n",
       "    <tr>\n",
       "      <th>4</th>\n",
       "      <td>/organization/0-6-com</td>\n",
       "      <td>/funding-round/5727accaeaa57461bd22a9bdd945382d</td>\n",
       "      <td>venture</td>\n",
       "      <td>19-03-2008</td>\n",
       "      <td>2000000.0</td>\n",
       "      <td>/organization/0-6-com</td>\n",
       "      <td>0-6.com</td>\n",
       "      <td>Curated Web</td>\n",
       "      <td>operating</td>\n",
       "      <td>CHN</td>\n",
       "      <td>22</td>\n",
       "      <td>Beijing</td>\n",
       "      <td>Beijing</td>\n",
       "      <td>curated web</td>\n",
       "    </tr>\n",
       "    <tr>\n",
       "      <th>8</th>\n",
       "      <td>/organization/0ndine-biomedical-inc</td>\n",
       "      <td>/funding-round/954b9499724b946ad8c396a57a5f3b72</td>\n",
       "      <td>venture</td>\n",
       "      <td>21-12-2009</td>\n",
       "      <td>719491.0</td>\n",
       "      <td>/organization/0ndine-biomedical-inc</td>\n",
       "      <td>Ondine Biomedical Inc.</td>\n",
       "      <td>Biotechnology</td>\n",
       "      <td>operating</td>\n",
       "      <td>CAN</td>\n",
       "      <td>BC</td>\n",
       "      <td>Vancouver</td>\n",
       "      <td>Vancouver</td>\n",
       "      <td>biotechnology</td>\n",
       "    </tr>\n",
       "    <tr>\n",
       "      <th>10</th>\n",
       "      <td>/organization/0xdata</td>\n",
       "      <td>/funding-round/3bb2ee4a2d89251a10aaa735b1180e44</td>\n",
       "      <td>venture</td>\n",
       "      <td>09-11-2015</td>\n",
       "      <td>20000000.0</td>\n",
       "      <td>/organization/0xdata</td>\n",
       "      <td>H2O.ai</td>\n",
       "      <td>Analytics</td>\n",
       "      <td>operating</td>\n",
       "      <td>USA</td>\n",
       "      <td>CA</td>\n",
       "      <td>SF Bay Area</td>\n",
       "      <td>Mountain View</td>\n",
       "      <td>analytics</td>\n",
       "    </tr>\n",
       "    <tr>\n",
       "      <th>11</th>\n",
       "      <td>/organization/0xdata</td>\n",
       "      <td>/funding-round/ae2a174c06517c2394aed45006322a7e</td>\n",
       "      <td>venture</td>\n",
       "      <td>03-01-2013</td>\n",
       "      <td>1700000.0</td>\n",
       "      <td>/organization/0xdata</td>\n",
       "      <td>H2O.ai</td>\n",
       "      <td>Analytics</td>\n",
       "      <td>operating</td>\n",
       "      <td>USA</td>\n",
       "      <td>CA</td>\n",
       "      <td>SF Bay Area</td>\n",
       "      <td>Mountain View</td>\n",
       "      <td>analytics</td>\n",
       "    </tr>\n",
       "  </tbody>\n",
       "</table>\n",
       "</div>"
      ],
      "text/plain": [
       "                      company_permalink  \\\n",
       "0                   /organization/-fame   \n",
       "4                 /organization/0-6-com   \n",
       "8   /organization/0ndine-biomedical-inc   \n",
       "10                 /organization/0xdata   \n",
       "11                 /organization/0xdata   \n",
       "\n",
       "                            funding_round_permalink funding_round_type  \\\n",
       "0   /funding-round/9a01d05418af9f794eebff7ace91f638            venture   \n",
       "4   /funding-round/5727accaeaa57461bd22a9bdd945382d            venture   \n",
       "8   /funding-round/954b9499724b946ad8c396a57a5f3b72            venture   \n",
       "10  /funding-round/3bb2ee4a2d89251a10aaa735b1180e44            venture   \n",
       "11  /funding-round/ae2a174c06517c2394aed45006322a7e            venture   \n",
       "\n",
       "     funded_at  raised_amount_usd                            permalink  \\\n",
       "0   05-01-2015         10000000.0                  /organization/-fame   \n",
       "4   19-03-2008          2000000.0                /organization/0-6-com   \n",
       "8   21-12-2009           719491.0  /organization/0ndine-biomedical-inc   \n",
       "10  09-11-2015         20000000.0                 /organization/0xdata   \n",
       "11  03-01-2013          1700000.0                 /organization/0xdata   \n",
       "\n",
       "                      name  category_list     status country_code state_code  \\\n",
       "0                    #fame          Media  operating          IND         16   \n",
       "4                  0-6.com    Curated Web  operating          CHN         22   \n",
       "8   Ondine Biomedical Inc.  Biotechnology  operating          CAN         BC   \n",
       "10                  H2O.ai      Analytics  operating          USA         CA   \n",
       "11                  H2O.ai      Analytics  operating          USA         CA   \n",
       "\n",
       "         region           city primary_sector  \n",
       "0        Mumbai         Mumbai          media  \n",
       "4       Beijing        Beijing    curated web  \n",
       "8     Vancouver      Vancouver  biotechnology  \n",
       "10  SF Bay Area  Mountain View      analytics  \n",
       "11  SF Bay Area  Mountain View      analytics  "
      ]
     },
     "execution_count": 44,
     "metadata": {},
     "output_type": "execute_result"
    }
   ],
   "source": [
    "top9.head()"
   ]
  },
  {
   "cell_type": "code",
   "execution_count": 45,
   "metadata": {},
   "outputs": [
    {
     "data": {
      "text/plain": [
       "(41349, 14)"
      ]
     },
     "execution_count": 45,
     "metadata": {},
     "output_type": "execute_result"
    }
   ],
   "source": [
    "top9.shape"
   ]
  },
  {
   "cell_type": "code",
   "execution_count": 46,
   "metadata": {},
   "outputs": [
    {
     "data": {
      "text/plain": [
       "country_code\n",
       "USA    3.983246e+11\n",
       "GBR    1.814229e+10\n",
       "IND    1.392025e+10\n",
       "Name: raised_amount_usd, dtype: float64"
      ]
     },
     "execution_count": 46,
     "metadata": {},
     "output_type": "execute_result"
    }
   ],
   "source": [
    "# Now create a new data frame with only these 3 countires data for furthur sector wise analysis\n",
    "top3_english = top9[top9['country_code'].isin(['USA', 'GBR', 'IND'])]\n",
    "top3_english.groupby('country_code')['raised_amount_usd'].sum().sort_values(ascending=False)"
   ]
  },
  {
   "cell_type": "markdown",
   "metadata": {},
   "source": [
    "**Before further analysis for sectors lets see the mapping dataframe**"
   ]
  },
  {
   "cell_type": "code",
   "execution_count": 47,
   "metadata": {},
   "outputs": [
    {
     "data": {
      "text/html": [
       "<div>\n",
       "<style scoped>\n",
       "    .dataframe tbody tr th:only-of-type {\n",
       "        vertical-align: middle;\n",
       "    }\n",
       "\n",
       "    .dataframe tbody tr th {\n",
       "        vertical-align: top;\n",
       "    }\n",
       "\n",
       "    .dataframe thead th {\n",
       "        text-align: right;\n",
       "    }\n",
       "</style>\n",
       "<table border=\"1\" class=\"dataframe\">\n",
       "  <thead>\n",
       "    <tr style=\"text-align: right;\">\n",
       "      <th></th>\n",
       "      <th>category_list</th>\n",
       "      <th>Automotive &amp; Sports</th>\n",
       "      <th>Blanks</th>\n",
       "      <th>Cleantech / Semiconductors</th>\n",
       "      <th>Entertainment</th>\n",
       "      <th>Health</th>\n",
       "      <th>Manufacturing</th>\n",
       "      <th>News, Search and Messaging</th>\n",
       "      <th>Others</th>\n",
       "      <th>Social, Finance, Analytics, Advertising</th>\n",
       "    </tr>\n",
       "  </thead>\n",
       "  <tbody>\n",
       "    <tr>\n",
       "      <th>0</th>\n",
       "      <td>NaN</td>\n",
       "      <td>0</td>\n",
       "      <td>1</td>\n",
       "      <td>0</td>\n",
       "      <td>0</td>\n",
       "      <td>0</td>\n",
       "      <td>0</td>\n",
       "      <td>0</td>\n",
       "      <td>0</td>\n",
       "      <td>0</td>\n",
       "    </tr>\n",
       "    <tr>\n",
       "      <th>1</th>\n",
       "      <td>3D</td>\n",
       "      <td>0</td>\n",
       "      <td>0</td>\n",
       "      <td>0</td>\n",
       "      <td>0</td>\n",
       "      <td>0</td>\n",
       "      <td>1</td>\n",
       "      <td>0</td>\n",
       "      <td>0</td>\n",
       "      <td>0</td>\n",
       "    </tr>\n",
       "    <tr>\n",
       "      <th>2</th>\n",
       "      <td>3D Printing</td>\n",
       "      <td>0</td>\n",
       "      <td>0</td>\n",
       "      <td>0</td>\n",
       "      <td>0</td>\n",
       "      <td>0</td>\n",
       "      <td>1</td>\n",
       "      <td>0</td>\n",
       "      <td>0</td>\n",
       "      <td>0</td>\n",
       "    </tr>\n",
       "    <tr>\n",
       "      <th>3</th>\n",
       "      <td>3D Technology</td>\n",
       "      <td>0</td>\n",
       "      <td>0</td>\n",
       "      <td>0</td>\n",
       "      <td>0</td>\n",
       "      <td>0</td>\n",
       "      <td>1</td>\n",
       "      <td>0</td>\n",
       "      <td>0</td>\n",
       "      <td>0</td>\n",
       "    </tr>\n",
       "    <tr>\n",
       "      <th>4</th>\n",
       "      <td>Accounting</td>\n",
       "      <td>0</td>\n",
       "      <td>0</td>\n",
       "      <td>0</td>\n",
       "      <td>0</td>\n",
       "      <td>0</td>\n",
       "      <td>0</td>\n",
       "      <td>0</td>\n",
       "      <td>0</td>\n",
       "      <td>1</td>\n",
       "    </tr>\n",
       "  </tbody>\n",
       "</table>\n",
       "</div>"
      ],
      "text/plain": [
       "   category_list  Automotive & Sports  Blanks  Cleantech / Semiconductors  \\\n",
       "0            NaN                    0       1                           0   \n",
       "1             3D                    0       0                           0   \n",
       "2    3D Printing                    0       0                           0   \n",
       "3  3D Technology                    0       0                           0   \n",
       "4     Accounting                    0       0                           0   \n",
       "\n",
       "   Entertainment  Health  Manufacturing  News, Search and Messaging  Others  \\\n",
       "0              0       0              0                           0       0   \n",
       "1              0       0              1                           0       0   \n",
       "2              0       0              1                           0       0   \n",
       "3              0       0              1                           0       0   \n",
       "4              0       0              0                           0       0   \n",
       "\n",
       "   Social, Finance, Analytics, Advertising  \n",
       "0                                        0  \n",
       "1                                        0  \n",
       "2                                        0  \n",
       "3                                        0  \n",
       "4                                        1  "
      ]
     },
     "execution_count": 47,
     "metadata": {},
     "output_type": "execute_result"
    }
   ],
   "source": [
    "mapping.head()"
   ]
  },
  {
   "cell_type": "code",
   "execution_count": 48,
   "metadata": {
    "scrolled": true
   },
   "outputs": [
    {
     "name": "stdout",
     "output_type": "stream",
     "text": [
      "<class 'pandas.core.frame.DataFrame'>\n",
      "RangeIndex: 688 entries, 0 to 687\n",
      "Data columns (total 10 columns):\n",
      " #   Column                                   Non-Null Count  Dtype \n",
      "---  ------                                   --------------  ----- \n",
      " 0   category_list                            687 non-null    object\n",
      " 1   Automotive & Sports                      688 non-null    int64 \n",
      " 2   Blanks                                   688 non-null    int64 \n",
      " 3   Cleantech / Semiconductors               688 non-null    int64 \n",
      " 4   Entertainment                            688 non-null    int64 \n",
      " 5   Health                                   688 non-null    int64 \n",
      " 6   Manufacturing                            688 non-null    int64 \n",
      " 7   News, Search and Messaging               688 non-null    int64 \n",
      " 8   Others                                   688 non-null    int64 \n",
      " 9   Social, Finance, Analytics, Advertising  688 non-null    int64 \n",
      "dtypes: int64(9), object(1)\n",
      "memory usage: 53.9+ KB\n"
     ]
    }
   ],
   "source": [
    "mapping.info()"
   ]
  },
  {
   "cell_type": "markdown",
   "metadata": {},
   "source": [
    "### There are eight main sectors excluding Blanks"
   ]
  },
  {
   "cell_type": "code",
   "execution_count": 49,
   "metadata": {},
   "outputs": [
    {
     "data": {
      "text/html": [
       "<div>\n",
       "<style scoped>\n",
       "    .dataframe tbody tr th:only-of-type {\n",
       "        vertical-align: middle;\n",
       "    }\n",
       "\n",
       "    .dataframe tbody tr th {\n",
       "        vertical-align: top;\n",
       "    }\n",
       "\n",
       "    .dataframe thead th {\n",
       "        text-align: right;\n",
       "    }\n",
       "</style>\n",
       "<table border=\"1\" class=\"dataframe\">\n",
       "  <thead>\n",
       "    <tr style=\"text-align: right;\">\n",
       "      <th></th>\n",
       "      <th>category_list</th>\n",
       "      <th>variable</th>\n",
       "      <th>value</th>\n",
       "    </tr>\n",
       "  </thead>\n",
       "  <tbody>\n",
       "    <tr>\n",
       "      <th>8</th>\n",
       "      <td>Adventure Travel</td>\n",
       "      <td>Automotive &amp; Sports</td>\n",
       "      <td>1</td>\n",
       "    </tr>\n",
       "    <tr>\n",
       "      <th>14</th>\n",
       "      <td>Aerospace</td>\n",
       "      <td>Automotive &amp; Sports</td>\n",
       "      <td>1</td>\n",
       "    </tr>\n",
       "    <tr>\n",
       "      <th>45</th>\n",
       "      <td>Auto</td>\n",
       "      <td>Automotive &amp; Sports</td>\n",
       "      <td>1</td>\n",
       "    </tr>\n",
       "    <tr>\n",
       "      <th>46</th>\n",
       "      <td>Automated Kiosk</td>\n",
       "      <td>Automotive &amp; Sports</td>\n",
       "      <td>1</td>\n",
       "    </tr>\n",
       "    <tr>\n",
       "      <th>47</th>\n",
       "      <td>Automotive</td>\n",
       "      <td>Automotive &amp; Sports</td>\n",
       "      <td>1</td>\n",
       "    </tr>\n",
       "    <tr>\n",
       "      <th>57</th>\n",
       "      <td>Bicycles</td>\n",
       "      <td>Automotive &amp; Sports</td>\n",
       "      <td>1</td>\n",
       "    </tr>\n",
       "    <tr>\n",
       "      <th>69</th>\n",
       "      <td>Boating Industry</td>\n",
       "      <td>Automotive &amp; Sports</td>\n",
       "      <td>1</td>\n",
       "    </tr>\n",
       "    <tr>\n",
       "      <th>87</th>\n",
       "      <td>CAD</td>\n",
       "      <td>Automotive &amp; Sports</td>\n",
       "      <td>1</td>\n",
       "    </tr>\n",
       "    <tr>\n",
       "      <th>93</th>\n",
       "      <td>Cars</td>\n",
       "      <td>Automotive &amp; Sports</td>\n",
       "      <td>1</td>\n",
       "    </tr>\n",
       "    <tr>\n",
       "      <th>188</th>\n",
       "      <td>Design</td>\n",
       "      <td>Automotive &amp; Sports</td>\n",
       "      <td>1</td>\n",
       "    </tr>\n",
       "  </tbody>\n",
       "</table>\n",
       "</div>"
      ],
      "text/plain": [
       "        category_list             variable  value\n",
       "8    Adventure Travel  Automotive & Sports      1\n",
       "14          Aerospace  Automotive & Sports      1\n",
       "45               Auto  Automotive & Sports      1\n",
       "46    Automated Kiosk  Automotive & Sports      1\n",
       "47         Automotive  Automotive & Sports      1\n",
       "57           Bicycles  Automotive & Sports      1\n",
       "69   Boating Industry  Automotive & Sports      1\n",
       "87                CAD  Automotive & Sports      1\n",
       "93               Cars  Automotive & Sports      1\n",
       "188            Design  Automotive & Sports      1"
      ]
     },
     "execution_count": 49,
     "metadata": {},
     "output_type": "execute_result"
    }
   ],
   "source": [
    "#Remove all the null values from mapping data frame\n",
    "\n",
    "mapping = pd.melt(mapping,id_vars=[\"category_list\"])\n",
    "mapping = mapping[mapping.value != 0]\n",
    "mapping.head(10)"
   ]
  },
  {
   "cell_type": "code",
   "execution_count": 50,
   "metadata": {},
   "outputs": [
    {
     "name": "stdout",
     "output_type": "stream",
     "text": [
      "<class 'pandas.core.frame.DataFrame'>\n",
      "Int64Index: 688 entries, 8 to 6167\n",
      "Data columns (total 3 columns):\n",
      " #   Column         Non-Null Count  Dtype \n",
      "---  ------         --------------  ----- \n",
      " 0   category_list  687 non-null    object\n",
      " 1   variable       688 non-null    object\n",
      " 2   value          688 non-null    int64 \n",
      "dtypes: int64(1), object(2)\n",
      "memory usage: 21.5+ KB\n"
     ]
    }
   ],
   "source": [
    "mapping.info()"
   ]
  },
  {
   "cell_type": "code",
   "execution_count": 51,
   "metadata": {},
   "outputs": [],
   "source": [
    "mapping = mapping.drop('value', axis=1)\n",
    "mapping.rename(columns={'variable':'main_sector','category_list':'primary_sector'}, inplace=True)\n",
    "mapping['primary_sector'] = mapping['primary_sector'].str.lower()"
   ]
  },
  {
   "cell_type": "code",
   "execution_count": 52,
   "metadata": {},
   "outputs": [
    {
     "data": {
      "text/html": [
       "<div>\n",
       "<style scoped>\n",
       "    .dataframe tbody tr th:only-of-type {\n",
       "        vertical-align: middle;\n",
       "    }\n",
       "\n",
       "    .dataframe tbody tr th {\n",
       "        vertical-align: top;\n",
       "    }\n",
       "\n",
       "    .dataframe thead th {\n",
       "        text-align: right;\n",
       "    }\n",
       "</style>\n",
       "<table border=\"1\" class=\"dataframe\">\n",
       "  <thead>\n",
       "    <tr style=\"text-align: right;\">\n",
       "      <th></th>\n",
       "      <th>primary_sector</th>\n",
       "      <th>main_sector</th>\n",
       "    </tr>\n",
       "  </thead>\n",
       "  <tbody>\n",
       "    <tr>\n",
       "      <th>8</th>\n",
       "      <td>adventure travel</td>\n",
       "      <td>Automotive &amp; Sports</td>\n",
       "    </tr>\n",
       "    <tr>\n",
       "      <th>14</th>\n",
       "      <td>aerospace</td>\n",
       "      <td>Automotive &amp; Sports</td>\n",
       "    </tr>\n",
       "    <tr>\n",
       "      <th>45</th>\n",
       "      <td>auto</td>\n",
       "      <td>Automotive &amp; Sports</td>\n",
       "    </tr>\n",
       "    <tr>\n",
       "      <th>46</th>\n",
       "      <td>automated kiosk</td>\n",
       "      <td>Automotive &amp; Sports</td>\n",
       "    </tr>\n",
       "    <tr>\n",
       "      <th>47</th>\n",
       "      <td>automotive</td>\n",
       "      <td>Automotive &amp; Sports</td>\n",
       "    </tr>\n",
       "  </tbody>\n",
       "</table>\n",
       "</div>"
      ],
      "text/plain": [
       "      primary_sector          main_sector\n",
       "8   adventure travel  Automotive & Sports\n",
       "14         aerospace  Automotive & Sports\n",
       "45              auto  Automotive & Sports\n",
       "46   automated kiosk  Automotive & Sports\n",
       "47        automotive  Automotive & Sports"
      ]
     },
     "execution_count": 52,
     "metadata": {},
     "output_type": "execute_result"
    }
   ],
   "source": [
    "mapping.head()"
   ]
  },
  {
   "cell_type": "code",
   "execution_count": 53,
   "metadata": {},
   "outputs": [
    {
     "data": {
      "text/plain": [
       "(36307, 14)"
      ]
     },
     "execution_count": 53,
     "metadata": {},
     "output_type": "execute_result"
    }
   ],
   "source": [
    "top3_english.shape"
   ]
  },
  {
   "cell_type": "markdown",
   "metadata": {},
   "source": [
    "###  map each primary sector to one of the eight main sectors "
   ]
  },
  {
   "cell_type": "code",
   "execution_count": 54,
   "metadata": {},
   "outputs": [
    {
     "data": {
      "text/html": [
       "<div>\n",
       "<style scoped>\n",
       "    .dataframe tbody tr th:only-of-type {\n",
       "        vertical-align: middle;\n",
       "    }\n",
       "\n",
       "    .dataframe tbody tr th {\n",
       "        vertical-align: top;\n",
       "    }\n",
       "\n",
       "    .dataframe thead th {\n",
       "        text-align: right;\n",
       "    }\n",
       "</style>\n",
       "<table border=\"1\" class=\"dataframe\">\n",
       "  <thead>\n",
       "    <tr style=\"text-align: right;\">\n",
       "      <th></th>\n",
       "      <th>company_permalink</th>\n",
       "      <th>funding_round_permalink</th>\n",
       "      <th>funding_round_type</th>\n",
       "      <th>funded_at</th>\n",
       "      <th>raised_amount_usd</th>\n",
       "      <th>permalink</th>\n",
       "      <th>name</th>\n",
       "      <th>category_list</th>\n",
       "      <th>status</th>\n",
       "      <th>country_code</th>\n",
       "      <th>state_code</th>\n",
       "      <th>region</th>\n",
       "      <th>city</th>\n",
       "      <th>primary_sector</th>\n",
       "      <th>main_sector</th>\n",
       "      <th>_merge</th>\n",
       "    </tr>\n",
       "  </thead>\n",
       "  <tbody>\n",
       "    <tr>\n",
       "      <th>0</th>\n",
       "      <td>/organization/-fame</td>\n",
       "      <td>/funding-round/9a01d05418af9f794eebff7ace91f638</td>\n",
       "      <td>venture</td>\n",
       "      <td>05-01-2015</td>\n",
       "      <td>10000000.0</td>\n",
       "      <td>/organization/-fame</td>\n",
       "      <td>#fame</td>\n",
       "      <td>Media</td>\n",
       "      <td>operating</td>\n",
       "      <td>IND</td>\n",
       "      <td>16</td>\n",
       "      <td>Mumbai</td>\n",
       "      <td>Mumbai</td>\n",
       "      <td>media</td>\n",
       "      <td>Entertainment</td>\n",
       "      <td>both</td>\n",
       "    </tr>\n",
       "    <tr>\n",
       "      <th>1</th>\n",
       "      <td>/organization/0xdata</td>\n",
       "      <td>/funding-round/3bb2ee4a2d89251a10aaa735b1180e44</td>\n",
       "      <td>venture</td>\n",
       "      <td>09-11-2015</td>\n",
       "      <td>20000000.0</td>\n",
       "      <td>/organization/0xdata</td>\n",
       "      <td>H2O.ai</td>\n",
       "      <td>Analytics</td>\n",
       "      <td>operating</td>\n",
       "      <td>USA</td>\n",
       "      <td>CA</td>\n",
       "      <td>SF Bay Area</td>\n",
       "      <td>Mountain View</td>\n",
       "      <td>analytics</td>\n",
       "      <td>NaN</td>\n",
       "      <td>left_only</td>\n",
       "    </tr>\n",
       "    <tr>\n",
       "      <th>2</th>\n",
       "      <td>/organization/0xdata</td>\n",
       "      <td>/funding-round/ae2a174c06517c2394aed45006322a7e</td>\n",
       "      <td>venture</td>\n",
       "      <td>03-01-2013</td>\n",
       "      <td>1700000.0</td>\n",
       "      <td>/organization/0xdata</td>\n",
       "      <td>H2O.ai</td>\n",
       "      <td>Analytics</td>\n",
       "      <td>operating</td>\n",
       "      <td>USA</td>\n",
       "      <td>CA</td>\n",
       "      <td>SF Bay Area</td>\n",
       "      <td>Mountain View</td>\n",
       "      <td>analytics</td>\n",
       "      <td>NaN</td>\n",
       "      <td>left_only</td>\n",
       "    </tr>\n",
       "    <tr>\n",
       "      <th>3</th>\n",
       "      <td>/organization/0xdata</td>\n",
       "      <td>/funding-round/e1cfcbe1bdf4c70277c5f29a3482f24e</td>\n",
       "      <td>venture</td>\n",
       "      <td>19-07-2014</td>\n",
       "      <td>8900000.0</td>\n",
       "      <td>/organization/0xdata</td>\n",
       "      <td>H2O.ai</td>\n",
       "      <td>Analytics</td>\n",
       "      <td>operating</td>\n",
       "      <td>USA</td>\n",
       "      <td>CA</td>\n",
       "      <td>SF Bay Area</td>\n",
       "      <td>Mountain View</td>\n",
       "      <td>analytics</td>\n",
       "      <td>NaN</td>\n",
       "      <td>left_only</td>\n",
       "    </tr>\n",
       "    <tr>\n",
       "      <th>4</th>\n",
       "      <td>/organization/1-mainstream</td>\n",
       "      <td>/funding-round/b952cbaf401f310927430c97b68162ea</td>\n",
       "      <td>venture</td>\n",
       "      <td>17-03-2015</td>\n",
       "      <td>5000000.0</td>\n",
       "      <td>/organization/1-mainstream</td>\n",
       "      <td>1 Mainstream</td>\n",
       "      <td>Apps|Cable|Distribution|Software</td>\n",
       "      <td>acquired</td>\n",
       "      <td>USA</td>\n",
       "      <td>CA</td>\n",
       "      <td>SF Bay Area</td>\n",
       "      <td>Cupertino</td>\n",
       "      <td>apps</td>\n",
       "      <td>News, Search and Messaging</td>\n",
       "      <td>both</td>\n",
       "    </tr>\n",
       "  </tbody>\n",
       "</table>\n",
       "</div>"
      ],
      "text/plain": [
       "            company_permalink  \\\n",
       "0         /organization/-fame   \n",
       "1        /organization/0xdata   \n",
       "2        /organization/0xdata   \n",
       "3        /organization/0xdata   \n",
       "4  /organization/1-mainstream   \n",
       "\n",
       "                           funding_round_permalink funding_round_type  \\\n",
       "0  /funding-round/9a01d05418af9f794eebff7ace91f638            venture   \n",
       "1  /funding-round/3bb2ee4a2d89251a10aaa735b1180e44            venture   \n",
       "2  /funding-round/ae2a174c06517c2394aed45006322a7e            venture   \n",
       "3  /funding-round/e1cfcbe1bdf4c70277c5f29a3482f24e            venture   \n",
       "4  /funding-round/b952cbaf401f310927430c97b68162ea            venture   \n",
       "\n",
       "    funded_at  raised_amount_usd                   permalink          name  \\\n",
       "0  05-01-2015         10000000.0         /organization/-fame         #fame   \n",
       "1  09-11-2015         20000000.0        /organization/0xdata        H2O.ai   \n",
       "2  03-01-2013          1700000.0        /organization/0xdata        H2O.ai   \n",
       "3  19-07-2014          8900000.0        /organization/0xdata        H2O.ai   \n",
       "4  17-03-2015          5000000.0  /organization/1-mainstream  1 Mainstream   \n",
       "\n",
       "                      category_list     status country_code state_code  \\\n",
       "0                             Media  operating          IND         16   \n",
       "1                         Analytics  operating          USA         CA   \n",
       "2                         Analytics  operating          USA         CA   \n",
       "3                         Analytics  operating          USA         CA   \n",
       "4  Apps|Cable|Distribution|Software   acquired          USA         CA   \n",
       "\n",
       "        region           city primary_sector                 main_sector  \\\n",
       "0       Mumbai         Mumbai          media               Entertainment   \n",
       "1  SF Bay Area  Mountain View      analytics                         NaN   \n",
       "2  SF Bay Area  Mountain View      analytics                         NaN   \n",
       "3  SF Bay Area  Mountain View      analytics                         NaN   \n",
       "4  SF Bay Area      Cupertino           apps  News, Search and Messaging   \n",
       "\n",
       "      _merge  \n",
       "0       both  \n",
       "1  left_only  \n",
       "2  left_only  \n",
       "3  left_only  \n",
       "4       both  "
      ]
     },
     "execution_count": 54,
     "metadata": {},
     "output_type": "execute_result"
    }
   ],
   "source": [
    "top3_english = pd.merge(top3_english, mapping, how='left', on='primary_sector', indicator=True)\n",
    "top3_english.head()"
   ]
  },
  {
   "cell_type": "code",
   "execution_count": 55,
   "metadata": {},
   "outputs": [
    {
     "data": {
      "text/plain": [
       "(36307, 16)"
      ]
     },
     "execution_count": 55,
     "metadata": {},
     "output_type": "execute_result"
    }
   ],
   "source": [
    "top3_english.shape"
   ]
  },
  {
   "cell_type": "code",
   "execution_count": 56,
   "metadata": {},
   "outputs": [
    {
     "data": {
      "text/html": [
       "<div>\n",
       "<style scoped>\n",
       "    .dataframe tbody tr th:only-of-type {\n",
       "        vertical-align: middle;\n",
       "    }\n",
       "\n",
       "    .dataframe tbody tr th {\n",
       "        vertical-align: top;\n",
       "    }\n",
       "\n",
       "    .dataframe thead th {\n",
       "        text-align: right;\n",
       "    }\n",
       "</style>\n",
       "<table border=\"1\" class=\"dataframe\">\n",
       "  <thead>\n",
       "    <tr style=\"text-align: right;\">\n",
       "      <th></th>\n",
       "      <th>company_permalink</th>\n",
       "      <th>funding_round_permalink</th>\n",
       "      <th>funding_round_type</th>\n",
       "      <th>funded_at</th>\n",
       "      <th>raised_amount_usd</th>\n",
       "      <th>permalink</th>\n",
       "      <th>name</th>\n",
       "      <th>category_list</th>\n",
       "      <th>status</th>\n",
       "      <th>country_code</th>\n",
       "      <th>state_code</th>\n",
       "      <th>region</th>\n",
       "      <th>city</th>\n",
       "      <th>primary_sector</th>\n",
       "      <th>main_sector</th>\n",
       "      <th>_merge</th>\n",
       "    </tr>\n",
       "  </thead>\n",
       "  <tbody>\n",
       "    <tr>\n",
       "      <th>1</th>\n",
       "      <td>/organization/0xdata</td>\n",
       "      <td>/funding-round/3bb2ee4a2d89251a10aaa735b1180e44</td>\n",
       "      <td>venture</td>\n",
       "      <td>09-11-2015</td>\n",
       "      <td>20000000.0</td>\n",
       "      <td>/organization/0xdata</td>\n",
       "      <td>H2O.ai</td>\n",
       "      <td>Analytics</td>\n",
       "      <td>operating</td>\n",
       "      <td>USA</td>\n",
       "      <td>CA</td>\n",
       "      <td>SF Bay Area</td>\n",
       "      <td>Mountain View</td>\n",
       "      <td>analytics</td>\n",
       "      <td>NaN</td>\n",
       "      <td>left_only</td>\n",
       "    </tr>\n",
       "    <tr>\n",
       "      <th>2</th>\n",
       "      <td>/organization/0xdata</td>\n",
       "      <td>/funding-round/ae2a174c06517c2394aed45006322a7e</td>\n",
       "      <td>venture</td>\n",
       "      <td>03-01-2013</td>\n",
       "      <td>1700000.0</td>\n",
       "      <td>/organization/0xdata</td>\n",
       "      <td>H2O.ai</td>\n",
       "      <td>Analytics</td>\n",
       "      <td>operating</td>\n",
       "      <td>USA</td>\n",
       "      <td>CA</td>\n",
       "      <td>SF Bay Area</td>\n",
       "      <td>Mountain View</td>\n",
       "      <td>analytics</td>\n",
       "      <td>NaN</td>\n",
       "      <td>left_only</td>\n",
       "    </tr>\n",
       "    <tr>\n",
       "      <th>3</th>\n",
       "      <td>/organization/0xdata</td>\n",
       "      <td>/funding-round/e1cfcbe1bdf4c70277c5f29a3482f24e</td>\n",
       "      <td>venture</td>\n",
       "      <td>19-07-2014</td>\n",
       "      <td>8900000.0</td>\n",
       "      <td>/organization/0xdata</td>\n",
       "      <td>H2O.ai</td>\n",
       "      <td>Analytics</td>\n",
       "      <td>operating</td>\n",
       "      <td>USA</td>\n",
       "      <td>CA</td>\n",
       "      <td>SF Bay Area</td>\n",
       "      <td>Mountain View</td>\n",
       "      <td>analytics</td>\n",
       "      <td>NaN</td>\n",
       "      <td>left_only</td>\n",
       "    </tr>\n",
       "    <tr>\n",
       "      <th>12</th>\n",
       "      <td>/organization/100plus</td>\n",
       "      <td>/funding-round/b5facb0d9dea2f0352b5834892c88c53</td>\n",
       "      <td>venture</td>\n",
       "      <td>02-11-2011</td>\n",
       "      <td>500000.0</td>\n",
       "      <td>/organization/100plus</td>\n",
       "      <td>100Plus</td>\n",
       "      <td>Analytics</td>\n",
       "      <td>acquired</td>\n",
       "      <td>USA</td>\n",
       "      <td>CA</td>\n",
       "      <td>SF Bay Area</td>\n",
       "      <td>San Francisco</td>\n",
       "      <td>analytics</td>\n",
       "      <td>NaN</td>\n",
       "      <td>left_only</td>\n",
       "    </tr>\n",
       "    <tr>\n",
       "      <th>40</th>\n",
       "      <td>/organization/1world-online</td>\n",
       "      <td>/funding-round/32936e588a134502712877150198a0b3</td>\n",
       "      <td>venture</td>\n",
       "      <td>13-08-2015</td>\n",
       "      <td>2500000.0</td>\n",
       "      <td>/organization/1world-online</td>\n",
       "      <td>1World Online</td>\n",
       "      <td>Analytics|Big Data|Enterprise Software|Market ...</td>\n",
       "      <td>operating</td>\n",
       "      <td>USA</td>\n",
       "      <td>CA</td>\n",
       "      <td>SF Bay Area</td>\n",
       "      <td>San Jose</td>\n",
       "      <td>analytics</td>\n",
       "      <td>NaN</td>\n",
       "      <td>left_only</td>\n",
       "    </tr>\n",
       "  </tbody>\n",
       "</table>\n",
       "</div>"
      ],
      "text/plain": [
       "              company_permalink  \\\n",
       "1          /organization/0xdata   \n",
       "2          /organization/0xdata   \n",
       "3          /organization/0xdata   \n",
       "12        /organization/100plus   \n",
       "40  /organization/1world-online   \n",
       "\n",
       "                            funding_round_permalink funding_round_type  \\\n",
       "1   /funding-round/3bb2ee4a2d89251a10aaa735b1180e44            venture   \n",
       "2   /funding-round/ae2a174c06517c2394aed45006322a7e            venture   \n",
       "3   /funding-round/e1cfcbe1bdf4c70277c5f29a3482f24e            venture   \n",
       "12  /funding-round/b5facb0d9dea2f0352b5834892c88c53            venture   \n",
       "40  /funding-round/32936e588a134502712877150198a0b3            venture   \n",
       "\n",
       "     funded_at  raised_amount_usd                    permalink           name  \\\n",
       "1   09-11-2015         20000000.0         /organization/0xdata         H2O.ai   \n",
       "2   03-01-2013          1700000.0         /organization/0xdata         H2O.ai   \n",
       "3   19-07-2014          8900000.0         /organization/0xdata         H2O.ai   \n",
       "12  02-11-2011           500000.0        /organization/100plus        100Plus   \n",
       "40  13-08-2015          2500000.0  /organization/1world-online  1World Online   \n",
       "\n",
       "                                        category_list     status country_code  \\\n",
       "1                                           Analytics  operating          USA   \n",
       "2                                           Analytics  operating          USA   \n",
       "3                                           Analytics  operating          USA   \n",
       "12                                          Analytics   acquired          USA   \n",
       "40  Analytics|Big Data|Enterprise Software|Market ...  operating          USA   \n",
       "\n",
       "   state_code       region           city primary_sector main_sector  \\\n",
       "1          CA  SF Bay Area  Mountain View      analytics         NaN   \n",
       "2          CA  SF Bay Area  Mountain View      analytics         NaN   \n",
       "3          CA  SF Bay Area  Mountain View      analytics         NaN   \n",
       "12         CA  SF Bay Area  San Francisco      analytics         NaN   \n",
       "40         CA  SF Bay Area       San Jose      analytics         NaN   \n",
       "\n",
       "       _merge  \n",
       "1   left_only  \n",
       "2   left_only  \n",
       "3   left_only  \n",
       "12  left_only  \n",
       "40  left_only  "
      ]
     },
     "execution_count": 56,
     "metadata": {},
     "output_type": "execute_result"
    }
   ],
   "source": [
    "#Sectors in top3_english dataframe\n",
    "\n",
    "left_only = top3_english[top3_english['_merge'] != 'both']\n",
    "left_only.head()"
   ]
  },
  {
   "cell_type": "code",
   "execution_count": 57,
   "metadata": {},
   "outputs": [
    {
     "data": {
      "text/plain": [
       "array(['analytics', 'nanotechnology', 'business analytics', 'finance',\n",
       "       'contact management', 'financial services', 'career management',\n",
       "       'cloud management', 'big data analytics', 'finance technology',\n",
       "       'document management', 'digital signage', 'energy management',\n",
       "       'lead management', 'event management', 'it management', 'cannabis',\n",
       "       'investment management', 'knowledge management',\n",
       "       'identity management', 'personalization', 'natural gas uses',\n",
       "       'alternative medicine', 'natural language processing',\n",
       "       'intellectual asset management', 'risk management',\n",
       "       'adaptive equipment', 'supply chain management',\n",
       "       'innovation management', 'project management', 'specialty retail',\n",
       "       'biotechnology and semiconductor', 'waste management',\n",
       "       'educational games', 'rapidly expanding',\n",
       "       'digital rights management', 'governance', 'professional services',\n",
       "       'mobile analytics', 'journalism', 'navigation',\n",
       "       'property management', 'personal finance', 'fleet management',\n",
       "       'greentech', 'professional networking', 'financial exchanges',\n",
       "       'task management'], dtype=object)"
      ]
     },
     "execution_count": 57,
     "metadata": {},
     "output_type": "execute_result"
    }
   ],
   "source": [
    "#Unique primary sectors in left_only\n",
    "left_only['primary_sector'].unique()"
   ]
  },
  {
   "cell_type": "code",
   "execution_count": 58,
   "metadata": {},
   "outputs": [
    {
     "data": {
      "text/plain": [
       "array(['adventure travel', 'aerospace', 'auto', 'automated kiosk',\n",
       "       'automotive', 'bicycles', 'boating industry', 'cad', 'cars',\n",
       "       'design', 'designers', 'drones', 'electric vehicles', 'fuels',\n",
       "       'heavy industry', 'industrial automation', 'limousines', 'soccer',\n",
       "       'sporting goods', 'sports', 'transportation',\n",
       "       'unmanned air systems', nan, 'air pollution control',\n",
       "       'aquaculture', 'bio-pharm', 'biofuels', 'bioinformatics',\n",
       "       'biomass power generation', 'biometrics', 'biotechnology',\n",
       "       'bitcoin', 'carbon', 'chemicals', 'clean energy',\n",
       "       'clean technology', 'clean technology it', 'commercial solar',\n",
       "       'commodities', 'concentrated solar power', 'disruptive models',\n",
       "       'early-stage technology', 'energy', 'energy efficiency',\n",
       "       'energy it', 'energy ma0gement', 'energy storage',\n",
       "       'environmental innovation', 'fertility', 'fuel cells',\n",
       "       'funeral industry', 'gas', 'green', 'green consumer goods',\n",
       "       'home & garden', 'home automation', 'home decor', 'lighting',\n",
       "       'material science', 'mechanical solutions', 'minerals',\n",
       "       'mining technologies', '0notechnology',\n",
       "       '0tural language processing', '0tural resources', 'recycling',\n",
       "       'renewable energies', 'renewable tech',\n",
       "       'semiconductor manufacturing equipment', 'semiconductors', 'solar',\n",
       "       'space travel', 'waste ma0gement', 'water', 'water purification',\n",
       "       'wearables', 'art', 'artists globally', 'audio', 'audiobooks',\n",
       "       'brewing', 'business travelers', 'casual games', 'celebrity',\n",
       "       'coffee', 'comics', 'concerts', 'console gaming', 'content',\n",
       "       'content creators', 'content delivery', 'content discovery',\n",
       "       'content syndication', 'contests', 'craft beer', 'creative',\n",
       "       'creative industries', 'digital entertainment', 'digital media',\n",
       "       'digital rights ma0gement', 'digital sig0ge', 'e-books', 'ebooks',\n",
       "       'educatio0l games', 'edutainment', 'entertainment',\n",
       "       'entertainment industry', 'event ma0gement', 'events',\n",
       "       'fantasy sports', 'fashion', 'film', 'film distribution',\n",
       "       'film production', 'freetoplay gaming', 'gambling', 'game',\n",
       "       'game mechanics', 'games', 'gamification', 'hotels',\n",
       "       'in-flight entertainment', 'independent music labels',\n",
       "       'interface design', 'interior design', 'jewelry', 'leisure',\n",
       "       'lifestyle', 'lifestyle businesses', 'lifestyle products', 'media',\n",
       "       'mobile games', 'mobile video', 'music', 'music education',\n",
       "       'music services', 'music venues', 'musical instruments',\n",
       "       'musicians', 'online gaming', 'online video advertising',\n",
       "       'photo editing', 'photo sharing', 'photography', 'resorts',\n",
       "       'restaurants', 'reviews and recommendations', 'shoes', 'shopping',\n",
       "       'television', 'theatre', 'ticketing', 'tourism', 'travel',\n",
       "       'travel & tourism', 'video', 'video conferencing', 'video games',\n",
       "       'video on demand', 'video streaming', 'virtual workforces', 'voip',\n",
       "       'weddings', 'wine and spirits', 'wireless', 'active lifestyle',\n",
       "       'alter0tive medicine', 'animal feed', 'assisitive technology',\n",
       "       'assisted living', 'babies', 'baby accessories', 'baby boomers',\n",
       "       'baby safety', 'beauty', 'can0bis', 'child care',\n",
       "       'clinical trials', 'cooking', 'corporate wellness',\n",
       "       'cosmetic surgery', 'cosmetics', 'dental', 'diabetes',\n",
       "       'diagnostics', 'dietary supplements', 'doctors', 'elder care',\n",
       "       'electronic health records', 'exercise', 'eyewear', 'fitness',\n",
       "       'genetic testing', 'health and insurance', 'health and wellness',\n",
       "       'health care', 'health care information technology',\n",
       "       'health diagnostics', 'health services industry',\n",
       "       'healthcare services', 'hospitals', 'independent pharmacies',\n",
       "       'lasers', 'medical', 'medical devices', 'medical professio0ls',\n",
       "       'mens specific', 'mhealth', 'mobile health', 'neuroscience',\n",
       "       'nutrition', 'organic', 'organic food', 'outdoors',\n",
       "       'perso0l health', 'pets', 'pharmaceuticals', 'physicians',\n",
       "       'public safety', 'public transportation', 'senior citizens',\n",
       "       'senior health', 'sextech', 'specialty chemicals',\n",
       "       'specialty foods', 'speech recognition', 'therapeutics',\n",
       "       'veteri0ry', '3d', '3d printing', '3d technology',\n",
       "       'advanced materials', 'agriculture', 'architecture', 'batteries',\n",
       "       'building products', 'civil engineers', 'communications hardware',\n",
       "       'communications infrastructure', 'computer vision', 'computers',\n",
       "       'construction', 'consumer electronics', 'consumer goods',\n",
       "       'defense', 'displays', 'dod/military', 'electrical distribution',\n",
       "       'electronics', 'embedded hardware and software', 'farmers market',\n",
       "       'farming', 'fmcg', 'food processing', 'furniture', 'gadget',\n",
       "       'groceries', 'handmade', 'hardware', 'hardware + software',\n",
       "       'industrial', 'manufacturing', 'mobile infrastructure',\n",
       "       'mobile software tools', 'new product development',\n",
       "       'new technologies', 'optical communications', 'storage',\n",
       "       'app discovery', 'app marketing', 'app stores',\n",
       "       'application performance monitoring', 'application platforms',\n",
       "       'apps', 'archiving', 'blogging platforms', 'broadcasting',\n",
       "       'brokers', 'browser extensions', 'building owners', 'cable',\n",
       "       'call center automation', 'certification test', 'chat',\n",
       "       'chi0 internet', 'classifieds', 'cloud-based music',\n",
       "       'cloud computing', 'cloud data services', 'cloud infrastructure',\n",
       "       'cloud ma0gement', 'cloud security', 'commercial real estate',\n",
       "       'comparison shopping', 'curated web', 'delivery', 'demographies',\n",
       "       'direct marketing', 'direct sales', 'domains', 'email',\n",
       "       'enterprise search', 'forums', 'gps', 'graphics', 'group sms',\n",
       "       'internet', 'internet infrastructure', 'internet radio market',\n",
       "       'internet service providers', 'jour0lism', 'local search', 'maps',\n",
       "       'meeting software', 'messaging', 'microblogging', 'mobile',\n",
       "       'mobile devices', 'mobile enterprise', 'mobile social',\n",
       "       '0vigation', 'news', 'online dating', 'online rental',\n",
       "       'online reservations', 'online scheduling', 'online shopping',\n",
       "       'online travel', 'peer-to-peer', 'private social networking',\n",
       "       'professio0l networking', 'publishing', 'q&a', 'recruiting',\n",
       "       'ride sharing', 'search', 'search marketing', 'seo',\n",
       "       'web browsers', 'web design', 'advice', 'algorithms',\n",
       "       'all markets', 'all students', 'alumni', 'angels', 'collectibles',\n",
       "       'college campuses', 'distribution', 'distributors', 'diy',\n",
       "       'document ma0gement', 'e-commerce', 'e-commerce platforms',\n",
       "       'eda tools', 'ediscovery', 'edtech', 'education',\n",
       "       'emerging markets', 'employment', 'engineering firms',\n",
       "       'enterprise 2.0', 'enterprise application',\n",
       "       'enterprise resource planning', 'enterprise security',\n",
       "       'enterprise software', 'enterprises', 'entrepreneur', 'families',\n",
       "       'field support services', 'file sharing', 'flash sales',\n",
       "       'flash storage', 'fleet ma0gement', 'flowers', 'freelancers',\n",
       "       'fruit', 'gay & lesbian', 'general public worldwide', 'geospatial',\n",
       "       'gift card', 'gift exchange', 'gift registries', 'gover0nce',\n",
       "       'government innovation', 'governments', 'guides',\n",
       "       'high school students', 'high schools', 'high tech', 'home owners',\n",
       "       'home renovation', 'homeland security', 'homeless shelter',\n",
       "       'hospitality', 'human computer interaction',\n",
       "       'human resource automation', 'human resources', 'humanitarian',\n",
       "       'iaas', 'ict', 'identity', 'indians', 'indoor positioning',\n",
       "       'intellectual asset ma0gement', 'intellectual property',\n",
       "       'intelligent systems', 'interest graph', 'ios', 'ipad', 'iphone',\n",
       "       'it and cybersecurity', 'it ma0gement', 'k-12 education', 'kids',\n",
       "       'knowledge ma0gement', 'landscaping', 'language learning',\n",
       "       'law enforcement', 'lead generation', 'lead ma0gement', 'legal',\n",
       "       'licensing', 'life sciences', 'linux', 'local',\n",
       "       'local based services', 'local businesses', 'local commerce',\n",
       "       'location based services', 'logistics', 'logistics company',\n",
       "       'low bid auctions', 'loyalty programs', 'm2m', 'marketplaces',\n",
       "       'mass customization', 'match-making', 'micro-enterprises',\n",
       "       'mobile security', 'mobility', 'network security', 'networking',\n",
       "       'non-tech', 'non profit', 'nonprofits', 'office space', 'oil',\n",
       "       'oil & gas', 'oil and gas', 'online education', 'online identity',\n",
       "       'open source', 'opinions', 'optimization', 'outsourcing',\n",
       "       'parenting', 'parking', 'perso0l data', 'perso0lization',\n",
       "       'pervasive computing', 'physical security', 'plumbers',\n",
       "       'point of sale', 'politics', 'polling', 'portals',\n",
       "       'postal and courier services', 'presentations', 'printing',\n",
       "       'privacy', 'private school', 'procurement', 'product design',\n",
       "       'product development services', 'productivity',\n",
       "       'productivity software', 'professio0l services',\n",
       "       'project ma0gement', 'qr codes', 'real estate', 'real time',\n",
       "       'realtors', 'recreation', 'religion', 'rental housing',\n",
       "       'reputation', 'rfid', 'robotics', 'saas', 'sales automation',\n",
       "       'security', 'sensors', 'service industries', 'service providers',\n",
       "       'services', 'shared services', 'shipping', 'simulation',\n",
       "       'skill assessment', 'small and medium businesses', 'smart grid',\n",
       "       'sns', 'software', 'staffing firms', 'startups',\n",
       "       'subscription service', 'supply chain ma0gement', 'surveys',\n",
       "       'synchronization', 'systems', 'task ma0gement', 'taxis', 'tea',\n",
       "       'technology', 'telecommunications', 'textiles', 'tracking',\n",
       "       'trading', 'training', 'translation', 'universities',\n",
       "       'university students', 'usability', 'user experience design',\n",
       "       'user interface', 'utilities', 'vending and concessions', 'watch',\n",
       "       'web development', 'web hosting', 'web tools', 'wholesale',\n",
       "       'women', 'young adults', 'accounting', 'ad targeting',\n",
       "       'advertising', 'advertising exchanges', 'advertising networks',\n",
       "       'advertising platforms', 'a0lytics', 'android',\n",
       "       'anything capital intensive', 'artificial intelligence',\n",
       "       'auctions', 'augmented reality', 'b2b', 'b2b express delivery',\n",
       "       'banking', 'big data', 'big data a0lytics', 'billing',\n",
       "       'bpo services', 'brand marketing', 'bridging online and offline',\n",
       "       'business a0lytics', 'business development',\n",
       "       'business information systems', 'business intelligence',\n",
       "       'business productivity', 'business services', 'career ma0gement',\n",
       "       'career planning', 'charities', 'charity', 'charter schools',\n",
       "       'collaboration', 'collaborative consumption', 'college recruiting',\n",
       "       'colleges', 'communities', 'consulting', 'consumer behavior',\n",
       "       'consumer internet', 'consumer lending', 'consumers',\n",
       "       'contact centers', 'contact ma0gement', 'corporate it',\n",
       "       'corporate training', 'coupons', 'coworking', 'credit',\n",
       "       'credit cards', 'crm', 'crowdfunding', 'crowdsourcing',\n",
       "       'custom retail', 'customer service', 'customer support tools',\n",
       "       'cyber', 'cyber security', 'data center automation',\n",
       "       'data center infrastructure', 'data centers', 'data integration',\n",
       "       'data mining', 'data privacy', 'data security',\n",
       "       'data visualization', 'databases', 'debt collecting',\n",
       "       'developer apis', 'developer tools', 'development platforms',\n",
       "       'direct advertising', 'discounts', 'email marketing',\n",
       "       'email newsletters', 'employer benefits programs',\n",
       "       'enterprise purchasing', 'estimation and quoting',\n",
       "       'face recognition', 'facebook applications', 'fi0nce',\n",
       "       'fi0nce technology', 'fi0ncial exchanges', 'fi0ncial services',\n",
       "       'fintech', 'fraud detection', 'freemium', 'gold', 'group buying',\n",
       "       'hedge funds', 'identity ma0gement', 'image recognition',\n",
       "       'impact investing', 'incentives', 'incubators',\n",
       "       'information security', 'information services',\n",
       "       'information technology', 'infrastructure',\n",
       "       'innovation engineering', 'innovation ma0gement', 'insurance',\n",
       "       'internet marketing', 'internet of things', 'investment ma0gement',\n",
       "       'local advertising', 'lotteries', 'machine learning',\n",
       "       'market research', 'marketing automation', 'mobile advertising',\n",
       "       'mobile a0lytics', 'mobile commerce', 'mobile payments',\n",
       "       'mobile shopping', 'monetization', 'moneymaking',\n",
       "       'multi-level marketing', 'p2p money transfer', 'paas', 'payments',\n",
       "       'performance marketing', 'perso0l branding', 'perso0l fi0nce',\n",
       "       'pre seed', 'predictive a0lytics', 'price comparison',\n",
       "       'promotio0l', 'property ma0gement', 'public relations', 'retail',\n",
       "       'retail technology', 'risk ma0gement', 'sales and marketing',\n",
       "       'social + mobile + local', 'social bookmarking', 'social business',\n",
       "       'social buying', 'social commerce', 'social crm',\n",
       "       'social fundraising', 'social games', 'social media',\n",
       "       'social media ma0gement', 'social media marketing',\n",
       "       'social media platforms', 'social network media', 'social news',\n",
       "       'social recruiting', 'social television', 'social travel',\n",
       "       'stock exchanges', 'venture capital'], dtype=object)"
      ]
     },
     "execution_count": 58,
     "metadata": {},
     "output_type": "execute_result"
    }
   ],
   "source": [
    "#Unique primary sectors in mapping datframe\n",
    "mapping['primary_sector'].unique()"
   ]
  },
  {
   "cell_type": "markdown",
   "metadata": {},
   "source": [
    "**We can see above that 'na' is misspelt as 0 at many places. eg. a0lytics ,0tural etc.**"
   ]
  },
  {
   "cell_type": "code",
   "execution_count": 59,
   "metadata": {},
   "outputs": [],
   "source": [
    "#Replace '0' with 'na'\n",
    "mapping['primary_sector'] = mapping.primary_sector.str.replace('0','na')"
   ]
  },
  {
   "cell_type": "code",
   "execution_count": 60,
   "metadata": {},
   "outputs": [
    {
     "data": {
      "text/plain": [
       "array(['adventure travel', 'aerospace', 'auto', 'automated kiosk',\n",
       "       'automotive', 'bicycles', 'boating industry', 'cad', 'cars',\n",
       "       'design', 'designers', 'drones', 'electric vehicles', 'fuels',\n",
       "       'heavy industry', 'industrial automation', 'limousines', 'soccer',\n",
       "       'sporting goods', 'sports', 'transportation',\n",
       "       'unmanned air systems', nan, 'air pollution control',\n",
       "       'aquaculture', 'bio-pharm', 'biofuels', 'bioinformatics',\n",
       "       'biomass power generation', 'biometrics', 'biotechnology',\n",
       "       'bitcoin', 'carbon', 'chemicals', 'clean energy',\n",
       "       'clean technology', 'clean technology it', 'commercial solar',\n",
       "       'commodities', 'concentrated solar power', 'disruptive models',\n",
       "       'early-stage technology', 'energy', 'energy efficiency',\n",
       "       'energy it', 'energy management', 'energy storage',\n",
       "       'environmental innovation', 'fertility', 'fuel cells',\n",
       "       'funeral industry', 'gas', 'green', 'green consumer goods',\n",
       "       'home & garden', 'home automation', 'home decor', 'lighting',\n",
       "       'material science', 'mechanical solutions', 'minerals',\n",
       "       'mining technologies', 'nanotechnology',\n",
       "       'natural language processing', 'natural resources', 'recycling',\n",
       "       'renewable energies', 'renewable tech',\n",
       "       'semiconductor manufacturing equipment', 'semiconductors', 'solar',\n",
       "       'space travel', 'waste management', 'water', 'water purification',\n",
       "       'wearables', 'art', 'artists globally', 'audio', 'audiobooks',\n",
       "       'brewing', 'business travelers', 'casual games', 'celebrity',\n",
       "       'coffee', 'comics', 'concerts', 'console gaming', 'content',\n",
       "       'content creators', 'content delivery', 'content discovery',\n",
       "       'content syndication', 'contests', 'craft beer', 'creative',\n",
       "       'creative industries', 'digital entertainment', 'digital media',\n",
       "       'digital rights management', 'digital signage', 'e-books',\n",
       "       'ebooks', 'educational games', 'edutainment', 'entertainment',\n",
       "       'entertainment industry', 'event management', 'events',\n",
       "       'fantasy sports', 'fashion', 'film', 'film distribution',\n",
       "       'film production', 'freetoplay gaming', 'gambling', 'game',\n",
       "       'game mechanics', 'games', 'gamification', 'hotels',\n",
       "       'in-flight entertainment', 'independent music labels',\n",
       "       'interface design', 'interior design', 'jewelry', 'leisure',\n",
       "       'lifestyle', 'lifestyle businesses', 'lifestyle products', 'media',\n",
       "       'mobile games', 'mobile video', 'music', 'music education',\n",
       "       'music services', 'music venues', 'musical instruments',\n",
       "       'musicians', 'online gaming', 'online video advertising',\n",
       "       'photo editing', 'photo sharing', 'photography', 'resorts',\n",
       "       'restaurants', 'reviews and recommendations', 'shoes', 'shopping',\n",
       "       'television', 'theatre', 'ticketing', 'tourism', 'travel',\n",
       "       'travel & tourism', 'video', 'video conferencing', 'video games',\n",
       "       'video on demand', 'video streaming', 'virtual workforces', 'voip',\n",
       "       'weddings', 'wine and spirits', 'wireless', 'active lifestyle',\n",
       "       'alternative medicine', 'animal feed', 'assisitive technology',\n",
       "       'assisted living', 'babies', 'baby accessories', 'baby boomers',\n",
       "       'baby safety', 'beauty', 'cannabis', 'child care',\n",
       "       'clinical trials', 'cooking', 'corporate wellness',\n",
       "       'cosmetic surgery', 'cosmetics', 'dental', 'diabetes',\n",
       "       'diagnostics', 'dietary supplements', 'doctors', 'elder care',\n",
       "       'electronic health records', 'exercise', 'eyewear', 'fitness',\n",
       "       'genetic testing', 'health and insurance', 'health and wellness',\n",
       "       'health care', 'health care information technology',\n",
       "       'health diagnostics', 'health services industry',\n",
       "       'healthcare services', 'hospitals', 'independent pharmacies',\n",
       "       'lasers', 'medical', 'medical devices', 'medical professionals',\n",
       "       'mens specific', 'mhealth', 'mobile health', 'neuroscience',\n",
       "       'nutrition', 'organic', 'organic food', 'outdoors',\n",
       "       'personal health', 'pets', 'pharmaceuticals', 'physicians',\n",
       "       'public safety', 'public transportation', 'senior citizens',\n",
       "       'senior health', 'sextech', 'specialty chemicals',\n",
       "       'specialty foods', 'speech recognition', 'therapeutics',\n",
       "       'veterinary', '3d', '3d printing', '3d technology',\n",
       "       'advanced materials', 'agriculture', 'architecture', 'batteries',\n",
       "       'building products', 'civil engineers', 'communications hardware',\n",
       "       'communications infrastructure', 'computer vision', 'computers',\n",
       "       'construction', 'consumer electronics', 'consumer goods',\n",
       "       'defense', 'displays', 'dod/military', 'electrical distribution',\n",
       "       'electronics', 'embedded hardware and software', 'farmers market',\n",
       "       'farming', 'fmcg', 'food processing', 'furniture', 'gadget',\n",
       "       'groceries', 'handmade', 'hardware', 'hardware + software',\n",
       "       'industrial', 'manufacturing', 'mobile infrastructure',\n",
       "       'mobile software tools', 'new product development',\n",
       "       'new technologies', 'optical communications', 'storage',\n",
       "       'app discovery', 'app marketing', 'app stores',\n",
       "       'application performance monitoring', 'application platforms',\n",
       "       'apps', 'archiving', 'blogging platforms', 'broadcasting',\n",
       "       'brokers', 'browser extensions', 'building owners', 'cable',\n",
       "       'call center automation', 'certification test', 'chat',\n",
       "       'china internet', 'classifieds', 'cloud-based music',\n",
       "       'cloud computing', 'cloud data services', 'cloud infrastructure',\n",
       "       'cloud management', 'cloud security', 'commercial real estate',\n",
       "       'comparison shopping', 'curated web', 'delivery', 'demographies',\n",
       "       'direct marketing', 'direct sales', 'domains', 'email',\n",
       "       'enterprise search', 'forums', 'gps', 'graphics', 'group sms',\n",
       "       'internet', 'internet infrastructure', 'internet radio market',\n",
       "       'internet service providers', 'journalism', 'local search', 'maps',\n",
       "       'meeting software', 'messaging', 'microblogging', 'mobile',\n",
       "       'mobile devices', 'mobile enterprise', 'mobile social',\n",
       "       'navigation', 'news', 'online dating', 'online rental',\n",
       "       'online reservations', 'online scheduling', 'online shopping',\n",
       "       'online travel', 'peer-to-peer', 'private social networking',\n",
       "       'professional networking', 'publishing', 'q&a', 'recruiting',\n",
       "       'ride sharing', 'search', 'search marketing', 'seo',\n",
       "       'web browsers', 'web design', 'advice', 'algorithms',\n",
       "       'all markets', 'all students', 'alumni', 'angels', 'collectibles',\n",
       "       'college campuses', 'distribution', 'distributors', 'diy',\n",
       "       'document management', 'e-commerce', 'e-commerce platforms',\n",
       "       'eda tools', 'ediscovery', 'edtech', 'education',\n",
       "       'emerging markets', 'employment', 'engineering firms',\n",
       "       'enterprise 2.na', 'enterprise application',\n",
       "       'enterprise resource planning', 'enterprise security',\n",
       "       'enterprise software', 'enterprises', 'entrepreneur', 'families',\n",
       "       'field support services', 'file sharing', 'flash sales',\n",
       "       'flash storage', 'fleet management', 'flowers', 'freelancers',\n",
       "       'fruit', 'gay & lesbian', 'general public worldwide', 'geospatial',\n",
       "       'gift card', 'gift exchange', 'gift registries', 'governance',\n",
       "       'government innovation', 'governments', 'guides',\n",
       "       'high school students', 'high schools', 'high tech', 'home owners',\n",
       "       'home renovation', 'homeland security', 'homeless shelter',\n",
       "       'hospitality', 'human computer interaction',\n",
       "       'human resource automation', 'human resources', 'humanitarian',\n",
       "       'iaas', 'ict', 'identity', 'indians', 'indoor positioning',\n",
       "       'intellectual asset management', 'intellectual property',\n",
       "       'intelligent systems', 'interest graph', 'ios', 'ipad', 'iphone',\n",
       "       'it and cybersecurity', 'it management', 'k-12 education', 'kids',\n",
       "       'knowledge management', 'landscaping', 'language learning',\n",
       "       'law enforcement', 'lead generation', 'lead management', 'legal',\n",
       "       'licensing', 'life sciences', 'linux', 'local',\n",
       "       'local based services', 'local businesses', 'local commerce',\n",
       "       'location based services', 'logistics', 'logistics company',\n",
       "       'low bid auctions', 'loyalty programs', 'm2m', 'marketplaces',\n",
       "       'mass customization', 'match-making', 'micro-enterprises',\n",
       "       'mobile security', 'mobility', 'network security', 'networking',\n",
       "       'non-tech', 'non profit', 'nonprofits', 'office space', 'oil',\n",
       "       'oil & gas', 'oil and gas', 'online education', 'online identity',\n",
       "       'open source', 'opinions', 'optimization', 'outsourcing',\n",
       "       'parenting', 'parking', 'personal data', 'personalization',\n",
       "       'pervasive computing', 'physical security', 'plumbers',\n",
       "       'point of sale', 'politics', 'polling', 'portals',\n",
       "       'postal and courier services', 'presentations', 'printing',\n",
       "       'privacy', 'private school', 'procurement', 'product design',\n",
       "       'product development services', 'productivity',\n",
       "       'productivity software', 'professional services',\n",
       "       'project management', 'qr codes', 'real estate', 'real time',\n",
       "       'realtors', 'recreation', 'religion', 'rental housing',\n",
       "       'reputation', 'rfid', 'robotics', 'saas', 'sales automation',\n",
       "       'security', 'sensors', 'service industries', 'service providers',\n",
       "       'services', 'shared services', 'shipping', 'simulation',\n",
       "       'skill assessment', 'small and medium businesses', 'smart grid',\n",
       "       'sns', 'software', 'staffing firms', 'startups',\n",
       "       'subscription service', 'supply chain management', 'surveys',\n",
       "       'synchronization', 'systems', 'task management', 'taxis', 'tea',\n",
       "       'technology', 'telecommunications', 'textiles', 'tracking',\n",
       "       'trading', 'training', 'translation', 'universities',\n",
       "       'university students', 'usability', 'user experience design',\n",
       "       'user interface', 'utilities', 'vending and concessions', 'watch',\n",
       "       'web development', 'web hosting', 'web tools', 'wholesale',\n",
       "       'women', 'young adults', 'accounting', 'ad targeting',\n",
       "       'advertising', 'advertising exchanges', 'advertising networks',\n",
       "       'advertising platforms', 'analytics', 'android',\n",
       "       'anything capital intensive', 'artificial intelligence',\n",
       "       'auctions', 'augmented reality', 'b2b', 'b2b express delivery',\n",
       "       'banking', 'big data', 'big data analytics', 'billing',\n",
       "       'bpo services', 'brand marketing', 'bridging online and offline',\n",
       "       'business analytics', 'business development',\n",
       "       'business information systems', 'business intelligence',\n",
       "       'business productivity', 'business services', 'career management',\n",
       "       'career planning', 'charities', 'charity', 'charter schools',\n",
       "       'collaboration', 'collaborative consumption', 'college recruiting',\n",
       "       'colleges', 'communities', 'consulting', 'consumer behavior',\n",
       "       'consumer internet', 'consumer lending', 'consumers',\n",
       "       'contact centers', 'contact management', 'corporate it',\n",
       "       'corporate training', 'coupons', 'coworking', 'credit',\n",
       "       'credit cards', 'crm', 'crowdfunding', 'crowdsourcing',\n",
       "       'custom retail', 'customer service', 'customer support tools',\n",
       "       'cyber', 'cyber security', 'data center automation',\n",
       "       'data center infrastructure', 'data centers', 'data integration',\n",
       "       'data mining', 'data privacy', 'data security',\n",
       "       'data visualization', 'databases', 'debt collecting',\n",
       "       'developer apis', 'developer tools', 'development platforms',\n",
       "       'direct advertising', 'discounts', 'email marketing',\n",
       "       'email newsletters', 'employer benefits programs',\n",
       "       'enterprise purchasing', 'estimation and quoting',\n",
       "       'face recognition', 'facebook applications', 'finance',\n",
       "       'finance technology', 'financial exchanges', 'financial services',\n",
       "       'fintech', 'fraud detection', 'freemium', 'gold', 'group buying',\n",
       "       'hedge funds', 'identity management', 'image recognition',\n",
       "       'impact investing', 'incentives', 'incubators',\n",
       "       'information security', 'information services',\n",
       "       'information technology', 'infrastructure',\n",
       "       'innovation engineering', 'innovation management', 'insurance',\n",
       "       'internet marketing', 'internet of things',\n",
       "       'investment management', 'local advertising', 'lotteries',\n",
       "       'machine learning', 'market research', 'marketing automation',\n",
       "       'mobile advertising', 'mobile analytics', 'mobile commerce',\n",
       "       'mobile payments', 'mobile shopping', 'monetization',\n",
       "       'moneymaking', 'multi-level marketing', 'p2p money transfer',\n",
       "       'paas', 'payments', 'performance marketing', 'personal branding',\n",
       "       'personal finance', 'pre seed', 'predictive analytics',\n",
       "       'price comparison', 'promotional', 'property management',\n",
       "       'public relations', 'retail', 'retail technology',\n",
       "       'risk management', 'sales and marketing',\n",
       "       'social + mobile + local', 'social bookmarking', 'social business',\n",
       "       'social buying', 'social commerce', 'social crm',\n",
       "       'social fundraising', 'social games', 'social media',\n",
       "       'social media management', 'social media marketing',\n",
       "       'social media platforms', 'social network media', 'social news',\n",
       "       'social recruiting', 'social television', 'social travel',\n",
       "       'stock exchanges', 'venture capital'], dtype=object)"
      ]
     },
     "execution_count": 60,
     "metadata": {},
     "output_type": "execute_result"
    }
   ],
   "source": [
    "mapping['primary_sector'].unique()"
   ]
  },
  {
   "cell_type": "code",
   "execution_count": 61,
   "metadata": {},
   "outputs": [
    {
     "data": {
      "text/plain": [
       "array(['adaptive equipment', 'biotechnology and semiconductor',\n",
       "       'enterprise 2.0', 'greentech', 'natural gas uses',\n",
       "       'rapidly expanding', 'specialty retail'], dtype=object)"
      ]
     },
     "execution_count": 61,
     "metadata": {},
     "output_type": "execute_result"
    }
   ],
   "source": [
    "top3_english = top9[top9['country_code'].isin(['USA', 'GBR', 'IND'])]\n",
    "top3_english = pd.merge(top3_english, mapping, how='left', on='primary_sector', indicator=True)\n",
    "left_only = top3_english[top3_english['_merge'] != 'both']\n",
    "left_only['primary_sector'].sort_values(ascending=True).unique()"
   ]
  },
  {
   "cell_type": "code",
   "execution_count": 62,
   "metadata": {},
   "outputs": [
    {
     "data": {
      "text/plain": [
       "<bound method Series.unique of 3441                  3d\n",
       "3442         3d printing\n",
       "3443       3d technology\n",
       "5508          accounting\n",
       "2757    active lifestyle\n",
       "              ...       \n",
       "2748    wine and spirits\n",
       "2749            wireless\n",
       "5502               women\n",
       "5503        young adults\n",
       "688                  NaN\n",
       "Name: primary_sector, Length: 688, dtype: object>"
      ]
     },
     "execution_count": 62,
     "metadata": {},
     "output_type": "execute_result"
    }
   ],
   "source": [
    "mapping['primary_sector'].sort_values(ascending=True).unique"
   ]
  },
  {
   "cell_type": "code",
   "execution_count": 63,
   "metadata": {},
   "outputs": [
    {
     "data": {
      "text/plain": [
       "(11, 16)"
      ]
     },
     "execution_count": 63,
     "metadata": {},
     "output_type": "execute_result"
    }
   ],
   "source": [
    "left_only.shape"
   ]
  },
  {
   "cell_type": "code",
   "execution_count": 64,
   "metadata": {},
   "outputs": [
    {
     "data": {
      "text/html": [
       "<div>\n",
       "<style scoped>\n",
       "    .dataframe tbody tr th:only-of-type {\n",
       "        vertical-align: middle;\n",
       "    }\n",
       "\n",
       "    .dataframe tbody tr th {\n",
       "        vertical-align: top;\n",
       "    }\n",
       "\n",
       "    .dataframe thead th {\n",
       "        text-align: right;\n",
       "    }\n",
       "</style>\n",
       "<table border=\"1\" class=\"dataframe\">\n",
       "  <thead>\n",
       "    <tr style=\"text-align: right;\">\n",
       "      <th></th>\n",
       "      <th>company_permalink</th>\n",
       "      <th>funding_round_permalink</th>\n",
       "      <th>funding_round_type</th>\n",
       "      <th>funded_at</th>\n",
       "      <th>raised_amount_usd</th>\n",
       "      <th>permalink</th>\n",
       "      <th>name</th>\n",
       "      <th>category_list</th>\n",
       "      <th>status</th>\n",
       "      <th>country_code</th>\n",
       "      <th>state_code</th>\n",
       "      <th>region</th>\n",
       "      <th>city</th>\n",
       "      <th>primary_sector</th>\n",
       "      <th>main_sector</th>\n",
       "    </tr>\n",
       "  </thead>\n",
       "  <tbody>\n",
       "    <tr>\n",
       "      <th>0</th>\n",
       "      <td>/organization/-fame</td>\n",
       "      <td>/funding-round/9a01d05418af9f794eebff7ace91f638</td>\n",
       "      <td>venture</td>\n",
       "      <td>05-01-2015</td>\n",
       "      <td>10000000.0</td>\n",
       "      <td>/organization/-fame</td>\n",
       "      <td>#fame</td>\n",
       "      <td>Media</td>\n",
       "      <td>operating</td>\n",
       "      <td>IND</td>\n",
       "      <td>16</td>\n",
       "      <td>Mumbai</td>\n",
       "      <td>Mumbai</td>\n",
       "      <td>media</td>\n",
       "      <td>Entertainment</td>\n",
       "    </tr>\n",
       "    <tr>\n",
       "      <th>1</th>\n",
       "      <td>/organization/0xdata</td>\n",
       "      <td>/funding-round/3bb2ee4a2d89251a10aaa735b1180e44</td>\n",
       "      <td>venture</td>\n",
       "      <td>09-11-2015</td>\n",
       "      <td>20000000.0</td>\n",
       "      <td>/organization/0xdata</td>\n",
       "      <td>H2O.ai</td>\n",
       "      <td>Analytics</td>\n",
       "      <td>operating</td>\n",
       "      <td>USA</td>\n",
       "      <td>CA</td>\n",
       "      <td>SF Bay Area</td>\n",
       "      <td>Mountain View</td>\n",
       "      <td>analytics</td>\n",
       "      <td>Social, Finance, Analytics, Advertising</td>\n",
       "    </tr>\n",
       "    <tr>\n",
       "      <th>2</th>\n",
       "      <td>/organization/0xdata</td>\n",
       "      <td>/funding-round/ae2a174c06517c2394aed45006322a7e</td>\n",
       "      <td>venture</td>\n",
       "      <td>03-01-2013</td>\n",
       "      <td>1700000.0</td>\n",
       "      <td>/organization/0xdata</td>\n",
       "      <td>H2O.ai</td>\n",
       "      <td>Analytics</td>\n",
       "      <td>operating</td>\n",
       "      <td>USA</td>\n",
       "      <td>CA</td>\n",
       "      <td>SF Bay Area</td>\n",
       "      <td>Mountain View</td>\n",
       "      <td>analytics</td>\n",
       "      <td>Social, Finance, Analytics, Advertising</td>\n",
       "    </tr>\n",
       "    <tr>\n",
       "      <th>3</th>\n",
       "      <td>/organization/0xdata</td>\n",
       "      <td>/funding-round/e1cfcbe1bdf4c70277c5f29a3482f24e</td>\n",
       "      <td>venture</td>\n",
       "      <td>19-07-2014</td>\n",
       "      <td>8900000.0</td>\n",
       "      <td>/organization/0xdata</td>\n",
       "      <td>H2O.ai</td>\n",
       "      <td>Analytics</td>\n",
       "      <td>operating</td>\n",
       "      <td>USA</td>\n",
       "      <td>CA</td>\n",
       "      <td>SF Bay Area</td>\n",
       "      <td>Mountain View</td>\n",
       "      <td>analytics</td>\n",
       "      <td>Social, Finance, Analytics, Advertising</td>\n",
       "    </tr>\n",
       "    <tr>\n",
       "      <th>4</th>\n",
       "      <td>/organization/1-mainstream</td>\n",
       "      <td>/funding-round/b952cbaf401f310927430c97b68162ea</td>\n",
       "      <td>venture</td>\n",
       "      <td>17-03-2015</td>\n",
       "      <td>5000000.0</td>\n",
       "      <td>/organization/1-mainstream</td>\n",
       "      <td>1 Mainstream</td>\n",
       "      <td>Apps|Cable|Distribution|Software</td>\n",
       "      <td>acquired</td>\n",
       "      <td>USA</td>\n",
       "      <td>CA</td>\n",
       "      <td>SF Bay Area</td>\n",
       "      <td>Cupertino</td>\n",
       "      <td>apps</td>\n",
       "      <td>News, Search and Messaging</td>\n",
       "    </tr>\n",
       "  </tbody>\n",
       "</table>\n",
       "</div>"
      ],
      "text/plain": [
       "            company_permalink  \\\n",
       "0         /organization/-fame   \n",
       "1        /organization/0xdata   \n",
       "2        /organization/0xdata   \n",
       "3        /organization/0xdata   \n",
       "4  /organization/1-mainstream   \n",
       "\n",
       "                           funding_round_permalink funding_round_type  \\\n",
       "0  /funding-round/9a01d05418af9f794eebff7ace91f638            venture   \n",
       "1  /funding-round/3bb2ee4a2d89251a10aaa735b1180e44            venture   \n",
       "2  /funding-round/ae2a174c06517c2394aed45006322a7e            venture   \n",
       "3  /funding-round/e1cfcbe1bdf4c70277c5f29a3482f24e            venture   \n",
       "4  /funding-round/b952cbaf401f310927430c97b68162ea            venture   \n",
       "\n",
       "    funded_at  raised_amount_usd                   permalink          name  \\\n",
       "0  05-01-2015         10000000.0         /organization/-fame         #fame   \n",
       "1  09-11-2015         20000000.0        /organization/0xdata        H2O.ai   \n",
       "2  03-01-2013          1700000.0        /organization/0xdata        H2O.ai   \n",
       "3  19-07-2014          8900000.0        /organization/0xdata        H2O.ai   \n",
       "4  17-03-2015          5000000.0  /organization/1-mainstream  1 Mainstream   \n",
       "\n",
       "                      category_list     status country_code state_code  \\\n",
       "0                             Media  operating          IND         16   \n",
       "1                         Analytics  operating          USA         CA   \n",
       "2                         Analytics  operating          USA         CA   \n",
       "3                         Analytics  operating          USA         CA   \n",
       "4  Apps|Cable|Distribution|Software   acquired          USA         CA   \n",
       "\n",
       "        region           city primary_sector  \\\n",
       "0       Mumbai         Mumbai          media   \n",
       "1  SF Bay Area  Mountain View      analytics   \n",
       "2  SF Bay Area  Mountain View      analytics   \n",
       "3  SF Bay Area  Mountain View      analytics   \n",
       "4  SF Bay Area      Cupertino           apps   \n",
       "\n",
       "                               main_sector  \n",
       "0                            Entertainment  \n",
       "1  Social, Finance, Analytics, Advertising  \n",
       "2  Social, Finance, Analytics, Advertising  \n",
       "3  Social, Finance, Analytics, Advertising  \n",
       "4               News, Search and Messaging  "
      ]
     },
     "execution_count": 64,
     "metadata": {},
     "output_type": "execute_result"
    }
   ],
   "source": [
    "#We will keep the sectors which are there in both and remove those are only in left_only as we are not able to map them.\n",
    "top3_english = top3_english[top3_english['_merge'] == 'both']\n",
    "top3_english = top3_english.drop('_merge', axis=1)\n",
    "top3_english.head()"
   ]
  },
  {
   "cell_type": "code",
   "execution_count": 65,
   "metadata": {},
   "outputs": [
    {
     "data": {
      "text/plain": [
       "(36296, 15)"
      ]
     },
     "execution_count": 65,
     "metadata": {},
     "output_type": "execute_result"
    }
   ],
   "source": [
    "top3_english.shape"
   ]
  },
  {
   "cell_type": "code",
   "execution_count": 66,
   "metadata": {},
   "outputs": [
    {
     "name": "stdout",
     "output_type": "stream",
     "text": [
      "<class 'pandas.core.frame.DataFrame'>\n",
      "Int64Index: 36296 entries, 0 to 36306\n",
      "Data columns (total 15 columns):\n",
      " #   Column                   Non-Null Count  Dtype  \n",
      "---  ------                   --------------  -----  \n",
      " 0   company_permalink        36296 non-null  object \n",
      " 1   funding_round_permalink  36296 non-null  object \n",
      " 2   funding_round_type       36296 non-null  object \n",
      " 3   funded_at                36296 non-null  object \n",
      " 4   raised_amount_usd        36296 non-null  float64\n",
      " 5   permalink                36296 non-null  object \n",
      " 6   name                     36296 non-null  object \n",
      " 7   category_list            36296 non-null  object \n",
      " 8   status                   36296 non-null  object \n",
      " 9   country_code             36296 non-null  object \n",
      " 10  state_code               36236 non-null  object \n",
      " 11  region                   36159 non-null  object \n",
      " 12  city                     36159 non-null  object \n",
      " 13  primary_sector           36296 non-null  object \n",
      " 14  main_sector              36296 non-null  object \n",
      "dtypes: float64(1), object(14)\n",
      "memory usage: 4.4+ MB\n"
     ]
    }
   ],
   "source": [
    "top3_english.info()"
   ]
  },
  {
   "cell_type": "code",
   "execution_count": 67,
   "metadata": {},
   "outputs": [],
   "source": [
    "# Keep all the rows where investment is between 5 and 15 million as that is one of the constarint for invsetment\n",
    "\n",
    "top3_english = top3_english[(top3_english['raised_amount_usd'] >= 5000000)&(top3_english['raised_amount_usd']<=15000000)]\n",
    "\n",
    "D1 = top3_english[top3_english['country_code'] == 'USA']\n",
    "D2 = top3_english[top3_english['country_code'] == 'GBR']\n",
    "D3 = top3_english[top3_english['country_code'] == 'IND']"
   ]
  },
  {
   "cell_type": "code",
   "execution_count": 68,
   "metadata": {},
   "outputs": [
    {
     "data": {
      "text/plain": [
       "count    1.218300e+04\n",
       "mean     8.936603e+06\n",
       "std      3.074822e+06\n",
       "min      5.000000e+06\n",
       "25%      6.043127e+06\n",
       "50%      8.320000e+06\n",
       "75%      1.100000e+07\n",
       "max      1.500000e+07\n",
       "Name: raised_amount_usd, dtype: float64"
      ]
     },
     "execution_count": 68,
     "metadata": {},
     "output_type": "execute_result"
    }
   ],
   "source": [
    "# Check max and min value in raised_amount_usd column\n",
    "top3_english['raised_amount_usd'].describe()"
   ]
  },
  {
   "cell_type": "code",
   "execution_count": 69,
   "metadata": {},
   "outputs": [
    {
     "data": {
      "text/plain": [
       "(12183, 15)"
      ]
     },
     "execution_count": 69,
     "metadata": {},
     "output_type": "execute_result"
    }
   ],
   "source": [
    "top3_english.shape"
   ]
  },
  {
   "cell_type": "markdown",
   "metadata": {},
   "source": [
    "***Total number of Investments (count)***"
   ]
  },
  {
   "cell_type": "code",
   "execution_count": 70,
   "metadata": {},
   "outputs": [
    {
     "data": {
      "text/plain": [
       "(11286, 15)"
      ]
     },
     "execution_count": 70,
     "metadata": {},
     "output_type": "execute_result"
    }
   ],
   "source": [
    "D1.shape"
   ]
  },
  {
   "cell_type": "code",
   "execution_count": 71,
   "metadata": {},
   "outputs": [
    {
     "data": {
      "text/plain": [
       "(582, 15)"
      ]
     },
     "execution_count": 71,
     "metadata": {},
     "output_type": "execute_result"
    }
   ],
   "source": [
    "D2.shape"
   ]
  },
  {
   "cell_type": "code",
   "execution_count": 72,
   "metadata": {},
   "outputs": [
    {
     "data": {
      "text/plain": [
       "(315, 15)"
      ]
     },
     "execution_count": 72,
     "metadata": {},
     "output_type": "execute_result"
    }
   ],
   "source": [
    "D3.shape"
   ]
  },
  {
   "cell_type": "markdown",
   "metadata": {},
   "source": [
    "**Sector Analysis for USA in dataframe D1**"
   ]
  },
  {
   "cell_type": "code",
   "execution_count": 73,
   "metadata": {},
   "outputs": [
    {
     "data": {
      "text/plain": [
       "count    1.128600e+04\n",
       "mean     8.949200e+06\n",
       "std      3.080740e+06\n",
       "min      5.000000e+06\n",
       "25%      6.059295e+06\n",
       "50%      8.400000e+06\n",
       "75%      1.100000e+07\n",
       "max      1.500000e+07\n",
       "Name: raised_amount_usd, dtype: float64"
      ]
     },
     "execution_count": 73,
     "metadata": {},
     "output_type": "execute_result"
    }
   ],
   "source": [
    "D1['raised_amount_usd'].describe()"
   ]
  },
  {
   "cell_type": "markdown",
   "metadata": {},
   "source": [
    "***Total amount of investment (USD) in USA***"
   ]
  },
  {
   "cell_type": "code",
   "execution_count": 74,
   "metadata": {},
   "outputs": [
    {
     "data": {
      "text/plain": [
       "101000666779.0"
      ]
     },
     "execution_count": 74,
     "metadata": {},
     "output_type": "execute_result"
    }
   ],
   "source": [
    "D1['raised_amount_usd'].sum()"
   ]
  },
  {
   "cell_type": "code",
   "execution_count": 75,
   "metadata": {
    "scrolled": true
   },
   "outputs": [
    {
     "data": {
      "text/html": [
       "<div>\n",
       "<style scoped>\n",
       "    .dataframe tbody tr th:only-of-type {\n",
       "        vertical-align: middle;\n",
       "    }\n",
       "\n",
       "    .dataframe tbody tr th {\n",
       "        vertical-align: top;\n",
       "    }\n",
       "\n",
       "    .dataframe thead th {\n",
       "        text-align: right;\n",
       "    }\n",
       "</style>\n",
       "<table border=\"1\" class=\"dataframe\">\n",
       "  <thead>\n",
       "    <tr style=\"text-align: right;\">\n",
       "      <th></th>\n",
       "      <th>count</th>\n",
       "      <th>sum</th>\n",
       "    </tr>\n",
       "    <tr>\n",
       "      <th>main_sector</th>\n",
       "      <th></th>\n",
       "      <th></th>\n",
       "    </tr>\n",
       "  </thead>\n",
       "  <tbody>\n",
       "    <tr>\n",
       "      <th>Automotive &amp; Sports</th>\n",
       "      <td>157</td>\n",
       "      <td>1.374304e+09</td>\n",
       "    </tr>\n",
       "    <tr>\n",
       "      <th>Cleantech / Semiconductors</th>\n",
       "      <td>2192</td>\n",
       "      <td>2.012233e+10</td>\n",
       "    </tr>\n",
       "    <tr>\n",
       "      <th>Entertainment</th>\n",
       "      <td>531</td>\n",
       "      <td>4.602750e+09</td>\n",
       "    </tr>\n",
       "    <tr>\n",
       "      <th>Health</th>\n",
       "      <td>854</td>\n",
       "      <td>7.744830e+09</td>\n",
       "    </tr>\n",
       "    <tr>\n",
       "      <th>Manufacturing</th>\n",
       "      <td>739</td>\n",
       "      <td>6.700079e+09</td>\n",
       "    </tr>\n",
       "    <tr>\n",
       "      <th>News, Search and Messaging</th>\n",
       "      <td>1465</td>\n",
       "      <td>1.298891e+10</td>\n",
       "    </tr>\n",
       "    <tr>\n",
       "      <th>Others</th>\n",
       "      <td>2758</td>\n",
       "      <td>2.463670e+10</td>\n",
       "    </tr>\n",
       "    <tr>\n",
       "      <th>Social, Finance, Analytics, Advertising</th>\n",
       "      <td>2590</td>\n",
       "      <td>2.283077e+10</td>\n",
       "    </tr>\n",
       "  </tbody>\n",
       "</table>\n",
       "</div>"
      ],
      "text/plain": [
       "                                         count           sum\n",
       "main_sector                                                 \n",
       "Automotive & Sports                        157  1.374304e+09\n",
       "Cleantech / Semiconductors                2192  2.012233e+10\n",
       "Entertainment                              531  4.602750e+09\n",
       "Health                                     854  7.744830e+09\n",
       "Manufacturing                              739  6.700079e+09\n",
       "News, Search and Messaging                1465  1.298891e+10\n",
       "Others                                    2758  2.463670e+10\n",
       "Social, Finance, Analytics, Advertising   2590  2.283077e+10"
      ]
     },
     "execution_count": 75,
     "metadata": {},
     "output_type": "execute_result"
    }
   ],
   "source": [
    "D1.pivot_table(values = 'raised_amount_usd',index = ['main_sector'], aggfunc = {'sum','count'})"
   ]
  },
  {
   "cell_type": "markdown",
   "metadata": {},
   "source": [
    "***Top 3 Sector name (no. of investment-wise) in USA***"
   ]
  },
  {
   "cell_type": "code",
   "execution_count": 76,
   "metadata": {
    "scrolled": true
   },
   "outputs": [
    {
     "data": {
      "text/plain": [
       "main_sector\n",
       "Others                                     2758\n",
       "Social, Finance, Analytics, Advertising    2590\n",
       "Cleantech / Semiconductors                 2192\n",
       "News, Search and Messaging                 1465\n",
       "Health                                      854\n",
       "Manufacturing                               739\n",
       "Entertainment                               531\n",
       "Automotive & Sports                         157\n",
       "Name: raised_amount_usd, dtype: int64"
      ]
     },
     "execution_count": 76,
     "metadata": {},
     "output_type": "execute_result"
    }
   ],
   "source": [
    "D1.groupby('main_sector')['raised_amount_usd'].count().sort_values(ascending=False)"
   ]
  },
  {
   "cell_type": "markdown",
   "metadata": {},
   "source": [
    "***In top sector count-wise, below company received the highest investment in USA***"
   ]
  },
  {
   "cell_type": "code",
   "execution_count": 77,
   "metadata": {
    "scrolled": true
   },
   "outputs": [
    {
     "data": {
      "text/plain": [
       "permalink\n",
       "/organization/virtustream            64300000.0\n",
       "/organization/capella                54968051.0\n",
       "/organization/airtight-networks      54201907.0\n",
       "/organization/decarta                52100000.0\n",
       "/organization/black-duck-software    51000000.0\n",
       "Name: raised_amount_usd, dtype: float64"
      ]
     },
     "execution_count": 77,
     "metadata": {},
     "output_type": "execute_result"
    }
   ],
   "source": [
    "D1[D1['main_sector'] == \"Others\" ].groupby('permalink')['raised_amount_usd'].sum().sort_values(ascending=False).head()"
   ]
  },
  {
   "cell_type": "markdown",
   "metadata": {},
   "source": [
    "***In second best sector count-wise, below company received the highest investment in USA***"
   ]
  },
  {
   "cell_type": "code",
   "execution_count": 78,
   "metadata": {
    "scrolled": false
   },
   "outputs": [
    {
     "data": {
      "text/plain": [
       "permalink\n",
       "/organization/shotspotter    67933006.0\n",
       "/organization/demandbase     63000000.0\n",
       "/organization/intacct        61800000.0\n",
       "/organization/netbase        60600000.0\n",
       "/organization/lotame         59700000.0\n",
       "Name: raised_amount_usd, dtype: float64"
      ]
     },
     "execution_count": 78,
     "metadata": {},
     "output_type": "execute_result"
    }
   ],
   "source": [
    "D1[D1['main_sector']=='Social, Finance, Analytics, Advertising'].groupby('permalink')['raised_amount_usd'].sum().sort_values(ascending=False).head()"
   ]
  },
  {
   "cell_type": "code",
   "execution_count": 79,
   "metadata": {},
   "outputs": [
    {
     "data": {
      "image/png": "[encoded data removed]",
      "text/plain": [
       "<Figure size 864x576 with 1 Axes>"
      ]
     },
     "metadata": {
      "needs_background": "light"
     },
     "output_type": "display_data"
    }
   ],
   "source": [
    "plt.figure(figsize=(12, 8))\n",
    "sns.countplot(y=\"main_sector\", data=D1)\n",
    "plt.title(\"Count\")\n",
    "plt.show()"
   ]
  },
  {
   "cell_type": "code",
   "execution_count": 80,
   "metadata": {},
   "outputs": [
    {
     "data": {
      "image/png": "[encoded data removed]",
      "text/plain": [
       "<Figure size 1080x576 with 1 Axes>"
      ]
     },
     "metadata": {
      "needs_background": "light"
     },
     "output_type": "display_data"
    }
   ],
   "source": [
    "plt.figure(figsize=(15, 8))\n",
    "sns.barplot(y=\"main_sector\", x=\"raised_amount_usd\", data=D1, estimator=sum)\n",
    "plt.title(\"Sum\")\n",
    "plt.show()"
   ]
  },
  {
   "cell_type": "markdown",
   "metadata": {},
   "source": [
    "**Sector Analysis for GBR using dataframe D2**"
   ]
  },
  {
   "cell_type": "code",
   "execution_count": 81,
   "metadata": {
    "scrolled": true
   },
   "outputs": [
    {
     "data": {
      "text/plain": [
       "count    5.820000e+02\n",
       "mean     8.682635e+06\n",
       "std      2.863032e+06\n",
       "min      5.000000e+06\n",
       "25%      6.100000e+06\n",
       "50%      8.000000e+06\n",
       "75%      1.071513e+07\n",
       "max      1.500000e+07\n",
       "Name: raised_amount_usd, dtype: float64"
      ]
     },
     "execution_count": 81,
     "metadata": {},
     "output_type": "execute_result"
    }
   ],
   "source": [
    "D2['raised_amount_usd'].describe()"
   ]
  },
  {
   "cell_type": "markdown",
   "metadata": {},
   "source": [
    "***Total amount of investment (USD) in GBR***"
   ]
  },
  {
   "cell_type": "code",
   "execution_count": 82,
   "metadata": {},
   "outputs": [
    {
     "data": {
      "text/plain": [
       "5053293406.0"
      ]
     },
     "execution_count": 82,
     "metadata": {},
     "output_type": "execute_result"
    }
   ],
   "source": [
    "D2['raised_amount_usd'].sum()"
   ]
  },
  {
   "cell_type": "code",
   "execution_count": 83,
   "metadata": {},
   "outputs": [
    {
     "data": {
      "text/html": [
       "<div>\n",
       "<style scoped>\n",
       "    .dataframe tbody tr th:only-of-type {\n",
       "        vertical-align: middle;\n",
       "    }\n",
       "\n",
       "    .dataframe tbody tr th {\n",
       "        vertical-align: top;\n",
       "    }\n",
       "\n",
       "    .dataframe thead th {\n",
       "        text-align: right;\n",
       "    }\n",
       "</style>\n",
       "<table border=\"1\" class=\"dataframe\">\n",
       "  <thead>\n",
       "    <tr style=\"text-align: right;\">\n",
       "      <th></th>\n",
       "      <th>count</th>\n",
       "      <th>sum</th>\n",
       "    </tr>\n",
       "    <tr>\n",
       "      <th>main_sector</th>\n",
       "      <th></th>\n",
       "      <th></th>\n",
       "    </tr>\n",
       "  </thead>\n",
       "  <tbody>\n",
       "    <tr>\n",
       "      <th>Automotive &amp; Sports</th>\n",
       "      <td>16</td>\n",
       "      <td>1.670516e+08</td>\n",
       "    </tr>\n",
       "    <tr>\n",
       "      <th>Cleantech / Semiconductors</th>\n",
       "      <td>116</td>\n",
       "      <td>1.048294e+09</td>\n",
       "    </tr>\n",
       "    <tr>\n",
       "      <th>Entertainment</th>\n",
       "      <td>53</td>\n",
       "      <td>4.635147e+08</td>\n",
       "    </tr>\n",
       "    <tr>\n",
       "      <th>Health</th>\n",
       "      <td>23</td>\n",
       "      <td>2.025375e+08</td>\n",
       "    </tr>\n",
       "    <tr>\n",
       "      <th>Manufacturing</th>\n",
       "      <td>40</td>\n",
       "      <td>3.433243e+08</td>\n",
       "    </tr>\n",
       "    <tr>\n",
       "      <th>News, Search and Messaging</th>\n",
       "      <td>66</td>\n",
       "      <td>5.585007e+08</td>\n",
       "    </tr>\n",
       "    <tr>\n",
       "      <th>Others</th>\n",
       "      <td>140</td>\n",
       "      <td>1.215442e+09</td>\n",
       "    </tr>\n",
       "    <tr>\n",
       "      <th>Social, Finance, Analytics, Advertising</th>\n",
       "      <td>128</td>\n",
       "      <td>1.054628e+09</td>\n",
       "    </tr>\n",
       "  </tbody>\n",
       "</table>\n",
       "</div>"
      ],
      "text/plain": [
       "                                         count           sum\n",
       "main_sector                                                 \n",
       "Automotive & Sports                         16  1.670516e+08\n",
       "Cleantech / Semiconductors                 116  1.048294e+09\n",
       "Entertainment                               53  4.635147e+08\n",
       "Health                                      23  2.025375e+08\n",
       "Manufacturing                               40  3.433243e+08\n",
       "News, Search and Messaging                  66  5.585007e+08\n",
       "Others                                     140  1.215442e+09\n",
       "Social, Finance, Analytics, Advertising    128  1.054628e+09"
      ]
     },
     "execution_count": 83,
     "metadata": {},
     "output_type": "execute_result"
    }
   ],
   "source": [
    "D2.pivot_table(values = 'raised_amount_usd',index = ['main_sector'], aggfunc = {'sum','count'})"
   ]
  },
  {
   "cell_type": "markdown",
   "metadata": {},
   "source": [
    "***Top 3 Sector name (no. of investment-wise) in GBR***"
   ]
  },
  {
   "cell_type": "code",
   "execution_count": 84,
   "metadata": {
    "scrolled": true
   },
   "outputs": [
    {
     "data": {
      "text/plain": [
       "main_sector\n",
       "Others                                     140\n",
       "Social, Finance, Analytics, Advertising    128\n",
       "Cleantech / Semiconductors                 116\n",
       "News, Search and Messaging                  66\n",
       "Entertainment                               53\n",
       "Manufacturing                               40\n",
       "Health                                      23\n",
       "Automotive & Sports                         16\n",
       "Name: raised_amount_usd, dtype: int64"
      ]
     },
     "execution_count": 84,
     "metadata": {},
     "output_type": "execute_result"
    }
   ],
   "source": [
    "D2.groupby('main_sector')['raised_amount_usd'].count().sort_values(ascending=False)"
   ]
  },
  {
   "cell_type": "markdown",
   "metadata": {},
   "source": [
    "***In top sector count-wise, below company received the highest investment in GBR***"
   ]
  },
  {
   "cell_type": "code",
   "execution_count": 85,
   "metadata": {
    "scrolled": true
   },
   "outputs": [
    {
     "data": {
      "text/plain": [
       "permalink\n",
       "/organization/electric-cloud             37000000.0\n",
       "/organization/sensage                    36250000.0\n",
       "/organization/silverrail-technologies    29000000.0\n",
       "/organization/opencloud                  27972766.0\n",
       "/organization/myoptique-group            27694613.0\n",
       "Name: raised_amount_usd, dtype: float64"
      ]
     },
     "execution_count": 85,
     "metadata": {},
     "output_type": "execute_result"
    }
   ],
   "source": [
    "D2[D2['main_sector']=='Others'].groupby('permalink')['raised_amount_usd'].sum().sort_values(ascending=False).head()"
   ]
  },
  {
   "cell_type": "markdown",
   "metadata": {},
   "source": [
    "***In second best sector count-wise, below company received the highest investment in GBR***"
   ]
  },
  {
   "cell_type": "code",
   "execution_count": 86,
   "metadata": {
    "scrolled": false
   },
   "outputs": [
    {
     "data": {
      "text/plain": [
       "permalink\n",
       "/organization/celltick-technologies    37500000.0\n",
       "/organization/mythings                 34000000.0\n",
       "/organization/zopa                     32900000.0\n",
       "/organization/imagini                  28550000.0\n",
       "/organization/marketinvoice            25553007.0\n",
       "Name: raised_amount_usd, dtype: float64"
      ]
     },
     "execution_count": 86,
     "metadata": {},
     "output_type": "execute_result"
    }
   ],
   "source": [
    "D2[D2['main_sector']=='Social, Finance, Analytics, Advertising'].groupby('permalink')['raised_amount_usd'].sum().sort_values(ascending=False).head()"
   ]
  },
  {
   "cell_type": "code",
   "execution_count": 87,
   "metadata": {},
   "outputs": [
    {
     "data": {
      "image/png": "[encoded data removed]",
      "text/plain": [
       "<Figure size 1080x576 with 1 Axes>"
      ]
     },
     "metadata": {
      "needs_background": "light"
     },
     "output_type": "display_data"
    }
   ],
   "source": [
    "plt.figure(figsize=(15, 8))\n",
    "sns.countplot(y=\"main_sector\", data=D2)\n",
    "plt.title(\"Count\")\n",
    "plt.show()"
   ]
  },
  {
   "cell_type": "code",
   "execution_count": 88,
   "metadata": {},
   "outputs": [
    {
     "data": {
      "image/png": "[encoded data removed]",
      "text/plain": [
       "<Figure size 1080x576 with 1 Axes>"
      ]
     },
     "metadata": {
      "needs_background": "light"
     },
     "output_type": "display_data"
    }
   ],
   "source": [
    "plt.figure(figsize=(15, 8))\n",
    "sns.barplot(y=\"main_sector\", x=\"raised_amount_usd\", data=D2, estimator=sum)\n",
    "plt.title(\"Sum\")\n",
    "plt.show()"
   ]
  },
  {
   "cell_type": "markdown",
   "metadata": {},
   "source": [
    "**Sector Analysis for IND using dataframe D3**"
   ]
  },
  {
   "cell_type": "code",
   "execution_count": 89,
   "metadata": {
    "scrolled": true
   },
   "outputs": [
    {
     "data": {
      "text/plain": [
       "count    3.150000e+02\n",
       "mean     8.954519e+06\n",
       "std      3.225977e+06\n",
       "min      5.000000e+06\n",
       "25%      6.000000e+06\n",
       "50%      8.620000e+06\n",
       "75%      1.062000e+07\n",
       "max      1.500000e+07\n",
       "Name: raised_amount_usd, dtype: float64"
      ]
     },
     "execution_count": 89,
     "metadata": {},
     "output_type": "execute_result"
    }
   ],
   "source": [
    "D3['raised_amount_usd'].describe()"
   ]
  },
  {
   "cell_type": "markdown",
   "metadata": {},
   "source": [
    "***Total amount of investment (USD) in IND***"
   ]
  },
  {
   "cell_type": "code",
   "execution_count": 90,
   "metadata": {},
   "outputs": [
    {
     "data": {
      "text/plain": [
       "2820673602.0"
      ]
     },
     "execution_count": 90,
     "metadata": {},
     "output_type": "execute_result"
    }
   ],
   "source": [
    "D3['raised_amount_usd'].sum()"
   ]
  },
  {
   "cell_type": "code",
   "execution_count": 91,
   "metadata": {
    "scrolled": false
   },
   "outputs": [
    {
     "data": {
      "text/html": [
       "<div>\n",
       "<style scoped>\n",
       "    .dataframe tbody tr th:only-of-type {\n",
       "        vertical-align: middle;\n",
       "    }\n",
       "\n",
       "    .dataframe tbody tr th {\n",
       "        vertical-align: top;\n",
       "    }\n",
       "\n",
       "    .dataframe thead th {\n",
       "        text-align: right;\n",
       "    }\n",
       "</style>\n",
       "<table border=\"1\" class=\"dataframe\">\n",
       "  <thead>\n",
       "    <tr style=\"text-align: right;\">\n",
       "      <th></th>\n",
       "      <th>count</th>\n",
       "      <th>sum</th>\n",
       "    </tr>\n",
       "    <tr>\n",
       "      <th>main_sector</th>\n",
       "      <th></th>\n",
       "      <th></th>\n",
       "    </tr>\n",
       "  </thead>\n",
       "  <tbody>\n",
       "    <tr>\n",
       "      <th>Automotive &amp; Sports</th>\n",
       "      <td>13</td>\n",
       "      <td>136900000.0</td>\n",
       "    </tr>\n",
       "    <tr>\n",
       "      <th>Cleantech / Semiconductors</th>\n",
       "      <td>20</td>\n",
       "      <td>165380000.0</td>\n",
       "    </tr>\n",
       "    <tr>\n",
       "      <th>Entertainment</th>\n",
       "      <td>32</td>\n",
       "      <td>272080000.0</td>\n",
       "    </tr>\n",
       "    <tr>\n",
       "      <th>Health</th>\n",
       "      <td>18</td>\n",
       "      <td>160740000.0</td>\n",
       "    </tr>\n",
       "    <tr>\n",
       "      <th>Manufacturing</th>\n",
       "      <td>21</td>\n",
       "      <td>200900000.0</td>\n",
       "    </tr>\n",
       "    <tr>\n",
       "      <th>News, Search and Messaging</th>\n",
       "      <td>49</td>\n",
       "      <td>408834545.0</td>\n",
       "    </tr>\n",
       "    <tr>\n",
       "      <th>Others</th>\n",
       "      <td>103</td>\n",
       "      <td>940289507.0</td>\n",
       "    </tr>\n",
       "    <tr>\n",
       "      <th>Social, Finance, Analytics, Advertising</th>\n",
       "      <td>59</td>\n",
       "      <td>535549550.0</td>\n",
       "    </tr>\n",
       "  </tbody>\n",
       "</table>\n",
       "</div>"
      ],
      "text/plain": [
       "                                         count          sum\n",
       "main_sector                                                \n",
       "Automotive & Sports                         13  136900000.0\n",
       "Cleantech / Semiconductors                  20  165380000.0\n",
       "Entertainment                               32  272080000.0\n",
       "Health                                      18  160740000.0\n",
       "Manufacturing                               21  200900000.0\n",
       "News, Search and Messaging                  49  408834545.0\n",
       "Others                                     103  940289507.0\n",
       "Social, Finance, Analytics, Advertising     59  535549550.0"
      ]
     },
     "execution_count": 91,
     "metadata": {},
     "output_type": "execute_result"
    }
   ],
   "source": [
    "D3.pivot_table(values = 'raised_amount_usd',index = ['main_sector'], aggfunc = {'sum','count'})"
   ]
  },
  {
   "cell_type": "markdown",
   "metadata": {},
   "source": [
    "***Top 3 Sector name (no. of investment-wise) in IND***"
   ]
  },
  {
   "cell_type": "code",
   "execution_count": 92,
   "metadata": {
    "scrolled": true
   },
   "outputs": [
    {
     "data": {
      "text/plain": [
       "main_sector\n",
       "Others                                     103\n",
       "Social, Finance, Analytics, Advertising     59\n",
       "News, Search and Messaging                  49\n",
       "Entertainment                               32\n",
       "Manufacturing                               21\n",
       "Cleantech / Semiconductors                  20\n",
       "Health                                      18\n",
       "Automotive & Sports                         13\n",
       "Name: raised_amount_usd, dtype: int64"
      ]
     },
     "execution_count": 92,
     "metadata": {},
     "output_type": "execute_result"
    }
   ],
   "source": [
    "D3.groupby('main_sector')['raised_amount_usd'].count().sort_values(ascending=False)"
   ]
  },
  {
   "cell_type": "markdown",
   "metadata": {},
   "source": [
    "***In top sector count-wise, below company received the highest investment in GBR***"
   ]
  },
  {
   "cell_type": "code",
   "execution_count": 93,
   "metadata": {
    "scrolled": true
   },
   "outputs": [
    {
     "data": {
      "text/plain": [
       "permalink\n",
       "/organization/firstcry-com        39000000.0\n",
       "/organization/myntra              38000000.0\n",
       "/organization/commonfloor         32900000.0\n",
       "/organization/pepperfry-com       28000000.0\n",
       "/organization/itzcash-card-ltd    25000000.0\n",
       "Name: raised_amount_usd, dtype: float64"
      ]
     },
     "execution_count": 93,
     "metadata": {},
     "output_type": "execute_result"
    }
   ],
   "source": [
    "D3[D3['main_sector']=='Others'].groupby('permalink')['raised_amount_usd'].sum().sort_values(ascending=False).head()"
   ]
  },
  {
   "cell_type": "markdown",
   "metadata": {},
   "source": [
    "***In second best sector count-wise, below company received the highest investment in IND***"
   ]
  },
  {
   "cell_type": "code",
   "execution_count": 94,
   "metadata": {},
   "outputs": [
    {
     "data": {
      "text/plain": [
       "permalink\n",
       "/organization/manthan-systems               50700000.0\n",
       "/organization/komli-media                   28000000.0\n",
       "/organization/shopclues-com                 25000000.0\n",
       "/organization/intarvo                       21900000.0\n",
       "/organization/grameen-financial-services    21556050.0\n",
       "Name: raised_amount_usd, dtype: float64"
      ]
     },
     "execution_count": 94,
     "metadata": {},
     "output_type": "execute_result"
    }
   ],
   "source": [
    "D3[D3['main_sector']=='Social, Finance, Analytics, Advertising'].groupby('permalink')['raised_amount_usd'].sum().sort_values(ascending=False).head()"
   ]
  },
  {
   "cell_type": "code",
   "execution_count": 95,
   "metadata": {},
   "outputs": [
    {
     "data": {
      "image/png": "[encoded data removed]",
      "text/plain": [
       "<Figure size 1080x576 with 1 Axes>"
      ]
     },
     "metadata": {
      "needs_background": "light"
     },
     "output_type": "display_data"
    }
   ],
   "source": [
    "plt.figure(figsize=(15,8))\n",
    "sns.countplot(y='main_sector',data=D3)\n",
    "plt.title('Count')\n",
    "plt.show()"
   ]
  },
  {
   "cell_type": "code",
   "execution_count": 96,
   "metadata": {},
   "outputs": [
    {
     "data": {
      "image/png": "[encoded data removed]",
      "text/plain": [
       "<Figure size 1080x576 with 1 Axes>"
      ]
     },
     "metadata": {
      "needs_background": "light"
     },
     "output_type": "display_data"
    }
   ],
   "source": [
    "plt.figure(figsize=(15,8))\n",
    "sns.barplot(y='main_sector',x='raised_amount_usd',data=D3,estimator=sum)\n",
    "plt.title('Sum')\n",
    "plt.show()"
   ]
  },
  {
   "cell_type": "code",
   "execution_count": 97,
   "metadata": {},
   "outputs": [
    {
     "data": {
      "text/html": [
       "<div>\n",
       "<style scoped>\n",
       "    .dataframe tbody tr th:only-of-type {\n",
       "        vertical-align: middle;\n",
       "    }\n",
       "\n",
       "    .dataframe tbody tr th {\n",
       "        vertical-align: top;\n",
       "    }\n",
       "\n",
       "    .dataframe thead th {\n",
       "        text-align: right;\n",
       "    }\n",
       "</style>\n",
       "<table border=\"1\" class=\"dataframe\">\n",
       "  <thead>\n",
       "    <tr style=\"text-align: right;\">\n",
       "      <th></th>\n",
       "      <th>company_permalink</th>\n",
       "      <th>funding_round_permalink</th>\n",
       "      <th>funding_round_type</th>\n",
       "      <th>funded_at</th>\n",
       "      <th>raised_amount_usd</th>\n",
       "      <th>permalink</th>\n",
       "      <th>name</th>\n",
       "      <th>category_list</th>\n",
       "      <th>status</th>\n",
       "      <th>country_code</th>\n",
       "      <th>state_code</th>\n",
       "      <th>region</th>\n",
       "      <th>city</th>\n",
       "      <th>primary_sector</th>\n",
       "      <th>main_sector</th>\n",
       "    </tr>\n",
       "  </thead>\n",
       "  <tbody>\n",
       "    <tr>\n",
       "      <th>3</th>\n",
       "      <td>/organization/0xdata</td>\n",
       "      <td>/funding-round/e1cfcbe1bdf4c70277c5f29a3482f24e</td>\n",
       "      <td>venture</td>\n",
       "      <td>19-07-2014</td>\n",
       "      <td>8900000.0</td>\n",
       "      <td>/organization/0xdata</td>\n",
       "      <td>H2O.ai</td>\n",
       "      <td>Analytics</td>\n",
       "      <td>operating</td>\n",
       "      <td>USA</td>\n",
       "      <td>CA</td>\n",
       "      <td>SF Bay Area</td>\n",
       "      <td>Mountain View</td>\n",
       "      <td>analytics</td>\n",
       "      <td>Social, Finance, Analytics, Advertising</td>\n",
       "    </tr>\n",
       "    <tr>\n",
       "      <th>16</th>\n",
       "      <td>/organization/128-technology</td>\n",
       "      <td>/funding-round/fb6216a30cb566ede89e0bee0623a634</td>\n",
       "      <td>venture</td>\n",
       "      <td>16-12-2014</td>\n",
       "      <td>11999347.0</td>\n",
       "      <td>/organization/128-technology</td>\n",
       "      <td>128 Technology</td>\n",
       "      <td>Service Providers|Technology</td>\n",
       "      <td>operating</td>\n",
       "      <td>USA</td>\n",
       "      <td>MA</td>\n",
       "      <td>Boston</td>\n",
       "      <td>Burlington</td>\n",
       "      <td>service providers</td>\n",
       "      <td>Others</td>\n",
       "    </tr>\n",
       "    <tr>\n",
       "      <th>28</th>\n",
       "      <td>/organization/170-systems</td>\n",
       "      <td>/funding-round/b84bb882ca873f5fb96535671981196d</td>\n",
       "      <td>venture</td>\n",
       "      <td>16-04-2002</td>\n",
       "      <td>14000000.0</td>\n",
       "      <td>/organization/170-systems</td>\n",
       "      <td>170 Systems</td>\n",
       "      <td>Software</td>\n",
       "      <td>acquired</td>\n",
       "      <td>USA</td>\n",
       "      <td>MA</td>\n",
       "      <td>Boston</td>\n",
       "      <td>Bedford</td>\n",
       "      <td>software</td>\n",
       "      <td>Others</td>\n",
       "    </tr>\n",
       "    <tr>\n",
       "      <th>30</th>\n",
       "      <td>/organization/17zuoye</td>\n",
       "      <td>/funding-round/69690484f51e15bc27ff52bfe472cd96</td>\n",
       "      <td>venture</td>\n",
       "      <td>01-01-2011</td>\n",
       "      <td>5000000.0</td>\n",
       "      <td>/organization/17zuoye</td>\n",
       "      <td>17zuoye</td>\n",
       "      <td>Education|Language Learning</td>\n",
       "      <td>operating</td>\n",
       "      <td>USA</td>\n",
       "      <td>VA</td>\n",
       "      <td>VA - Other</td>\n",
       "      <td>Shanghai</td>\n",
       "      <td>education</td>\n",
       "      <td>Others</td>\n",
       "    </tr>\n",
       "    <tr>\n",
       "      <th>31</th>\n",
       "      <td>/organization/17zuoye</td>\n",
       "      <td>/funding-round/8d87f771e938e0f31641bd600abbafca</td>\n",
       "      <td>venture</td>\n",
       "      <td>01-09-2013</td>\n",
       "      <td>10000000.0</td>\n",
       "      <td>/organization/17zuoye</td>\n",
       "      <td>17zuoye</td>\n",
       "      <td>Education|Language Learning</td>\n",
       "      <td>operating</td>\n",
       "      <td>USA</td>\n",
       "      <td>VA</td>\n",
       "      <td>VA - Other</td>\n",
       "      <td>Shanghai</td>\n",
       "      <td>education</td>\n",
       "      <td>Others</td>\n",
       "    </tr>\n",
       "    <tr>\n",
       "      <th>...</th>\n",
       "      <td>...</td>\n",
       "      <td>...</td>\n",
       "      <td>...</td>\n",
       "      <td>...</td>\n",
       "      <td>...</td>\n",
       "      <td>...</td>\n",
       "      <td>...</td>\n",
       "      <td>...</td>\n",
       "      <td>...</td>\n",
       "      <td>...</td>\n",
       "      <td>...</td>\n",
       "      <td>...</td>\n",
       "      <td>...</td>\n",
       "      <td>...</td>\n",
       "      <td>...</td>\n",
       "    </tr>\n",
       "    <tr>\n",
       "      <th>36295</th>\n",
       "      <td>/organization/zynga</td>\n",
       "      <td>/funding-round/8411431b5a0389a874e3fae93016c089</td>\n",
       "      <td>venture</td>\n",
       "      <td>24-04-2010</td>\n",
       "      <td>15000000.0</td>\n",
       "      <td>/organization/zynga</td>\n",
       "      <td>Zynga</td>\n",
       "      <td>Facebook Applications|Games|Networking|Technology</td>\n",
       "      <td>ipo</td>\n",
       "      <td>USA</td>\n",
       "      <td>CA</td>\n",
       "      <td>SF Bay Area</td>\n",
       "      <td>San Francisco</td>\n",
       "      <td>facebook applications</td>\n",
       "      <td>Social, Finance, Analytics, Advertising</td>\n",
       "    </tr>\n",
       "    <tr>\n",
       "      <th>36298</th>\n",
       "      <td>/organization/zynga</td>\n",
       "      <td>/funding-round/eb198261da812bc8d3bf475ccec44000</td>\n",
       "      <td>venture</td>\n",
       "      <td>12-02-2008</td>\n",
       "      <td>5026000.0</td>\n",
       "      <td>/organization/zynga</td>\n",
       "      <td>Zynga</td>\n",
       "      <td>Facebook Applications|Games|Networking|Technology</td>\n",
       "      <td>ipo</td>\n",
       "      <td>USA</td>\n",
       "      <td>CA</td>\n",
       "      <td>SF Bay Area</td>\n",
       "      <td>San Francisco</td>\n",
       "      <td>facebook applications</td>\n",
       "      <td>Social, Finance, Analytics, Advertising</td>\n",
       "    </tr>\n",
       "    <tr>\n",
       "      <th>36302</th>\n",
       "      <td>/organization/zyomyx-inc</td>\n",
       "      <td>/funding-round/4191cb5258d3863b0212d1083881da64</td>\n",
       "      <td>venture</td>\n",
       "      <td>30-06-2013</td>\n",
       "      <td>12000000.0</td>\n",
       "      <td>/organization/zyomyx-inc</td>\n",
       "      <td>ZYOMYX</td>\n",
       "      <td>Biotechnology</td>\n",
       "      <td>operating</td>\n",
       "      <td>USA</td>\n",
       "      <td>MO</td>\n",
       "      <td>MO - Other</td>\n",
       "      <td>Fremont</td>\n",
       "      <td>biotechnology</td>\n",
       "      <td>Cleantech / Semiconductors</td>\n",
       "    </tr>\n",
       "    <tr>\n",
       "      <th>36303</th>\n",
       "      <td>/organization/zyomyx-inc</td>\n",
       "      <td>/funding-round/b4fce7f8a13267353d57db09099800e8</td>\n",
       "      <td>venture</td>\n",
       "      <td>11-07-2013</td>\n",
       "      <td>14219999.0</td>\n",
       "      <td>/organization/zyomyx-inc</td>\n",
       "      <td>ZYOMYX</td>\n",
       "      <td>Biotechnology</td>\n",
       "      <td>operating</td>\n",
       "      <td>USA</td>\n",
       "      <td>MO</td>\n",
       "      <td>MO - Other</td>\n",
       "      <td>Fremont</td>\n",
       "      <td>biotechnology</td>\n",
       "      <td>Cleantech / Semiconductors</td>\n",
       "    </tr>\n",
       "    <tr>\n",
       "      <th>36306</th>\n",
       "      <td>/organization/zystor</td>\n",
       "      <td>/funding-round/7ea37c0ff4132b084832039a9380d34e</td>\n",
       "      <td>venture</td>\n",
       "      <td>16-12-2004</td>\n",
       "      <td>8500000.0</td>\n",
       "      <td>/organization/zystor</td>\n",
       "      <td>Zystor</td>\n",
       "      <td>Biotechnology</td>\n",
       "      <td>acquired</td>\n",
       "      <td>USA</td>\n",
       "      <td>WI</td>\n",
       "      <td>Milwaukee</td>\n",
       "      <td>Milwaukee</td>\n",
       "      <td>biotechnology</td>\n",
       "      <td>Cleantech / Semiconductors</td>\n",
       "    </tr>\n",
       "  </tbody>\n",
       "</table>\n",
       "<p>7540 rows × 15 columns</p>\n",
       "</div>"
      ],
      "text/plain": [
       "                  company_permalink  \\\n",
       "3              /organization/0xdata   \n",
       "16     /organization/128-technology   \n",
       "28        /organization/170-systems   \n",
       "30            /organization/17zuoye   \n",
       "31            /organization/17zuoye   \n",
       "...                             ...   \n",
       "36295           /organization/zynga   \n",
       "36298           /organization/zynga   \n",
       "36302      /organization/zyomyx-inc   \n",
       "36303      /organization/zyomyx-inc   \n",
       "36306          /organization/zystor   \n",
       "\n",
       "                               funding_round_permalink funding_round_type  \\\n",
       "3      /funding-round/e1cfcbe1bdf4c70277c5f29a3482f24e            venture   \n",
       "16     /funding-round/fb6216a30cb566ede89e0bee0623a634            venture   \n",
       "28     /funding-round/b84bb882ca873f5fb96535671981196d            venture   \n",
       "30     /funding-round/69690484f51e15bc27ff52bfe472cd96            venture   \n",
       "31     /funding-round/8d87f771e938e0f31641bd600abbafca            venture   \n",
       "...                                                ...                ...   \n",
       "36295  /funding-round/8411431b5a0389a874e3fae93016c089            venture   \n",
       "36298  /funding-round/eb198261da812bc8d3bf475ccec44000            venture   \n",
       "36302  /funding-round/4191cb5258d3863b0212d1083881da64            venture   \n",
       "36303  /funding-round/b4fce7f8a13267353d57db09099800e8            venture   \n",
       "36306  /funding-round/7ea37c0ff4132b084832039a9380d34e            venture   \n",
       "\n",
       "        funded_at  raised_amount_usd                     permalink  \\\n",
       "3      19-07-2014          8900000.0          /organization/0xdata   \n",
       "16     16-12-2014         11999347.0  /organization/128-technology   \n",
       "28     16-04-2002         14000000.0     /organization/170-systems   \n",
       "30     01-01-2011          5000000.0         /organization/17zuoye   \n",
       "31     01-09-2013         10000000.0         /organization/17zuoye   \n",
       "...           ...                ...                           ...   \n",
       "36295  24-04-2010         15000000.0           /organization/zynga   \n",
       "36298  12-02-2008          5026000.0           /organization/zynga   \n",
       "36302  30-06-2013         12000000.0      /organization/zyomyx-inc   \n",
       "36303  11-07-2013         14219999.0      /organization/zyomyx-inc   \n",
       "36306  16-12-2004          8500000.0          /organization/zystor   \n",
       "\n",
       "                 name                                      category_list  \\\n",
       "3              H2O.ai                                          Analytics   \n",
       "16     128 Technology                       Service Providers|Technology   \n",
       "28        170 Systems                                           Software   \n",
       "30            17zuoye                        Education|Language Learning   \n",
       "31            17zuoye                        Education|Language Learning   \n",
       "...               ...                                                ...   \n",
       "36295           Zynga  Facebook Applications|Games|Networking|Technology   \n",
       "36298           Zynga  Facebook Applications|Games|Networking|Technology   \n",
       "36302          ZYOMYX                                      Biotechnology   \n",
       "36303          ZYOMYX                                      Biotechnology   \n",
       "36306          Zystor                                      Biotechnology   \n",
       "\n",
       "          status country_code state_code       region           city  \\\n",
       "3      operating          USA         CA  SF Bay Area  Mountain View   \n",
       "16     operating          USA         MA       Boston     Burlington   \n",
       "28      acquired          USA         MA       Boston        Bedford   \n",
       "30     operating          USA         VA   VA - Other       Shanghai   \n",
       "31     operating          USA         VA   VA - Other       Shanghai   \n",
       "...          ...          ...        ...          ...            ...   \n",
       "36295        ipo          USA         CA  SF Bay Area  San Francisco   \n",
       "36298        ipo          USA         CA  SF Bay Area  San Francisco   \n",
       "36302  operating          USA         MO   MO - Other        Fremont   \n",
       "36303  operating          USA         MO   MO - Other        Fremont   \n",
       "36306   acquired          USA         WI    Milwaukee      Milwaukee   \n",
       "\n",
       "              primary_sector                              main_sector  \n",
       "3                  analytics  Social, Finance, Analytics, Advertising  \n",
       "16         service providers                                   Others  \n",
       "28                  software                                   Others  \n",
       "30                 education                                   Others  \n",
       "31                 education                                   Others  \n",
       "...                      ...                                      ...  \n",
       "36295  facebook applications  Social, Finance, Analytics, Advertising  \n",
       "36298  facebook applications  Social, Finance, Analytics, Advertising  \n",
       "36302          biotechnology               Cleantech / Semiconductors  \n",
       "36303          biotechnology               Cleantech / Semiconductors  \n",
       "36306          biotechnology               Cleantech / Semiconductors  \n",
       "\n",
       "[7540 rows x 15 columns]"
      ]
     },
     "execution_count": 97,
     "metadata": {},
     "output_type": "execute_result"
    }
   ],
   "source": [
    "#Top three main sectors in USA\n",
    "D1 = D1[D1['main_sector'].isin([\"Others\",\"Social, Finance, Analytics, Advertising\", \"Cleantech / Semiconductors\"])]\n",
    "D1"
   ]
  },
  {
   "cell_type": "code",
   "execution_count": 98,
   "metadata": {},
   "outputs": [
    {
     "data": {
      "text/html": [
       "<div>\n",
       "<style scoped>\n",
       "    .dataframe tbody tr th:only-of-type {\n",
       "        vertical-align: middle;\n",
       "    }\n",
       "\n",
       "    .dataframe tbody tr th {\n",
       "        vertical-align: top;\n",
       "    }\n",
       "\n",
       "    .dataframe thead th {\n",
       "        text-align: right;\n",
       "    }\n",
       "</style>\n",
       "<table border=\"1\" class=\"dataframe\">\n",
       "  <thead>\n",
       "    <tr style=\"text-align: right;\">\n",
       "      <th></th>\n",
       "      <th>company_permalink</th>\n",
       "      <th>funding_round_permalink</th>\n",
       "      <th>funding_round_type</th>\n",
       "      <th>funded_at</th>\n",
       "      <th>raised_amount_usd</th>\n",
       "      <th>permalink</th>\n",
       "      <th>name</th>\n",
       "      <th>category_list</th>\n",
       "      <th>status</th>\n",
       "      <th>country_code</th>\n",
       "      <th>state_code</th>\n",
       "      <th>region</th>\n",
       "      <th>city</th>\n",
       "      <th>primary_sector</th>\n",
       "      <th>main_sector</th>\n",
       "    </tr>\n",
       "  </thead>\n",
       "  <tbody>\n",
       "    <tr>\n",
       "      <th>104</th>\n",
       "      <td>/organization/365scores</td>\n",
       "      <td>/funding-round/48212f931f542fdef78810bc87aef086</td>\n",
       "      <td>venture</td>\n",
       "      <td>29-09-2014</td>\n",
       "      <td>5500000.0</td>\n",
       "      <td>/organization/365scores</td>\n",
       "      <td>365Scores</td>\n",
       "      <td>Android|Apps|iPhone|Mobile|Sports</td>\n",
       "      <td>operating</td>\n",
       "      <td>GBR</td>\n",
       "      <td>H9</td>\n",
       "      <td>London</td>\n",
       "      <td>London</td>\n",
       "      <td>android</td>\n",
       "      <td>Social, Finance, Analytics, Advertising</td>\n",
       "    </tr>\n",
       "    <tr>\n",
       "      <th>294</th>\n",
       "      <td>/organization/abcodia</td>\n",
       "      <td>/funding-round/3d20c23d203134ed86c0d1b2bec288b2</td>\n",
       "      <td>venture</td>\n",
       "      <td>18-05-2015</td>\n",
       "      <td>8259067.0</td>\n",
       "      <td>/organization/abcodia</td>\n",
       "      <td>Abcodia</td>\n",
       "      <td>Biotechnology</td>\n",
       "      <td>operating</td>\n",
       "      <td>GBR</td>\n",
       "      <td>H9</td>\n",
       "      <td>London</td>\n",
       "      <td>London</td>\n",
       "      <td>biotechnology</td>\n",
       "      <td>Cleantech / Semiconductors</td>\n",
       "    </tr>\n",
       "    <tr>\n",
       "      <th>369</th>\n",
       "      <td>/organization/acacia-pharma</td>\n",
       "      <td>/funding-round/26eac8a3875e1a7bc68d36ceb7a71b05</td>\n",
       "      <td>venture</td>\n",
       "      <td>31-03-2011</td>\n",
       "      <td>10000000.0</td>\n",
       "      <td>/organization/acacia-pharma</td>\n",
       "      <td>Acacia Pharma</td>\n",
       "      <td>Biotechnology</td>\n",
       "      <td>operating</td>\n",
       "      <td>GBR</td>\n",
       "      <td>C3</td>\n",
       "      <td>London</td>\n",
       "      <td>Cambridge</td>\n",
       "      <td>biotechnology</td>\n",
       "      <td>Cleantech / Semiconductors</td>\n",
       "    </tr>\n",
       "    <tr>\n",
       "      <th>381</th>\n",
       "      <td>/organization/acal-energy</td>\n",
       "      <td>/funding-round/16817efd4bbef10f63cccdf158f47a41</td>\n",
       "      <td>venture</td>\n",
       "      <td>15-06-2011</td>\n",
       "      <td>9910333.0</td>\n",
       "      <td>/organization/acal-energy</td>\n",
       "      <td>ACAL Energy</td>\n",
       "      <td>Clean Technology</td>\n",
       "      <td>operating</td>\n",
       "      <td>GBR</td>\n",
       "      <td>C5</td>\n",
       "      <td>Runcorn</td>\n",
       "      <td>Runcorn</td>\n",
       "      <td>clean technology</td>\n",
       "      <td>Cleantech / Semiconductors</td>\n",
       "    </tr>\n",
       "    <tr>\n",
       "      <th>384</th>\n",
       "      <td>/organization/acal-enterprise-solutions</td>\n",
       "      <td>/funding-round/0f9a693d9686330c5c2724215e0048e2</td>\n",
       "      <td>venture</td>\n",
       "      <td>03-06-2014</td>\n",
       "      <td>10720178.0</td>\n",
       "      <td>/organization/acal-enterprise-solutions</td>\n",
       "      <td>Acal Enterprise Solutions</td>\n",
       "      <td>Information Technology</td>\n",
       "      <td>operating</td>\n",
       "      <td>GBR</td>\n",
       "      <td>J8</td>\n",
       "      <td>Nottingham</td>\n",
       "      <td>Nottingham</td>\n",
       "      <td>information technology</td>\n",
       "      <td>Social, Finance, Analytics, Advertising</td>\n",
       "    </tr>\n",
       "    <tr>\n",
       "      <th>...</th>\n",
       "      <td>...</td>\n",
       "      <td>...</td>\n",
       "      <td>...</td>\n",
       "      <td>...</td>\n",
       "      <td>...</td>\n",
       "      <td>...</td>\n",
       "      <td>...</td>\n",
       "      <td>...</td>\n",
       "      <td>...</td>\n",
       "      <td>...</td>\n",
       "      <td>...</td>\n",
       "      <td>...</td>\n",
       "      <td>...</td>\n",
       "      <td>...</td>\n",
       "      <td>...</td>\n",
       "    </tr>\n",
       "    <tr>\n",
       "      <th>36186</th>\n",
       "      <td>/organization/zoopla</td>\n",
       "      <td>/funding-round/98da1f441a55c9a9629a256828923e38</td>\n",
       "      <td>venture</td>\n",
       "      <td>19-01-2009</td>\n",
       "      <td>5440000.0</td>\n",
       "      <td>/organization/zoopla</td>\n",
       "      <td>Zoopla</td>\n",
       "      <td>Property Management|Real Estate</td>\n",
       "      <td>ipo</td>\n",
       "      <td>GBR</td>\n",
       "      <td>H9</td>\n",
       "      <td>London</td>\n",
       "      <td>London</td>\n",
       "      <td>property management</td>\n",
       "      <td>Social, Finance, Analytics, Advertising</td>\n",
       "    </tr>\n",
       "    <tr>\n",
       "      <th>36200</th>\n",
       "      <td>/organization/zopa</td>\n",
       "      <td>/funding-round/2a55d435c3433d8f903526c050c19361</td>\n",
       "      <td>venture</td>\n",
       "      <td>20-03-2007</td>\n",
       "      <td>12900000.0</td>\n",
       "      <td>/organization/zopa</td>\n",
       "      <td>Zopa</td>\n",
       "      <td>Finance|FinTech</td>\n",
       "      <td>operating</td>\n",
       "      <td>GBR</td>\n",
       "      <td>H9</td>\n",
       "      <td>London</td>\n",
       "      <td>London</td>\n",
       "      <td>finance</td>\n",
       "      <td>Social, Finance, Analytics, Advertising</td>\n",
       "    </tr>\n",
       "    <tr>\n",
       "      <th>36201</th>\n",
       "      <td>/organization/zopa</td>\n",
       "      <td>/funding-round/4b0740cb83da8d2af9d221e5455f8923</td>\n",
       "      <td>venture</td>\n",
       "      <td>01-03-2006</td>\n",
       "      <td>15000000.0</td>\n",
       "      <td>/organization/zopa</td>\n",
       "      <td>Zopa</td>\n",
       "      <td>Finance|FinTech</td>\n",
       "      <td>operating</td>\n",
       "      <td>GBR</td>\n",
       "      <td>H9</td>\n",
       "      <td>London</td>\n",
       "      <td>London</td>\n",
       "      <td>finance</td>\n",
       "      <td>Social, Finance, Analytics, Advertising</td>\n",
       "    </tr>\n",
       "    <tr>\n",
       "      <th>36202</th>\n",
       "      <td>/organization/zopa</td>\n",
       "      <td>/funding-round/54dbfbd899caf7d1d4b2b7676065f303</td>\n",
       "      <td>venture</td>\n",
       "      <td>01-07-2006</td>\n",
       "      <td>5000000.0</td>\n",
       "      <td>/organization/zopa</td>\n",
       "      <td>Zopa</td>\n",
       "      <td>Finance|FinTech</td>\n",
       "      <td>operating</td>\n",
       "      <td>GBR</td>\n",
       "      <td>H9</td>\n",
       "      <td>London</td>\n",
       "      <td>London</td>\n",
       "      <td>finance</td>\n",
       "      <td>Social, Finance, Analytics, Advertising</td>\n",
       "    </tr>\n",
       "    <tr>\n",
       "      <th>36300</th>\n",
       "      <td>/organization/zynstra</td>\n",
       "      <td>/funding-round/05f43b37c270f5919578281ce803de8f</td>\n",
       "      <td>venture</td>\n",
       "      <td>09-07-2014</td>\n",
       "      <td>8400000.0</td>\n",
       "      <td>/organization/zynstra</td>\n",
       "      <td>Zynstra</td>\n",
       "      <td>Software</td>\n",
       "      <td>operating</td>\n",
       "      <td>GBR</td>\n",
       "      <td>A4</td>\n",
       "      <td>Bath</td>\n",
       "      <td>Bath</td>\n",
       "      <td>software</td>\n",
       "      <td>Others</td>\n",
       "    </tr>\n",
       "  </tbody>\n",
       "</table>\n",
       "<p>384 rows × 15 columns</p>\n",
       "</div>"
      ],
      "text/plain": [
       "                             company_permalink  \\\n",
       "104                    /organization/365scores   \n",
       "294                      /organization/abcodia   \n",
       "369                /organization/acacia-pharma   \n",
       "381                  /organization/acal-energy   \n",
       "384    /organization/acal-enterprise-solutions   \n",
       "...                                        ...   \n",
       "36186                     /organization/zoopla   \n",
       "36200                       /organization/zopa   \n",
       "36201                       /organization/zopa   \n",
       "36202                       /organization/zopa   \n",
       "36300                    /organization/zynstra   \n",
       "\n",
       "                               funding_round_permalink funding_round_type  \\\n",
       "104    /funding-round/48212f931f542fdef78810bc87aef086            venture   \n",
       "294    /funding-round/3d20c23d203134ed86c0d1b2bec288b2            venture   \n",
       "369    /funding-round/26eac8a3875e1a7bc68d36ceb7a71b05            venture   \n",
       "381    /funding-round/16817efd4bbef10f63cccdf158f47a41            venture   \n",
       "384    /funding-round/0f9a693d9686330c5c2724215e0048e2            venture   \n",
       "...                                                ...                ...   \n",
       "36186  /funding-round/98da1f441a55c9a9629a256828923e38            venture   \n",
       "36200  /funding-round/2a55d435c3433d8f903526c050c19361            venture   \n",
       "36201  /funding-round/4b0740cb83da8d2af9d221e5455f8923            venture   \n",
       "36202  /funding-round/54dbfbd899caf7d1d4b2b7676065f303            venture   \n",
       "36300  /funding-round/05f43b37c270f5919578281ce803de8f            venture   \n",
       "\n",
       "        funded_at  raised_amount_usd                                permalink  \\\n",
       "104    29-09-2014          5500000.0                  /organization/365scores   \n",
       "294    18-05-2015          8259067.0                    /organization/abcodia   \n",
       "369    31-03-2011         10000000.0              /organization/acacia-pharma   \n",
       "381    15-06-2011          9910333.0                /organization/acal-energy   \n",
       "384    03-06-2014         10720178.0  /organization/acal-enterprise-solutions   \n",
       "...           ...                ...                                      ...   \n",
       "36186  19-01-2009          5440000.0                     /organization/zoopla   \n",
       "36200  20-03-2007         12900000.0                       /organization/zopa   \n",
       "36201  01-03-2006         15000000.0                       /organization/zopa   \n",
       "36202  01-07-2006          5000000.0                       /organization/zopa   \n",
       "36300  09-07-2014          8400000.0                    /organization/zynstra   \n",
       "\n",
       "                            name                      category_list  \\\n",
       "104                    365Scores  Android|Apps|iPhone|Mobile|Sports   \n",
       "294                      Abcodia                      Biotechnology   \n",
       "369                Acacia Pharma                      Biotechnology   \n",
       "381                  ACAL Energy                   Clean Technology   \n",
       "384    Acal Enterprise Solutions             Information Technology   \n",
       "...                          ...                                ...   \n",
       "36186                     Zoopla    Property Management|Real Estate   \n",
       "36200                       Zopa                    Finance|FinTech   \n",
       "36201                       Zopa                    Finance|FinTech   \n",
       "36202                       Zopa                    Finance|FinTech   \n",
       "36300                    Zynstra                           Software   \n",
       "\n",
       "          status country_code state_code      region        city  \\\n",
       "104    operating          GBR         H9      London      London   \n",
       "294    operating          GBR         H9      London      London   \n",
       "369    operating          GBR         C3      London   Cambridge   \n",
       "381    operating          GBR         C5     Runcorn     Runcorn   \n",
       "384    operating          GBR         J8  Nottingham  Nottingham   \n",
       "...          ...          ...        ...         ...         ...   \n",
       "36186        ipo          GBR         H9      London      London   \n",
       "36200  operating          GBR         H9      London      London   \n",
       "36201  operating          GBR         H9      London      London   \n",
       "36202  operating          GBR         H9      London      London   \n",
       "36300  operating          GBR         A4        Bath        Bath   \n",
       "\n",
       "               primary_sector                              main_sector  \n",
       "104                   android  Social, Finance, Analytics, Advertising  \n",
       "294             biotechnology               Cleantech / Semiconductors  \n",
       "369             biotechnology               Cleantech / Semiconductors  \n",
       "381          clean technology               Cleantech / Semiconductors  \n",
       "384    information technology  Social, Finance, Analytics, Advertising  \n",
       "...                       ...                                      ...  \n",
       "36186     property management  Social, Finance, Analytics, Advertising  \n",
       "36200                 finance  Social, Finance, Analytics, Advertising  \n",
       "36201                 finance  Social, Finance, Analytics, Advertising  \n",
       "36202                 finance  Social, Finance, Analytics, Advertising  \n",
       "36300                software                                   Others  \n",
       "\n",
       "[384 rows x 15 columns]"
      ]
     },
     "execution_count": 98,
     "metadata": {},
     "output_type": "execute_result"
    }
   ],
   "source": [
    "#Top three main sectors in GBR\n",
    "D2 = D2[D2['main_sector'].isin([\"Others\",\"Social, Finance, Analytics, Advertising\", \"Cleantech / Semiconductors\"])]\n",
    "D2"
   ]
  },
  {
   "cell_type": "code",
   "execution_count": 99,
   "metadata": {},
   "outputs": [
    {
     "data": {
      "text/html": [
       "<div>\n",
       "<style scoped>\n",
       "    .dataframe tbody tr th:only-of-type {\n",
       "        vertical-align: middle;\n",
       "    }\n",
       "\n",
       "    .dataframe tbody tr th {\n",
       "        vertical-align: top;\n",
       "    }\n",
       "\n",
       "    .dataframe thead th {\n",
       "        text-align: right;\n",
       "    }\n",
       "</style>\n",
       "<table border=\"1\" class=\"dataframe\">\n",
       "  <thead>\n",
       "    <tr style=\"text-align: right;\">\n",
       "      <th></th>\n",
       "      <th>company_permalink</th>\n",
       "      <th>funding_round_permalink</th>\n",
       "      <th>funding_round_type</th>\n",
       "      <th>funded_at</th>\n",
       "      <th>raised_amount_usd</th>\n",
       "      <th>permalink</th>\n",
       "      <th>name</th>\n",
       "      <th>category_list</th>\n",
       "      <th>status</th>\n",
       "      <th>country_code</th>\n",
       "      <th>state_code</th>\n",
       "      <th>region</th>\n",
       "      <th>city</th>\n",
       "      <th>primary_sector</th>\n",
       "      <th>main_sector</th>\n",
       "    </tr>\n",
       "  </thead>\n",
       "  <tbody>\n",
       "    <tr>\n",
       "      <th>52</th>\n",
       "      <td>/organization/21diamonds-india</td>\n",
       "      <td>/funding-round/6de7ffef8091ba9f33821f4b861f434a</td>\n",
       "      <td>venture</td>\n",
       "      <td>15-11-2012</td>\n",
       "      <td>6369507.0</td>\n",
       "      <td>/organization/21diamonds-india</td>\n",
       "      <td>21Diamonds</td>\n",
       "      <td>E-Commerce</td>\n",
       "      <td>operating</td>\n",
       "      <td>IND</td>\n",
       "      <td>10</td>\n",
       "      <td>New Delhi</td>\n",
       "      <td>Gurgaon</td>\n",
       "      <td>e-commerce</td>\n",
       "      <td>Others</td>\n",
       "    </tr>\n",
       "    <tr>\n",
       "      <th>266</th>\n",
       "      <td>/organization/a-little-world</td>\n",
       "      <td>/funding-round/18d98f82ed392b1609975b81f3e8b3fb</td>\n",
       "      <td>venture</td>\n",
       "      <td>09-09-2008</td>\n",
       "      <td>6410000.0</td>\n",
       "      <td>/organization/a-little-world</td>\n",
       "      <td>A LITTLE WORLD</td>\n",
       "      <td>Finance</td>\n",
       "      <td>operating</td>\n",
       "      <td>IND</td>\n",
       "      <td>16</td>\n",
       "      <td>Mumbai</td>\n",
       "      <td>Mumbai</td>\n",
       "      <td>finance</td>\n",
       "      <td>Social, Finance, Analytics, Advertising</td>\n",
       "    </tr>\n",
       "    <tr>\n",
       "      <th>1205</th>\n",
       "      <td>/organization/agile</td>\n",
       "      <td>/funding-round/cd3dd1c98ce9d0f632d8752163941674</td>\n",
       "      <td>venture</td>\n",
       "      <td>01-05-2011</td>\n",
       "      <td>5740000.0</td>\n",
       "      <td>/organization/agile</td>\n",
       "      <td>Agile</td>\n",
       "      <td>Finance|Finance Technology|FinTech|Insurance</td>\n",
       "      <td>operating</td>\n",
       "      <td>IND</td>\n",
       "      <td>16</td>\n",
       "      <td>Mumbai</td>\n",
       "      <td>Mumbai</td>\n",
       "      <td>finance</td>\n",
       "      <td>Social, Finance, Analytics, Advertising</td>\n",
       "    </tr>\n",
       "    <tr>\n",
       "      <th>1450</th>\n",
       "      <td>/organization/akosha</td>\n",
       "      <td>/funding-round/908a8813e2273a2bc604bf40a45c15ff</td>\n",
       "      <td>venture</td>\n",
       "      <td>01-07-2014</td>\n",
       "      <td>5000000.0</td>\n",
       "      <td>/organization/akosha</td>\n",
       "      <td>Akosha</td>\n",
       "      <td>Consumer Internet|Digital Media|Enterprise Sof...</td>\n",
       "      <td>operating</td>\n",
       "      <td>IND</td>\n",
       "      <td>7</td>\n",
       "      <td>New Delhi</td>\n",
       "      <td>New Delhi</td>\n",
       "      <td>consumer internet</td>\n",
       "      <td>Social, Finance, Analytics, Advertising</td>\n",
       "    </tr>\n",
       "    <tr>\n",
       "      <th>1812</th>\n",
       "      <td>/organization/amagi-media-labs</td>\n",
       "      <td>/funding-round/f244a91cc714317f6fbbc80dcc1d5135</td>\n",
       "      <td>venture</td>\n",
       "      <td>17-06-2013</td>\n",
       "      <td>5500000.0</td>\n",
       "      <td>/organization/amagi-media-labs</td>\n",
       "      <td>Amagi Media Labs</td>\n",
       "      <td>Advertising</td>\n",
       "      <td>operating</td>\n",
       "      <td>IND</td>\n",
       "      <td>19</td>\n",
       "      <td>Bangalore</td>\n",
       "      <td>Bangalore</td>\n",
       "      <td>advertising</td>\n",
       "      <td>Social, Finance, Analytics, Advertising</td>\n",
       "    </tr>\n",
       "    <tr>\n",
       "      <th>...</th>\n",
       "      <td>...</td>\n",
       "      <td>...</td>\n",
       "      <td>...</td>\n",
       "      <td>...</td>\n",
       "      <td>...</td>\n",
       "      <td>...</td>\n",
       "      <td>...</td>\n",
       "      <td>...</td>\n",
       "      <td>...</td>\n",
       "      <td>...</td>\n",
       "      <td>...</td>\n",
       "      <td>...</td>\n",
       "      <td>...</td>\n",
       "      <td>...</td>\n",
       "      <td>...</td>\n",
       "    </tr>\n",
       "    <tr>\n",
       "      <th>34494</th>\n",
       "      <td>/organization/vriti-infocom</td>\n",
       "      <td>/funding-round/67aac706a82108fc0f6068901b6293e2</td>\n",
       "      <td>venture</td>\n",
       "      <td>25-08-2010</td>\n",
       "      <td>5000000.0</td>\n",
       "      <td>/organization/vriti-infocom</td>\n",
       "      <td>Vriti Infocom</td>\n",
       "      <td>Education</td>\n",
       "      <td>operating</td>\n",
       "      <td>IND</td>\n",
       "      <td>36</td>\n",
       "      <td>New Delhi</td>\n",
       "      <td>Noida</td>\n",
       "      <td>education</td>\n",
       "      <td>Others</td>\n",
       "    </tr>\n",
       "    <tr>\n",
       "      <th>34502</th>\n",
       "      <td>/organization/vserv</td>\n",
       "      <td>/funding-round/6442af712aaab254abcae2fe3fea9bc9</td>\n",
       "      <td>venture</td>\n",
       "      <td>02-03-2015</td>\n",
       "      <td>11000000.0</td>\n",
       "      <td>/organization/vserv</td>\n",
       "      <td>Vserv</td>\n",
       "      <td>Emerging Markets|Mobile Advertising|Mobile Com...</td>\n",
       "      <td>operating</td>\n",
       "      <td>IND</td>\n",
       "      <td>16</td>\n",
       "      <td>Mumbai</td>\n",
       "      <td>Mumbai</td>\n",
       "      <td>emerging markets</td>\n",
       "      <td>Others</td>\n",
       "    </tr>\n",
       "    <tr>\n",
       "      <th>34549</th>\n",
       "      <td>/organization/vyome-biosciences</td>\n",
       "      <td>/funding-round/339647785b60e71ab176256b8a062774</td>\n",
       "      <td>venture</td>\n",
       "      <td>12-08-2014</td>\n",
       "      <td>8000000.0</td>\n",
       "      <td>/organization/vyome-biosciences</td>\n",
       "      <td>Vyome Biosciences</td>\n",
       "      <td>Biotechnology|Life Sciences</td>\n",
       "      <td>operating</td>\n",
       "      <td>IND</td>\n",
       "      <td>7</td>\n",
       "      <td>Delhi</td>\n",
       "      <td>Delhi</td>\n",
       "      <td>biotechnology</td>\n",
       "      <td>Cleantech / Semiconductors</td>\n",
       "    </tr>\n",
       "    <tr>\n",
       "      <th>35664</th>\n",
       "      <td>/organization/yepme-com</td>\n",
       "      <td>/funding-round/cf179033074390a33c0b1cdc3a9f14b9</td>\n",
       "      <td>venture</td>\n",
       "      <td>09-01-2015</td>\n",
       "      <td>12700000.0</td>\n",
       "      <td>/organization/yepme-com</td>\n",
       "      <td>yepme.com</td>\n",
       "      <td>Brand Marketing|Online Shopping|Product Design</td>\n",
       "      <td>operating</td>\n",
       "      <td>IND</td>\n",
       "      <td>10</td>\n",
       "      <td>New Delhi</td>\n",
       "      <td>Gurgaon</td>\n",
       "      <td>brand marketing</td>\n",
       "      <td>Social, Finance, Analytics, Advertising</td>\n",
       "    </tr>\n",
       "    <tr>\n",
       "      <th>36122</th>\n",
       "      <td>/organization/zo-rooms</td>\n",
       "      <td>/funding-round/c88cfb5fe8cc31d33a07b73aa97c0e04</td>\n",
       "      <td>venture</td>\n",
       "      <td>20-07-2015</td>\n",
       "      <td>15000000.0</td>\n",
       "      <td>/organization/zo-rooms</td>\n",
       "      <td>ZO Rooms</td>\n",
       "      <td>Hospitality|Hotels</td>\n",
       "      <td>operating</td>\n",
       "      <td>IND</td>\n",
       "      <td>7</td>\n",
       "      <td>New Delhi</td>\n",
       "      <td>New Delhi</td>\n",
       "      <td>hospitality</td>\n",
       "      <td>Others</td>\n",
       "    </tr>\n",
       "  </tbody>\n",
       "</table>\n",
       "<p>182 rows × 15 columns</p>\n",
       "</div>"
      ],
      "text/plain": [
       "                     company_permalink  \\\n",
       "52      /organization/21diamonds-india   \n",
       "266       /organization/a-little-world   \n",
       "1205               /organization/agile   \n",
       "1450              /organization/akosha   \n",
       "1812    /organization/amagi-media-labs   \n",
       "...                                ...   \n",
       "34494      /organization/vriti-infocom   \n",
       "34502              /organization/vserv   \n",
       "34549  /organization/vyome-biosciences   \n",
       "35664          /organization/yepme-com   \n",
       "36122           /organization/zo-rooms   \n",
       "\n",
       "                               funding_round_permalink funding_round_type  \\\n",
       "52     /funding-round/6de7ffef8091ba9f33821f4b861f434a            venture   \n",
       "266    /funding-round/18d98f82ed392b1609975b81f3e8b3fb            venture   \n",
       "1205   /funding-round/cd3dd1c98ce9d0f632d8752163941674            venture   \n",
       "1450   /funding-round/908a8813e2273a2bc604bf40a45c15ff            venture   \n",
       "1812   /funding-round/f244a91cc714317f6fbbc80dcc1d5135            venture   \n",
       "...                                                ...                ...   \n",
       "34494  /funding-round/67aac706a82108fc0f6068901b6293e2            venture   \n",
       "34502  /funding-round/6442af712aaab254abcae2fe3fea9bc9            venture   \n",
       "34549  /funding-round/339647785b60e71ab176256b8a062774            venture   \n",
       "35664  /funding-round/cf179033074390a33c0b1cdc3a9f14b9            venture   \n",
       "36122  /funding-round/c88cfb5fe8cc31d33a07b73aa97c0e04            venture   \n",
       "\n",
       "        funded_at  raised_amount_usd                        permalink  \\\n",
       "52     15-11-2012          6369507.0   /organization/21diamonds-india   \n",
       "266    09-09-2008          6410000.0     /organization/a-little-world   \n",
       "1205   01-05-2011          5740000.0              /organization/agile   \n",
       "1450   01-07-2014          5000000.0             /organization/akosha   \n",
       "1812   17-06-2013          5500000.0   /organization/amagi-media-labs   \n",
       "...           ...                ...                              ...   \n",
       "34494  25-08-2010          5000000.0      /organization/vriti-infocom   \n",
       "34502  02-03-2015         11000000.0              /organization/vserv   \n",
       "34549  12-08-2014          8000000.0  /organization/vyome-biosciences   \n",
       "35664  09-01-2015         12700000.0          /organization/yepme-com   \n",
       "36122  20-07-2015         15000000.0           /organization/zo-rooms   \n",
       "\n",
       "                    name                                      category_list  \\\n",
       "52            21Diamonds                                         E-Commerce   \n",
       "266       A LITTLE WORLD                                            Finance   \n",
       "1205               Agile       Finance|Finance Technology|FinTech|Insurance   \n",
       "1450              Akosha  Consumer Internet|Digital Media|Enterprise Sof...   \n",
       "1812    Amagi Media Labs                                        Advertising   \n",
       "...                  ...                                                ...   \n",
       "34494      Vriti Infocom                                          Education   \n",
       "34502              Vserv  Emerging Markets|Mobile Advertising|Mobile Com...   \n",
       "34549  Vyome Biosciences                        Biotechnology|Life Sciences   \n",
       "35664          yepme.com     Brand Marketing|Online Shopping|Product Design   \n",
       "36122           ZO Rooms                                 Hospitality|Hotels   \n",
       "\n",
       "          status country_code state_code     region       city  \\\n",
       "52     operating          IND         10  New Delhi    Gurgaon   \n",
       "266    operating          IND         16     Mumbai     Mumbai   \n",
       "1205   operating          IND         16     Mumbai     Mumbai   \n",
       "1450   operating          IND          7  New Delhi  New Delhi   \n",
       "1812   operating          IND         19  Bangalore  Bangalore   \n",
       "...          ...          ...        ...        ...        ...   \n",
       "34494  operating          IND         36  New Delhi      Noida   \n",
       "34502  operating          IND         16     Mumbai     Mumbai   \n",
       "34549  operating          IND          7      Delhi      Delhi   \n",
       "35664  operating          IND         10  New Delhi    Gurgaon   \n",
       "36122  operating          IND          7  New Delhi  New Delhi   \n",
       "\n",
       "          primary_sector                              main_sector  \n",
       "52            e-commerce                                   Others  \n",
       "266              finance  Social, Finance, Analytics, Advertising  \n",
       "1205             finance  Social, Finance, Analytics, Advertising  \n",
       "1450   consumer internet  Social, Finance, Analytics, Advertising  \n",
       "1812         advertising  Social, Finance, Analytics, Advertising  \n",
       "...                  ...                                      ...  \n",
       "34494          education                                   Others  \n",
       "34502   emerging markets                                   Others  \n",
       "34549      biotechnology               Cleantech / Semiconductors  \n",
       "35664    brand marketing  Social, Finance, Analytics, Advertising  \n",
       "36122        hospitality                                   Others  \n",
       "\n",
       "[182 rows x 15 columns]"
      ]
     },
     "execution_count": 99,
     "metadata": {},
     "output_type": "execute_result"
    }
   ],
   "source": [
    "#Top three main sectors in IND\n",
    "D3 = D3[D3['main_sector'].isin([\"Others\",\"Social, Finance, Analytics, Advertising\", \"Cleantech / Semiconductors\"])]\n",
    "D3"
   ]
  },
  {
   "cell_type": "code",
   "execution_count": 100,
   "metadata": {},
   "outputs": [],
   "source": [
    "# concatinating D1, D2 and D3\n",
    "top3 = pd.concat([D1, D2, D3], axis = 0, ignore_index = True, sort = False)"
   ]
  },
  {
   "cell_type": "code",
   "execution_count": 101,
   "metadata": {
    "scrolled": true
   },
   "outputs": [
    {
     "data": {
      "text/html": [
       "<div>\n",
       "<style scoped>\n",
       "    .dataframe tbody tr th:only-of-type {\n",
       "        vertical-align: middle;\n",
       "    }\n",
       "\n",
       "    .dataframe tbody tr th {\n",
       "        vertical-align: top;\n",
       "    }\n",
       "\n",
       "    .dataframe thead th {\n",
       "        text-align: right;\n",
       "    }\n",
       "</style>\n",
       "<table border=\"1\" class=\"dataframe\">\n",
       "  <thead>\n",
       "    <tr style=\"text-align: right;\">\n",
       "      <th></th>\n",
       "      <th>company_permalink</th>\n",
       "      <th>funding_round_permalink</th>\n",
       "      <th>funding_round_type</th>\n",
       "      <th>funded_at</th>\n",
       "      <th>raised_amount_usd</th>\n",
       "      <th>permalink</th>\n",
       "      <th>name</th>\n",
       "      <th>category_list</th>\n",
       "      <th>status</th>\n",
       "      <th>country_code</th>\n",
       "      <th>state_code</th>\n",
       "      <th>region</th>\n",
       "      <th>city</th>\n",
       "      <th>primary_sector</th>\n",
       "      <th>main_sector</th>\n",
       "    </tr>\n",
       "  </thead>\n",
       "  <tbody>\n",
       "    <tr>\n",
       "      <th>0</th>\n",
       "      <td>/organization/0xdata</td>\n",
       "      <td>/funding-round/e1cfcbe1bdf4c70277c5f29a3482f24e</td>\n",
       "      <td>venture</td>\n",
       "      <td>19-07-2014</td>\n",
       "      <td>8900000.0</td>\n",
       "      <td>/organization/0xdata</td>\n",
       "      <td>H2O.ai</td>\n",
       "      <td>Analytics</td>\n",
       "      <td>operating</td>\n",
       "      <td>USA</td>\n",
       "      <td>CA</td>\n",
       "      <td>SF Bay Area</td>\n",
       "      <td>Mountain View</td>\n",
       "      <td>analytics</td>\n",
       "      <td>Social, Finance, Analytics, Advertising</td>\n",
       "    </tr>\n",
       "    <tr>\n",
       "      <th>1</th>\n",
       "      <td>/organization/128-technology</td>\n",
       "      <td>/funding-round/fb6216a30cb566ede89e0bee0623a634</td>\n",
       "      <td>venture</td>\n",
       "      <td>16-12-2014</td>\n",
       "      <td>11999347.0</td>\n",
       "      <td>/organization/128-technology</td>\n",
       "      <td>128 Technology</td>\n",
       "      <td>Service Providers|Technology</td>\n",
       "      <td>operating</td>\n",
       "      <td>USA</td>\n",
       "      <td>MA</td>\n",
       "      <td>Boston</td>\n",
       "      <td>Burlington</td>\n",
       "      <td>service providers</td>\n",
       "      <td>Others</td>\n",
       "    </tr>\n",
       "    <tr>\n",
       "      <th>2</th>\n",
       "      <td>/organization/170-systems</td>\n",
       "      <td>/funding-round/b84bb882ca873f5fb96535671981196d</td>\n",
       "      <td>venture</td>\n",
       "      <td>16-04-2002</td>\n",
       "      <td>14000000.0</td>\n",
       "      <td>/organization/170-systems</td>\n",
       "      <td>170 Systems</td>\n",
       "      <td>Software</td>\n",
       "      <td>acquired</td>\n",
       "      <td>USA</td>\n",
       "      <td>MA</td>\n",
       "      <td>Boston</td>\n",
       "      <td>Bedford</td>\n",
       "      <td>software</td>\n",
       "      <td>Others</td>\n",
       "    </tr>\n",
       "    <tr>\n",
       "      <th>3</th>\n",
       "      <td>/organization/17zuoye</td>\n",
       "      <td>/funding-round/69690484f51e15bc27ff52bfe472cd96</td>\n",
       "      <td>venture</td>\n",
       "      <td>01-01-2011</td>\n",
       "      <td>5000000.0</td>\n",
       "      <td>/organization/17zuoye</td>\n",
       "      <td>17zuoye</td>\n",
       "      <td>Education|Language Learning</td>\n",
       "      <td>operating</td>\n",
       "      <td>USA</td>\n",
       "      <td>VA</td>\n",
       "      <td>VA - Other</td>\n",
       "      <td>Shanghai</td>\n",
       "      <td>education</td>\n",
       "      <td>Others</td>\n",
       "    </tr>\n",
       "    <tr>\n",
       "      <th>4</th>\n",
       "      <td>/organization/17zuoye</td>\n",
       "      <td>/funding-round/8d87f771e938e0f31641bd600abbafca</td>\n",
       "      <td>venture</td>\n",
       "      <td>01-09-2013</td>\n",
       "      <td>10000000.0</td>\n",
       "      <td>/organization/17zuoye</td>\n",
       "      <td>17zuoye</td>\n",
       "      <td>Education|Language Learning</td>\n",
       "      <td>operating</td>\n",
       "      <td>USA</td>\n",
       "      <td>VA</td>\n",
       "      <td>VA - Other</td>\n",
       "      <td>Shanghai</td>\n",
       "      <td>education</td>\n",
       "      <td>Others</td>\n",
       "    </tr>\n",
       "  </tbody>\n",
       "</table>\n",
       "</div>"
      ],
      "text/plain": [
       "              company_permalink  \\\n",
       "0          /organization/0xdata   \n",
       "1  /organization/128-technology   \n",
       "2     /organization/170-systems   \n",
       "3         /organization/17zuoye   \n",
       "4         /organization/17zuoye   \n",
       "\n",
       "                           funding_round_permalink funding_round_type  \\\n",
       "0  /funding-round/e1cfcbe1bdf4c70277c5f29a3482f24e            venture   \n",
       "1  /funding-round/fb6216a30cb566ede89e0bee0623a634            venture   \n",
       "2  /funding-round/b84bb882ca873f5fb96535671981196d            venture   \n",
       "3  /funding-round/69690484f51e15bc27ff52bfe472cd96            venture   \n",
       "4  /funding-round/8d87f771e938e0f31641bd600abbafca            venture   \n",
       "\n",
       "    funded_at  raised_amount_usd                     permalink  \\\n",
       "0  19-07-2014          8900000.0          /organization/0xdata   \n",
       "1  16-12-2014         11999347.0  /organization/128-technology   \n",
       "2  16-04-2002         14000000.0     /organization/170-systems   \n",
       "3  01-01-2011          5000000.0         /organization/17zuoye   \n",
       "4  01-09-2013         10000000.0         /organization/17zuoye   \n",
       "\n",
       "             name                 category_list     status country_code  \\\n",
       "0          H2O.ai                     Analytics  operating          USA   \n",
       "1  128 Technology  Service Providers|Technology  operating          USA   \n",
       "2     170 Systems                      Software   acquired          USA   \n",
       "3         17zuoye   Education|Language Learning  operating          USA   \n",
       "4         17zuoye   Education|Language Learning  operating          USA   \n",
       "\n",
       "  state_code       region           city     primary_sector  \\\n",
       "0         CA  SF Bay Area  Mountain View          analytics   \n",
       "1         MA       Boston     Burlington  service providers   \n",
       "2         MA       Boston        Bedford           software   \n",
       "3         VA   VA - Other       Shanghai          education   \n",
       "4         VA   VA - Other       Shanghai          education   \n",
       "\n",
       "                               main_sector  \n",
       "0  Social, Finance, Analytics, Advertising  \n",
       "1                                   Others  \n",
       "2                                   Others  \n",
       "3                                   Others  \n",
       "4                                   Others  "
      ]
     },
     "execution_count": 101,
     "metadata": {},
     "output_type": "execute_result"
    }
   ],
   "source": [
    "top3.head()"
   ]
  },
  {
   "cell_type": "markdown",
   "metadata": {},
   "source": [
    "## Expected Result  : "
   ]
  },
  {
   "cell_type": "markdown",
   "metadata": {},
   "source": [
    "**1.Plot showing the fraction of total investments (globally) in angel, venture, seed, and private equity, and the average amount of investment in each funding type. This chart should make it clear that a certain funding type (FT) is best suited for Spark Funds.**"
   ]
  },
  {
   "cell_type": "code",
   "execution_count": 102,
   "metadata": {
    "scrolled": true
   },
   "outputs": [
    {
     "data": {
      "image/png": "[encoded data removed]",
      "text/plain": [
       "<Figure size 1008x432 with 2 Axes>"
      ]
     },
     "metadata": {
      "needs_background": "light"
     },
     "output_type": "display_data"
    }
   ],
   "source": [
    "# Average and number of ivestments across different funding type angel, venture, seed, and private equity\n",
    "\n",
    "plt.figure(figsize=(14, 6))\n",
    "plt.subplot(1, 2, 1)\n",
    "sns.countplot(x=\"funding_round_type\", data=master_frame)\n",
    "plt.title(\"# of Investments\")\n",
    "plt.subplot(1, 2, 2)\n",
    "sns.barplot(y='raised_amount_usd', x=\"funding_round_type\", data=master_frame, estimator=np.mean)\n",
    "plt.title(\"Average\")\n",
    "plt.axhline(y=5000000, linewidth=2, color = 'k')\n",
    "plt.axhline(y=15000000, linewidth=2, color = 'k')\n",
    "plt.show()"
   ]
  },
  {
   "cell_type": "markdown",
   "metadata": {},
   "source": [
    "<font color = magenta >**Based on above plot 'venture' fund type is best suited for investment for Spark Funds as many investors are investing in this and it falls between 5 million to 15 million USD.**</font>"
   ]
  },
  {
   "cell_type": "markdown",
   "metadata": {},
   "source": [
    "**2.Plot showing the top 9 countries against the total amount of investments of funding type FT. This should make the top 3 countries (Country 1, Country 2, and Country 3) very clear.**\n"
   ]
  },
  {
   "cell_type": "code",
   "execution_count": 103,
   "metadata": {},
   "outputs": [
    {
     "data": {
      "image/png": "[encoded data removed]",
      "text/plain": [
       "<Figure size 1080x576 with 1 Axes>"
      ]
     },
     "metadata": {
      "needs_background": "light"
     },
     "output_type": "display_data"
    }
   ],
   "source": [
    "plt.figure(figsize=(15,8))\n",
    "sns.barplot(x='country_code',y='raised_amount_usd',data=top9,estimator=np.sum)\n",
    "plt.yscale(\"log\")\n",
    "plt.title(\"Top 9 Countries vs Total amount of investment in Funding Type\", fontsize=15)\n",
    "plt.show()"
   ]
  },
  {
   "cell_type": "markdown",
   "metadata": {},
   "source": [
    "<font color = magenta>**Based on above plot we can tell that USA , GBR  and IND are the top 3 english speaking counteris where\n",
    "    Spark Funds can invest.**</font>"
   ]
  },
  {
   "cell_type": "markdown",
   "metadata": {},
   "source": [
    "**3.Plot showing the number of investments in the top 3 sectors of the top 3 countries on one chart (for the chosen investment type FT).**"
   ]
  },
  {
   "cell_type": "code",
   "execution_count": 104,
   "metadata": {
    "scrolled": true
   },
   "outputs": [
    {
     "data": {
      "image/png": "[encoded data removed]",
      "text/plain": [
       "<Figure size 1080x576 with 1 Axes>"
      ]
     },
     "metadata": {
      "needs_background": "light"
     },
     "output_type": "display_data"
    }
   ],
   "source": [
    "plt.figure(figsize=(15, 8))\n",
    "sns.barplot( x='raised_amount_usd',y='country_code', hue=\"main_sector\", data=top3, estimator=np.sum)\n",
    "plt.title('Top 3 countries with Investments in top3 sectors',fontsize =15)\n",
    "plt.show()"
   ]
  },
  {
   "cell_type": "markdown",
   "metadata": {},
   "source": [
    "<font color = magenta>**Based on above plot we can decide top 3 sectors in top 3 english speaking countries for investment.**</font>"
   ]
  }
 ],
 "metadata": {
  "kernelspec": {
   "display_name": "Python 3",
   "language": "python",
   "name": "python3"
  },
  "language_info": {
   "codemirror_mode": {
    "name": "ipython",
    "version": 3
   },
   "file_extension": ".py",
   "mimetype": "text/x-python",
   "name": "python",
   "nbconvert_exporter": "python",
   "pygments_lexer": "ipython3",
   "version": "3.7.4"
  }
 },
 "nbformat": 4,
 "nbformat_minor": 2
}
