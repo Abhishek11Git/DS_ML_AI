{
  "nbformat": 4,
  "nbformat_minor": 0,
  "metadata": {
    "colab": {
      "name": "HyperParameterOptimization.ipynb",
      "provenance": []
    },
    "kernelspec": {
      "display_name": "Python 3",
      "name": "python3"
    },
    "widgets": {
      "application/vnd.jupyter.widget-state+json": {
        "8f0c9b50fa0947a4b902f98e09f998aa": {
          "model_module": "@jupyter-widgets/controls",
          "model_name": "HBoxModel",
          "state": {
            "_view_name": "HBoxView",
            "_dom_classes": [],
            "_model_name": "HBoxModel",
            "_view_module": "@jupyter-widgets/controls",
            "_model_module_version": "1.5.0",
            "_view_count": null,
            "_view_module_version": "1.5.0",
            "box_style": "",
            "layout": "IPY_MODEL_0b872bafec1748c09d48bae439bc0162",
            "_model_module": "@jupyter-widgets/controls",
            "children": [
              "IPY_MODEL_875bacc808e24a82830426e27ff67242",
              "IPY_MODEL_1f77389771ed4b18afa9c2bbc2fb4a68"
            ]
          }
        },
        "0b872bafec1748c09d48bae439bc0162": {
          "model_module": "@jupyter-widgets/base",
          "model_name": "LayoutModel",
          "state": {
            "_view_name": "LayoutView",
            "grid_template_rows": null,
            "right": null,
            "justify_content": null,
            "_view_module": "@jupyter-widgets/base",
            "overflow": null,
            "_model_module_version": "1.2.0",
            "_view_count": null,
            "flex_flow": null,
            "width": null,
            "min_width": null,
            "border": null,
            "align_items": null,
            "bottom": null,
            "_model_module": "@jupyter-widgets/base",
            "top": null,
            "grid_column": null,
            "overflow_y": null,
            "overflow_x": null,
            "grid_auto_flow": null,
            "grid_area": null,
            "grid_template_columns": null,
            "flex": null,
            "_model_name": "LayoutModel",
            "justify_items": null,
            "grid_row": null,
            "max_height": null,
            "align_content": null,
            "visibility": null,
            "align_self": null,
            "height": null,
            "min_height": null,
            "padding": null,
            "grid_auto_rows": null,
            "grid_gap": null,
            "max_width": null,
            "order": null,
            "_view_module_version": "1.2.0",
            "grid_template_areas": null,
            "object_position": null,
            "object_fit": null,
            "grid_auto_columns": null,
            "margin": null,
            "display": null,
            "left": null
          }
        },
        "875bacc808e24a82830426e27ff67242": {
          "model_module": "@jupyter-widgets/controls",
          "model_name": "FloatProgressModel",
          "state": {
            "_view_name": "ProgressView",
            "style": "IPY_MODEL_1b1d27cc0dea436fbd1d6b6e1ee8be62",
            "_dom_classes": [],
            "description": "Optimization Progress: 100%",
            "_model_name": "FloatProgressModel",
            "bar_style": "",
            "max": 84,
            "_view_module": "@jupyter-widgets/controls",
            "_model_module_version": "1.5.0",
            "value": 84,
            "_view_count": null,
            "_view_module_version": "1.5.0",
            "orientation": "horizontal",
            "min": 0,
            "description_tooltip": null,
            "_model_module": "@jupyter-widgets/controls",
            "layout": "IPY_MODEL_5aef8cf8a2c24db6ade22e279cf3e59d"
          }
        },
        "1f77389771ed4b18afa9c2bbc2fb4a68": {
          "model_module": "@jupyter-widgets/controls",
          "model_name": "HTMLModel",
          "state": {
            "_view_name": "HTMLView",
            "style": "IPY_MODEL_ac99eee2b2714985a8534969ab15067c",
            "_dom_classes": [],
            "description": "",
            "_model_name": "HTMLModel",
            "placeholder": "​",
            "_view_module": "@jupyter-widgets/controls",
            "_model_module_version": "1.5.0",
            "value": " 84/84 [20:17&lt;00:00, 13.46s/pipeline]",
            "_view_count": null,
            "_view_module_version": "1.5.0",
            "description_tooltip": null,
            "_model_module": "@jupyter-widgets/controls",
            "layout": "IPY_MODEL_c2a8a9720da94a089041280e82620522"
          }
        },
        "1b1d27cc0dea436fbd1d6b6e1ee8be62": {
          "model_module": "@jupyter-widgets/controls",
          "model_name": "ProgressStyleModel",
          "state": {
            "_view_name": "StyleView",
            "_model_name": "ProgressStyleModel",
            "description_width": "initial",
            "_view_module": "@jupyter-widgets/base",
            "_model_module_version": "1.5.0",
            "_view_count": null,
            "_view_module_version": "1.2.0",
            "bar_color": null,
            "_model_module": "@jupyter-widgets/controls"
          }
        },
        "5aef8cf8a2c24db6ade22e279cf3e59d": {
          "model_module": "@jupyter-widgets/base",
          "model_name": "LayoutModel",
          "state": {
            "_view_name": "LayoutView",
            "grid_template_rows": null,
            "right": null,
            "justify_content": null,
            "_view_module": "@jupyter-widgets/base",
            "overflow": null,
            "_model_module_version": "1.2.0",
            "_view_count": null,
            "flex_flow": null,
            "width": null,
            "min_width": null,
            "border": null,
            "align_items": null,
            "bottom": null,
            "_model_module": "@jupyter-widgets/base",
            "top": null,
            "grid_column": null,
            "overflow_y": null,
            "overflow_x": null,
            "grid_auto_flow": null,
            "grid_area": null,
            "grid_template_columns": null,
            "flex": null,
            "_model_name": "LayoutModel",
            "justify_items": null,
            "grid_row": null,
            "max_height": null,
            "align_content": null,
            "visibility": null,
            "align_self": null,
            "height": null,
            "min_height": null,
            "padding": null,
            "grid_auto_rows": null,
            "grid_gap": null,
            "max_width": null,
            "order": null,
            "_view_module_version": "1.2.0",
            "grid_template_areas": null,
            "object_position": null,
            "object_fit": null,
            "grid_auto_columns": null,
            "margin": null,
            "display": null,
            "left": null
          }
        },
        "ac99eee2b2714985a8534969ab15067c": {
          "model_module": "@jupyter-widgets/controls",
          "model_name": "DescriptionStyleModel",
          "state": {
            "_view_name": "StyleView",
            "_model_name": "DescriptionStyleModel",
            "description_width": "",
            "_view_module": "@jupyter-widgets/base",
            "_model_module_version": "1.5.0",
            "_view_count": null,
            "_view_module_version": "1.2.0",
            "_model_module": "@jupyter-widgets/controls"
          }
        },
        "c2a8a9720da94a089041280e82620522": {
          "model_module": "@jupyter-widgets/base",
          "model_name": "LayoutModel",
          "state": {
            "_view_name": "LayoutView",
            "grid_template_rows": null,
            "right": null,
            "justify_content": null,
            "_view_module": "@jupyter-widgets/base",
            "overflow": null,
            "_model_module_version": "1.2.0",
            "_view_count": null,
            "flex_flow": null,
            "width": null,
            "min_width": null,
            "border": null,
            "align_items": null,
            "bottom": null,
            "_model_module": "@jupyter-widgets/base",
            "top": null,
            "grid_column": null,
            "overflow_y": null,
            "overflow_x": null,
            "grid_auto_flow": null,
            "grid_area": null,
            "grid_template_columns": null,
            "flex": null,
            "_model_name": "LayoutModel",
            "justify_items": null,
            "grid_row": null,
            "max_height": null,
            "align_content": null,
            "visibility": null,
            "align_self": null,
            "height": null,
            "min_height": null,
            "padding": null,
            "grid_auto_rows": null,
            "grid_gap": null,
            "max_width": null,
            "order": null,
            "_view_module_version": "1.2.0",
            "grid_template_areas": null,
            "object_position": null,
            "object_fit": null,
            "grid_auto_columns": null,
            "margin": null,
            "display": null,
            "left": null
          }
        }
      }
    }
  },
  "cells": [
    {
      "cell_type": "markdown",
      "metadata": {
        "id": "uvDJaIyyI1uz"
      },
      "source": [
        "## All Techniques Of Hyper Parameter Optimization\n",
        "\n",
        "\n",
        "1. GridSearchCV\n",
        "2. RandomizedSearchCV\n",
        "3. Bayesian Optimization -Automate Hyperparameter Tuning (Hyperopt)\n",
        "4. Sequential Model Based Optimization(Tuning a scikit-learn estimator with skopt)\n",
        "5. Optuna- Automate Hyperparameter Tuning\n",
        "6. Genetic Algorithms (TPOT Classifier)"
      ]
    },
    {
      "cell_type": "code",
      "metadata": {
        "id": "BPLifl0JCUUI"
      },
      "source": [
        "import warnings\n",
        "warnings.filterwarnings('ignore')"
      ],
      "execution_count": 9,
      "outputs": []
    },
    {
      "cell_type": "markdown",
      "metadata": {
        "id": "02OxVDNRfq77"
      },
      "source": [
        "import the dataset"
      ]
    },
    {
      "cell_type": "code",
      "metadata": {
        "id": "l4RpOIFxCW27",
        "outputId": "2624a767-4f94-46af-b9b2-648148596aeb",
        "colab": {
          "base_uri": "https://localhost:8080/",
          "height": 204
        }
      },
      "source": [
        "import pandas as pd\n",
        "df=pd.read_csv('diabetes.csv')\n",
        "df.head()"
      ],
      "execution_count": 10,
      "outputs": [
        {
          "output_type": "execute_result",
          "data": {
            "text/html": [
              "<div>\n",
              "<style scoped>\n",
              "    .dataframe tbody tr th:only-of-type {\n",
              "        vertical-align: middle;\n",
              "    }\n",
              "\n",
              "    .dataframe tbody tr th {\n",
              "        vertical-align: top;\n",
              "    }\n",
              "\n",
              "    .dataframe thead th {\n",
              "        text-align: right;\n",
              "    }\n",
              "</style>\n",
              "<table border=\"1\" class=\"dataframe\">\n",
              "  <thead>\n",
              "    <tr style=\"text-align: right;\">\n",
              "      <th></th>\n",
              "      <th>Pregnancies</th>\n",
              "      <th>Glucose</th>\n",
              "      <th>BloodPressure</th>\n",
              "      <th>SkinThickness</th>\n",
              "      <th>Insulin</th>\n",
              "      <th>BMI</th>\n",
              "      <th>DiabetesPedigreeFunction</th>\n",
              "      <th>Age</th>\n",
              "      <th>Outcome</th>\n",
              "    </tr>\n",
              "  </thead>\n",
              "  <tbody>\n",
              "    <tr>\n",
              "      <th>0</th>\n",
              "      <td>6</td>\n",
              "      <td>148</td>\n",
              "      <td>72</td>\n",
              "      <td>35</td>\n",
              "      <td>0</td>\n",
              "      <td>33.6</td>\n",
              "      <td>0.627</td>\n",
              "      <td>50</td>\n",
              "      <td>1</td>\n",
              "    </tr>\n",
              "    <tr>\n",
              "      <th>1</th>\n",
              "      <td>1</td>\n",
              "      <td>85</td>\n",
              "      <td>66</td>\n",
              "      <td>29</td>\n",
              "      <td>0</td>\n",
              "      <td>26.6</td>\n",
              "      <td>0.351</td>\n",
              "      <td>31</td>\n",
              "      <td>0</td>\n",
              "    </tr>\n",
              "    <tr>\n",
              "      <th>2</th>\n",
              "      <td>8</td>\n",
              "      <td>183</td>\n",
              "      <td>64</td>\n",
              "      <td>0</td>\n",
              "      <td>0</td>\n",
              "      <td>23.3</td>\n",
              "      <td>0.672</td>\n",
              "      <td>32</td>\n",
              "      <td>1</td>\n",
              "    </tr>\n",
              "    <tr>\n",
              "      <th>3</th>\n",
              "      <td>1</td>\n",
              "      <td>89</td>\n",
              "      <td>66</td>\n",
              "      <td>23</td>\n",
              "      <td>94</td>\n",
              "      <td>28.1</td>\n",
              "      <td>0.167</td>\n",
              "      <td>21</td>\n",
              "      <td>0</td>\n",
              "    </tr>\n",
              "    <tr>\n",
              "      <th>4</th>\n",
              "      <td>0</td>\n",
              "      <td>137</td>\n",
              "      <td>40</td>\n",
              "      <td>35</td>\n",
              "      <td>168</td>\n",
              "      <td>43.1</td>\n",
              "      <td>2.288</td>\n",
              "      <td>33</td>\n",
              "      <td>1</td>\n",
              "    </tr>\n",
              "  </tbody>\n",
              "</table>\n",
              "</div>"
            ],
            "text/plain": [
              "   Pregnancies  Glucose  BloodPressure  ...  DiabetesPedigreeFunction  Age  Outcome\n",
              "0            6      148             72  ...                     0.627   50        1\n",
              "1            1       85             66  ...                     0.351   31        0\n",
              "2            8      183             64  ...                     0.672   32        1\n",
              "3            1       89             66  ...                     0.167   21        0\n",
              "4            0      137             40  ...                     2.288   33        1\n",
              "\n",
              "[5 rows x 9 columns]"
            ]
          },
          "metadata": {
            "tags": []
          },
          "execution_count": 10
        }
      ]
    },
    {
      "cell_type": "markdown",
      "metadata": {
        "id": "SallSoIHJ049"
      },
      "source": [
        "Replace where ever we have 0 value for glucose"
      ]
    },
    {
      "cell_type": "code",
      "metadata": {
        "id": "hN6Lp9JTJWyX",
        "outputId": "9860095b-6c59-400f-bb98-554e5c033c82",
        "colab": {
          "base_uri": "https://localhost:8080/",
          "height": 204
        }
      },
      "source": [
        "import numpy as np\n",
        "df['Glucose']=np.where(df['Glucose']==0,df['Glucose'].median(),df['Glucose'])\n",
        "df['SkinThickness']=np.where(df['SkinThickness']==0,df['SkinThickness'].median(),df['SkinThickness'])\n",
        "df['Insulin']=np.where(df['Insulin']==0,df['Insulin'].median(),df['Insulin'])\n",
        "df.head()"
      ],
      "execution_count": 11,
      "outputs": [
        {
          "output_type": "execute_result",
          "data": {
            "text/html": [
              "<div>\n",
              "<style scoped>\n",
              "    .dataframe tbody tr th:only-of-type {\n",
              "        vertical-align: middle;\n",
              "    }\n",
              "\n",
              "    .dataframe tbody tr th {\n",
              "        vertical-align: top;\n",
              "    }\n",
              "\n",
              "    .dataframe thead th {\n",
              "        text-align: right;\n",
              "    }\n",
              "</style>\n",
              "<table border=\"1\" class=\"dataframe\">\n",
              "  <thead>\n",
              "    <tr style=\"text-align: right;\">\n",
              "      <th></th>\n",
              "      <th>Pregnancies</th>\n",
              "      <th>Glucose</th>\n",
              "      <th>BloodPressure</th>\n",
              "      <th>SkinThickness</th>\n",
              "      <th>Insulin</th>\n",
              "      <th>BMI</th>\n",
              "      <th>DiabetesPedigreeFunction</th>\n",
              "      <th>Age</th>\n",
              "      <th>Outcome</th>\n",
              "    </tr>\n",
              "  </thead>\n",
              "  <tbody>\n",
              "    <tr>\n",
              "      <th>0</th>\n",
              "      <td>6</td>\n",
              "      <td>148.0</td>\n",
              "      <td>72</td>\n",
              "      <td>35.0</td>\n",
              "      <td>30.5</td>\n",
              "      <td>33.6</td>\n",
              "      <td>0.627</td>\n",
              "      <td>50</td>\n",
              "      <td>1</td>\n",
              "    </tr>\n",
              "    <tr>\n",
              "      <th>1</th>\n",
              "      <td>1</td>\n",
              "      <td>85.0</td>\n",
              "      <td>66</td>\n",
              "      <td>29.0</td>\n",
              "      <td>30.5</td>\n",
              "      <td>26.6</td>\n",
              "      <td>0.351</td>\n",
              "      <td>31</td>\n",
              "      <td>0</td>\n",
              "    </tr>\n",
              "    <tr>\n",
              "      <th>2</th>\n",
              "      <td>8</td>\n",
              "      <td>183.0</td>\n",
              "      <td>64</td>\n",
              "      <td>23.0</td>\n",
              "      <td>30.5</td>\n",
              "      <td>23.3</td>\n",
              "      <td>0.672</td>\n",
              "      <td>32</td>\n",
              "      <td>1</td>\n",
              "    </tr>\n",
              "    <tr>\n",
              "      <th>3</th>\n",
              "      <td>1</td>\n",
              "      <td>89.0</td>\n",
              "      <td>66</td>\n",
              "      <td>23.0</td>\n",
              "      <td>94.0</td>\n",
              "      <td>28.1</td>\n",
              "      <td>0.167</td>\n",
              "      <td>21</td>\n",
              "      <td>0</td>\n",
              "    </tr>\n",
              "    <tr>\n",
              "      <th>4</th>\n",
              "      <td>0</td>\n",
              "      <td>137.0</td>\n",
              "      <td>40</td>\n",
              "      <td>35.0</td>\n",
              "      <td>168.0</td>\n",
              "      <td>43.1</td>\n",
              "      <td>2.288</td>\n",
              "      <td>33</td>\n",
              "      <td>1</td>\n",
              "    </tr>\n",
              "  </tbody>\n",
              "</table>\n",
              "</div>"
            ],
            "text/plain": [
              "   Pregnancies  Glucose  BloodPressure  ...  DiabetesPedigreeFunction  Age  Outcome\n",
              "0            6    148.0             72  ...                     0.627   50        1\n",
              "1            1     85.0             66  ...                     0.351   31        0\n",
              "2            8    183.0             64  ...                     0.672   32        1\n",
              "3            1     89.0             66  ...                     0.167   21        0\n",
              "4            0    137.0             40  ...                     2.288   33        1\n",
              "\n",
              "[5 rows x 9 columns]"
            ]
          },
          "metadata": {
            "tags": []
          },
          "execution_count": 11
        }
      ]
    },
    {
      "cell_type": "markdown",
      "metadata": {
        "id": "CWrieMvgLHGG"
      },
      "source": [
        "Independent and Dependent features"
      ]
    },
    {
      "cell_type": "code",
      "metadata": {
        "id": "-1_r7AMpIDNU"
      },
      "source": [
        "X = df.drop('Outcome' , axis=1)\n",
        "y= df['Outcome']"
      ],
      "execution_count": 12,
      "outputs": []
    },
    {
      "cell_type": "code",
      "metadata": {
        "id": "nZtn0ScHK62-",
        "outputId": "12d8600d-23cb-438c-c943-bd3e59a51369",
        "colab": {
          "base_uri": "https://localhost:8080/",
          "height": 419
        }
      },
      "source": [
        "pd.DataFrame(X , columns=df.columns[:-1])"
      ],
      "execution_count": 13,
      "outputs": [
        {
          "output_type": "execute_result",
          "data": {
            "text/html": [
              "<div>\n",
              "<style scoped>\n",
              "    .dataframe tbody tr th:only-of-type {\n",
              "        vertical-align: middle;\n",
              "    }\n",
              "\n",
              "    .dataframe tbody tr th {\n",
              "        vertical-align: top;\n",
              "    }\n",
              "\n",
              "    .dataframe thead th {\n",
              "        text-align: right;\n",
              "    }\n",
              "</style>\n",
              "<table border=\"1\" class=\"dataframe\">\n",
              "  <thead>\n",
              "    <tr style=\"text-align: right;\">\n",
              "      <th></th>\n",
              "      <th>Pregnancies</th>\n",
              "      <th>Glucose</th>\n",
              "      <th>BloodPressure</th>\n",
              "      <th>SkinThickness</th>\n",
              "      <th>Insulin</th>\n",
              "      <th>BMI</th>\n",
              "      <th>DiabetesPedigreeFunction</th>\n",
              "      <th>Age</th>\n",
              "    </tr>\n",
              "  </thead>\n",
              "  <tbody>\n",
              "    <tr>\n",
              "      <th>0</th>\n",
              "      <td>6</td>\n",
              "      <td>148.0</td>\n",
              "      <td>72</td>\n",
              "      <td>35.0</td>\n",
              "      <td>30.5</td>\n",
              "      <td>33.6</td>\n",
              "      <td>0.627</td>\n",
              "      <td>50</td>\n",
              "    </tr>\n",
              "    <tr>\n",
              "      <th>1</th>\n",
              "      <td>1</td>\n",
              "      <td>85.0</td>\n",
              "      <td>66</td>\n",
              "      <td>29.0</td>\n",
              "      <td>30.5</td>\n",
              "      <td>26.6</td>\n",
              "      <td>0.351</td>\n",
              "      <td>31</td>\n",
              "    </tr>\n",
              "    <tr>\n",
              "      <th>2</th>\n",
              "      <td>8</td>\n",
              "      <td>183.0</td>\n",
              "      <td>64</td>\n",
              "      <td>23.0</td>\n",
              "      <td>30.5</td>\n",
              "      <td>23.3</td>\n",
              "      <td>0.672</td>\n",
              "      <td>32</td>\n",
              "    </tr>\n",
              "    <tr>\n",
              "      <th>3</th>\n",
              "      <td>1</td>\n",
              "      <td>89.0</td>\n",
              "      <td>66</td>\n",
              "      <td>23.0</td>\n",
              "      <td>94.0</td>\n",
              "      <td>28.1</td>\n",
              "      <td>0.167</td>\n",
              "      <td>21</td>\n",
              "    </tr>\n",
              "    <tr>\n",
              "      <th>4</th>\n",
              "      <td>0</td>\n",
              "      <td>137.0</td>\n",
              "      <td>40</td>\n",
              "      <td>35.0</td>\n",
              "      <td>168.0</td>\n",
              "      <td>43.1</td>\n",
              "      <td>2.288</td>\n",
              "      <td>33</td>\n",
              "    </tr>\n",
              "    <tr>\n",
              "      <th>...</th>\n",
              "      <td>...</td>\n",
              "      <td>...</td>\n",
              "      <td>...</td>\n",
              "      <td>...</td>\n",
              "      <td>...</td>\n",
              "      <td>...</td>\n",
              "      <td>...</td>\n",
              "      <td>...</td>\n",
              "    </tr>\n",
              "    <tr>\n",
              "      <th>763</th>\n",
              "      <td>10</td>\n",
              "      <td>101.0</td>\n",
              "      <td>76</td>\n",
              "      <td>48.0</td>\n",
              "      <td>180.0</td>\n",
              "      <td>32.9</td>\n",
              "      <td>0.171</td>\n",
              "      <td>63</td>\n",
              "    </tr>\n",
              "    <tr>\n",
              "      <th>764</th>\n",
              "      <td>2</td>\n",
              "      <td>122.0</td>\n",
              "      <td>70</td>\n",
              "      <td>27.0</td>\n",
              "      <td>30.5</td>\n",
              "      <td>36.8</td>\n",
              "      <td>0.340</td>\n",
              "      <td>27</td>\n",
              "    </tr>\n",
              "    <tr>\n",
              "      <th>765</th>\n",
              "      <td>5</td>\n",
              "      <td>121.0</td>\n",
              "      <td>72</td>\n",
              "      <td>23.0</td>\n",
              "      <td>112.0</td>\n",
              "      <td>26.2</td>\n",
              "      <td>0.245</td>\n",
              "      <td>30</td>\n",
              "    </tr>\n",
              "    <tr>\n",
              "      <th>766</th>\n",
              "      <td>1</td>\n",
              "      <td>126.0</td>\n",
              "      <td>60</td>\n",
              "      <td>23.0</td>\n",
              "      <td>30.5</td>\n",
              "      <td>30.1</td>\n",
              "      <td>0.349</td>\n",
              "      <td>47</td>\n",
              "    </tr>\n",
              "    <tr>\n",
              "      <th>767</th>\n",
              "      <td>1</td>\n",
              "      <td>93.0</td>\n",
              "      <td>70</td>\n",
              "      <td>31.0</td>\n",
              "      <td>30.5</td>\n",
              "      <td>30.4</td>\n",
              "      <td>0.315</td>\n",
              "      <td>23</td>\n",
              "    </tr>\n",
              "  </tbody>\n",
              "</table>\n",
              "<p>768 rows × 8 columns</p>\n",
              "</div>"
            ],
            "text/plain": [
              "     Pregnancies  Glucose  BloodPressure  ...   BMI  DiabetesPedigreeFunction  Age\n",
              "0              6    148.0             72  ...  33.6                     0.627   50\n",
              "1              1     85.0             66  ...  26.6                     0.351   31\n",
              "2              8    183.0             64  ...  23.3                     0.672   32\n",
              "3              1     89.0             66  ...  28.1                     0.167   21\n",
              "4              0    137.0             40  ...  43.1                     2.288   33\n",
              "..           ...      ...            ...  ...   ...                       ...  ...\n",
              "763           10    101.0             76  ...  32.9                     0.171   63\n",
              "764            2    122.0             70  ...  36.8                     0.340   27\n",
              "765            5    121.0             72  ...  26.2                     0.245   30\n",
              "766            1    126.0             60  ...  30.1                     0.349   47\n",
              "767            1     93.0             70  ...  30.4                     0.315   23\n",
              "\n",
              "[768 rows x 8 columns]"
            ]
          },
          "metadata": {
            "tags": []
          },
          "execution_count": 13
        }
      ]
    },
    {
      "cell_type": "code",
      "metadata": {
        "id": "csiRI-TKf2P_",
        "outputId": "47d5ae63-55fc-4dae-b96b-1d4f6361825a",
        "colab": {
          "base_uri": "https://localhost:8080/"
        }
      },
      "source": [
        "print(X.head())\n",
        "print(y.head())"
      ],
      "execution_count": 14,
      "outputs": [
        {
          "output_type": "stream",
          "text": [
            "   Pregnancies  Glucose  BloodPressure  ...   BMI  DiabetesPedigreeFunction  Age\n",
            "0            6    148.0             72  ...  33.6                     0.627   50\n",
            "1            1     85.0             66  ...  26.6                     0.351   31\n",
            "2            8    183.0             64  ...  23.3                     0.672   32\n",
            "3            1     89.0             66  ...  28.1                     0.167   21\n",
            "4            0    137.0             40  ...  43.1                     2.288   33\n",
            "\n",
            "[5 rows x 8 columns]\n",
            "0    1\n",
            "1    0\n",
            "2    1\n",
            "3    0\n",
            "4    1\n",
            "Name: Outcome, dtype: int64\n"
          ],
          "name": "stdout"
        }
      ]
    },
    {
      "cell_type": "markdown",
      "metadata": {
        "id": "66wThYuU9Qm0"
      },
      "source": [
        "Train -Test Split"
      ]
    },
    {
      "cell_type": "code",
      "metadata": {
        "id": "7SCx3s02l3xw"
      },
      "source": [
        "from sklearn.model_selection import train_test_split\n",
        "\n",
        "X_train,X_test,y_train,y_test = train_test_split(X , y , test_size=0.20 , random_state=33)"
      ],
      "execution_count": 15,
      "outputs": []
    },
    {
      "cell_type": "markdown",
      "metadata": {
        "id": "NCGH5x499jSz"
      },
      "source": [
        "Using RandomForest as it has many hyperparameters to tune"
      ]
    },
    {
      "cell_type": "code",
      "metadata": {
        "id": "mxZrCpek9cxe"
      },
      "source": [
        "from sklearn.ensemble import RandomForestClassifier\n",
        "rf_classifier=RandomForestClassifier(n_estimators=10).fit(X_train,y_train)\n",
        "prediction=rf_classifier.predict(X_test)"
      ],
      "execution_count": 16,
      "outputs": []
    },
    {
      "cell_type": "code",
      "metadata": {
        "id": "JhMPFdUd9oY8",
        "outputId": "a55edd75-0499-4ebd-c1a9-883949952291",
        "colab": {
          "base_uri": "https://localhost:8080/"
        }
      },
      "source": [
        "y.value_counts()"
      ],
      "execution_count": 17,
      "outputs": [
        {
          "output_type": "execute_result",
          "data": {
            "text/plain": [
              "0    500\n",
              "1    268\n",
              "Name: Outcome, dtype: int64"
            ]
          },
          "metadata": {
            "tags": []
          },
          "execution_count": 17
        }
      ]
    },
    {
      "cell_type": "markdown",
      "metadata": {
        "id": "w0KDIVqB9xzF"
      },
      "source": [
        "check model performance on test set"
      ]
    },
    {
      "cell_type": "code",
      "metadata": {
        "id": "zWe9w_Gy9r2y",
        "outputId": "23625427-60ab-4581-f1b9-d75b76436222",
        "colab": {
          "base_uri": "https://localhost:8080/"
        }
      },
      "source": [
        "from sklearn.metrics import confusion_matrix , classification_report , accuracy_score\n",
        "print(confusion_matrix(y_test , prediction))\n",
        "print(classification_report(y_test , prediction))\n",
        "print(accuracy_score(y_test , prediction))"
      ],
      "execution_count": 18,
      "outputs": [
        {
          "output_type": "stream",
          "text": [
            "[[87 12]\n",
            " [30 25]]\n",
            "              precision    recall  f1-score   support\n",
            "\n",
            "           0       0.74      0.88      0.81        99\n",
            "           1       0.68      0.45      0.54        55\n",
            "\n",
            "    accuracy                           0.73       154\n",
            "   macro avg       0.71      0.67      0.67       154\n",
            "weighted avg       0.72      0.73      0.71       154\n",
            "\n",
            "0.7272727272727273\n"
          ],
          "name": "stdout"
        }
      ]
    },
    {
      "cell_type": "markdown",
      "metadata": {
        "id": "G3BQ2Kij9963"
      },
      "source": [
        "**The main parameters used by a Random Forest Classifier are:**\n",
        "\n",
        "- criterion = the function used to evaluate the quality of a split.\n",
        "- max_depth = maximum number of levels allowed in each tree.\n",
        "- max_features = maximum number of features considered when splitting a node.\n",
        "- min_samples_leaf = minimum number of samples which can be stored in a tree leaf.\n",
        "- min_samples_split = minimum number of samples necessary in a node to cause node splitting.\n",
        "- n_estimators = number of trees in the ensamble."
      ]
    },
    {
      "cell_type": "markdown",
      "metadata": {
        "id": "Cmrhq0At-D8t"
      },
      "source": [
        "## Mannual HyperParameter Tunning"
      ]
    },
    {
      "cell_type": "code",
      "metadata": {
        "id": "hoP2WDpI94JQ",
        "outputId": "6e14c5be-2432-4be2-ca98-e38951f19a19",
        "colab": {
          "base_uri": "https://localhost:8080/"
        }
      },
      "source": [
        "model=RandomForestClassifier(n_estimators=300,criterion='entropy',\n",
        "                             max_features='sqrt',min_samples_leaf=10,random_state=100).fit(X_train,y_train)\n",
        "predictions=model.predict(X_test)\n",
        "print(confusion_matrix(y_test,predictions))\n",
        "print(accuracy_score(y_test,predictions))\n",
        "print(classification_report(y_test,predictions))"
      ],
      "execution_count": 19,
      "outputs": [
        {
          "output_type": "stream",
          "text": [
            "[[87 12]\n",
            " [28 27]]\n",
            "0.7402597402597403\n",
            "              precision    recall  f1-score   support\n",
            "\n",
            "           0       0.76      0.88      0.81        99\n",
            "           1       0.69      0.49      0.57        55\n",
            "\n",
            "    accuracy                           0.74       154\n",
            "   macro avg       0.72      0.68      0.69       154\n",
            "weighted avg       0.73      0.74      0.73       154\n",
            "\n"
          ],
          "name": "stdout"
        }
      ]
    },
    {
      "cell_type": "markdown",
      "metadata": {
        "id": "4qNr7b-b-PSZ"
      },
      "source": [
        "## Randomized Search CV\n",
        "- Narrow down our result"
      ]
    },
    {
      "cell_type": "code",
      "metadata": {
        "id": "PGfEQJ33-KhA"
      },
      "source": [
        "import numpy as np\n",
        "from sklearn.model_selection import RandomizedSearchCV"
      ],
      "execution_count": 20,
      "outputs": []
    },
    {
      "cell_type": "markdown",
      "metadata": {
        "id": "eGncHJ0P_uMG"
      },
      "source": [
        "HyperParameters to be optimized:\n",
        "- Number of trees in random forest\n",
        "- Number of features to consider at every split\n",
        "- Maximum number of levels in tree\n",
        "- Minimum number of samples required to split a node\n",
        "- Minimum number of samples required at each leaf node\n"
      ]
    },
    {
      "cell_type": "code",
      "metadata": {
        "id": "UUsWbQHY-Vk7"
      },
      "source": [
        "n_estimators = [int(x) for x in np.linspace(start = 200, stop = 2000, num = 10)]\n",
        "max_features = ['auto', 'sqrt','log2']"
      ],
      "execution_count": 21,
      "outputs": []
    },
    {
      "cell_type": "code",
      "metadata": {
        "id": "5reXMZ8e-1-9"
      },
      "source": [
        "import numpy as np\n",
        "from sklearn.model_selection import RandomizedSearchCV\n",
        " \n",
        "n_estimators = [int(x) for x in np.linspace(start = 200, stop = 2000, num = 10)]\n",
        "max_features = ['auto', 'sqrt','log2']\n",
        "max_depth = [int(x) for x in np.linspace(10, 1000,10)]\n",
        "min_samples_split = [1 , 3 ,4 ,5 ,7 ,9]\n",
        "min_samples_leaf = [1, 2, 4,6,8]\n"
      ],
      "execution_count": 22,
      "outputs": []
    },
    {
      "cell_type": "markdown",
      "metadata": {
        "id": "cskkxuBrAcQ-"
      },
      "source": [
        "Create the random grid"
      ]
    },
    {
      "cell_type": "code",
      "metadata": {
        "id": "wIGaIM6nAeev",
        "outputId": "40b52b24-e15b-4fa5-f4bc-7a539a5a4c1d",
        "colab": {
          "base_uri": "https://localhost:8080/"
        }
      },
      "source": [
        "random_grid = {'n_estimators': n_estimators,\n",
        "               'max_features': max_features,\n",
        "               'max_depth': max_depth,\n",
        "               'min_samples_split': min_samples_split,\n",
        "               'min_samples_leaf': min_samples_leaf,\n",
        "              'criterion':['entropy','gini']}\n",
        "print(random_grid)"
      ],
      "execution_count": 23,
      "outputs": [
        {
          "output_type": "stream",
          "text": [
            "{'n_estimators': [200, 400, 600, 800, 1000, 1200, 1400, 1600, 1800, 2000], 'max_features': ['auto', 'sqrt', 'log2'], 'max_depth': [10, 120, 230, 340, 450, 560, 670, 780, 890, 1000], 'min_samples_split': [1, 3, 4, 5, 7, 9], 'min_samples_leaf': [1, 2, 4, 6, 8], 'criterion': ['entropy', 'gini']}\n"
          ],
          "name": "stdout"
        }
      ]
    },
    {
      "cell_type": "code",
      "metadata": {
        "id": "n5hPYGGoAkpg"
      },
      "source": [
        "rf=RandomForestClassifier()\n",
        "rf_randomcv=RandomizedSearchCV(estimator=rf,param_distributions=random_grid,n_iter=100,cv=3,verbose=2,\n",
        "                               random_state=100,n_jobs=-1)"
      ],
      "execution_count": 24,
      "outputs": []
    },
    {
      "cell_type": "markdown",
      "metadata": {
        "id": "zEW_mXBjAx2-"
      },
      "source": [
        "fit the randomized model"
      ]
    },
    {
      "cell_type": "code",
      "metadata": {
        "id": "AIl4mxwnAw3M",
        "outputId": "75785430-2bde-4838-8d41-22d0ba6edc82",
        "colab": {
          "base_uri": "https://localhost:8080/"
        }
      },
      "source": [
        "rf_randomcv.fit(X_train,y_train)"
      ],
      "execution_count": 25,
      "outputs": [
        {
          "output_type": "stream",
          "text": [
            "Fitting 3 folds for each of 100 candidates, totalling 300 fits\n"
          ],
          "name": "stdout"
        },
        {
          "output_type": "stream",
          "text": [
            "[Parallel(n_jobs=-1)]: Using backend LokyBackend with 2 concurrent workers.\n",
            "[Parallel(n_jobs=-1)]: Done  37 tasks      | elapsed:   53.2s\n",
            "[Parallel(n_jobs=-1)]: Done 158 tasks      | elapsed:  3.4min\n",
            "[Parallel(n_jobs=-1)]: Done 300 out of 300 | elapsed:  7.2min finished\n"
          ],
          "name": "stderr"
        },
        {
          "output_type": "execute_result",
          "data": {
            "text/plain": [
              "RandomizedSearchCV(cv=3, error_score=nan,\n",
              "                   estimator=RandomForestClassifier(bootstrap=True,\n",
              "                                                    ccp_alpha=0.0,\n",
              "                                                    class_weight=None,\n",
              "                                                    criterion='gini',\n",
              "                                                    max_depth=None,\n",
              "                                                    max_features='auto',\n",
              "                                                    max_leaf_nodes=None,\n",
              "                                                    max_samples=None,\n",
              "                                                    min_impurity_decrease=0.0,\n",
              "                                                    min_impurity_split=None,\n",
              "                                                    min_samples_leaf=1,\n",
              "                                                    min_samples_split=2,\n",
              "                                                    min_weight_fraction_leaf=0.0,\n",
              "                                                    n_estimators=100,\n",
              "                                                    n_jobs...\n",
              "                   param_distributions={'criterion': ['entropy', 'gini'],\n",
              "                                        'max_depth': [10, 120, 230, 340, 450,\n",
              "                                                      560, 670, 780, 890,\n",
              "                                                      1000],\n",
              "                                        'max_features': ['auto', 'sqrt',\n",
              "                                                         'log2'],\n",
              "                                        'min_samples_leaf': [1, 2, 4, 6, 8],\n",
              "                                        'min_samples_split': [1, 3, 4, 5, 7, 9],\n",
              "                                        'n_estimators': [200, 400, 600, 800,\n",
              "                                                         1000, 1200, 1400, 1600,\n",
              "                                                         1800, 2000]},\n",
              "                   pre_dispatch='2*n_jobs', random_state=100, refit=True,\n",
              "                   return_train_score=False, scoring=None, verbose=2)"
            ]
          },
          "metadata": {
            "tags": []
          },
          "execution_count": 25
        }
      ]
    },
    {
      "cell_type": "code",
      "metadata": {
        "id": "a3PZMolRA3d8",
        "outputId": "70e05372-3740-4053-a20a-aab93d9ce8ef",
        "colab": {
          "base_uri": "https://localhost:8080/"
        }
      },
      "source": [
        "rf_randomcv.best_params_"
      ],
      "execution_count": 26,
      "outputs": [
        {
          "output_type": "execute_result",
          "data": {
            "text/plain": [
              "{'criterion': 'gini',\n",
              " 'max_depth': 670,\n",
              " 'max_features': 'log2',\n",
              " 'min_samples_leaf': 8,\n",
              " 'min_samples_split': 7,\n",
              " 'n_estimators': 200}"
            ]
          },
          "metadata": {
            "tags": []
          },
          "execution_count": 26
        }
      ]
    },
    {
      "cell_type": "code",
      "metadata": {
        "id": "7ehMiXbyBKm5",
        "outputId": "0a27141a-19a6-4540-fe40-23a20d498a9b",
        "colab": {
          "base_uri": "https://localhost:8080/"
        }
      },
      "source": [
        "rf_randomcv"
      ],
      "execution_count": 27,
      "outputs": [
        {
          "output_type": "execute_result",
          "data": {
            "text/plain": [
              "RandomizedSearchCV(cv=3, error_score=nan,\n",
              "                   estimator=RandomForestClassifier(bootstrap=True,\n",
              "                                                    ccp_alpha=0.0,\n",
              "                                                    class_weight=None,\n",
              "                                                    criterion='gini',\n",
              "                                                    max_depth=None,\n",
              "                                                    max_features='auto',\n",
              "                                                    max_leaf_nodes=None,\n",
              "                                                    max_samples=None,\n",
              "                                                    min_impurity_decrease=0.0,\n",
              "                                                    min_impurity_split=None,\n",
              "                                                    min_samples_leaf=1,\n",
              "                                                    min_samples_split=2,\n",
              "                                                    min_weight_fraction_leaf=0.0,\n",
              "                                                    n_estimators=100,\n",
              "                                                    n_jobs...\n",
              "                   param_distributions={'criterion': ['entropy', 'gini'],\n",
              "                                        'max_depth': [10, 120, 230, 340, 450,\n",
              "                                                      560, 670, 780, 890,\n",
              "                                                      1000],\n",
              "                                        'max_features': ['auto', 'sqrt',\n",
              "                                                         'log2'],\n",
              "                                        'min_samples_leaf': [1, 2, 4, 6, 8],\n",
              "                                        'min_samples_split': [1, 3, 4, 5, 7, 9],\n",
              "                                        'n_estimators': [200, 400, 600, 800,\n",
              "                                                         1000, 1200, 1400, 1600,\n",
              "                                                         1800, 2000]},\n",
              "                   pre_dispatch='2*n_jobs', random_state=100, refit=True,\n",
              "                   return_train_score=False, scoring=None, verbose=2)"
            ]
          },
          "metadata": {
            "tags": []
          },
          "execution_count": 27
        }
      ]
    },
    {
      "cell_type": "code",
      "metadata": {
        "id": "eo9qIuc7BNwY"
      },
      "source": [
        "best_random_grid=rf_randomcv.best_estimator_"
      ],
      "execution_count": 28,
      "outputs": []
    },
    {
      "cell_type": "markdown",
      "metadata": {
        "id": "lF36lCAqBUDC"
      },
      "source": [
        "Check model performance after hyperparamters Tunning"
      ]
    },
    {
      "cell_type": "code",
      "metadata": {
        "id": "_ZsK-1UTBQgE",
        "outputId": "13a870de-2959-401a-bdf5-53c71599ffc2",
        "colab": {
          "base_uri": "https://localhost:8080/"
        }
      },
      "source": [
        "from sklearn.metrics import accuracy_score\n",
        "y_pred=best_random_grid.predict(X_test)\n",
        "print(confusion_matrix(y_test,y_pred))\n",
        "print(\"Accuracy Score {}\".format(accuracy_score(y_test,y_pred)))\n",
        "print(\"Classification report: {}\".format(classification_report(y_test,y_pred)))"
      ],
      "execution_count": 29,
      "outputs": [
        {
          "output_type": "stream",
          "text": [
            "[[86 13]\n",
            " [26 29]]\n",
            "Accuracy Score 0.7467532467532467\n",
            "Classification report:               precision    recall  f1-score   support\n",
            "\n",
            "           0       0.77      0.87      0.82        99\n",
            "           1       0.69      0.53      0.60        55\n",
            "\n",
            "    accuracy                           0.75       154\n",
            "   macro avg       0.73      0.70      0.71       154\n",
            "weighted avg       0.74      0.75      0.74       154\n",
            "\n"
          ],
          "name": "stdout"
        }
      ]
    },
    {
      "cell_type": "markdown",
      "metadata": {
        "id": "57uu9ctNBb3y"
      },
      "source": [
        "##GridSearch CV\n",
        "- Using narrowed down result from previous HP tunning"
      ]
    },
    {
      "cell_type": "code",
      "metadata": {
        "id": "SPN7RyS7BeW3",
        "outputId": "780b0056-4a5c-435d-903f-aaa41d0e238f",
        "colab": {
          "base_uri": "https://localhost:8080/"
        }
      },
      "source": [
        "from sklearn.model_selection import GridSearchCV\n",
        "\n",
        "param_grid = {\n",
        "    'criterion': [rf_randomcv.best_params_['criterion']],\n",
        "    'max_depth': [rf_randomcv.best_params_['max_depth']],\n",
        "    'max_features': [rf_randomcv.best_params_['max_features']],\n",
        "    'min_samples_leaf': [rf_randomcv.best_params_['min_samples_leaf'], \n",
        "                         rf_randomcv.best_params_['min_samples_leaf']+2, \n",
        "                         rf_randomcv.best_params_['min_samples_leaf'] + 4],\n",
        "    'min_samples_split': [rf_randomcv.best_params_['min_samples_split'] - 2,\n",
        "                          rf_randomcv.best_params_['min_samples_split'] - 1,\n",
        "                          rf_randomcv.best_params_['min_samples_split'], \n",
        "                          rf_randomcv.best_params_['min_samples_split'] +1,\n",
        "                          rf_randomcv.best_params_['min_samples_split'] + 2],\n",
        "    'n_estimators': [rf_randomcv.best_params_['n_estimators'] - 200, rf_randomcv.best_params_['n_estimators'] - 100, \n",
        "                     rf_randomcv.best_params_['n_estimators'], \n",
        "                     rf_randomcv.best_params_['n_estimators'] + 100, rf_randomcv.best_params_['n_estimators'] + 200]\n",
        "}\n",
        "\n",
        "print(param_grid)"
      ],
      "execution_count": 30,
      "outputs": [
        {
          "output_type": "stream",
          "text": [
            "{'criterion': ['gini'], 'max_depth': [670], 'max_features': ['log2'], 'min_samples_leaf': [8, 10, 12], 'min_samples_split': [5, 6, 7, 8, 9], 'n_estimators': [0, 100, 200, 300, 400]}\n"
          ],
          "name": "stdout"
        }
      ]
    },
    {
      "cell_type": "markdown",
      "metadata": {
        "id": "7nMuf-WBBtpy"
      },
      "source": [
        "Fit the grid_search to the data"
      ]
    },
    {
      "cell_type": "code",
      "metadata": {
        "id": "c-KXAJz0BqIt",
        "outputId": "de4f0728-a4d2-4832-b2e8-85790f34ad12",
        "colab": {
          "base_uri": "https://localhost:8080/"
        }
      },
      "source": [
        "rf=RandomForestClassifier()\n",
        "grid_search=GridSearchCV(estimator=rf,param_grid=param_grid,cv=10,n_jobs=-1,verbose=2)\n",
        "grid_search.fit(X_train,y_train)"
      ],
      "execution_count": 31,
      "outputs": [
        {
          "output_type": "stream",
          "text": [
            "Fitting 10 folds for each of 75 candidates, totalling 750 fits\n"
          ],
          "name": "stdout"
        },
        {
          "output_type": "stream",
          "text": [
            "[Parallel(n_jobs=-1)]: Using backend LokyBackend with 2 concurrent workers.\n",
            "[Parallel(n_jobs=-1)]: Done  65 tasks      | elapsed:   15.7s\n",
            "[Parallel(n_jobs=-1)]: Done 186 tasks      | elapsed:   52.3s\n",
            "[Parallel(n_jobs=-1)]: Done 389 tasks      | elapsed:  1.9min\n",
            "[Parallel(n_jobs=-1)]: Done 672 tasks      | elapsed:  3.2min\n",
            "[Parallel(n_jobs=-1)]: Done 750 out of 750 | elapsed:  3.7min finished\n"
          ],
          "name": "stderr"
        },
        {
          "output_type": "execute_result",
          "data": {
            "text/plain": [
              "GridSearchCV(cv=10, error_score=nan,\n",
              "             estimator=RandomForestClassifier(bootstrap=True, ccp_alpha=0.0,\n",
              "                                              class_weight=None,\n",
              "                                              criterion='gini', max_depth=None,\n",
              "                                              max_features='auto',\n",
              "                                              max_leaf_nodes=None,\n",
              "                                              max_samples=None,\n",
              "                                              min_impurity_decrease=0.0,\n",
              "                                              min_impurity_split=None,\n",
              "                                              min_samples_leaf=1,\n",
              "                                              min_samples_split=2,\n",
              "                                              min_weight_fraction_leaf=0.0,\n",
              "                                              n_estimators=100, n_jobs=None,\n",
              "                                              oob_score=False,\n",
              "                                              random_state=None, verbose=0,\n",
              "                                              warm_start=False),\n",
              "             iid='deprecated', n_jobs=-1,\n",
              "             param_grid={'criterion': ['gini'], 'max_depth': [670],\n",
              "                         'max_features': ['log2'],\n",
              "                         'min_samples_leaf': [8, 10, 12],\n",
              "                         'min_samples_split': [5, 6, 7, 8, 9],\n",
              "                         'n_estimators': [0, 100, 200, 300, 400]},\n",
              "             pre_dispatch='2*n_jobs', refit=True, return_train_score=False,\n",
              "             scoring=None, verbose=2)"
            ]
          },
          "metadata": {
            "tags": []
          },
          "execution_count": 31
        }
      ]
    },
    {
      "cell_type": "code",
      "metadata": {
        "id": "3ceBORJ1Bqms",
        "outputId": "df979318-267a-435a-9a89-27726a4fd7a6",
        "colab": {
          "base_uri": "https://localhost:8080/"
        }
      },
      "source": [
        "grid_search.best_estimator_"
      ],
      "execution_count": 32,
      "outputs": [
        {
          "output_type": "execute_result",
          "data": {
            "text/plain": [
              "RandomForestClassifier(bootstrap=True, ccp_alpha=0.0, class_weight=None,\n",
              "                       criterion='gini', max_depth=670, max_features='log2',\n",
              "                       max_leaf_nodes=None, max_samples=None,\n",
              "                       min_impurity_decrease=0.0, min_impurity_split=None,\n",
              "                       min_samples_leaf=8, min_samples_split=6,\n",
              "                       min_weight_fraction_leaf=0.0, n_estimators=400,\n",
              "                       n_jobs=None, oob_score=False, random_state=None,\n",
              "                       verbose=0, warm_start=False)"
            ]
          },
          "metadata": {
            "tags": []
          },
          "execution_count": 32
        }
      ]
    },
    {
      "cell_type": "code",
      "metadata": {
        "id": "YIMotuicB0iI"
      },
      "source": [
        "best_grid=grid_search.best_estimator_"
      ],
      "execution_count": 33,
      "outputs": []
    },
    {
      "cell_type": "code",
      "metadata": {
        "id": "tRCRTAe2B26X",
        "outputId": "ade3e3d5-d363-4644-e2bf-a94b77b375dd",
        "colab": {
          "base_uri": "https://localhost:8080/"
        }
      },
      "source": [
        "best_grid"
      ],
      "execution_count": 34,
      "outputs": [
        {
          "output_type": "execute_result",
          "data": {
            "text/plain": [
              "RandomForestClassifier(bootstrap=True, ccp_alpha=0.0, class_weight=None,\n",
              "                       criterion='gini', max_depth=670, max_features='log2',\n",
              "                       max_leaf_nodes=None, max_samples=None,\n",
              "                       min_impurity_decrease=0.0, min_impurity_split=None,\n",
              "                       min_samples_leaf=8, min_samples_split=6,\n",
              "                       min_weight_fraction_leaf=0.0, n_estimators=400,\n",
              "                       n_jobs=None, oob_score=False, random_state=None,\n",
              "                       verbose=0, warm_start=False)"
            ]
          },
          "metadata": {
            "tags": []
          },
          "execution_count": 34
        }
      ]
    },
    {
      "cell_type": "code",
      "metadata": {
        "id": "CoBGYc6iB9xc",
        "outputId": "58dba173-7f50-4136-fb20-a6d5ae2732f8",
        "colab": {
          "base_uri": "https://localhost:8080/"
        }
      },
      "source": [
        "y_pred=best_grid.predict(X_test)\n",
        "print(confusion_matrix(y_test,y_pred))\n",
        "print(\"Accuracy Score {}\".format(accuracy_score(y_test,y_pred)))\n",
        "print(\"Classification report: {}\".format(classification_report(y_test,y_pred)))"
      ],
      "execution_count": 35,
      "outputs": [
        {
          "output_type": "stream",
          "text": [
            "[[86 13]\n",
            " [25 30]]\n",
            "Accuracy Score 0.7532467532467533\n",
            "Classification report:               precision    recall  f1-score   support\n",
            "\n",
            "           0       0.77      0.87      0.82        99\n",
            "           1       0.70      0.55      0.61        55\n",
            "\n",
            "    accuracy                           0.75       154\n",
            "   macro avg       0.74      0.71      0.72       154\n",
            "weighted avg       0.75      0.75      0.75       154\n",
            "\n"
          ],
          "name": "stdout"
        }
      ]
    },
    {
      "cell_type": "markdown",
      "metadata": {
        "id": "TU_yJPigLwqV"
      },
      "source": [
        ""
      ]
    },
    {
      "cell_type": "markdown",
      "metadata": {
        "id": "2gGn76OOClun"
      },
      "source": [
        "## Automated Hyperparameter Tuning\n",
        "\n",
        "**Automated Hyperparameter Tuning can be done by using techniques such as**\n",
        "\n",
        "- Bayesian Optimization\n",
        "- Gradient Descent\n",
        "- Evolutionary Algorithms\n",
        "\n",
        "\n",
        "**Bayesian Optimization**\n",
        "\n",
        "Bayesian optimization uses probability to find the minimum of a function. The final aim is to find the input value to a function which can gives us the lowest possible output value.It usually performs better than random,grid and manual search providing better performance in the testing phase and reduced optimization time. In Hyperopt, Bayesian Optimization can be implemented giving 3 three main parameters to the function fmin.\n",
        "\n",
        "1. Objective Function = defines the loss function to minimize.\n",
        "\n",
        "2. Domain Space = defines the range of input values to test (in Bayesian Optimization this space creates a probability distribution for each of the used Hyperparameters).\n",
        "\n",
        "3. Optimization Algorithm = defines the search algorithm to use to select the best input values to use in each new iteration."
      ]
    },
    {
      "cell_type": "code",
      "metadata": {
        "id": "tuPUd5hbB-2O"
      },
      "source": [
        "from hyperopt import hp,fmin,tpe,STATUS_OK,Trials"
      ],
      "execution_count": 36,
      "outputs": []
    },
    {
      "cell_type": "code",
      "metadata": {
        "id": "EPGdjU3ZJpZV"
      },
      "source": [
        "space = {'criterion': hp.choice('criterion', ['entropy', 'gini']),\n",
        "        'max_depth': hp.quniform('max_depth', 10, 1200, 10),\n",
        "        'max_features': hp.choice('max_features', ['auto', 'sqrt','log2', None]),\n",
        "        'min_samples_leaf': hp.uniform('min_samples_leaf', 0, 0.5),\n",
        "        'min_samples_split' : hp.uniform ('min_samples_split', 0, 1),\n",
        "        'n_estimators' : hp.choice('n_estimators', [10, 50, 300, 750, 1200,1300,1500])\n",
        "    }"
      ],
      "execution_count": 37,
      "outputs": []
    },
    {
      "cell_type": "code",
      "metadata": {
        "id": "rmcVLBU3Jpvf",
        "outputId": "483a2cea-8afc-41da-a301-61751196e02a",
        "colab": {
          "base_uri": "https://localhost:8080/"
        }
      },
      "source": [
        "\n",
        "space"
      ],
      "execution_count": 38,
      "outputs": [
        {
          "output_type": "execute_result",
          "data": {
            "text/plain": [
              "{'criterion': <hyperopt.pyll.base.Apply at 0x7f58ff933198>,\n",
              " 'max_depth': <hyperopt.pyll.base.Apply at 0x7f58ff933390>,\n",
              " 'max_features': <hyperopt.pyll.base.Apply at 0x7f58ff9334a8>,\n",
              " 'min_samples_leaf': <hyperopt.pyll.base.Apply at 0x7f58ff9336d8>,\n",
              " 'min_samples_split': <hyperopt.pyll.base.Apply at 0x7f58ff933828>,\n",
              " 'n_estimators': <hyperopt.pyll.base.Apply at 0x7f58ff933978>}"
            ]
          },
          "metadata": {
            "tags": []
          },
          "execution_count": 38
        }
      ]
    },
    {
      "cell_type": "code",
      "metadata": {
        "id": "UXQfuhgKJpC-"
      },
      "source": [
        "def objective(space):\n",
        "    model = RandomForestClassifier(criterion = space['criterion'], max_depth = space['max_depth'],\n",
        "                                 max_features = space['max_features'],\n",
        "                                 min_samples_leaf = space['min_samples_leaf'],\n",
        "                                 min_samples_split = space['min_samples_split'],\n",
        "                                 n_estimators = space['n_estimators'], \n",
        "                                 )\n",
        "    \n",
        "    accuracy = cross_val_score(model, X_train, y_train, cv = 5).mean()\n",
        "\n",
        "    # We aim to maximize accuracy, therefore we return it as a negative value\n",
        "    return {'loss': -accuracy, 'status': STATUS_OK }"
      ],
      "execution_count": 39,
      "outputs": []
    },
    {
      "cell_type": "code",
      "metadata": {
        "id": "PtFKTj28J6ek",
        "outputId": "afab12d8-0f7f-43b2-ecb9-4b6c3e9fc8c1",
        "colab": {
          "base_uri": "https://localhost:8080/"
        }
      },
      "source": [
        "from sklearn.model_selection import cross_val_score\n",
        "trials = Trials()\n",
        "best = fmin(fn= objective,\n",
        "            space= space,\n",
        "            algo= tpe.suggest,\n",
        "            max_evals = 80,\n",
        "            trials= trials)\n",
        "best"
      ],
      "execution_count": 40,
      "outputs": [
        {
          "output_type": "stream",
          "text": [
            "100%|██████████| 80/80 [08:54<00:00,  6.69s/it, best loss: -0.7769159003065441]\n"
          ],
          "name": "stdout"
        },
        {
          "output_type": "execute_result",
          "data": {
            "text/plain": [
              "{'criterion': 0,\n",
              " 'max_depth': 800.0,\n",
              " 'max_features': 3,\n",
              " 'min_samples_leaf': 0.004209972786618261,\n",
              " 'min_samples_split': 0.18364739812142927,\n",
              " 'n_estimators': 5}"
            ]
          },
          "metadata": {
            "tags": []
          },
          "execution_count": 40
        }
      ]
    },
    {
      "cell_type": "code",
      "metadata": {
        "id": "z-UTo2OSKB-W",
        "outputId": "868a9532-1c85-444e-e26a-cb9bb547d435",
        "colab": {
          "base_uri": "https://localhost:8080/"
        }
      },
      "source": [
        "crit = {0: 'entropy', 1: 'gini'}\n",
        "feat = {0: 'auto', 1: 'sqrt', 2: 'log2', 3: None}\n",
        "est = {0: 10, 1: 50, 2: 300, 3: 750, 4: 1200,5:1300,6:1500}\n",
        "\n",
        "\n",
        "print(crit[best['criterion']])\n",
        "print(feat[best['max_features']])\n",
        "print(est[best['n_estimators']])"
      ],
      "execution_count": 41,
      "outputs": [
        {
          "output_type": "stream",
          "text": [
            "entropy\n",
            "None\n",
            "1300\n"
          ],
          "name": "stdout"
        }
      ]
    },
    {
      "cell_type": "code",
      "metadata": {
        "id": "WcLmVRCMKJeR",
        "outputId": "7495c089-0881-4376-e2b1-4d015b7b0140",
        "colab": {
          "base_uri": "https://localhost:8080/"
        }
      },
      "source": [
        "best['min_samples_leaf']"
      ],
      "execution_count": 42,
      "outputs": [
        {
          "output_type": "execute_result",
          "data": {
            "text/plain": [
              "0.004209972786618261"
            ]
          },
          "metadata": {
            "tags": []
          },
          "execution_count": 42
        }
      ]
    },
    {
      "cell_type": "code",
      "metadata": {
        "id": "CF3DO99pKMbC",
        "outputId": "2b7fba21-131a-451c-a76c-75b84cf4ff06",
        "colab": {
          "base_uri": "https://localhost:8080/"
        }
      },
      "source": [
        "trainedforest = RandomForestClassifier(criterion = crit[best['criterion']], max_depth = best['max_depth'], \n",
        "                                       max_features = feat[best['max_features']], \n",
        "                                       min_samples_leaf = best['min_samples_leaf'], \n",
        "                                       min_samples_split = best['min_samples_split'], \n",
        "                                       n_estimators = est[best['n_estimators']]).fit(X_train,y_train)\n",
        "predictionforest = trainedforest.predict(X_test)\n",
        "print(confusion_matrix(y_test,predictionforest))\n",
        "print(accuracy_score(y_test,predictionforest))\n",
        "print(classification_report(y_test,predictionforest))\n",
        "acc5 = accuracy_score(y_test,predictionforest)"
      ],
      "execution_count": 43,
      "outputs": [
        {
          "output_type": "stream",
          "text": [
            "[[89 10]\n",
            " [26 29]]\n",
            "0.7662337662337663\n",
            "              precision    recall  f1-score   support\n",
            "\n",
            "           0       0.77      0.90      0.83        99\n",
            "           1       0.74      0.53      0.62        55\n",
            "\n",
            "    accuracy                           0.77       154\n",
            "   macro avg       0.76      0.71      0.72       154\n",
            "weighted avg       0.76      0.77      0.76       154\n",
            "\n"
          ],
          "name": "stdout"
        }
      ]
    },
    {
      "cell_type": "markdown",
      "metadata": {
        "id": "Up58cOhoU9qc"
      },
      "source": [
        "## Genetic Algorithms"
      ]
    },
    {
      "cell_type": "markdown",
      "metadata": {
        "id": "D7A1ZnaMVETI"
      },
      "source": [
        "Genetic Algorithms tries to apply natural selection mechanisms to Machine Learning contexts.\n",
        "\n",
        "Let's immagine we create a population of N Machine Learning models with some predifined Hyperparameters. We can then calculate the accuracy of each model and decide to keep just half of the models (the ones that performs best). We can now generate some offsprings having similar Hyperparameters to the ones of the best models so that go get again a population of N models. At this point we can again caltulate the accuracy of each model and repeate the cycle for a defined number of generations. In this way, just the best models will survive at the end of the process."
      ]
    },
    {
      "cell_type": "code",
      "metadata": {
        "id": "9DkEc9DvKSfJ"
      },
      "source": [
        "import numpy as np\n",
        "from sklearn.model_selection import RandomizedSearchCV\n",
        "\n",
        "n_estimators = [int(x) for x in np.linspace(start = 200, stop = 2000, num = 10)]\n",
        "max_features = ['auto', 'sqrt','log2']\n",
        "max_depth = [int(x) for x in np.linspace(10, 1000,10)]\n",
        "min_samples_split = [2, 5, 10,14]\n",
        "min_samples_leaf = [1, 2, 4,6,8]\n"
      ],
      "execution_count": 44,
      "outputs": []
    },
    {
      "cell_type": "markdown",
      "metadata": {
        "id": "Lqjfv_1lX_v7"
      },
      "source": [
        "Create the random grid"
      ]
    },
    {
      "cell_type": "code",
      "metadata": {
        "id": "U5GI4GEWYBD0",
        "outputId": "5291694d-13bb-424c-ab39-9248063fbaea",
        "colab": {
          "base_uri": "https://localhost:8080/"
        }
      },
      "source": [
        "\n",
        "param = {'n_estimators': n_estimators,\n",
        "               'max_features': max_features,\n",
        "               'max_depth': max_depth,\n",
        "               'min_samples_split': min_samples_split,\n",
        "               'min_samples_leaf': min_samples_leaf,\n",
        "              'criterion':['entropy','gini']}\n",
        "print(param)"
      ],
      "execution_count": 45,
      "outputs": [
        {
          "output_type": "stream",
          "text": [
            "{'n_estimators': [200, 400, 600, 800, 1000, 1200, 1400, 1600, 1800, 2000], 'max_features': ['auto', 'sqrt', 'log2'], 'max_depth': [10, 120, 230, 340, 450, 560, 670, 780, 890, 1000], 'min_samples_split': [2, 5, 10, 14], 'min_samples_leaf': [1, 2, 4, 6, 8], 'criterion': ['entropy', 'gini']}\n"
          ],
          "name": "stdout"
        }
      ]
    },
    {
      "cell_type": "markdown",
      "metadata": {
        "id": "frKcKWPQ7Kad"
      },
      "source": [
        "\n",
        "!pip show tensorflow\n",
        "\n",
        "\n",
        "!pip install --upgrade tensorflow\n",
        "\n",
        "\n",
        "!pip install tensorflow==1.2\n",
        "\n",
        "\n",
        "!pip install tf-nightly\n",
        "\n",
        "!pip install tpot"
      ]
    },
    {
      "cell_type": "code",
      "metadata": {
        "id": "v-c7CSX-YNKq",
        "outputId": "39cac30f-c812-401b-f1f3-57d8818f5823",
        "colab": {
          "base_uri": "https://localhost:8080/",
          "height": 938,
          "referenced_widgets": [
            "8f0c9b50fa0947a4b902f98e09f998aa",
            "0b872bafec1748c09d48bae439bc0162",
            "875bacc808e24a82830426e27ff67242",
            "1f77389771ed4b18afa9c2bbc2fb4a68",
            "1b1d27cc0dea436fbd1d6b6e1ee8be62",
            "5aef8cf8a2c24db6ade22e279cf3e59d",
            "ac99eee2b2714985a8534969ab15067c",
            "c2a8a9720da94a089041280e82620522"
          ]
        }
      },
      "source": [
        "from tpot import TPOTClassifier\n",
        "\n",
        "\n",
        "tpot_classifier = TPOTClassifier(generations= 5, population_size= 24, offspring_size= 12,\n",
        "                                 verbosity= 2, early_stop= 12,\n",
        "                                 config_dict={'sklearn.ensemble.RandomForestClassifier': param}, \n",
        "                                 cv = 4, scoring = 'accuracy')\n",
        "tpot_classifier.fit(X_train,y_train)"
      ],
      "execution_count": 46,
      "outputs": [
        {
          "output_type": "display_data",
          "data": {
            "application/vnd.jupyter.widget-view+json": {
              "model_id": "8f0c9b50fa0947a4b902f98e09f998aa",
              "version_minor": 0,
              "version_major": 2
            },
            "text/plain": [
              "HBox(children=(FloatProgress(value=0.0, description='Optimization Progress', max=84.0, style=ProgressStyle(des…"
            ]
          },
          "metadata": {
            "tags": []
          }
        },
        {
          "output_type": "stream",
          "text": [
            "\r\n",
            "Generation 1 - Current best internal CV score: 0.7769501740089975\n",
            "\n",
            "Generation 2 - Current best internal CV score: 0.7769501740089975\n",
            "\n",
            "Generation 3 - Current best internal CV score: 0.7769501740089975\n",
            "\n",
            "Generation 4 - Current best internal CV score: 0.7769501740089975\n",
            "\n",
            "Generation 5 - Current best internal CV score: 0.7769501740089975\n",
            "\n",
            "Best pipeline: RandomForestClassifier(CombineDFs(input_matrix, input_matrix), criterion=entropy, max_depth=230, max_features=auto, min_samples_leaf=8, min_samples_split=2, n_estimators=600)\n"
          ],
          "name": "stdout"
        },
        {
          "output_type": "execute_result",
          "data": {
            "text/plain": [
              "TPOTClassifier(config_dict={'sklearn.ensemble.RandomForestClassifier': {'criterion': ['entropy',\n",
              "                                                                                      'gini'],\n",
              "                                                                        'max_depth': [10,\n",
              "                                                                                      120,\n",
              "                                                                                      230,\n",
              "                                                                                      340,\n",
              "                                                                                      450,\n",
              "                                                                                      560,\n",
              "                                                                                      670,\n",
              "                                                                                      780,\n",
              "                                                                                      890,\n",
              "                                                                                      1000],\n",
              "                                                                        'max_features': ['auto',\n",
              "                                                                                         'sqrt',\n",
              "                                                                                         'log2'],\n",
              "                                                                        'min_samples_leaf': [1,\n",
              "                                                                                             2,\n",
              "                                                                                             4,\n",
              "                                                                                             6,\n",
              "                                                                                             8],\n",
              "                                                                        'min_samples_split': [2,\n",
              "                                                                                              5,\n",
              "                                                                                              10,\n",
              "                                                                                              14],\n",
              "                                                                        'n_estimators': [200,\n",
              "                                                                                         400,\n",
              "                                                                                         600,\n",
              "                                                                                         800,\n",
              "                                                                                         1000,\n",
              "                                                                                         1200,\n",
              "                                                                                         1400,\n",
              "                                                                                         1600,\n",
              "                                                                                         1800,\n",
              "                                                                                         2000]}},\n",
              "               crossover_rate=0.1, cv=4, disable_update_check=False,\n",
              "               early_stop=12, generations=5, log_file=None,\n",
              "               max_eval_time_mins=5, max_time_mins=None, memory=None,\n",
              "               mutation_rate=0.9, n_jobs=1, offspring_size=12,\n",
              "               periodic_checkpoint_folder=None, population_size=24,\n",
              "               random_state=None, scoring='accuracy', subsample=1.0,\n",
              "               template=None, use_dask=False, verbosity=2, warm_start=False)"
            ]
          },
          "metadata": {
            "tags": []
          },
          "execution_count": 46
        }
      ]
    },
    {
      "cell_type": "code",
      "metadata": {
        "id": "hsI4-QHmYiMW",
        "outputId": "daeaf9aa-f920-471c-b000-c7a6f090303d",
        "colab": {
          "base_uri": "https://localhost:8080/"
        }
      },
      "source": [
        "accuracy = tpot_classifier.score(X_test, y_test)\n",
        "print(accuracy)"
      ],
      "execution_count": 47,
      "outputs": [
        {
          "output_type": "stream",
          "text": [
            "0.7467532467532467\n"
          ],
          "name": "stdout"
        }
      ]
    },
    {
      "cell_type": "markdown",
      "metadata": {
        "id": "AP8IluAZc0vT"
      },
      "source": [
        "## Optimize hyperparameters of the model using Optuna:\n",
        "\n",
        "The hyperparameters of the above algorithm are n_estimators and max_depth for which we can try different values to see if the model accuracy can be improved. The objective function is modified to accept a trial object. This trial has several methods for sampling hyperparameters. We create a study to run the hyperparameter optimization and finally read the best hyperparameters."
      ]
    },
    {
      "cell_type": "code",
      "metadata": {
        "id": "I--dm-kuFjBn",
        "outputId": "eee661eb-9e66-4697-a942-4dcfa82613e7",
        "colab": {
          "base_uri": "https://localhost:8080/"
        }
      },
      "source": [
        "!pip install --quiet optuna"
      ],
      "execution_count": 49,
      "outputs": [
        {
          "output_type": "stream",
          "text": [
            "\u001b[?25l\r\u001b[K     |█▎                              | 10kB 20.2MB/s eta 0:00:01\r\u001b[K     |██▌                             | 20kB 1.8MB/s eta 0:00:01\r\u001b[K     |███▉                            | 30kB 2.3MB/s eta 0:00:01\r\u001b[K     |█████                           | 40kB 2.5MB/s eta 0:00:01\r\u001b[K     |██████▍                         | 51kB 2.0MB/s eta 0:00:01\r\u001b[K     |███████▋                        | 61kB 2.2MB/s eta 0:00:01\r\u001b[K     |████████▉                       | 71kB 2.5MB/s eta 0:00:01\r\u001b[K     |██████████▏                     | 81kB 2.7MB/s eta 0:00:01\r\u001b[K     |███████████▍                    | 92kB 2.8MB/s eta 0:00:01\r\u001b[K     |████████████▊                   | 102kB 2.7MB/s eta 0:00:01\r\u001b[K     |██████████████                  | 112kB 2.7MB/s eta 0:00:01\r\u001b[K     |███████████████▏                | 122kB 2.7MB/s eta 0:00:01\r\u001b[K     |████████████████▌               | 133kB 2.7MB/s eta 0:00:01\r\u001b[K     |█████████████████▊              | 143kB 2.7MB/s eta 0:00:01\r\u001b[K     |███████████████████             | 153kB 2.7MB/s eta 0:00:01\r\u001b[K     |████████████████████▎           | 163kB 2.7MB/s eta 0:00:01\r\u001b[K     |█████████████████████▌          | 174kB 2.7MB/s eta 0:00:01\r\u001b[K     |██████████████████████▉         | 184kB 2.7MB/s eta 0:00:01\r\u001b[K     |████████████████████████        | 194kB 2.7MB/s eta 0:00:01\r\u001b[K     |█████████████████████████▍      | 204kB 2.7MB/s eta 0:00:01\r\u001b[K     |██████████████████████████▋     | 215kB 2.7MB/s eta 0:00:01\r\u001b[K     |███████████████████████████▉    | 225kB 2.7MB/s eta 0:00:01\r\u001b[K     |█████████████████████████████▏  | 235kB 2.7MB/s eta 0:00:01\r\u001b[K     |██████████████████████████████▍ | 245kB 2.7MB/s eta 0:00:01\r\u001b[K     |███████████████████████████████▊| 256kB 2.7MB/s eta 0:00:01\r\u001b[K     |████████████████████████████████| 266kB 2.7MB/s \n",
            "\u001b[?25h  Installing build dependencies ... \u001b[?25l\u001b[?25hdone\n",
            "  Getting requirements to build wheel ... \u001b[?25l\u001b[?25hdone\n",
            "    Preparing wheel metadata ... \u001b[?25l\u001b[?25hdone\n",
            "\u001b[K     |████████████████████████████████| 81kB 4.7MB/s \n",
            "\u001b[K     |████████████████████████████████| 163kB 11.2MB/s \n",
            "\u001b[K     |████████████████████████████████| 143kB 8.3MB/s \n",
            "\u001b[K     |████████████████████████████████| 51kB 4.8MB/s \n",
            "\u001b[K     |████████████████████████████████| 112kB 13.1MB/s \n",
            "\u001b[K     |████████████████████████████████| 81kB 6.9MB/s \n",
            "\u001b[?25h  Building wheel for optuna (PEP 517) ... \u001b[?25l\u001b[?25hdone\n",
            "  Building wheel for PrettyTable (setup.py) ... \u001b[?25l\u001b[?25hdone\n",
            "  Building wheel for pyperclip (setup.py) ... \u001b[?25l\u001b[?25hdone\n"
          ],
          "name": "stdout"
        }
      ]
    },
    {
      "cell_type": "code",
      "metadata": {
        "id": "nBQ_71RBGDYQ",
        "outputId": "0a81b54c-e872-48a9-da36-806ad6fa1b49",
        "colab": {
          "base_uri": "https://localhost:8080/",
          "height": 35
        }
      },
      "source": [
        "import optuna\n",
        "\n",
        "optuna.__version__"
      ],
      "execution_count": 50,
      "outputs": [
        {
          "output_type": "execute_result",
          "data": {
            "application/vnd.google.colaboratory.intrinsic+json": {
              "type": "string"
            },
            "text/plain": [
              "'2.3.0'"
            ]
          },
          "metadata": {
            "tags": []
          },
          "execution_count": 50
        }
      ]
    },
    {
      "cell_type": "code",
      "metadata": {
        "id": "RV_bH69Jcw2y"
      },
      "source": [
        "import sklearn.svm\n",
        "def objective(trial):\n",
        "\n",
        "    classifier = trial.suggest_categorical('classifier', ['RandomForest', 'SVC'])\n",
        "    \n",
        "    if classifier == 'RandomForest':\n",
        "        n_estimators = trial.suggest_int('n_estimators', 200, 2000,10)\n",
        "        max_depth = int(trial.suggest_float('max_depth', 10, 100, log=True))\n",
        "\n",
        "        clf = sklearn.ensemble.RandomForestClassifier(\n",
        "            n_estimators=n_estimators, max_depth=max_depth)\n",
        "    else:\n",
        "        c = trial.suggest_float('svc_c', 1e-10, 1e10, log=True)\n",
        "        \n",
        "        clf = sklearn.svm.SVC(C=c, gamma='auto')\n",
        "\n",
        "    return sklearn.model_selection.cross_val_score(\n",
        "        clf,X_train,y_train, n_jobs=-1, cv=3).mean()"
      ],
      "execution_count": 51,
      "outputs": []
    },
    {
      "cell_type": "code",
      "metadata": {
        "id": "LBbLY95PdBx7",
        "outputId": "5bc9ef46-f287-4878-a333-284347abc233",
        "colab": {
          "base_uri": "https://localhost:8080/"
        }
      },
      "source": [
        "study = optuna.create_study(direction='maximize')\n",
        "study.optimize(objective, n_trials=100)\n",
        "\n",
        "trial = study.best_trial\n",
        "\n",
        "print('Accuracy: {}'.format(trial.value))\n",
        "print(\"Best hyperparameters: {}\".format(trial.params))"
      ],
      "execution_count": 52,
      "outputs": [
        {
          "output_type": "stream",
          "text": [
            "\u001b[32m[I 2020-11-07 09:45:48,075]\u001b[0m A new study created in memory with name: no-name-d7a26911-997c-4f99-a7cc-d7c9e534352f\u001b[0m\n",
            "\u001b[32m[I 2020-11-07 09:45:54,203]\u001b[0m Trial 0 finished with value: 0.7671528774111271 and parameters: {'classifier': 'RandomForest', 'n_estimators': 1080, 'max_depth': 26.88969370720006}. Best is trial 0 with value: 0.7671528774111271.\u001b[0m\n",
            "\u001b[32m[I 2020-11-07 09:45:54,252]\u001b[0m Trial 1 finished with value: 0.6530926191614858 and parameters: {'classifier': 'SVC', 'svc_c': 5.1780827240441644e-08}. Best is trial 0 with value: 0.7671528774111271.\u001b[0m\n",
            "\u001b[32m[I 2020-11-07 09:46:00,266]\u001b[0m Trial 2 finished with value: 0.7687868643392317 and parameters: {'classifier': 'RandomForest', 'n_estimators': 1370, 'max_depth': 10.558708649211074}. Best is trial 2 with value: 0.7687868643392317.\u001b[0m\n",
            "\u001b[32m[I 2020-11-07 09:46:00,317]\u001b[0m Trial 3 finished with value: 0.6530926191614858 and parameters: {'classifier': 'SVC', 'svc_c': 0.000784402714564795}. Best is trial 2 with value: 0.7687868643392317.\u001b[0m\n",
            "\u001b[32m[I 2020-11-07 09:46:08,478]\u001b[0m Trial 4 finished with value: 0.7736649131197195 and parameters: {'classifier': 'RandomForest', 'n_estimators': 1850, 'max_depth': 11.826625851340674}. Best is trial 4 with value: 0.7736649131197195.\u001b[0m\n",
            "\u001b[32m[I 2020-11-07 09:46:08,542]\u001b[0m Trial 5 finished with value: 0.6530926191614858 and parameters: {'classifier': 'SVC', 'svc_c': 265.5943956717908}. Best is trial 4 with value: 0.7736649131197195.\u001b[0m\n",
            "\u001b[32m[I 2020-11-07 09:46:08,614]\u001b[0m Trial 6 finished with value: 0.6530926191614858 and parameters: {'classifier': 'SVC', 'svc_c': 1.4073760605348937}. Best is trial 4 with value: 0.7736649131197195.\u001b[0m\n",
            "\u001b[32m[I 2020-11-07 09:46:14,920]\u001b[0m Trial 7 finished with value: 0.772038896859557 and parameters: {'classifier': 'RandomForest', 'n_estimators': 1440, 'max_depth': 19.35765651524278}. Best is trial 4 with value: 0.7736649131197195.\u001b[0m\n",
            "\u001b[32m[I 2020-11-07 09:46:14,990]\u001b[0m Trial 8 finished with value: 0.6530926191614858 and parameters: {'classifier': 'SVC', 'svc_c': 30.07164935945877}. Best is trial 4 with value: 0.7736649131197195.\u001b[0m\n",
            "\u001b[32m[I 2020-11-07 09:46:17,376]\u001b[0m Trial 9 finished with value: 0.7720468675274988 and parameters: {'classifier': 'RandomForest', 'n_estimators': 540, 'max_depth': 77.68004545206622}. Best is trial 4 with value: 0.7736649131197195.\u001b[0m\n",
            "\u001b[32m[I 2020-11-07 09:46:26,422]\u001b[0m Trial 10 finished with value: 0.7687788936712897 and parameters: {'classifier': 'RandomForest', 'n_estimators': 2000, 'max_depth': 10.292291805381785}. Best is trial 4 with value: 0.7736649131197195.\u001b[0m\n",
            "\u001b[32m[I 2020-11-07 09:46:27,380]\u001b[0m Trial 11 finished with value: 0.7720229555236728 and parameters: {'classifier': 'RandomForest', 'n_estimators': 210, 'max_depth': 98.0967162343124}. Best is trial 4 with value: 0.7736649131197195.\u001b[0m\n",
            "\u001b[32m[I 2020-11-07 09:46:28,863]\u001b[0m Trial 12 finished with value: 0.7704128805993943 and parameters: {'classifier': 'RandomForest', 'n_estimators': 330, 'max_depth': 83.04327562087734}. Best is trial 4 with value: 0.7736649131197195.\u001b[0m\n",
            "\u001b[32m[I 2020-11-07 09:46:32,048]\u001b[0m Trial 13 finished with value: 0.7752989000478241 and parameters: {'classifier': 'RandomForest', 'n_estimators': 720, 'max_depth': 54.0075957664511}. Best is trial 13 with value: 0.7752989000478241.\u001b[0m\n",
            "\u001b[32m[I 2020-11-07 09:46:35,497]\u001b[0m Trial 14 finished with value: 0.7769169456400448 and parameters: {'classifier': 'RandomForest', 'n_estimators': 780, 'max_depth': 49.115148804082835}. Best is trial 14 with value: 0.7769169456400448.\u001b[0m\n",
            "\u001b[32m[I 2020-11-07 09:46:39,147]\u001b[0m Trial 15 finished with value: 0.7704049099314524 and parameters: {'classifier': 'RandomForest', 'n_estimators': 810, 'max_depth': 50.37995865489235}. Best is trial 14 with value: 0.7769169456400448.\u001b[0m\n",
            "\u001b[32m[I 2020-11-07 09:46:42,199]\u001b[0m Trial 16 finished with value: 0.7687788936712897 and parameters: {'classifier': 'RandomForest', 'n_estimators': 690, 'max_depth': 47.0438431122642}. Best is trial 14 with value: 0.7769169456400448.\u001b[0m\n",
            "\u001b[32m[I 2020-11-07 09:46:46,480]\u001b[0m Trial 17 finished with value: 0.7655268611509646 and parameters: {'classifier': 'RandomForest', 'n_estimators': 970, 'max_depth': 52.05960913019239}. Best is trial 14 with value: 0.7769169456400448.\u001b[0m\n",
            "\u001b[32m[I 2020-11-07 09:46:48,561]\u001b[0m Trial 18 finished with value: 0.7752829587119402 and parameters: {'classifier': 'RandomForest', 'n_estimators': 470, 'max_depth': 36.67624201412377}. Best is trial 14 with value: 0.7769169456400448.\u001b[0m\n",
            "\u001b[32m[I 2020-11-07 09:46:54,646]\u001b[0m Trial 19 finished with value: 0.7704049099314524 and parameters: {'classifier': 'RandomForest', 'n_estimators': 1370, 'max_depth': 64.06484116778154}. Best is trial 14 with value: 0.7769169456400448.\u001b[0m\n",
            "\u001b[32m[I 2020-11-07 09:46:57,982]\u001b[0m Trial 20 finished with value: 0.7704128805993943 and parameters: {'classifier': 'RandomForest', 'n_estimators': 750, 'max_depth': 30.322455519367224}. Best is trial 14 with value: 0.7769169456400448.\u001b[0m\n",
            "\u001b[32m[I 2020-11-07 09:47:00,004]\u001b[0m Trial 21 finished with value: 0.7655268611509646 and parameters: {'classifier': 'RandomForest', 'n_estimators': 450, 'max_depth': 40.49172691383036}. Best is trial 14 with value: 0.7769169456400448.\u001b[0m\n",
            "\u001b[32m[I 2020-11-07 09:47:02,560]\u001b[0m Trial 22 finished with value: 0.7736649131197195 and parameters: {'classifier': 'RandomForest', 'n_estimators': 570, 'max_depth': 37.75332870669196}. Best is trial 14 with value: 0.7769169456400448.\u001b[0m\n",
            "\u001b[32m[I 2020-11-07 09:47:06,500]\u001b[0m Trial 23 finished with value: 0.7655268611509646 and parameters: {'classifier': 'RandomForest', 'n_estimators': 890, 'max_depth': 61.249315706374226}. Best is trial 14 with value: 0.7769169456400448.\u001b[0m\n",
            "\u001b[32m[I 2020-11-07 09:47:07,433]\u001b[0m Trial 24 finished with value: 0.7720229555236728 and parameters: {'classifier': 'RandomForest', 'n_estimators': 200, 'max_depth': 20.56461077964048}. Best is trial 14 with value: 0.7769169456400448.\u001b[0m\n",
            "\u001b[32m[I 2020-11-07 09:47:09,151]\u001b[0m Trial 25 finished with value: 0.7752749880439981 and parameters: {'classifier': 'RandomForest', 'n_estimators': 380, 'max_depth': 37.52131766177265}. Best is trial 14 with value: 0.7769169456400448.\u001b[0m\n",
            "\u001b[32m[I 2020-11-07 09:47:12,089]\u001b[0m Trial 26 finished with value: 0.767144906743185 and parameters: {'classifier': 'RandomForest', 'n_estimators': 660, 'max_depth': 25.283392313787928}. Best is trial 14 with value: 0.7769169456400448.\u001b[0m\n",
            "\u001b[32m[I 2020-11-07 09:47:17,160]\u001b[0m Trial 27 finished with value: 0.7736649131197195 and parameters: {'classifier': 'RandomForest', 'n_estimators': 1140, 'max_depth': 62.64406078047532}. Best is trial 14 with value: 0.7769169456400448.\u001b[0m\n",
            "\u001b[32m[I 2020-11-07 09:47:21,585]\u001b[0m Trial 28 finished with value: 0.7703969392635103 and parameters: {'classifier': 'RandomForest', 'n_estimators': 1000, 'max_depth': 43.848831308970404}. Best is trial 14 with value: 0.7769169456400448.\u001b[0m\n",
            "\u001b[32m[I 2020-11-07 09:47:26,759]\u001b[0m Trial 29 finished with value: 0.7687868643392317 and parameters: {'classifier': 'RandomForest', 'n_estimators': 1180, 'max_depth': 30.982458364381465}. Best is trial 14 with value: 0.7769169456400448.\u001b[0m\n",
            "\u001b[32m[I 2020-11-07 09:47:29,326]\u001b[0m Trial 30 finished with value: 0.7639088155587439 and parameters: {'classifier': 'RandomForest', 'n_estimators': 580, 'max_depth': 80.65147236146993}. Best is trial 14 with value: 0.7769169456400448.\u001b[0m\n",
            "\u001b[32m[I 2020-11-07 09:47:31,238]\u001b[0m Trial 31 finished with value: 0.7704208512673363 and parameters: {'classifier': 'RandomForest', 'n_estimators': 430, 'max_depth': 35.8530912053142}. Best is trial 14 with value: 0.7769169456400448.\u001b[0m\n",
            "\u001b[32m[I 2020-11-07 09:47:32,664]\u001b[0m Trial 32 finished with value: 0.7687709230033476 and parameters: {'classifier': 'RandomForest', 'n_estimators': 320, 'max_depth': 55.05628125336585}. Best is trial 14 with value: 0.7769169456400448.\u001b[0m\n",
            "\u001b[32m[I 2020-11-07 09:47:34,462]\u001b[0m Trial 33 finished with value: 0.7655109198150805 and parameters: {'classifier': 'RandomForest', 'n_estimators': 410, 'max_depth': 34.85189860369787}. Best is trial 14 with value: 0.7769169456400448.\u001b[0m\n",
            "\u001b[32m[I 2020-11-07 09:47:38,058]\u001b[0m Trial 34 finished with value: 0.7736649131197195 and parameters: {'classifier': 'RandomForest', 'n_estimators': 820, 'max_depth': 42.61135136284449}. Best is trial 14 with value: 0.7769169456400448.\u001b[0m\n",
            "\u001b[32m[I 2020-11-07 09:47:38,124]\u001b[0m Trial 35 finished with value: 0.6530926191614858 and parameters: {'classifier': 'SVC', 'svc_c': 4027781699.037802}. Best is trial 14 with value: 0.7769169456400448.\u001b[0m\n",
            "\u001b[32m[I 2020-11-07 09:47:40,927]\u001b[0m Trial 36 finished with value: 0.7671289654073011 and parameters: {'classifier': 'RandomForest', 'n_estimators': 640, 'max_depth': 25.791244138976534}. Best is trial 14 with value: 0.7769169456400448.\u001b[0m\n",
            "\u001b[32m[I 2020-11-07 09:47:42,300]\u001b[0m Trial 37 finished with value: 0.7622668579626972 and parameters: {'classifier': 'RandomForest', 'n_estimators': 310, 'max_depth': 22.33245901286248}. Best is trial 14 with value: 0.7769169456400448.\u001b[0m\n",
            "\u001b[32m[I 2020-11-07 09:47:42,364]\u001b[0m Trial 38 finished with value: 0.6530926191614858 and parameters: {'classifier': 'SVC', 'svc_c': 599834810.2417523}. Best is trial 14 with value: 0.7769169456400448.\u001b[0m\n",
            "\u001b[32m[I 2020-11-07 09:47:44,388]\u001b[0m Trial 39 finished with value: 0.7638849035549179 and parameters: {'classifier': 'RandomForest', 'n_estimators': 460, 'max_depth': 30.6970002937702}. Best is trial 14 with value: 0.7769169456400448.\u001b[0m\n",
            "\u001b[32m[I 2020-11-07 09:47:44,437]\u001b[0m Trial 40 finished with value: 0.6530926191614858 and parameters: {'classifier': 'SVC', 'svc_c': 2.3806049332804954e-09}. Best is trial 14 with value: 0.7769169456400448.\u001b[0m\n",
            "\u001b[32m[I 2020-11-07 09:47:46,835]\u001b[0m Trial 41 finished with value: 0.7769249163079867 and parameters: {'classifier': 'RandomForest', 'n_estimators': 550, 'max_depth': 37.36591231904357}. Best is trial 41 with value: 0.7769249163079867.\u001b[0m\n",
            "\u001b[32m[I 2020-11-07 09:47:49,210]\u001b[0m Trial 42 finished with value: 0.7736569424517775 and parameters: {'classifier': 'RandomForest', 'n_estimators': 540, 'max_depth': 39.176360288789944}. Best is trial 41 with value: 0.7769249163079867.\u001b[0m\n",
            "\u001b[32m[I 2020-11-07 09:47:52,622]\u001b[0m Trial 43 finished with value: 0.772030926191615 and parameters: {'classifier': 'RandomForest', 'n_estimators': 780, 'max_depth': 45.758680441829995}. Best is trial 41 with value: 0.7769249163079867.\u001b[0m\n",
            "\u001b[32m[I 2020-11-07 09:47:56,611]\u001b[0m Trial 44 finished with value: 0.7671528774111271 and parameters: {'classifier': 'RandomForest', 'n_estimators': 910, 'max_depth': 55.55313335145694}. Best is trial 41 with value: 0.7769249163079867.\u001b[0m\n",
            "\u001b[32m[I 2020-11-07 09:47:59,638]\u001b[0m Trial 45 finished with value: 0.7606249003666506 and parameters: {'classifier': 'RandomForest', 'n_estimators': 690, 'max_depth': 34.68618272435875}. Best is trial 41 with value: 0.7769249163079867.\u001b[0m\n",
            "\u001b[32m[I 2020-11-07 09:48:01,924]\u001b[0m Trial 46 finished with value: 0.7638849035549179 and parameters: {'classifier': 'RandomForest', 'n_estimators': 520, 'max_depth': 15.08959465223565}. Best is trial 41 with value: 0.7769249163079867.\u001b[0m\n",
            "\u001b[32m[I 2020-11-07 09:48:03,141]\u001b[0m Trial 47 finished with value: 0.7752829587119402 and parameters: {'classifier': 'RandomForest', 'n_estimators': 270, 'max_depth': 27.528005290395367}. Best is trial 41 with value: 0.7769249163079867.\u001b[0m\n",
            "\u001b[32m[I 2020-11-07 09:48:04,039]\u001b[0m Trial 48 finished with value: 0.7687709230033476 and parameters: {'classifier': 'RandomForest', 'n_estimators': 200, 'max_depth': 27.705585157196623}. Best is trial 41 with value: 0.7769249163079867.\u001b[0m\n",
            "\u001b[32m[I 2020-11-07 09:48:05,258]\u001b[0m Trial 49 finished with value: 0.7687868643392317 and parameters: {'classifier': 'RandomForest', 'n_estimators': 270, 'max_depth': 69.49443157815287}. Best is trial 41 with value: 0.7769249163079867.\u001b[0m\n",
            "\u001b[32m[I 2020-11-07 09:48:05,325]\u001b[0m Trial 50 finished with value: 0.6530926191614858 and parameters: {'classifier': 'SVC', 'svc_c': 1035078.3839054542}. Best is trial 41 with value: 0.7769249163079867.\u001b[0m\n",
            "\u001b[32m[I 2020-11-07 09:48:07,159]\u001b[0m Trial 51 finished with value: 0.7655188904830225 and parameters: {'classifier': 'RandomForest', 'n_estimators': 410, 'max_depth': 48.529329924129044}. Best is trial 41 with value: 0.7769249163079867.\u001b[0m\n",
            "\u001b[32m[I 2020-11-07 09:48:08,772]\u001b[0m Trial 52 finished with value: 0.7704049099314524 and parameters: {'classifier': 'RandomForest', 'n_estimators': 360, 'max_depth': 33.05684451127388}. Best is trial 41 with value: 0.7769249163079867.\u001b[0m\n",
            "\u001b[32m[I 2020-11-07 09:48:11,488]\u001b[0m Trial 53 finished with value: 0.7703969392635103 and parameters: {'classifier': 'RandomForest', 'n_estimators': 620, 'max_depth': 40.16841854504082}. Best is trial 41 with value: 0.7769249163079867.\u001b[0m\n",
            "\u001b[32m[I 2020-11-07 09:48:13,698]\u001b[0m Trial 54 finished with value: 0.7655029491471385 and parameters: {'classifier': 'RandomForest', 'n_estimators': 500, 'max_depth': 27.575424183794233}. Best is trial 41 with value: 0.7769249163079867.\u001b[0m\n",
            "\u001b[32m[I 2020-11-07 09:48:16,930]\u001b[0m Trial 55 finished with value: 0.772030926191615 and parameters: {'classifier': 'RandomForest', 'n_estimators': 730, 'max_depth': 52.57955982627725}. Best is trial 41 with value: 0.7769249163079867.\u001b[0m\n",
            "\u001b[32m[I 2020-11-07 09:48:18,113]\u001b[0m Trial 56 finished with value: 0.7622668579626972 and parameters: {'classifier': 'RandomForest', 'n_estimators': 260, 'max_depth': 16.751074112363558}. Best is trial 41 with value: 0.7769249163079867.\u001b[0m\n",
            "\u001b[32m[I 2020-11-07 09:48:19,716]\u001b[0m Trial 57 finished with value: 0.7703969392635103 and parameters: {'classifier': 'RandomForest', 'n_estimators': 360, 'max_depth': 23.942509577346407}. Best is trial 41 with value: 0.7769249163079867.\u001b[0m\n",
            "\u001b[32m[I 2020-11-07 09:48:23,386]\u001b[0m Trial 58 finished with value: 0.7638928742228598 and parameters: {'classifier': 'RandomForest', 'n_estimators': 830, 'max_depth': 44.72416965513553}. Best is trial 41 with value: 0.7769249163079867.\u001b[0m\n",
            "\u001b[32m[I 2020-11-07 09:48:31,353]\u001b[0m Trial 59 finished with value: 0.7736569424517775 and parameters: {'classifier': 'RandomForest', 'n_estimators': 1760, 'max_depth': 37.99860973706503}. Best is trial 41 with value: 0.7769249163079867.\u001b[0m\n",
            "\u001b[32m[I 2020-11-07 09:48:33,998]\u001b[0m Trial 60 finished with value: 0.772038896859557 and parameters: {'classifier': 'RandomForest', 'n_estimators': 580, 'max_depth': 28.300035271147067}. Best is trial 41 with value: 0.7769249163079867.\u001b[0m\n",
            "\u001b[32m[I 2020-11-07 09:48:39,638]\u001b[0m Trial 61 finished with value: 0.7704049099314524 and parameters: {'classifier': 'RandomForest', 'n_estimators': 1200, 'max_depth': 62.40440263554319}. Best is trial 41 with value: 0.7769249163079867.\u001b[0m\n",
            "\u001b[32m[I 2020-11-07 09:48:44,408]\u001b[0m Trial 62 finished with value: 0.767144906743185 and parameters: {'classifier': 'RandomForest', 'n_estimators': 1040, 'max_depth': 42.80386901283265}. Best is trial 41 with value: 0.7769249163079867.\u001b[0m\n",
            "\u001b[32m[I 2020-11-07 09:48:48,363]\u001b[0m Trial 63 finished with value: 0.7655109198150805 and parameters: {'classifier': 'RandomForest', 'n_estimators': 870, 'max_depth': 42.207251867389765}. Best is trial 41 with value: 0.7769249163079867.\u001b[0m\n",
            "\u001b[32m[I 2020-11-07 09:48:51,500]\u001b[0m Trial 64 finished with value: 0.7606328710345927 and parameters: {'classifier': 'RandomForest', 'n_estimators': 710, 'max_depth': 48.34031558025404}. Best is trial 41 with value: 0.7769249163079867.\u001b[0m\n",
            "\u001b[32m[I 2020-11-07 09:48:55,625]\u001b[0m Trial 65 finished with value: 0.7687788936712897 and parameters: {'classifier': 'RandomForest', 'n_estimators': 940, 'max_depth': 57.55078560283737}. Best is trial 41 with value: 0.7769249163079867.\u001b[0m\n",
            "\u001b[32m[I 2020-11-07 09:49:00,810]\u001b[0m Trial 66 finished with value: 0.7736649131197195 and parameters: {'classifier': 'RandomForest', 'n_estimators': 1170, 'max_depth': 93.60283410146837}. Best is trial 41 with value: 0.7769249163079867.\u001b[0m\n",
            "\u001b[32m[I 2020-11-07 09:49:04,456]\u001b[0m Trial 67 finished with value: 0.7622509166268133 and parameters: {'classifier': 'RandomForest', 'n_estimators': 820, 'max_depth': 33.160318824977814}. Best is trial 41 with value: 0.7769249163079867.\u001b[0m\n",
            "\u001b[32m[I 2020-11-07 09:49:06,578]\u001b[0m Trial 68 finished with value: 0.7687709230033476 and parameters: {'classifier': 'RandomForest', 'n_estimators': 480, 'max_depth': 73.22191554687411}. Best is trial 41 with value: 0.7769249163079867.\u001b[0m\n",
            "\u001b[32m[I 2020-11-07 09:49:09,275]\u001b[0m Trial 69 finished with value: 0.767136936075243 and parameters: {'classifier': 'RandomForest', 'n_estimators': 610, 'max_depth': 38.93525207491412}. Best is trial 41 with value: 0.7769249163079867.\u001b[0m\n",
            "\u001b[32m[I 2020-11-07 09:49:15,666]\u001b[0m Trial 70 finished with value: 0.7752989000478241 and parameters: {'classifier': 'RandomForest', 'n_estimators': 1470, 'max_depth': 69.55474440201527}. Best is trial 41 with value: 0.7769249163079867.\u001b[0m\n",
            "\u001b[32m[I 2020-11-07 09:49:23,179]\u001b[0m Trial 71 finished with value: 0.7687788936712897 and parameters: {'classifier': 'RandomForest', 'n_estimators': 1740, 'max_depth': 10.416839127939792}. Best is trial 41 with value: 0.7769249163079867.\u001b[0m\n",
            "\u001b[32m[I 2020-11-07 09:49:28,057]\u001b[0m Trial 72 finished with value: 0.7638769328869759 and parameters: {'classifier': 'RandomForest', 'n_estimators': 1120, 'max_depth': 67.69966526968388}. Best is trial 41 with value: 0.7769249163079867.\u001b[0m\n",
            "\u001b[32m[I 2020-11-07 09:49:34,546]\u001b[0m Trial 73 finished with value: 0.772030926191615 and parameters: {'classifier': 'RandomForest', 'n_estimators': 1480, 'max_depth': 36.35982867131296}. Best is trial 41 with value: 0.7769249163079867.\u001b[0m\n",
            "\u001b[32m[I 2020-11-07 09:49:40,139]\u001b[0m Trial 74 finished with value: 0.7655268611509646 and parameters: {'classifier': 'RandomForest', 'n_estimators': 1280, 'max_depth': 52.58935729627535}. Best is trial 41 with value: 0.7769249163079867.\u001b[0m\n",
            "\u001b[32m[I 2020-11-07 09:49:46,836]\u001b[0m Trial 75 finished with value: 0.7720229555236728 and parameters: {'classifier': 'RandomForest', 'n_estimators': 1540, 'max_depth': 29.183214355018862}. Best is trial 41 with value: 0.7769249163079867.\u001b[0m\n",
            "\u001b[32m[I 2020-11-07 09:49:53,703]\u001b[0m Trial 76 finished with value: 0.772038896859557 and parameters: {'classifier': 'RandomForest', 'n_estimators': 1580, 'max_depth': 93.25053859608988}. Best is trial 41 with value: 0.7769249163079867.\u001b[0m\n",
            "\u001b[32m[I 2020-11-07 09:49:53,752]\u001b[0m Trial 77 finished with value: 0.6530926191614858 and parameters: {'classifier': 'SVC', 'svc_c': 0.00013805142407248967}. Best is trial 41 with value: 0.7769249163079867.\u001b[0m\n",
            "\u001b[32m[I 2020-11-07 09:49:59,664]\u001b[0m Trial 78 finished with value: 0.7687709230033476 and parameters: {'classifier': 'RandomForest', 'n_estimators': 1350, 'max_depth': 87.4510971066798}. Best is trial 41 with value: 0.7769249163079867.\u001b[0m\n",
            "\u001b[32m[I 2020-11-07 09:50:08,305]\u001b[0m Trial 79 finished with value: 0.772038896859557 and parameters: {'classifier': 'RandomForest', 'n_estimators': 1980, 'max_depth': 58.57011965780695}. Best is trial 41 with value: 0.7769249163079867.\u001b[0m\n",
            "\u001b[32m[I 2020-11-07 09:50:11,669]\u001b[0m Trial 80 finished with value: 0.7736649131197195 and parameters: {'classifier': 'RandomForest', 'n_estimators': 770, 'max_depth': 46.65526395831218}. Best is trial 41 with value: 0.7769249163079867.\u001b[0m\n",
            "\u001b[32m[I 2020-11-07 09:50:15,933]\u001b[0m Trial 81 finished with value: 0.7687709230033476 and parameters: {'classifier': 'RandomForest', 'n_estimators': 980, 'max_depth': 65.39564385033816}. Best is trial 41 with value: 0.7769249163079867.\u001b[0m\n",
            "\u001b[32m[I 2020-11-07 09:50:18,276]\u001b[0m Trial 82 finished with value: 0.7703969392635103 and parameters: {'classifier': 'RandomForest', 'n_estimators': 530, 'max_depth': 98.96846917894307}. Best is trial 41 with value: 0.7769249163079867.\u001b[0m\n",
            "\u001b[32m[I 2020-11-07 09:50:20,806]\u001b[0m Trial 83 finished with value: 0.7736728837876615 and parameters: {'classifier': 'RandomForest', 'n_estimators': 580, 'max_depth': 77.2335094434478}. Best is trial 41 with value: 0.7769249163079867.\u001b[0m\n",
            "\u001b[32m[I 2020-11-07 09:50:22,664]\u001b[0m Trial 84 finished with value: 0.7769249163079867 and parameters: {'classifier': 'RandomForest', 'n_estimators': 420, 'max_depth': 75.63151254404556}. Best is trial 41 with value: 0.7769249163079867.\u001b[0m\n",
            "\u001b[32m[I 2020-11-07 09:50:24,431]\u001b[0m Trial 85 finished with value: 0.7704128805993943 and parameters: {'classifier': 'RandomForest', 'n_estimators': 400, 'max_depth': 74.1063593318148}. Best is trial 41 with value: 0.7769249163079867.\u001b[0m\n",
            "\u001b[32m[I 2020-11-07 09:50:25,504]\u001b[0m Trial 86 finished with value: 0.7687709230033476 and parameters: {'classifier': 'RandomForest', 'n_estimators': 240, 'max_depth': 82.48514736036189}. Best is trial 41 with value: 0.7769249163079867.\u001b[0m\n",
            "\u001b[32m[I 2020-11-07 09:50:27,565]\u001b[0m Trial 87 finished with value: 0.7687549816674637 and parameters: {'classifier': 'RandomForest', 'n_estimators': 470, 'max_depth': 76.00244286328596}. Best is trial 41 with value: 0.7769249163079867.\u001b[0m\n",
            "\u001b[32m[I 2020-11-07 09:50:30,477]\u001b[0m Trial 88 finished with value: 0.7687788936712897 and parameters: {'classifier': 'RandomForest', 'n_estimators': 660, 'max_depth': 32.52714724332147}. Best is trial 41 with value: 0.7769249163079867.\u001b[0m\n",
            "\u001b[32m[I 2020-11-07 09:50:31,968]\u001b[0m Trial 89 finished with value: 0.7622349752909293 and parameters: {'classifier': 'RandomForest', 'n_estimators': 330, 'max_depth': 69.73604974887012}. Best is trial 41 with value: 0.7769249163079867.\u001b[0m\n",
            "\u001b[32m[I 2020-11-07 09:50:33,694]\u001b[0m Trial 90 finished with value: 0.7752909293798821 and parameters: {'classifier': 'RandomForest', 'n_estimators': 390, 'max_depth': 85.72536170833567}. Best is trial 41 with value: 0.7769249163079867.\u001b[0m\n",
            "\u001b[32m[I 2020-11-07 09:50:35,599]\u001b[0m Trial 91 finished with value: 0.7752749880439981 and parameters: {'classifier': 'RandomForest', 'n_estimators': 430, 'max_depth': 83.49395064469616}. Best is trial 41 with value: 0.7769249163079867.\u001b[0m\n",
            "\u001b[32m[I 2020-11-07 09:50:37,374]\u001b[0m Trial 92 finished with value: 0.7703969392635103 and parameters: {'classifier': 'RandomForest', 'n_estimators': 400, 'max_depth': 85.04130032890805}. Best is trial 41 with value: 0.7769249163079867.\u001b[0m\n",
            "\u001b[32m[I 2020-11-07 09:50:38,726]\u001b[0m Trial 93 finished with value: 0.7752909293798821 and parameters: {'classifier': 'RandomForest', 'n_estimators': 300, 'max_depth': 93.01257637754354}. Best is trial 41 with value: 0.7769249163079867.\u001b[0m\n",
            "\u001b[32m[I 2020-11-07 09:50:40,103]\u001b[0m Trial 94 finished with value: 0.7655188904830225 and parameters: {'classifier': 'RandomForest', 'n_estimators': 310, 'max_depth': 90.18405964731953}. Best is trial 41 with value: 0.7769249163079867.\u001b[0m\n",
            "\u001b[32m[I 2020-11-07 09:50:42,049]\u001b[0m Trial 95 finished with value: 0.7752909293798821 and parameters: {'classifier': 'RandomForest', 'n_estimators': 440, 'max_depth': 79.38568788231291}. Best is trial 41 with value: 0.7769249163079867.\u001b[0m\n",
            "\u001b[32m[I 2020-11-07 09:50:43,088]\u001b[0m Trial 96 finished with value: 0.7704208512673363 and parameters: {'classifier': 'RandomForest', 'n_estimators': 230, 'max_depth': 80.25632818006979}. Best is trial 41 with value: 0.7769249163079867.\u001b[0m\n",
            "\u001b[32m[I 2020-11-07 09:50:44,380]\u001b[0m Trial 97 finished with value: 0.7655109198150805 and parameters: {'classifier': 'RandomForest', 'n_estimators': 290, 'max_depth': 72.60181912398701}. Best is trial 41 with value: 0.7769249163079867.\u001b[0m\n",
            "\u001b[32m[I 2020-11-07 09:50:44,453]\u001b[0m Trial 98 finished with value: 0.6530926191614858 and parameters: {'classifier': 'SVC', 'svc_c': 179007.30734861095}. Best is trial 41 with value: 0.7769249163079867.\u001b[0m\n",
            "\u001b[32m[I 2020-11-07 09:50:46,006]\u001b[0m Trial 99 finished with value: 0.7655268611509646 and parameters: {'classifier': 'RandomForest', 'n_estimators': 350, 'max_depth': 95.76523208454782}. Best is trial 41 with value: 0.7769249163079867.\u001b[0m\n"
          ],
          "name": "stderr"
        },
        {
          "output_type": "stream",
          "text": [
            "Accuracy: 0.7769249163079867\n",
            "Best hyperparameters: {'classifier': 'RandomForest', 'n_estimators': 550, 'max_depth': 37.36591231904357}\n"
          ],
          "name": "stdout"
        }
      ]
    },
    {
      "cell_type": "code",
      "metadata": {
        "id": "SNkV44NbefTZ",
        "outputId": "2b0c486c-7b45-4176-ca95-83b8ed01df68",
        "colab": {
          "base_uri": "https://localhost:8080/"
        }
      },
      "source": [
        "trial"
      ],
      "execution_count": 53,
      "outputs": [
        {
          "output_type": "execute_result",
          "data": {
            "text/plain": [
              "FrozenTrial(number=41, value=0.7769249163079867, datetime_start=datetime.datetime(2020, 11, 7, 9, 47, 44, 438437), datetime_complete=datetime.datetime(2020, 11, 7, 9, 47, 46, 835139), params={'classifier': 'RandomForest', 'n_estimators': 550, 'max_depth': 37.36591231904357}, distributions={'classifier': CategoricalDistribution(choices=('RandomForest', 'SVC')), 'n_estimators': IntUniformDistribution(high=2000, low=200, step=10), 'max_depth': LogUniformDistribution(high=100, low=10)}, user_attrs={}, system_attrs={}, intermediate_values={}, trial_id=41, state=TrialState.COMPLETE)"
            ]
          },
          "metadata": {
            "tags": []
          },
          "execution_count": 53
        }
      ]
    },
    {
      "cell_type": "code",
      "metadata": {
        "id": "FTWPR7q0egSc",
        "outputId": "4662faf5-1f70-45e2-ec6f-5ba85c5ff93b",
        "colab": {
          "base_uri": "https://localhost:8080/"
        }
      },
      "source": [
        "\n",
        "study.best_params"
      ],
      "execution_count": 54,
      "outputs": [
        {
          "output_type": "execute_result",
          "data": {
            "text/plain": [
              "{'classifier': 'RandomForest',\n",
              " 'max_depth': 37.36591231904357,\n",
              " 'n_estimators': 550}"
            ]
          },
          "metadata": {
            "tags": []
          },
          "execution_count": 54
        }
      ]
    },
    {
      "cell_type": "code",
      "metadata": {
        "id": "Obec7nl_ejq3",
        "outputId": "b4c1f20e-9ff0-4c9c-b329-6107eec9e4d6",
        "colab": {
          "base_uri": "https://localhost:8080/"
        }
      },
      "source": [
        "rf=RandomForestClassifier(n_estimators=330,max_depth=30)\n",
        "rf.fit(X_train,y_train)"
      ],
      "execution_count": 55,
      "outputs": [
        {
          "output_type": "execute_result",
          "data": {
            "text/plain": [
              "RandomForestClassifier(bootstrap=True, ccp_alpha=0.0, class_weight=None,\n",
              "                       criterion='gini', max_depth=30, max_features='auto',\n",
              "                       max_leaf_nodes=None, max_samples=None,\n",
              "                       min_impurity_decrease=0.0, min_impurity_split=None,\n",
              "                       min_samples_leaf=1, min_samples_split=2,\n",
              "                       min_weight_fraction_leaf=0.0, n_estimators=330,\n",
              "                       n_jobs=None, oob_score=False, random_state=None,\n",
              "                       verbose=0, warm_start=False)"
            ]
          },
          "metadata": {
            "tags": []
          },
          "execution_count": 55
        }
      ]
    },
    {
      "cell_type": "code",
      "metadata": {
        "id": "lX_84Er5etAX",
        "outputId": "336ade4c-527a-4201-8852-530a6b06e71d",
        "colab": {
          "base_uri": "https://localhost:8080/"
        }
      },
      "source": [
        "y_pred=rf.predict(X_test)\n",
        "print(confusion_matrix(y_test,y_pred))\n",
        "print(accuracy_score(y_test,y_pred))\n",
        "print(classification_report(y_test,y_pred))"
      ],
      "execution_count": 56,
      "outputs": [
        {
          "output_type": "stream",
          "text": [
            "[[85 14]\n",
            " [25 30]]\n",
            "0.7467532467532467\n",
            "              precision    recall  f1-score   support\n",
            "\n",
            "           0       0.77      0.86      0.81        99\n",
            "           1       0.68      0.55      0.61        55\n",
            "\n",
            "    accuracy                           0.75       154\n",
            "   macro avg       0.73      0.70      0.71       154\n",
            "weighted avg       0.74      0.75      0.74       154\n",
            "\n"
          ],
          "name": "stdout"
        }
      ]
    },
    {
      "cell_type": "markdown",
      "metadata": {
        "id": "V1FI9PA5d4nQ"
      },
      "source": [
        "## Plotting the study"
      ]
    },
    {
      "cell_type": "markdown",
      "metadata": {
        "id": "i9s_Plc2dsGQ"
      },
      "source": [
        "**Plotting the optimizaion history of study**"
      ]
    },
    {
      "cell_type": "code",
      "metadata": {
        "id": "wxpDW8lvdOm5",
        "outputId": "26f23be9-b4be-44b2-e68a-6937901eeb8f",
        "colab": {
          "base_uri": "https://localhost:8080/",
          "height": 542
        }
      },
      "source": [
        "optuna.visualization.plot_optimization_history(study)"
      ],
      "execution_count": 57,
      "outputs": [
        {
          "output_type": "display_data",
          "data": {
            "text/html": [
              "<html>\n",
              "<head><meta charset=\"utf-8\" /></head>\n",
              "<body>\n",
              "    <div>\n",
              "            <script src=\"https://cdnjs.cloudflare.com/ajax/libs/mathjax/2.7.5/MathJax.js?config=TeX-AMS-MML_SVG\"></script><script type=\"text/javascript\">if (window.MathJax) {MathJax.Hub.Config({SVG: {font: \"STIX-Web\"}});}</script>\n",
              "                <script type=\"text/javascript\">window.PlotlyConfig = {MathJaxConfig: 'local'};</script>\n",
              "        <script src=\"https://cdn.plot.ly/plotly-latest.min.js\"></script>    \n",
              "            <div id=\"25ca566a-00ea-40df-85ad-9dabc089d163\" class=\"plotly-graph-div\" style=\"height:525px; width:100%;\"></div>\n",
              "            <script type=\"text/javascript\">\n",
              "                \n",
              "                    window.PLOTLYENV=window.PLOTLYENV || {};\n",
              "                    \n",
              "                if (document.getElementById(\"25ca566a-00ea-40df-85ad-9dabc089d163\")) {\n",
              "                    Plotly.newPlot(\n",
              "                        '25ca566a-00ea-40df-85ad-9dabc089d163',\n",
              "                        [{\"mode\": \"markers\", \"name\": \"Objective Value\", \"type\": \"scatter\", \"x\": [0, 1, 2, 3, 4, 5, 6, 7, 8, 9, 10, 11, 12, 13, 14, 15, 16, 17, 18, 19, 20, 21, 22, 23, 24, 25, 26, 27, 28, 29, 30, 31, 32, 33, 34, 35, 36, 37, 38, 39, 40, 41, 42, 43, 44, 45, 46, 47, 48, 49, 50, 51, 52, 53, 54, 55, 56, 57, 58, 59, 60, 61, 62, 63, 64, 65, 66, 67, 68, 69, 70, 71, 72, 73, 74, 75, 76, 77, 78, 79, 80, 81, 82, 83, 84, 85, 86, 87, 88, 89, 90, 91, 92, 93, 94, 95, 96, 97, 98, 99], \"y\": [0.7671528774111271, 0.6530926191614858, 0.7687868643392317, 0.6530926191614858, 0.7736649131197195, 0.6530926191614858, 0.6530926191614858, 0.772038896859557, 0.6530926191614858, 0.7720468675274988, 0.7687788936712897, 0.7720229555236728, 0.7704128805993943, 0.7752989000478241, 0.7769169456400448, 0.7704049099314524, 0.7687788936712897, 0.7655268611509646, 0.7752829587119402, 0.7704049099314524, 0.7704128805993943, 0.7655268611509646, 0.7736649131197195, 0.7655268611509646, 0.7720229555236728, 0.7752749880439981, 0.767144906743185, 0.7736649131197195, 0.7703969392635103, 0.7687868643392317, 0.7639088155587439, 0.7704208512673363, 0.7687709230033476, 0.7655109198150805, 0.7736649131197195, 0.6530926191614858, 0.7671289654073011, 0.7622668579626972, 0.6530926191614858, 0.7638849035549179, 0.6530926191614858, 0.7769249163079867, 0.7736569424517775, 0.772030926191615, 0.7671528774111271, 0.7606249003666506, 0.7638849035549179, 0.7752829587119402, 0.7687709230033476, 0.7687868643392317, 0.6530926191614858, 0.7655188904830225, 0.7704049099314524, 0.7703969392635103, 0.7655029491471385, 0.772030926191615, 0.7622668579626972, 0.7703969392635103, 0.7638928742228598, 0.7736569424517775, 0.772038896859557, 0.7704049099314524, 0.767144906743185, 0.7655109198150805, 0.7606328710345927, 0.7687788936712897, 0.7736649131197195, 0.7622509166268133, 0.7687709230033476, 0.767136936075243, 0.7752989000478241, 0.7687788936712897, 0.7638769328869759, 0.772030926191615, 0.7655268611509646, 0.7720229555236728, 0.772038896859557, 0.6530926191614858, 0.7687709230033476, 0.772038896859557, 0.7736649131197195, 0.7687709230033476, 0.7703969392635103, 0.7736728837876615, 0.7769249163079867, 0.7704128805993943, 0.7687709230033476, 0.7687549816674637, 0.7687788936712897, 0.7622349752909293, 0.7752909293798821, 0.7752749880439981, 0.7703969392635103, 0.7752909293798821, 0.7655188904830225, 0.7752909293798821, 0.7704208512673363, 0.7655109198150805, 0.6530926191614858, 0.7655268611509646]}, {\"name\": \"Best Value\", \"type\": \"scatter\", \"x\": [0, 1, 2, 3, 4, 5, 6, 7, 8, 9, 10, 11, 12, 13, 14, 15, 16, 17, 18, 19, 20, 21, 22, 23, 24, 25, 26, 27, 28, 29, 30, 31, 32, 33, 34, 35, 36, 37, 38, 39, 40, 41, 42, 43, 44, 45, 46, 47, 48, 49, 50, 51, 52, 53, 54, 55, 56, 57, 58, 59, 60, 61, 62, 63, 64, 65, 66, 67, 68, 69, 70, 71, 72, 73, 74, 75, 76, 77, 78, 79, 80, 81, 82, 83, 84, 85, 86, 87, 88, 89, 90, 91, 92, 93, 94, 95, 96, 97, 98, 99], \"y\": [0.7671528774111271, 0.7671528774111271, 0.7687868643392317, 0.7687868643392317, 0.7736649131197195, 0.7736649131197195, 0.7736649131197195, 0.7736649131197195, 0.7736649131197195, 0.7736649131197195, 0.7736649131197195, 0.7736649131197195, 0.7736649131197195, 0.7752989000478241, 0.7769169456400448, 0.7769169456400448, 0.7769169456400448, 0.7769169456400448, 0.7769169456400448, 0.7769169456400448, 0.7769169456400448, 0.7769169456400448, 0.7769169456400448, 0.7769169456400448, 0.7769169456400448, 0.7769169456400448, 0.7769169456400448, 0.7769169456400448, 0.7769169456400448, 0.7769169456400448, 0.7769169456400448, 0.7769169456400448, 0.7769169456400448, 0.7769169456400448, 0.7769169456400448, 0.7769169456400448, 0.7769169456400448, 0.7769169456400448, 0.7769169456400448, 0.7769169456400448, 0.7769169456400448, 0.7769249163079867, 0.7769249163079867, 0.7769249163079867, 0.7769249163079867, 0.7769249163079867, 0.7769249163079867, 0.7769249163079867, 0.7769249163079867, 0.7769249163079867, 0.7769249163079867, 0.7769249163079867, 0.7769249163079867, 0.7769249163079867, 0.7769249163079867, 0.7769249163079867, 0.7769249163079867, 0.7769249163079867, 0.7769249163079867, 0.7769249163079867, 0.7769249163079867, 0.7769249163079867, 0.7769249163079867, 0.7769249163079867, 0.7769249163079867, 0.7769249163079867, 0.7769249163079867, 0.7769249163079867, 0.7769249163079867, 0.7769249163079867, 0.7769249163079867, 0.7769249163079867, 0.7769249163079867, 0.7769249163079867, 0.7769249163079867, 0.7769249163079867, 0.7769249163079867, 0.7769249163079867, 0.7769249163079867, 0.7769249163079867, 0.7769249163079867, 0.7769249163079867, 0.7769249163079867, 0.7769249163079867, 0.7769249163079867, 0.7769249163079867, 0.7769249163079867, 0.7769249163079867, 0.7769249163079867, 0.7769249163079867, 0.7769249163079867, 0.7769249163079867, 0.7769249163079867, 0.7769249163079867, 0.7769249163079867, 0.7769249163079867, 0.7769249163079867, 0.7769249163079867, 0.7769249163079867, 0.7769249163079867]}],\n",
              "                        {\"template\": {\"data\": {\"bar\": [{\"error_x\": {\"color\": \"#2a3f5f\"}, \"error_y\": {\"color\": \"#2a3f5f\"}, \"marker\": {\"line\": {\"color\": \"#E5ECF6\", \"width\": 0.5}}, \"type\": \"bar\"}], \"barpolar\": [{\"marker\": {\"line\": {\"color\": \"#E5ECF6\", \"width\": 0.5}}, \"type\": \"barpolar\"}], \"carpet\": [{\"aaxis\": {\"endlinecolor\": \"#2a3f5f\", \"gridcolor\": \"white\", \"linecolor\": \"white\", \"minorgridcolor\": \"white\", \"startlinecolor\": \"#2a3f5f\"}, \"baxis\": {\"endlinecolor\": \"#2a3f5f\", \"gridcolor\": \"white\", \"linecolor\": \"white\", \"minorgridcolor\": \"white\", \"startlinecolor\": \"#2a3f5f\"}, \"type\": \"carpet\"}], \"choropleth\": [{\"colorbar\": {\"outlinewidth\": 0, \"ticks\": \"\"}, \"type\": \"choropleth\"}], \"contour\": [{\"colorbar\": {\"outlinewidth\": 0, \"ticks\": \"\"}, \"colorscale\": [[0.0, \"#0d0887\"], [0.1111111111111111, \"#46039f\"], [0.2222222222222222, \"#7201a8\"], [0.3333333333333333, \"#9c179e\"], [0.4444444444444444, \"#bd3786\"], [0.5555555555555556, \"#d8576b\"], [0.6666666666666666, \"#ed7953\"], [0.7777777777777778, \"#fb9f3a\"], [0.8888888888888888, \"#fdca26\"], [1.0, \"#f0f921\"]], \"type\": \"contour\"}], \"contourcarpet\": [{\"colorbar\": {\"outlinewidth\": 0, \"ticks\": \"\"}, \"type\": \"contourcarpet\"}], \"heatmap\": [{\"colorbar\": {\"outlinewidth\": 0, \"ticks\": \"\"}, \"colorscale\": [[0.0, \"#0d0887\"], [0.1111111111111111, \"#46039f\"], [0.2222222222222222, \"#7201a8\"], [0.3333333333333333, \"#9c179e\"], [0.4444444444444444, \"#bd3786\"], [0.5555555555555556, \"#d8576b\"], [0.6666666666666666, \"#ed7953\"], [0.7777777777777778, \"#fb9f3a\"], [0.8888888888888888, \"#fdca26\"], [1.0, \"#f0f921\"]], \"type\": \"heatmap\"}], \"heatmapgl\": [{\"colorbar\": {\"outlinewidth\": 0, \"ticks\": \"\"}, \"colorscale\": [[0.0, \"#0d0887\"], [0.1111111111111111, \"#46039f\"], [0.2222222222222222, \"#7201a8\"], [0.3333333333333333, \"#9c179e\"], [0.4444444444444444, \"#bd3786\"], [0.5555555555555556, \"#d8576b\"], [0.6666666666666666, \"#ed7953\"], [0.7777777777777778, \"#fb9f3a\"], [0.8888888888888888, \"#fdca26\"], [1.0, \"#f0f921\"]], \"type\": \"heatmapgl\"}], \"histogram\": [{\"marker\": {\"colorbar\": {\"outlinewidth\": 0, \"ticks\": \"\"}}, \"type\": \"histogram\"}], \"histogram2d\": [{\"colorbar\": {\"outlinewidth\": 0, \"ticks\": \"\"}, \"colorscale\": [[0.0, \"#0d0887\"], [0.1111111111111111, \"#46039f\"], [0.2222222222222222, \"#7201a8\"], [0.3333333333333333, \"#9c179e\"], [0.4444444444444444, \"#bd3786\"], [0.5555555555555556, \"#d8576b\"], [0.6666666666666666, \"#ed7953\"], [0.7777777777777778, \"#fb9f3a\"], [0.8888888888888888, \"#fdca26\"], [1.0, \"#f0f921\"]], \"type\": \"histogram2d\"}], \"histogram2dcontour\": [{\"colorbar\": {\"outlinewidth\": 0, \"ticks\": \"\"}, \"colorscale\": [[0.0, \"#0d0887\"], [0.1111111111111111, \"#46039f\"], [0.2222222222222222, \"#7201a8\"], [0.3333333333333333, \"#9c179e\"], [0.4444444444444444, \"#bd3786\"], [0.5555555555555556, \"#d8576b\"], [0.6666666666666666, \"#ed7953\"], [0.7777777777777778, \"#fb9f3a\"], [0.8888888888888888, \"#fdca26\"], [1.0, \"#f0f921\"]], \"type\": \"histogram2dcontour\"}], \"mesh3d\": [{\"colorbar\": {\"outlinewidth\": 0, \"ticks\": \"\"}, \"type\": \"mesh3d\"}], \"parcoords\": [{\"line\": {\"colorbar\": {\"outlinewidth\": 0, \"ticks\": \"\"}}, \"type\": \"parcoords\"}], \"pie\": [{\"automargin\": true, \"type\": \"pie\"}], \"scatter\": [{\"marker\": {\"colorbar\": {\"outlinewidth\": 0, \"ticks\": \"\"}}, \"type\": \"scatter\"}], \"scatter3d\": [{\"line\": {\"colorbar\": {\"outlinewidth\": 0, \"ticks\": \"\"}}, \"marker\": {\"colorbar\": {\"outlinewidth\": 0, \"ticks\": \"\"}}, \"type\": \"scatter3d\"}], \"scattercarpet\": [{\"marker\": {\"colorbar\": {\"outlinewidth\": 0, \"ticks\": \"\"}}, \"type\": \"scattercarpet\"}], \"scattergeo\": [{\"marker\": {\"colorbar\": {\"outlinewidth\": 0, \"ticks\": \"\"}}, \"type\": \"scattergeo\"}], \"scattergl\": [{\"marker\": {\"colorbar\": {\"outlinewidth\": 0, \"ticks\": \"\"}}, \"type\": \"scattergl\"}], \"scattermapbox\": [{\"marker\": {\"colorbar\": {\"outlinewidth\": 0, \"ticks\": \"\"}}, \"type\": \"scattermapbox\"}], \"scatterpolar\": [{\"marker\": {\"colorbar\": {\"outlinewidth\": 0, \"ticks\": \"\"}}, \"type\": \"scatterpolar\"}], \"scatterpolargl\": [{\"marker\": {\"colorbar\": {\"outlinewidth\": 0, \"ticks\": \"\"}}, \"type\": \"scatterpolargl\"}], \"scatterternary\": [{\"marker\": {\"colorbar\": {\"outlinewidth\": 0, \"ticks\": \"\"}}, \"type\": \"scatterternary\"}], \"surface\": [{\"colorbar\": {\"outlinewidth\": 0, \"ticks\": \"\"}, \"colorscale\": [[0.0, \"#0d0887\"], [0.1111111111111111, \"#46039f\"], [0.2222222222222222, \"#7201a8\"], [0.3333333333333333, \"#9c179e\"], [0.4444444444444444, \"#bd3786\"], [0.5555555555555556, \"#d8576b\"], [0.6666666666666666, \"#ed7953\"], [0.7777777777777778, \"#fb9f3a\"], [0.8888888888888888, \"#fdca26\"], [1.0, \"#f0f921\"]], \"type\": \"surface\"}], \"table\": [{\"cells\": {\"fill\": {\"color\": \"#EBF0F8\"}, \"line\": {\"color\": \"white\"}}, \"header\": {\"fill\": {\"color\": \"#C8D4E3\"}, \"line\": {\"color\": \"white\"}}, \"type\": \"table\"}]}, \"layout\": {\"annotationdefaults\": {\"arrowcolor\": \"#2a3f5f\", \"arrowhead\": 0, \"arrowwidth\": 1}, \"coloraxis\": {\"colorbar\": {\"outlinewidth\": 0, \"ticks\": \"\"}}, \"colorscale\": {\"diverging\": [[0, \"#8e0152\"], [0.1, \"#c51b7d\"], [0.2, \"#de77ae\"], [0.3, \"#f1b6da\"], [0.4, \"#fde0ef\"], [0.5, \"#f7f7f7\"], [0.6, \"#e6f5d0\"], [0.7, \"#b8e186\"], [0.8, \"#7fbc41\"], [0.9, \"#4d9221\"], [1, \"#276419\"]], \"sequential\": [[0.0, \"#0d0887\"], [0.1111111111111111, \"#46039f\"], [0.2222222222222222, \"#7201a8\"], [0.3333333333333333, \"#9c179e\"], [0.4444444444444444, \"#bd3786\"], [0.5555555555555556, \"#d8576b\"], [0.6666666666666666, \"#ed7953\"], [0.7777777777777778, \"#fb9f3a\"], [0.8888888888888888, \"#fdca26\"], [1.0, \"#f0f921\"]], \"sequentialminus\": [[0.0, \"#0d0887\"], [0.1111111111111111, \"#46039f\"], [0.2222222222222222, \"#7201a8\"], [0.3333333333333333, \"#9c179e\"], [0.4444444444444444, \"#bd3786\"], [0.5555555555555556, \"#d8576b\"], [0.6666666666666666, \"#ed7953\"], [0.7777777777777778, \"#fb9f3a\"], [0.8888888888888888, \"#fdca26\"], [1.0, \"#f0f921\"]]}, \"colorway\": [\"#636efa\", \"#EF553B\", \"#00cc96\", \"#ab63fa\", \"#FFA15A\", \"#19d3f3\", \"#FF6692\", \"#B6E880\", \"#FF97FF\", \"#FECB52\"], \"font\": {\"color\": \"#2a3f5f\"}, \"geo\": {\"bgcolor\": \"white\", \"lakecolor\": \"white\", \"landcolor\": \"#E5ECF6\", \"showlakes\": true, \"showland\": true, \"subunitcolor\": \"white\"}, \"hoverlabel\": {\"align\": \"left\"}, \"hovermode\": \"closest\", \"mapbox\": {\"style\": \"light\"}, \"paper_bgcolor\": \"white\", \"plot_bgcolor\": \"#E5ECF6\", \"polar\": {\"angularaxis\": {\"gridcolor\": \"white\", \"linecolor\": \"white\", \"ticks\": \"\"}, \"bgcolor\": \"#E5ECF6\", \"radialaxis\": {\"gridcolor\": \"white\", \"linecolor\": \"white\", \"ticks\": \"\"}}, \"scene\": {\"xaxis\": {\"backgroundcolor\": \"#E5ECF6\", \"gridcolor\": \"white\", \"gridwidth\": 2, \"linecolor\": \"white\", \"showbackground\": true, \"ticks\": \"\", \"zerolinecolor\": \"white\"}, \"yaxis\": {\"backgroundcolor\": \"#E5ECF6\", \"gridcolor\": \"white\", \"gridwidth\": 2, \"linecolor\": \"white\", \"showbackground\": true, \"ticks\": \"\", \"zerolinecolor\": \"white\"}, \"zaxis\": {\"backgroundcolor\": \"#E5ECF6\", \"gridcolor\": \"white\", \"gridwidth\": 2, \"linecolor\": \"white\", \"showbackground\": true, \"ticks\": \"\", \"zerolinecolor\": \"white\"}}, \"shapedefaults\": {\"line\": {\"color\": \"#2a3f5f\"}}, \"ternary\": {\"aaxis\": {\"gridcolor\": \"white\", \"linecolor\": \"white\", \"ticks\": \"\"}, \"baxis\": {\"gridcolor\": \"white\", \"linecolor\": \"white\", \"ticks\": \"\"}, \"bgcolor\": \"#E5ECF6\", \"caxis\": {\"gridcolor\": \"white\", \"linecolor\": \"white\", \"ticks\": \"\"}}, \"title\": {\"x\": 0.05}, \"xaxis\": {\"automargin\": true, \"gridcolor\": \"white\", \"linecolor\": \"white\", \"ticks\": \"\", \"title\": {\"standoff\": 15}, \"zerolinecolor\": \"white\", \"zerolinewidth\": 2}, \"yaxis\": {\"automargin\": true, \"gridcolor\": \"white\", \"linecolor\": \"white\", \"ticks\": \"\", \"title\": {\"standoff\": 15}, \"zerolinecolor\": \"white\", \"zerolinewidth\": 2}}}, \"title\": {\"text\": \"Optimization History Plot\"}, \"xaxis\": {\"title\": {\"text\": \"#Trials\"}}, \"yaxis\": {\"title\": {\"text\": \"Objective Value\"}}},\n",
              "                        {\"responsive\": true}\n",
              "                    ).then(function(){\n",
              "                            \n",
              "var gd = document.getElementById('25ca566a-00ea-40df-85ad-9dabc089d163');\n",
              "var x = new MutationObserver(function (mutations, observer) {{\n",
              "        var display = window.getComputedStyle(gd).display;\n",
              "        if (!display || display === 'none') {{\n",
              "            console.log([gd, 'removed!']);\n",
              "            Plotly.purge(gd);\n",
              "            observer.disconnect();\n",
              "        }}\n",
              "}});\n",
              "\n",
              "// Listen for the removal of the full notebook cells\n",
              "var notebookContainer = gd.closest('#notebook-container');\n",
              "if (notebookContainer) {{\n",
              "    x.observe(notebookContainer, {childList: true});\n",
              "}}\n",
              "\n",
              "// Listen for the clearing of the current output cell\n",
              "var outputEl = gd.closest('.output');\n",
              "if (outputEl) {{\n",
              "    x.observe(outputEl, {childList: true});\n",
              "}}\n",
              "\n",
              "                        })\n",
              "                };\n",
              "                \n",
              "            </script>\n",
              "        </div>\n",
              "</body>\n",
              "</html>"
            ]
          },
          "metadata": {
            "tags": []
          }
        }
      ]
    },
    {
      "cell_type": "markdown",
      "metadata": {
        "id": "R6i4CHocebAM"
      },
      "source": [
        "**Plotting the accuracies for each hyperparameter for each trial**"
      ]
    },
    {
      "cell_type": "code",
      "metadata": {
        "id": "OZyOpwpceGQN",
        "outputId": "84d5c4a0-784a-4bc0-a440-f34b0ce5bb9d",
        "colab": {
          "base_uri": "https://localhost:8080/",
          "height": 542
        }
      },
      "source": [
        "optuna.visualization.plot_slice(study)"
      ],
      "execution_count": 58,
      "outputs": [
        {
          "output_type": "display_data",
          "data": {
            "text/html": [
              "<html>\n",
              "<head><meta charset=\"utf-8\" /></head>\n",
              "<body>\n",
              "    <div>\n",
              "            <script src=\"https://cdnjs.cloudflare.com/ajax/libs/mathjax/2.7.5/MathJax.js?config=TeX-AMS-MML_SVG\"></script><script type=\"text/javascript\">if (window.MathJax) {MathJax.Hub.Config({SVG: {font: \"STIX-Web\"}});}</script>\n",
              "                <script type=\"text/javascript\">window.PlotlyConfig = {MathJaxConfig: 'local'};</script>\n",
              "        <script src=\"https://cdn.plot.ly/plotly-latest.min.js\"></script>    \n",
              "            <div id=\"ad63e89b-5255-4fab-bc45-10caf261bd46\" class=\"plotly-graph-div\" style=\"height:525px; width:1200px;\"></div>\n",
              "            <script type=\"text/javascript\">\n",
              "                \n",
              "                    window.PLOTLYENV=window.PLOTLYENV || {};\n",
              "                    \n",
              "                if (document.getElementById(\"ad63e89b-5255-4fab-bc45-10caf261bd46\")) {\n",
              "                    Plotly.newPlot(\n",
              "                        'ad63e89b-5255-4fab-bc45-10caf261bd46',\n",
              "                        [{\"marker\": {\"color\": [0, 1, 2, 3, 4, 5, 6, 7, 8, 9, 10, 11, 12, 13, 14, 15, 16, 17, 18, 19, 20, 21, 22, 23, 24, 25, 26, 27, 28, 29, 30, 31, 32, 33, 34, 35, 36, 37, 38, 39, 40, 41, 42, 43, 44, 45, 46, 47, 48, 49, 50, 51, 52, 53, 54, 55, 56, 57, 58, 59, 60, 61, 62, 63, 64, 65, 66, 67, 68, 69, 70, 71, 72, 73, 74, 75, 76, 77, 78, 79, 80, 81, 82, 83, 84, 85, 86, 87, 88, 89, 90, 91, 92, 93, 94, 95, 96, 97, 98, 99], \"colorbar\": {\"title\": {\"text\": \"#Trials\"}, \"x\": 1.0, \"xpad\": 40}, \"colorscale\": [[0.0, \"rgb(247,251,255)\"], [0.125, \"rgb(222,235,247)\"], [0.25, \"rgb(198,219,239)\"], [0.375, \"rgb(158,202,225)\"], [0.5, \"rgb(107,174,214)\"], [0.625, \"rgb(66,146,198)\"], [0.75, \"rgb(33,113,181)\"], [0.875, \"rgb(8,81,156)\"], [1.0, \"rgb(8,48,107)\"]], \"line\": {\"color\": \"Grey\", \"width\": 0.5}, \"showscale\": true}, \"mode\": \"markers\", \"showlegend\": false, \"type\": \"scatter\", \"x\": [\"RandomForest\", \"SVC\", \"RandomForest\", \"SVC\", \"RandomForest\", \"SVC\", \"SVC\", \"RandomForest\", \"SVC\", \"RandomForest\", \"RandomForest\", \"RandomForest\", \"RandomForest\", \"RandomForest\", \"RandomForest\", \"RandomForest\", \"RandomForest\", \"RandomForest\", \"RandomForest\", \"RandomForest\", \"RandomForest\", \"RandomForest\", \"RandomForest\", \"RandomForest\", \"RandomForest\", \"RandomForest\", \"RandomForest\", \"RandomForest\", \"RandomForest\", \"RandomForest\", \"RandomForest\", \"RandomForest\", \"RandomForest\", \"RandomForest\", \"RandomForest\", \"SVC\", \"RandomForest\", \"RandomForest\", \"SVC\", \"RandomForest\", \"SVC\", \"RandomForest\", \"RandomForest\", \"RandomForest\", \"RandomForest\", \"RandomForest\", \"RandomForest\", \"RandomForest\", \"RandomForest\", \"RandomForest\", \"SVC\", \"RandomForest\", \"RandomForest\", \"RandomForest\", \"RandomForest\", \"RandomForest\", \"RandomForest\", \"RandomForest\", \"RandomForest\", \"RandomForest\", \"RandomForest\", \"RandomForest\", \"RandomForest\", \"RandomForest\", \"RandomForest\", \"RandomForest\", \"RandomForest\", \"RandomForest\", \"RandomForest\", \"RandomForest\", \"RandomForest\", \"RandomForest\", \"RandomForest\", \"RandomForest\", \"RandomForest\", \"RandomForest\", \"RandomForest\", \"SVC\", \"RandomForest\", \"RandomForest\", \"RandomForest\", \"RandomForest\", \"RandomForest\", \"RandomForest\", \"RandomForest\", \"RandomForest\", \"RandomForest\", \"RandomForest\", \"RandomForest\", \"RandomForest\", \"RandomForest\", \"RandomForest\", \"RandomForest\", \"RandomForest\", \"RandomForest\", \"RandomForest\", \"RandomForest\", \"RandomForest\", \"SVC\", \"RandomForest\"], \"xaxis\": \"x\", \"y\": [0.7671528774111271, 0.6530926191614858, 0.7687868643392317, 0.6530926191614858, 0.7736649131197195, 0.6530926191614858, 0.6530926191614858, 0.772038896859557, 0.6530926191614858, 0.7720468675274988, 0.7687788936712897, 0.7720229555236728, 0.7704128805993943, 0.7752989000478241, 0.7769169456400448, 0.7704049099314524, 0.7687788936712897, 0.7655268611509646, 0.7752829587119402, 0.7704049099314524, 0.7704128805993943, 0.7655268611509646, 0.7736649131197195, 0.7655268611509646, 0.7720229555236728, 0.7752749880439981, 0.767144906743185, 0.7736649131197195, 0.7703969392635103, 0.7687868643392317, 0.7639088155587439, 0.7704208512673363, 0.7687709230033476, 0.7655109198150805, 0.7736649131197195, 0.6530926191614858, 0.7671289654073011, 0.7622668579626972, 0.6530926191614858, 0.7638849035549179, 0.6530926191614858, 0.7769249163079867, 0.7736569424517775, 0.772030926191615, 0.7671528774111271, 0.7606249003666506, 0.7638849035549179, 0.7752829587119402, 0.7687709230033476, 0.7687868643392317, 0.6530926191614858, 0.7655188904830225, 0.7704049099314524, 0.7703969392635103, 0.7655029491471385, 0.772030926191615, 0.7622668579626972, 0.7703969392635103, 0.7638928742228598, 0.7736569424517775, 0.772038896859557, 0.7704049099314524, 0.767144906743185, 0.7655109198150805, 0.7606328710345927, 0.7687788936712897, 0.7736649131197195, 0.7622509166268133, 0.7687709230033476, 0.767136936075243, 0.7752989000478241, 0.7687788936712897, 0.7638769328869759, 0.772030926191615, 0.7655268611509646, 0.7720229555236728, 0.772038896859557, 0.6530926191614858, 0.7687709230033476, 0.772038896859557, 0.7736649131197195, 0.7687709230033476, 0.7703969392635103, 0.7736728837876615, 0.7769249163079867, 0.7704128805993943, 0.7687709230033476, 0.7687549816674637, 0.7687788936712897, 0.7622349752909293, 0.7752909293798821, 0.7752749880439981, 0.7703969392635103, 0.7752909293798821, 0.7655188904830225, 0.7752909293798821, 0.7704208512673363, 0.7655109198150805, 0.6530926191614858, 0.7655268611509646], \"yaxis\": \"y\"}, {\"marker\": {\"color\": [0, 2, 4, 7, 9, 10, 11, 12, 13, 14, 15, 16, 17, 18, 19, 20, 21, 22, 23, 24, 25, 26, 27, 28, 29, 30, 31, 32, 33, 34, 36, 37, 39, 41, 42, 43, 44, 45, 46, 47, 48, 49, 51, 52, 53, 54, 55, 56, 57, 58, 59, 60, 61, 62, 63, 64, 65, 66, 67, 68, 69, 70, 71, 72, 73, 74, 75, 76, 78, 79, 80, 81, 82, 83, 84, 85, 86, 87, 88, 89, 90, 91, 92, 93, 94, 95, 96, 97, 99], \"colorbar\": {\"title\": {\"text\": \"#Trials\"}, \"x\": 1.0, \"xpad\": 40}, \"colorscale\": [[0.0, \"rgb(247,251,255)\"], [0.125, \"rgb(222,235,247)\"], [0.25, \"rgb(198,219,239)\"], [0.375, \"rgb(158,202,225)\"], [0.5, \"rgb(107,174,214)\"], [0.625, \"rgb(66,146,198)\"], [0.75, \"rgb(33,113,181)\"], [0.875, \"rgb(8,81,156)\"], [1.0, \"rgb(8,48,107)\"]], \"line\": {\"color\": \"Grey\", \"width\": 0.5}, \"showscale\": false}, \"mode\": \"markers\", \"showlegend\": false, \"type\": \"scatter\", \"x\": [26.88969370720006, 10.558708649211074, 11.826625851340674, 19.35765651524278, 77.68004545206622, 10.292291805381785, 98.0967162343124, 83.04327562087734, 54.0075957664511, 49.115148804082835, 50.37995865489235, 47.0438431122642, 52.05960913019239, 36.67624201412377, 64.06484116778154, 30.322455519367224, 40.49172691383036, 37.75332870669196, 61.249315706374226, 20.56461077964048, 37.52131766177265, 25.283392313787928, 62.64406078047532, 43.848831308970404, 30.982458364381465, 80.65147236146993, 35.8530912053142, 55.05628125336585, 34.85189860369787, 42.61135136284449, 25.791244138976534, 22.33245901286248, 30.6970002937702, 37.36591231904357, 39.176360288789944, 45.758680441829995, 55.55313335145694, 34.68618272435875, 15.08959465223565, 27.528005290395367, 27.705585157196623, 69.49443157815287, 48.529329924129044, 33.05684451127388, 40.16841854504082, 27.575424183794233, 52.57955982627725, 16.751074112363558, 23.942509577346407, 44.72416965513553, 37.99860973706503, 28.300035271147067, 62.40440263554319, 42.80386901283265, 42.207251867389765, 48.34031558025404, 57.55078560283737, 93.60283410146837, 33.160318824977814, 73.22191554687411, 38.93525207491412, 69.55474440201527, 10.416839127939792, 67.69966526968388, 36.35982867131296, 52.58935729627535, 29.183214355018862, 93.25053859608988, 87.4510971066798, 58.57011965780695, 46.65526395831218, 65.39564385033816, 98.96846917894307, 77.2335094434478, 75.63151254404556, 74.1063593318148, 82.48514736036189, 76.00244286328596, 32.52714724332147, 69.73604974887012, 85.72536170833567, 83.49395064469616, 85.04130032890805, 93.01257637754354, 90.18405964731953, 79.38568788231291, 80.25632818006979, 72.60181912398701, 95.76523208454782], \"xaxis\": \"x2\", \"y\": [0.7671528774111271, 0.7687868643392317, 0.7736649131197195, 0.772038896859557, 0.7720468675274988, 0.7687788936712897, 0.7720229555236728, 0.7704128805993943, 0.7752989000478241, 0.7769169456400448, 0.7704049099314524, 0.7687788936712897, 0.7655268611509646, 0.7752829587119402, 0.7704049099314524, 0.7704128805993943, 0.7655268611509646, 0.7736649131197195, 0.7655268611509646, 0.7720229555236728, 0.7752749880439981, 0.767144906743185, 0.7736649131197195, 0.7703969392635103, 0.7687868643392317, 0.7639088155587439, 0.7704208512673363, 0.7687709230033476, 0.7655109198150805, 0.7736649131197195, 0.7671289654073011, 0.7622668579626972, 0.7638849035549179, 0.7769249163079867, 0.7736569424517775, 0.772030926191615, 0.7671528774111271, 0.7606249003666506, 0.7638849035549179, 0.7752829587119402, 0.7687709230033476, 0.7687868643392317, 0.7655188904830225, 0.7704049099314524, 0.7703969392635103, 0.7655029491471385, 0.772030926191615, 0.7622668579626972, 0.7703969392635103, 0.7638928742228598, 0.7736569424517775, 0.772038896859557, 0.7704049099314524, 0.767144906743185, 0.7655109198150805, 0.7606328710345927, 0.7687788936712897, 0.7736649131197195, 0.7622509166268133, 0.7687709230033476, 0.767136936075243, 0.7752989000478241, 0.7687788936712897, 0.7638769328869759, 0.772030926191615, 0.7655268611509646, 0.7720229555236728, 0.772038896859557, 0.7687709230033476, 0.772038896859557, 0.7736649131197195, 0.7687709230033476, 0.7703969392635103, 0.7736728837876615, 0.7769249163079867, 0.7704128805993943, 0.7687709230033476, 0.7687549816674637, 0.7687788936712897, 0.7622349752909293, 0.7752909293798821, 0.7752749880439981, 0.7703969392635103, 0.7752909293798821, 0.7655188904830225, 0.7752909293798821, 0.7704208512673363, 0.7655109198150805, 0.7655268611509646], \"yaxis\": \"y2\"}, {\"marker\": {\"color\": [0, 2, 4, 7, 9, 10, 11, 12, 13, 14, 15, 16, 17, 18, 19, 20, 21, 22, 23, 24, 25, 26, 27, 28, 29, 30, 31, 32, 33, 34, 36, 37, 39, 41, 42, 43, 44, 45, 46, 47, 48, 49, 51, 52, 53, 54, 55, 56, 57, 58, 59, 60, 61, 62, 63, 64, 65, 66, 67, 68, 69, 70, 71, 72, 73, 74, 75, 76, 78, 79, 80, 81, 82, 83, 84, 85, 86, 87, 88, 89, 90, 91, 92, 93, 94, 95, 96, 97, 99], \"colorbar\": {\"title\": {\"text\": \"#Trials\"}, \"x\": 1.0, \"xpad\": 40}, \"colorscale\": [[0.0, \"rgb(247,251,255)\"], [0.125, \"rgb(222,235,247)\"], [0.25, \"rgb(198,219,239)\"], [0.375, \"rgb(158,202,225)\"], [0.5, \"rgb(107,174,214)\"], [0.625, \"rgb(66,146,198)\"], [0.75, \"rgb(33,113,181)\"], [0.875, \"rgb(8,81,156)\"], [1.0, \"rgb(8,48,107)\"]], \"line\": {\"color\": \"Grey\", \"width\": 0.5}, \"showscale\": false}, \"mode\": \"markers\", \"showlegend\": false, \"type\": \"scatter\", \"x\": [1080, 1370, 1850, 1440, 540, 2000, 210, 330, 720, 780, 810, 690, 970, 470, 1370, 750, 450, 570, 890, 200, 380, 660, 1140, 1000, 1180, 580, 430, 320, 410, 820, 640, 310, 460, 550, 540, 780, 910, 690, 520, 270, 200, 270, 410, 360, 620, 500, 730, 260, 360, 830, 1760, 580, 1200, 1040, 870, 710, 940, 1170, 820, 480, 610, 1470, 1740, 1120, 1480, 1280, 1540, 1580, 1350, 1980, 770, 980, 530, 580, 420, 400, 240, 470, 660, 330, 390, 430, 400, 300, 310, 440, 230, 290, 350], \"xaxis\": \"x3\", \"y\": [0.7671528774111271, 0.7687868643392317, 0.7736649131197195, 0.772038896859557, 0.7720468675274988, 0.7687788936712897, 0.7720229555236728, 0.7704128805993943, 0.7752989000478241, 0.7769169456400448, 0.7704049099314524, 0.7687788936712897, 0.7655268611509646, 0.7752829587119402, 0.7704049099314524, 0.7704128805993943, 0.7655268611509646, 0.7736649131197195, 0.7655268611509646, 0.7720229555236728, 0.7752749880439981, 0.767144906743185, 0.7736649131197195, 0.7703969392635103, 0.7687868643392317, 0.7639088155587439, 0.7704208512673363, 0.7687709230033476, 0.7655109198150805, 0.7736649131197195, 0.7671289654073011, 0.7622668579626972, 0.7638849035549179, 0.7769249163079867, 0.7736569424517775, 0.772030926191615, 0.7671528774111271, 0.7606249003666506, 0.7638849035549179, 0.7752829587119402, 0.7687709230033476, 0.7687868643392317, 0.7655188904830225, 0.7704049099314524, 0.7703969392635103, 0.7655029491471385, 0.772030926191615, 0.7622668579626972, 0.7703969392635103, 0.7638928742228598, 0.7736569424517775, 0.772038896859557, 0.7704049099314524, 0.767144906743185, 0.7655109198150805, 0.7606328710345927, 0.7687788936712897, 0.7736649131197195, 0.7622509166268133, 0.7687709230033476, 0.767136936075243, 0.7752989000478241, 0.7687788936712897, 0.7638769328869759, 0.772030926191615, 0.7655268611509646, 0.7720229555236728, 0.772038896859557, 0.7687709230033476, 0.772038896859557, 0.7736649131197195, 0.7687709230033476, 0.7703969392635103, 0.7736728837876615, 0.7769249163079867, 0.7704128805993943, 0.7687709230033476, 0.7687549816674637, 0.7687788936712897, 0.7622349752909293, 0.7752909293798821, 0.7752749880439981, 0.7703969392635103, 0.7752909293798821, 0.7655188904830225, 0.7752909293798821, 0.7704208512673363, 0.7655109198150805, 0.7655268611509646], \"yaxis\": \"y3\"}, {\"marker\": {\"color\": [1, 3, 5, 6, 8, 35, 38, 40, 50, 77, 98], \"colorbar\": {\"title\": {\"text\": \"#Trials\"}, \"x\": 1.0, \"xpad\": 40}, \"colorscale\": [[0.0, \"rgb(247,251,255)\"], [0.125, \"rgb(222,235,247)\"], [0.25, \"rgb(198,219,239)\"], [0.375, \"rgb(158,202,225)\"], [0.5, \"rgb(107,174,214)\"], [0.625, \"rgb(66,146,198)\"], [0.75, \"rgb(33,113,181)\"], [0.875, \"rgb(8,81,156)\"], [1.0, \"rgb(8,48,107)\"]], \"line\": {\"color\": \"Grey\", \"width\": 0.5}, \"showscale\": false}, \"mode\": \"markers\", \"showlegend\": false, \"type\": \"scatter\", \"x\": [5.1780827240441644e-08, 0.000784402714564795, 265.5943956717908, 1.4073760605348937, 30.07164935945877, 4027781699.037802, 599834810.2417523, 2.3806049332804954e-09, 1035078.3839054542, 0.00013805142407248967, 179007.30734861095], \"xaxis\": \"x4\", \"y\": [0.6530926191614858, 0.6530926191614858, 0.6530926191614858, 0.6530926191614858, 0.6530926191614858, 0.6530926191614858, 0.6530926191614858, 0.6530926191614858, 0.6530926191614858, 0.6530926191614858, 0.6530926191614858], \"yaxis\": \"y4\"}],\n",
              "                        {\"template\": {\"data\": {\"bar\": [{\"error_x\": {\"color\": \"#2a3f5f\"}, \"error_y\": {\"color\": \"#2a3f5f\"}, \"marker\": {\"line\": {\"color\": \"#E5ECF6\", \"width\": 0.5}}, \"type\": \"bar\"}], \"barpolar\": [{\"marker\": {\"line\": {\"color\": \"#E5ECF6\", \"width\": 0.5}}, \"type\": \"barpolar\"}], \"carpet\": [{\"aaxis\": {\"endlinecolor\": \"#2a3f5f\", \"gridcolor\": \"white\", \"linecolor\": \"white\", \"minorgridcolor\": \"white\", \"startlinecolor\": \"#2a3f5f\"}, \"baxis\": {\"endlinecolor\": \"#2a3f5f\", \"gridcolor\": \"white\", \"linecolor\": \"white\", \"minorgridcolor\": \"white\", \"startlinecolor\": \"#2a3f5f\"}, \"type\": \"carpet\"}], \"choropleth\": [{\"colorbar\": {\"outlinewidth\": 0, \"ticks\": \"\"}, \"type\": \"choropleth\"}], \"contour\": [{\"colorbar\": {\"outlinewidth\": 0, \"ticks\": \"\"}, \"colorscale\": [[0.0, \"#0d0887\"], [0.1111111111111111, \"#46039f\"], [0.2222222222222222, \"#7201a8\"], [0.3333333333333333, \"#9c179e\"], [0.4444444444444444, \"#bd3786\"], [0.5555555555555556, \"#d8576b\"], [0.6666666666666666, \"#ed7953\"], [0.7777777777777778, \"#fb9f3a\"], [0.8888888888888888, \"#fdca26\"], [1.0, \"#f0f921\"]], \"type\": \"contour\"}], \"contourcarpet\": [{\"colorbar\": {\"outlinewidth\": 0, \"ticks\": \"\"}, \"type\": \"contourcarpet\"}], \"heatmap\": [{\"colorbar\": {\"outlinewidth\": 0, \"ticks\": \"\"}, \"colorscale\": [[0.0, \"#0d0887\"], [0.1111111111111111, \"#46039f\"], [0.2222222222222222, \"#7201a8\"], [0.3333333333333333, \"#9c179e\"], [0.4444444444444444, \"#bd3786\"], [0.5555555555555556, \"#d8576b\"], [0.6666666666666666, \"#ed7953\"], [0.7777777777777778, \"#fb9f3a\"], [0.8888888888888888, \"#fdca26\"], [1.0, \"#f0f921\"]], \"type\": \"heatmap\"}], \"heatmapgl\": [{\"colorbar\": {\"outlinewidth\": 0, \"ticks\": \"\"}, \"colorscale\": [[0.0, \"#0d0887\"], [0.1111111111111111, \"#46039f\"], [0.2222222222222222, \"#7201a8\"], [0.3333333333333333, \"#9c179e\"], [0.4444444444444444, \"#bd3786\"], [0.5555555555555556, \"#d8576b\"], [0.6666666666666666, \"#ed7953\"], [0.7777777777777778, \"#fb9f3a\"], [0.8888888888888888, \"#fdca26\"], [1.0, \"#f0f921\"]], \"type\": \"heatmapgl\"}], \"histogram\": [{\"marker\": {\"colorbar\": {\"outlinewidth\": 0, \"ticks\": \"\"}}, \"type\": \"histogram\"}], \"histogram2d\": [{\"colorbar\": {\"outlinewidth\": 0, \"ticks\": \"\"}, \"colorscale\": [[0.0, \"#0d0887\"], [0.1111111111111111, \"#46039f\"], [0.2222222222222222, \"#7201a8\"], [0.3333333333333333, \"#9c179e\"], [0.4444444444444444, \"#bd3786\"], [0.5555555555555556, \"#d8576b\"], [0.6666666666666666, \"#ed7953\"], [0.7777777777777778, \"#fb9f3a\"], [0.8888888888888888, \"#fdca26\"], [1.0, \"#f0f921\"]], \"type\": \"histogram2d\"}], \"histogram2dcontour\": [{\"colorbar\": {\"outlinewidth\": 0, \"ticks\": \"\"}, \"colorscale\": [[0.0, \"#0d0887\"], [0.1111111111111111, \"#46039f\"], [0.2222222222222222, \"#7201a8\"], [0.3333333333333333, \"#9c179e\"], [0.4444444444444444, \"#bd3786\"], [0.5555555555555556, \"#d8576b\"], [0.6666666666666666, \"#ed7953\"], [0.7777777777777778, \"#fb9f3a\"], [0.8888888888888888, \"#fdca26\"], [1.0, \"#f0f921\"]], \"type\": \"histogram2dcontour\"}], \"mesh3d\": [{\"colorbar\": {\"outlinewidth\": 0, \"ticks\": \"\"}, \"type\": \"mesh3d\"}], \"parcoords\": [{\"line\": {\"colorbar\": {\"outlinewidth\": 0, \"ticks\": \"\"}}, \"type\": \"parcoords\"}], \"pie\": [{\"automargin\": true, \"type\": \"pie\"}], \"scatter\": [{\"marker\": {\"colorbar\": {\"outlinewidth\": 0, \"ticks\": \"\"}}, \"type\": \"scatter\"}], \"scatter3d\": [{\"line\": {\"colorbar\": {\"outlinewidth\": 0, \"ticks\": \"\"}}, \"marker\": {\"colorbar\": {\"outlinewidth\": 0, \"ticks\": \"\"}}, \"type\": \"scatter3d\"}], \"scattercarpet\": [{\"marker\": {\"colorbar\": {\"outlinewidth\": 0, \"ticks\": \"\"}}, \"type\": \"scattercarpet\"}], \"scattergeo\": [{\"marker\": {\"colorbar\": {\"outlinewidth\": 0, \"ticks\": \"\"}}, \"type\": \"scattergeo\"}], \"scattergl\": [{\"marker\": {\"colorbar\": {\"outlinewidth\": 0, \"ticks\": \"\"}}, \"type\": \"scattergl\"}], \"scattermapbox\": [{\"marker\": {\"colorbar\": {\"outlinewidth\": 0, \"ticks\": \"\"}}, \"type\": \"scattermapbox\"}], \"scatterpolar\": [{\"marker\": {\"colorbar\": {\"outlinewidth\": 0, \"ticks\": \"\"}}, \"type\": \"scatterpolar\"}], \"scatterpolargl\": [{\"marker\": {\"colorbar\": {\"outlinewidth\": 0, \"ticks\": \"\"}}, \"type\": \"scatterpolargl\"}], \"scatterternary\": [{\"marker\": {\"colorbar\": {\"outlinewidth\": 0, \"ticks\": \"\"}}, \"type\": \"scatterternary\"}], \"surface\": [{\"colorbar\": {\"outlinewidth\": 0, \"ticks\": \"\"}, \"colorscale\": [[0.0, \"#0d0887\"], [0.1111111111111111, \"#46039f\"], [0.2222222222222222, \"#7201a8\"], [0.3333333333333333, \"#9c179e\"], [0.4444444444444444, \"#bd3786\"], [0.5555555555555556, \"#d8576b\"], [0.6666666666666666, \"#ed7953\"], [0.7777777777777778, \"#fb9f3a\"], [0.8888888888888888, \"#fdca26\"], [1.0, \"#f0f921\"]], \"type\": \"surface\"}], \"table\": [{\"cells\": {\"fill\": {\"color\": \"#EBF0F8\"}, \"line\": {\"color\": \"white\"}}, \"header\": {\"fill\": {\"color\": \"#C8D4E3\"}, \"line\": {\"color\": \"white\"}}, \"type\": \"table\"}]}, \"layout\": {\"annotationdefaults\": {\"arrowcolor\": \"#2a3f5f\", \"arrowhead\": 0, \"arrowwidth\": 1}, \"coloraxis\": {\"colorbar\": {\"outlinewidth\": 0, \"ticks\": \"\"}}, \"colorscale\": {\"diverging\": [[0, \"#8e0152\"], [0.1, \"#c51b7d\"], [0.2, \"#de77ae\"], [0.3, \"#f1b6da\"], [0.4, \"#fde0ef\"], [0.5, \"#f7f7f7\"], [0.6, \"#e6f5d0\"], [0.7, \"#b8e186\"], [0.8, \"#7fbc41\"], [0.9, \"#4d9221\"], [1, \"#276419\"]], \"sequential\": [[0.0, \"#0d0887\"], [0.1111111111111111, \"#46039f\"], [0.2222222222222222, \"#7201a8\"], [0.3333333333333333, \"#9c179e\"], [0.4444444444444444, \"#bd3786\"], [0.5555555555555556, \"#d8576b\"], [0.6666666666666666, \"#ed7953\"], [0.7777777777777778, \"#fb9f3a\"], [0.8888888888888888, \"#fdca26\"], [1.0, \"#f0f921\"]], \"sequentialminus\": [[0.0, \"#0d0887\"], [0.1111111111111111, \"#46039f\"], [0.2222222222222222, \"#7201a8\"], [0.3333333333333333, \"#9c179e\"], [0.4444444444444444, \"#bd3786\"], [0.5555555555555556, \"#d8576b\"], [0.6666666666666666, \"#ed7953\"], [0.7777777777777778, \"#fb9f3a\"], [0.8888888888888888, \"#fdca26\"], [1.0, \"#f0f921\"]]}, \"colorway\": [\"#636efa\", \"#EF553B\", \"#00cc96\", \"#ab63fa\", \"#FFA15A\", \"#19d3f3\", \"#FF6692\", \"#B6E880\", \"#FF97FF\", \"#FECB52\"], \"font\": {\"color\": \"#2a3f5f\"}, \"geo\": {\"bgcolor\": \"white\", \"lakecolor\": \"white\", \"landcolor\": \"#E5ECF6\", \"showlakes\": true, \"showland\": true, \"subunitcolor\": \"white\"}, \"hoverlabel\": {\"align\": \"left\"}, \"hovermode\": \"closest\", \"mapbox\": {\"style\": \"light\"}, \"paper_bgcolor\": \"white\", \"plot_bgcolor\": \"#E5ECF6\", \"polar\": {\"angularaxis\": {\"gridcolor\": \"white\", \"linecolor\": \"white\", \"ticks\": \"\"}, \"bgcolor\": \"#E5ECF6\", \"radialaxis\": {\"gridcolor\": \"white\", \"linecolor\": \"white\", \"ticks\": \"\"}}, \"scene\": {\"xaxis\": {\"backgroundcolor\": \"#E5ECF6\", \"gridcolor\": \"white\", \"gridwidth\": 2, \"linecolor\": \"white\", \"showbackground\": true, \"ticks\": \"\", \"zerolinecolor\": \"white\"}, \"yaxis\": {\"backgroundcolor\": \"#E5ECF6\", \"gridcolor\": \"white\", \"gridwidth\": 2, \"linecolor\": \"white\", \"showbackground\": true, \"ticks\": \"\", \"zerolinecolor\": \"white\"}, \"zaxis\": {\"backgroundcolor\": \"#E5ECF6\", \"gridcolor\": \"white\", \"gridwidth\": 2, \"linecolor\": \"white\", \"showbackground\": true, \"ticks\": \"\", \"zerolinecolor\": \"white\"}}, \"shapedefaults\": {\"line\": {\"color\": \"#2a3f5f\"}}, \"ternary\": {\"aaxis\": {\"gridcolor\": \"white\", \"linecolor\": \"white\", \"ticks\": \"\"}, \"baxis\": {\"gridcolor\": \"white\", \"linecolor\": \"white\", \"ticks\": \"\"}, \"bgcolor\": \"#E5ECF6\", \"caxis\": {\"gridcolor\": \"white\", \"linecolor\": \"white\", \"ticks\": \"\"}}, \"title\": {\"x\": 0.05}, \"xaxis\": {\"automargin\": true, \"gridcolor\": \"white\", \"linecolor\": \"white\", \"ticks\": \"\", \"title\": {\"standoff\": 15}, \"zerolinecolor\": \"white\", \"zerolinewidth\": 2}, \"yaxis\": {\"automargin\": true, \"gridcolor\": \"white\", \"linecolor\": \"white\", \"ticks\": \"\", \"title\": {\"standoff\": 15}, \"zerolinecolor\": \"white\", \"zerolinewidth\": 2}}}, \"title\": {\"text\": \"Slice Plot\"}, \"width\": 1200, \"xaxis\": {\"anchor\": \"y\", \"domain\": [0.0, 0.2125], \"title\": {\"text\": \"classifier\"}}, \"xaxis2\": {\"anchor\": \"y2\", \"domain\": [0.2625, 0.475], \"title\": {\"text\": \"max_depth\"}, \"type\": \"log\"}, \"xaxis3\": {\"anchor\": \"y3\", \"domain\": [0.525, 0.7375], \"title\": {\"text\": \"n_estimators\"}}, \"xaxis4\": {\"anchor\": \"y4\", \"domain\": [0.7875, 1.0], \"title\": {\"text\": \"svc_c\"}, \"type\": \"log\"}, \"yaxis\": {\"anchor\": \"x\", \"domain\": [0.0, 1.0], \"title\": {\"text\": \"Objective Value\"}}, \"yaxis2\": {\"anchor\": \"x2\", \"domain\": [0.0, 1.0], \"matches\": \"y\", \"showticklabels\": false}, \"yaxis3\": {\"anchor\": \"x3\", \"domain\": [0.0, 1.0], \"matches\": \"y\", \"showticklabels\": false}, \"yaxis4\": {\"anchor\": \"x4\", \"domain\": [0.0, 1.0], \"matches\": \"y\", \"showticklabels\": false}},\n",
              "                        {\"responsive\": true}\n",
              "                    ).then(function(){\n",
              "                            \n",
              "var gd = document.getElementById('ad63e89b-5255-4fab-bc45-10caf261bd46');\n",
              "var x = new MutationObserver(function (mutations, observer) {{\n",
              "        var display = window.getComputedStyle(gd).display;\n",
              "        if (!display || display === 'none') {{\n",
              "            console.log([gd, 'removed!']);\n",
              "            Plotly.purge(gd);\n",
              "            observer.disconnect();\n",
              "        }}\n",
              "}});\n",
              "\n",
              "// Listen for the removal of the full notebook cells\n",
              "var notebookContainer = gd.closest('#notebook-container');\n",
              "if (notebookContainer) {{\n",
              "    x.observe(notebookContainer, {childList: true});\n",
              "}}\n",
              "\n",
              "// Listen for the clearing of the current output cell\n",
              "var outputEl = gd.closest('.output');\n",
              "if (outputEl) {{\n",
              "    x.observe(outputEl, {childList: true});\n",
              "}}\n",
              "\n",
              "                        })\n",
              "                };\n",
              "                \n",
              "            </script>\n",
              "        </div>\n",
              "</body>\n",
              "</html>"
            ]
          },
          "metadata": {
            "tags": []
          }
        }
      ]
    },
    {
      "cell_type": "markdown",
      "metadata": {
        "id": "9l7fXHJDe_HI"
      },
      "source": [
        "**Plotting the accuracy surface for hyperparameter involved in random forest model**"
      ]
    },
    {
      "cell_type": "code",
      "metadata": {
        "id": "QitNBw8gewDk",
        "outputId": "ab458f34-6a12-4430-9860-5363ea8efb9a",
        "colab": {
          "base_uri": "https://localhost:8080/",
          "height": 542
        }
      },
      "source": [
        "optuna.visualization.plot_contour(study , params=['n_estimators','max_depth'])"
      ],
      "execution_count": 59,
      "outputs": [
        {
          "output_type": "display_data",
          "data": {
            "text/html": [
              "<html>\n",
              "<head><meta charset=\"utf-8\" /></head>\n",
              "<body>\n",
              "    <div>\n",
              "            <script src=\"https://cdnjs.cloudflare.com/ajax/libs/mathjax/2.7.5/MathJax.js?config=TeX-AMS-MML_SVG\"></script><script type=\"text/javascript\">if (window.MathJax) {MathJax.Hub.Config({SVG: {font: \"STIX-Web\"}});}</script>\n",
              "                <script type=\"text/javascript\">window.PlotlyConfig = {MathJaxConfig: 'local'};</script>\n",
              "        <script src=\"https://cdn.plot.ly/plotly-latest.min.js\"></script>    \n",
              "            <div id=\"76ef25d3-7d18-444e-a281-1e55b6d4085a\" class=\"plotly-graph-div\" style=\"height:525px; width:100%;\"></div>\n",
              "            <script type=\"text/javascript\">\n",
              "                \n",
              "                    window.PLOTLYENV=window.PLOTLYENV || {};\n",
              "                    \n",
              "                if (document.getElementById(\"76ef25d3-7d18-444e-a281-1e55b6d4085a\")) {\n",
              "                    Plotly.newPlot(\n",
              "                        '76ef25d3-7d18-444e-a281-1e55b6d4085a',\n",
              "                        [{\"colorbar\": {\"title\": {\"text\": \"Objective Value\"}}, \"colorscale\": [[0, \"rgb(5,10,172)\"], [0.35, \"rgb(40,60,190)\"], [0.5, \"rgb(70,100,245)\"], [0.6, \"rgb(90,120,245)\"], [0.7, \"rgb(106,137,247)\"], [1, \"rgb(220,220,220)\"]], \"connectgaps\": true, \"contours\": {\"coloring\": \"heatmap\"}, \"hoverinfo\": \"none\", \"line\": {\"smoothing\": 1.3}, \"type\": \"contour\", \"x\": [9.19100183178894, 10.292291805381785, 10.416839127939792, 10.558708649211074, 11.826625851340674, 15.08959465223565, 16.751074112363558, 19.35765651524278, 20.56461077964048, 22.33245901286248, 23.942509577346407, 25.283392313787928, 25.791244138976534, 26.88969370720006, 27.528005290395367, 27.575424183794233, 27.705585157196623, 28.300035271147067, 29.183214355018862, 30.322455519367224, 30.6970002937702, 30.982458364381465, 32.52714724332147, 33.05684451127388, 33.160318824977814, 34.68618272435875, 34.85189860369787, 35.8530912053142, 36.35982867131296, 36.67624201412377, 37.36591231904357, 37.52131766177265, 37.75332870669196, 37.99860973706503, 38.93525207491412, 39.176360288789944, 40.16841854504082, 40.49172691383036, 42.207251867389765, 42.61135136284449, 42.80386901283265, 43.848831308970404, 44.72416965513553, 45.758680441829995, 46.65526395831218, 47.0438431122642, 48.34031558025404, 48.529329924129044, 49.115148804082835, 50.37995865489235, 52.05960913019239, 52.57955982627725, 52.58935729627535, 54.0075957664511, 55.05628125336585, 55.55313335145694, 57.55078560283737, 58.57011965780695, 61.249315706374226, 62.40440263554319, 62.64406078047532, 64.06484116778154, 65.39564385033816, 67.69966526968388, 69.49443157815287, 69.55474440201527, 69.73604974887012, 72.60181912398701, 73.22191554687411, 74.1063593318148, 75.63151254404556, 76.00244286328596, 77.2335094434478, 77.68004545206622, 79.38568788231291, 80.25632818006979, 80.65147236146993, 82.48514736036189, 83.04327562087734, 83.49395064469616, 85.04130032890805, 85.72536170833567, 87.4510971066798, 90.18405964731953, 93.01257637754354, 93.25053859608988, 93.60283410146837, 95.76523208454782, 98.0967162343124, 98.96846917894307, 110.82713103141145], \"y\": [110.0, 200, 210, 230, 240, 260, 270, 290, 300, 310, 320, 330, 350, 360, 380, 390, 400, 410, 420, 430, 440, 450, 460, 470, 480, 500, 520, 530, 540, 550, 570, 580, 610, 620, 640, 660, 690, 710, 720, 730, 750, 770, 780, 810, 820, 830, 870, 890, 910, 940, 970, 980, 1000, 1040, 1080, 1120, 1140, 1170, 1180, 1200, 1280, 1350, 1370, 1440, 1470, 1480, 1540, 1580, 1740, 1760, 1850, 1980, 2000, 2090.0], \"z\": [[null, null, null, null, null, null, null, null, null, null, null, null, null, null, null, null, null, null, null, null, null, null, null, null, null, null, null, null, null, null, null, null, null, null, null, null, null, null, null, null, null, null, null, null, null, null, null, null, null, null, null, null, null, null, null, null, null, null, null, null, null, null, null, null, null, null, null, null, null, null, null, null, null, null, null, null, null, null, null, null, null, null, null, null, null, null, null, null, null, null, null], [null, null, null, null, null, null, null, null, 0.7720229555236728, null, null, null, null, null, null, null, 0.7687709230033476, null, null, null, null, null, null, null, null, null, null, null, null, null, null, null, null, null, null, null, null, null, null, null, null, null, null, null, null, null, null, null, null, null, null, null, null, null, null, null, null, null, null, null, null, null, null, null, null, null, null, null, null, null, null, null, null, null, null, null, null, null, null, null, null, null, null, null, null, null, null, null, null, null, null], [null, null, null, null, null, null, null, null, null, null, null, null, null, null, null, null, null, null, null, null, null, null, null, null, null, null, null, null, null, null, null, null, null, null, null, null, null, null, null, null, null, null, null, null, null, null, null, null, null, null, null, null, null, null, null, null, null, null, null, null, null, null, null, null, null, null, null, null, null, null, null, null, null, null, null, null, null, null, null, null, null, null, null, null, null, null, null, null, 0.7720229555236728, null, null], [null, null, null, null, null, null, null, null, null, null, null, null, null, null, null, null, null, null, null, null, null, null, null, null, null, null, null, null, null, null, null, null, null, null, null, null, null, null, null, null, null, null, null, null, null, null, null, null, null, null, null, null, null, null, null, null, null, null, null, null, null, null, null, null, null, null, null, null, null, null, null, null, null, null, null, 0.7704208512673363, null, null, null, null, null, null, null, null, null, null, null, null, null, null, null], [null, null, null, null, null, null, null, null, null, null, null, null, null, null, null, null, null, null, null, null, null, null, null, null, null, null, null, null, null, null, null, null, null, null, null, null, null, null, null, null, null, null, null, null, null, null, null, null, null, null, null, null, null, null, null, null, null, null, null, null, null, null, null, null, null, null, null, null, null, null, null, null, null, null, null, null, null, 0.7687709230033476, null, null, null, null, null, null, null, null, null, null, null, null, null], [null, null, null, null, null, null, 0.7622668579626972, null, null, null, null, null, null, null, null, null, null, null, null, null, null, null, null, null, null, null, null, null, null, null, null, null, null, null, null, null, null, null, null, null, null, null, null, null, null, null, null, null, null, null, null, null, null, null, null, null, null, null, null, null, null, null, null, null, null, null, null, null, null, null, null, null, null, null, null, null, null, null, null, null, null, null, null, null, null, null, null, null, null, null, null], [null, null, null, null, null, null, null, null, null, null, null, null, null, null, 0.7752829587119402, null, null, null, null, null, null, null, null, null, null, null, null, null, null, null, null, null, null, null, null, null, null, null, null, null, null, null, null, null, null, null, null, null, null, null, null, null, null, null, null, null, null, null, null, null, null, null, null, null, 0.7687868643392317, null, null, null, null, null, null, null, null, null, null, null, null, null, null, null, null, null, null, null, null, null, null, null, null, null, null], [null, null, null, null, null, null, null, null, null, null, null, null, null, null, null, null, null, null, null, null, null, null, null, null, null, null, null, null, null, null, null, null, null, null, null, null, null, null, null, null, null, null, null, null, null, null, null, null, null, null, null, null, null, null, null, null, null, null, null, null, null, null, null, null, null, null, null, 0.7655109198150805, null, null, null, null, null, null, null, null, null, null, null, null, null, null, null, null, null, null, null, null, null, null, null], [null, null, null, null, null, null, null, null, null, null, null, null, null, null, null, null, null, null, null, null, null, null, null, null, null, null, null, null, null, null, null, null, null, null, null, null, null, null, null, null, null, null, null, null, null, null, null, null, null, null, null, null, null, null, null, null, null, null, null, null, null, null, null, null, null, null, null, null, null, null, null, null, null, null, null, null, null, null, null, null, null, null, null, null, 0.7752909293798821, null, null, null, null, null, null], [null, null, null, null, null, null, null, null, null, 0.7622668579626972, null, null, null, null, null, null, null, null, null, null, null, null, null, null, null, null, null, null, null, null, null, null, null, null, null, null, null, null, null, null, null, null, null, null, null, null, null, null, null, null, null, null, null, null, null, null, null, null, null, null, null, null, null, null, null, null, null, null, null, null, null, null, null, null, null, null, null, null, null, null, null, null, null, 0.7655188904830225, null, null, null, null, null, null, null], [null, null, null, null, null, null, null, null, null, null, null, null, null, null, null, null, null, null, null, null, null, null, null, null, null, null, null, null, null, null, null, null, null, null, null, null, null, null, null, null, null, null, null, null, null, null, null, null, null, null, null, null, null, null, 0.7687709230033476, null, null, null, null, null, null, null, null, null, null, null, null, null, null, null, null, null, null, null, null, null, null, null, null, null, null, null, null, null, null, null, null, null, null, null, null], [null, null, null, null, null, null, null, null, null, null, null, null, null, null, null, null, null, null, null, null, null, null, null, null, null, null, null, null, null, null, null, null, null, null, null, null, null, null, null, null, null, null, null, null, null, null, null, null, null, null, null, null, null, null, null, null, null, null, null, null, null, null, null, null, null, null, 0.7622349752909293, null, null, null, null, null, null, null, null, null, null, null, 0.7704128805993943, null, null, null, null, null, null, null, null, null, null, null, null], [null, null, null, null, null, null, null, null, null, null, null, null, null, null, null, null, null, null, null, null, null, null, null, null, null, null, null, null, null, null, null, null, null, null, null, null, null, null, null, null, null, null, null, null, null, null, null, null, null, null, null, null, null, null, null, null, null, null, null, null, null, null, null, null, null, null, null, null, null, null, null, null, null, null, null, null, null, null, null, null, null, null, null, null, null, null, null, 0.7655268611509646, null, null, null], [null, null, null, null, null, null, null, null, null, null, 0.7703969392635103, null, null, null, null, null, null, null, null, null, null, null, null, 0.7704049099314524, null, null, null, null, null, null, null, null, null, null, null, null, null, null, null, null, null, null, null, null, null, null, null, null, null, null, null, null, null, null, null, null, null, null, null, null, null, null, null, null, null, null, null, null, null, null, null, null, null, null, null, null, null, null, null, null, null, null, null, null, null, null, null, null, null, null, null], [null, null, null, null, null, null, null, null, null, null, null, null, null, null, null, null, null, null, null, null, null, null, null, null, null, null, null, null, null, null, null, 0.7752749880439981, null, null, null, null, null, null, null, null, null, null, null, null, null, null, null, null, null, null, null, null, null, null, null, null, null, null, null, null, null, null, null, null, null, null, null, null, null, null, null, null, null, null, null, null, null, null, null, null, null, null, null, null, null, null, null, null, null, null, null], [null, null, null, null, null, null, null, null, null, null, null, null, null, null, null, null, null, null, null, null, null, null, null, null, null, null, null, null, null, null, null, null, null, null, null, null, null, null, null, null, null, null, null, null, null, null, null, null, null, null, null, null, null, null, null, null, null, null, null, null, null, null, null, null, null, null, null, null, null, null, null, null, null, null, null, null, null, null, null, null, null, 0.7752909293798821, null, null, null, null, null, null, null, null, null], [null, null, null, null, null, null, null, null, null, null, null, null, null, null, null, null, null, null, null, null, null, null, null, null, null, null, null, null, null, null, null, null, null, null, null, null, null, null, null, null, null, null, null, null, null, null, null, null, null, null, null, null, null, null, null, null, null, null, null, null, null, null, null, null, null, null, null, null, null, 0.7704128805993943, null, null, null, null, null, null, null, null, null, null, 0.7703969392635103, null, null, null, null, null, null, null, null, null, null], [null, null, null, null, null, null, null, null, null, null, null, null, null, null, null, null, null, null, null, null, null, null, null, null, null, null, 0.7655109198150805, null, null, null, null, null, null, null, null, null, null, null, null, null, null, null, null, null, null, null, null, 0.7655188904830225, null, null, null, null, null, null, null, null, null, null, null, null, null, null, null, null, null, null, null, null, null, null, null, null, null, null, null, null, null, null, null, null, null, null, null, null, null, null, null, null, null, null, null], [null, null, null, null, null, null, null, null, null, null, null, null, null, null, null, null, null, null, null, null, null, null, null, null, null, null, null, null, null, null, null, null, null, null, null, null, null, null, null, null, null, null, null, null, null, null, null, null, null, null, null, null, null, null, null, null, null, null, null, null, null, null, null, null, null, null, null, null, null, null, 0.7769249163079867, null, null, null, null, null, null, null, null, null, null, null, null, null, null, null, null, null, null, null, null], [null, null, null, null, null, null, null, null, null, null, null, null, null, null, null, null, null, null, null, null, null, null, null, null, null, null, null, 0.7704208512673363, null, null, null, null, null, null, null, null, null, null, null, null, null, null, null, null, null, null, null, null, null, null, null, null, null, null, null, null, null, null, null, null, null, null, null, null, null, null, null, null, null, null, null, null, null, null, null, null, null, null, null, 0.7752749880439981, null, null, null, null, null, null, null, null, null, null, null], [null, null, null, null, null, null, null, null, null, null, null, null, null, null, null, null, null, null, null, null, null, null, null, null, null, null, null, null, null, null, null, null, null, null, null, null, null, null, null, null, null, null, null, null, null, null, null, null, null, null, null, null, null, null, null, null, null, null, null, null, null, null, null, null, null, null, null, null, null, null, null, null, null, null, 0.7752909293798821, null, null, null, null, null, null, null, null, null, null, null, null, null, null, null, null], [null, null, null, null, null, null, null, null, null, null, null, null, null, null, null, null, null, null, null, null, null, null, null, null, null, null, null, null, null, null, null, null, null, null, null, null, null, 0.7655268611509646, null, null, null, null, null, null, null, null, null, null, null, null, null, null, null, null, null, null, null, null, null, null, null, null, null, null, null, null, null, null, null, null, null, null, null, null, null, null, null, null, null, null, null, null, null, null, null, null, null, null, null, null, null], [null, null, null, null, null, null, null, null, null, null, null, null, null, null, null, null, null, null, null, null, 0.7638849035549179, null, null, null, null, null, null, null, null, null, null, null, null, null, null, null, null, null, null, null, null, null, null, null, null, null, null, null, null, null, null, null, null, null, null, null, null, null, null, null, null, null, null, null, null, null, null, null, null, null, null, null, null, null, null, null, null, null, null, null, null, null, null, null, null, null, null, null, null, null, null], [null, null, null, null, null, null, null, null, null, null, null, null, null, null, null, null, null, null, null, null, null, null, null, null, null, null, null, null, null, 0.7752829587119402, null, null, null, null, null, null, null, null, null, null, null, null, null, null, null, null, null, null, null, null, null, null, null, null, null, null, null, null, null, null, null, null, null, null, null, null, null, null, null, null, null, 0.7687549816674637, null, null, null, null, null, null, null, null, null, null, null, null, null, null, null, null, null, null, null], [null, null, null, null, null, null, null, null, null, null, null, null, null, null, null, null, null, null, null, null, null, null, null, null, null, null, null, null, null, null, null, null, null, null, null, null, null, null, null, null, null, null, null, null, null, null, null, null, null, null, null, null, null, null, null, null, null, null, null, null, null, null, null, null, null, null, null, null, 0.7687709230033476, null, null, null, null, null, null, null, null, null, null, null, null, null, null, null, null, null, null, null, null, null, null], [null, null, null, null, null, null, null, null, null, null, null, null, null, null, null, 0.7655029491471385, null, null, null, null, null, null, null, null, null, null, null, null, null, null, null, null, null, null, null, null, null, null, null, null, null, null, null, null, null, null, null, null, null, null, null, null, null, null, null, null, null, null, null, null, null, null, null, null, null, null, null, null, null, null, null, null, null, null, null, null, null, null, null, null, null, null, null, null, null, null, null, null, null, null, null], [null, null, null, null, null, 0.7638849035549179, null, null, null, null, null, null, null, null, null, null, null, null, null, null, null, null, null, null, null, null, null, null, null, null, null, null, null, null, null, null, null, null, null, null, null, null, null, null, null, null, null, null, null, null, null, null, null, null, null, null, null, null, null, null, null, null, null, null, null, null, null, null, null, null, null, null, null, null, null, null, null, null, null, null, null, null, null, null, null, null, null, null, null, null, null], [null, null, null, null, null, null, null, null, null, null, null, null, null, null, null, null, null, null, null, null, null, null, null, null, null, null, null, null, null, null, null, null, null, null, null, null, null, null, null, null, null, null, null, null, null, null, null, null, null, null, null, null, null, null, null, null, null, null, null, null, null, null, null, null, null, null, null, null, null, null, null, null, null, null, null, null, null, null, null, null, null, null, null, null, null, null, null, null, null, 0.7703969392635103, null], [null, null, null, null, null, null, null, null, null, null, null, null, null, null, null, null, null, null, null, null, null, null, null, null, null, null, null, null, null, null, null, null, null, null, null, 0.7736569424517775, null, null, null, null, null, null, null, null, null, null, null, null, null, null, null, null, null, null, null, null, null, null, null, null, null, null, null, null, null, null, null, null, null, null, null, null, null, 0.7720468675274988, null, null, null, null, null, null, null, null, null, null, null, null, null, null, null, null, null], [null, null, null, null, null, null, null, null, null, null, null, null, null, null, null, null, null, null, null, null, null, null, null, null, null, null, null, null, null, null, 0.7769249163079867, null, null, null, null, null, null, null, null, null, null, null, null, null, null, null, null, null, null, null, null, null, null, null, null, null, null, null, null, null, null, null, null, null, null, null, null, null, null, null, null, null, null, null, null, null, null, null, null, null, null, null, null, null, null, null, null, null, null, null, null], [null, null, null, null, null, null, null, null, null, null, null, null, null, null, null, null, null, null, null, null, null, null, null, null, null, null, null, null, null, null, null, null, 0.7736649131197195, null, null, null, null, null, null, null, null, null, null, null, null, null, null, null, null, null, null, null, null, null, null, null, null, null, null, null, null, null, null, null, null, null, null, null, null, null, null, null, null, null, null, null, null, null, null, null, null, null, null, null, null, null, null, null, null, null, null], [null, null, null, null, null, null, null, null, null, null, null, null, null, null, null, null, null, 0.772038896859557, null, null, null, null, null, null, null, null, null, null, null, null, null, null, null, null, null, null, null, null, null, null, null, null, null, null, null, null, null, null, null, null, null, null, null, null, null, null, null, null, null, null, null, null, null, null, null, null, null, null, null, null, null, null, 0.7736728837876615, null, null, null, 0.7639088155587439, null, null, null, null, null, null, null, null, null, null, null, null, null, null], [null, null, null, null, null, null, null, null, null, null, null, null, null, null, null, null, null, null, null, null, null, null, null, null, null, null, null, null, null, null, null, null, null, null, 0.767136936075243, null, null, null, null, null, null, null, null, null, null, null, null, null, null, null, null, null, null, null, null, null, null, null, null, null, null, null, null, null, null, null, null, null, null, null, null, null, null, null, null, null, null, null, null, null, null, null, null, null, null, null, null, null, null, null, null], [null, null, null, null, null, null, null, null, null, null, null, null, null, null, null, null, null, null, null, null, null, null, null, null, null, null, null, null, null, null, null, null, null, null, null, null, 0.7703969392635103, null, null, null, null, null, null, null, null, null, null, null, null, null, null, null, null, null, null, null, null, null, null, null, null, null, null, null, null, null, null, null, null, null, null, null, null, null, null, null, null, null, null, null, null, null, null, null, null, null, null, null, null, null, null], [null, null, null, null, null, null, null, null, null, null, null, null, 0.7671289654073011, null, null, null, null, null, null, null, null, null, null, null, null, null, null, null, null, null, null, null, null, null, null, null, null, null, null, null, null, null, null, null, null, null, null, null, null, null, null, null, null, null, null, null, null, null, null, null, null, null, null, null, null, null, null, null, null, null, null, null, null, null, null, null, null, null, null, null, null, null, null, null, null, null, null, null, null, null, null], [null, null, null, null, null, null, null, null, null, null, null, 0.767144906743185, null, null, null, null, null, null, null, null, null, null, 0.7687788936712897, null, null, null, null, null, null, null, null, null, null, null, null, null, null, null, null, null, null, null, null, null, null, null, null, null, null, null, null, null, null, null, null, null, null, null, null, null, null, null, null, null, null, null, null, null, null, null, null, null, null, null, null, null, null, null, null, null, null, null, null, null, null, null, null, null, null, null, null], [null, null, null, null, null, null, null, null, null, null, null, null, null, null, null, null, null, null, null, null, null, null, null, null, null, 0.7606249003666506, null, null, null, null, null, null, null, null, null, null, null, null, null, null, null, null, null, null, null, 0.7687788936712897, null, null, null, null, null, null, null, null, null, null, null, null, null, null, null, null, null, null, null, null, null, null, null, null, null, null, null, null, null, null, null, null, null, null, null, null, null, null, null, null, null, null, null, null, null], [null, null, null, null, null, null, null, null, null, null, null, null, null, null, null, null, null, null, null, null, null, null, null, null, null, null, null, null, null, null, null, null, null, null, null, null, null, null, null, null, null, null, null, null, null, null, 0.7606328710345927, null, null, null, null, null, null, null, null, null, null, null, null, null, null, null, null, null, null, null, null, null, null, null, null, null, null, null, null, null, null, null, null, null, null, null, null, null, null, null, null, null, null, null, null], [null, null, null, null, null, null, null, null, null, null, null, null, null, null, null, null, null, null, null, null, null, null, null, null, null, null, null, null, null, null, null, null, null, null, null, null, null, null, null, null, null, null, null, null, null, null, null, null, null, null, null, null, null, 0.7752989000478241, null, null, null, null, null, null, null, null, null, null, null, null, null, null, null, null, null, null, null, null, null, null, null, null, null, null, null, null, null, null, null, null, null, null, null, null, null], [null, null, null, null, null, null, null, null, null, null, null, null, null, null, null, null, null, null, null, null, null, null, null, null, null, null, null, null, null, null, null, null, null, null, null, null, null, null, null, null, null, null, null, null, null, null, null, null, null, null, null, 0.772030926191615, null, null, null, null, null, null, null, null, null, null, null, null, null, null, null, null, null, null, null, null, null, null, null, null, null, null, null, null, null, null, null, null, null, null, null, null, null, null, null], [null, null, null, null, null, null, null, null, null, null, null, null, null, null, null, null, null, null, null, 0.7704128805993943, null, null, null, null, null, null, null, null, null, null, null, null, null, null, null, null, null, null, null, null, null, null, null, null, null, null, null, null, null, null, null, null, null, null, null, null, null, null, null, null, null, null, null, null, null, null, null, null, null, null, null, null, null, null, null, null, null, null, null, null, null, null, null, null, null, null, null, null, null, null, null], [null, null, null, null, null, null, null, null, null, null, null, null, null, null, null, null, null, null, null, null, null, null, null, null, null, null, null, null, null, null, null, null, null, null, null, null, null, null, null, null, null, null, null, null, 0.7736649131197195, null, null, null, null, null, null, null, null, null, null, null, null, null, null, null, null, null, null, null, null, null, null, null, null, null, null, null, null, null, null, null, null, null, null, null, null, null, null, null, null, null, null, null, null, null, null], [null, null, null, null, null, null, null, null, null, null, null, null, null, null, null, null, null, null, null, null, null, null, null, null, null, null, null, null, null, null, null, null, null, null, null, null, null, null, null, null, null, null, null, 0.772030926191615, null, null, null, null, 0.7769169456400448, null, null, null, null, null, null, null, null, null, null, null, null, null, null, null, null, null, null, null, null, null, null, null, null, null, null, null, null, null, null, null, null, null, null, null, null, null, null, null, null, null, null], [null, null, null, null, null, null, null, null, null, null, null, null, null, null, null, null, null, null, null, null, null, null, null, null, null, null, null, null, null, null, null, null, null, null, null, null, null, null, null, null, null, null, null, null, null, null, null, null, null, 0.7704049099314524, null, null, null, null, null, null, null, null, null, null, null, null, null, null, null, null, null, null, null, null, null, null, null, null, null, null, null, null, null, null, null, null, null, null, null, null, null, null, null, null, null], [null, null, null, null, null, null, null, null, null, null, null, null, null, null, null, null, null, null, null, null, null, null, null, null, 0.7622509166268133, null, null, null, null, null, null, null, null, null, null, null, null, null, null, 0.7736649131197195, null, null, null, null, null, null, null, null, null, null, null, null, null, null, null, null, null, null, null, null, null, null, null, null, null, null, null, null, null, null, null, null, null, null, null, null, null, null, null, null, null, null, null, null, null, null, null, null, null, null, null], [null, null, null, null, null, null, null, null, null, null, null, null, null, null, null, null, null, null, null, null, null, null, null, null, null, null, null, null, null, null, null, null, null, null, null, null, null, null, null, null, null, null, 0.7638928742228598, null, null, null, null, null, null, null, null, null, null, null, null, null, null, null, null, null, null, null, null, null, null, null, null, null, null, null, null, null, null, null, null, null, null, null, null, null, null, null, null, null, null, null, null, null, null, null, null], [null, null, null, null, null, null, null, null, null, null, null, null, null, null, null, null, null, null, null, null, null, null, null, null, null, null, null, null, null, null, null, null, null, null, null, null, null, null, 0.7655109198150805, null, null, null, null, null, null, null, null, null, null, null, null, null, null, null, null, null, null, null, null, null, null, null, null, null, null, null, null, null, null, null, null, null, null, null, null, null, null, null, null, null, null, null, null, null, null, null, null, null, null, null, null], [null, null, null, null, null, null, null, null, null, null, null, null, null, null, null, null, null, null, null, null, null, null, null, null, null, null, null, null, null, null, null, null, null, null, null, null, null, null, null, null, null, null, null, null, null, null, null, null, null, null, null, null, null, null, null, null, null, null, 0.7655268611509646, null, null, null, null, null, null, null, null, null, null, null, null, null, null, null, null, null, null, null, null, null, null, null, null, null, null, null, null, null, null, null, null], [null, null, null, null, null, null, null, null, null, null, null, null, null, null, null, null, null, null, null, null, null, null, null, null, null, null, null, null, null, null, null, null, null, null, null, null, null, null, null, null, null, null, null, null, null, null, null, null, null, null, null, null, null, null, null, 0.7671528774111271, null, null, null, null, null, null, null, null, null, null, null, null, null, null, null, null, null, null, null, null, null, null, null, null, null, null, null, null, null, null, null, null, null, null, null], [null, null, null, null, null, null, null, null, null, null, null, null, null, null, null, null, null, null, null, null, null, null, null, null, null, null, null, null, null, null, null, null, null, null, null, null, null, null, null, null, null, null, null, null, null, null, null, null, null, null, null, null, null, null, null, null, 0.7687788936712897, null, null, null, null, null, null, null, null, null, null, null, null, null, null, null, null, null, null, null, null, null, null, null, null, null, null, null, null, null, null, null, null, null, null], [null, null, null, null, null, null, null, null, null, null, null, null, null, null, null, null, null, null, null, null, null, null, null, null, null, null, null, null, null, null, null, null, null, null, null, null, null, null, null, null, null, null, null, null, null, null, null, null, null, null, 0.7655268611509646, null, null, null, null, null, null, null, null, null, null, null, null, null, null, null, null, null, null, null, null, null, null, null, null, null, null, null, null, null, null, null, null, null, null, null, null, null, null, null, null], [null, null, null, null, null, null, null, null, null, null, null, null, null, null, null, null, null, null, null, null, null, null, null, null, null, null, null, null, null, null, null, null, null, null, null, null, null, null, null, null, null, null, null, null, null, null, null, null, null, null, null, null, null, null, null, null, null, null, null, null, null, null, 0.7687709230033476, null, null, null, null, null, null, null, null, null, null, null, null, null, null, null, null, null, null, null, null, null, null, null, null, null, null, null, null], [null, null, null, null, null, null, null, null, null, null, null, null, null, null, null, null, null, null, null, null, null, null, null, null, null, null, null, null, null, null, null, null, null, null, null, null, null, null, null, null, null, 0.7703969392635103, null, null, null, null, null, null, null, null, null, null, null, null, null, null, null, null, null, null, null, null, null, null, null, null, null, null, null, null, null, null, null, null, null, null, null, null, null, null, null, null, null, null, null, null, null, null, null, null, null], [null, null, null, null, null, null, null, null, null, null, null, null, null, null, null, null, null, null, null, null, null, null, null, null, null, null, null, null, null, null, null, null, null, null, null, null, null, null, null, null, 0.767144906743185, null, null, null, null, null, null, null, null, null, null, null, null, null, null, null, null, null, null, null, null, null, null, null, null, null, null, null, null, null, null, null, null, null, null, null, null, null, null, null, null, null, null, null, null, null, null, null, null, null, null], [null, null, null, null, null, null, null, null, null, null, null, null, null, 0.7671528774111271, null, null, null, null, null, null, null, null, null, null, null, null, null, null, null, null, null, null, null, null, null, null, null, null, null, null, null, null, null, null, null, null, null, null, null, null, null, null, null, null, null, null, null, null, null, null, null, null, null, null, null, null, null, null, null, null, null, null, null, null, null, null, null, null, null, null, null, null, null, null, null, null, null, null, null, null, null], [null, null, null, null, null, null, null, null, null, null, null, null, null, null, null, null, null, null, null, null, null, null, null, null, null, null, null, null, null, null, null, null, null, null, null, null, null, null, null, null, null, null, null, null, null, null, null, null, null, null, null, null, null, null, null, null, null, null, null, null, null, null, null, 0.7638769328869759, null, null, null, null, null, null, null, null, null, null, null, null, null, null, null, null, null, null, null, null, null, null, null, null, null, null, null], [null, null, null, null, null, null, null, null, null, null, null, null, null, null, null, null, null, null, null, null, null, null, null, null, null, null, null, null, null, null, null, null, null, null, null, null, null, null, null, null, null, null, null, null, null, null, null, null, null, null, null, null, null, null, null, null, null, null, null, null, 0.7736649131197195, null, null, null, null, null, null, null, null, null, null, null, null, null, null, null, null, null, null, null, null, null, null, null, null, null, null, null, null, null, null], [null, null, null, null, null, null, null, null, null, null, null, null, null, null, null, null, null, null, null, null, null, null, null, null, null, null, null, null, null, null, null, null, null, null, null, null, null, null, null, null, null, null, null, null, null, null, null, null, null, null, null, null, null, null, null, null, null, null, null, null, null, null, null, null, null, null, null, null, null, null, null, null, null, null, null, null, null, null, null, null, null, null, null, null, null, null, 0.7736649131197195, null, null, null, null], [null, null, null, null, null, null, null, null, null, null, null, null, null, null, null, null, null, null, null, null, null, 0.7687868643392317, null, null, null, null, null, null, null, null, null, null, null, null, null, null, null, null, null, null, null, null, null, null, null, null, null, null, null, null, null, null, null, null, null, null, null, null, null, null, null, null, null, null, null, null, null, null, null, null, null, null, null, null, null, null, null, null, null, null, null, null, null, null, null, null, null, null, null, null, null], [null, null, null, null, null, null, null, null, null, null, null, null, null, null, null, null, null, null, null, null, null, null, null, null, null, null, null, null, null, null, null, null, null, null, null, null, null, null, null, null, null, null, null, null, null, null, null, null, null, null, null, null, null, null, null, null, null, null, null, 0.7704049099314524, null, null, null, null, null, null, null, null, null, null, null, null, null, null, null, null, null, null, null, null, null, null, null, null, null, null, null, null, null, null, null], [null, null, null, null, null, null, null, null, null, null, null, null, null, null, null, null, null, null, null, null, null, null, null, null, null, null, null, null, null, null, null, null, null, null, null, null, null, null, null, null, null, null, null, null, null, null, null, null, null, null, null, null, 0.7655268611509646, null, null, null, null, null, null, null, null, null, null, null, null, null, null, null, null, null, null, null, null, null, null, null, null, null, null, null, null, null, null, null, null, null, null, null, null, null, null], [null, null, null, null, null, null, null, null, null, null, null, null, null, null, null, null, null, null, null, null, null, null, null, null, null, null, null, null, null, null, null, null, null, null, null, null, null, null, null, null, null, null, null, null, null, null, null, null, null, null, null, null, null, null, null, null, null, null, null, null, null, null, null, null, null, null, null, null, null, null, null, null, null, null, null, null, null, null, null, null, null, null, 0.7687709230033476, null, null, null, null, null, null, null, null], [null, null, null, 0.7687868643392317, null, null, null, null, null, null, null, null, null, null, null, null, null, null, null, null, null, null, null, null, null, null, null, null, null, null, null, null, null, null, null, null, null, null, null, null, null, null, null, null, null, null, null, null, null, null, null, null, null, null, null, null, null, null, null, null, null, 0.7704049099314524, null, null, null, null, null, null, null, null, null, null, null, null, null, null, null, null, null, null, null, null, null, null, null, null, null, null, null, null, null], [null, null, null, null, null, null, null, 0.772038896859557, null, null, null, null, null, null, null, null, null, null, null, null, null, null, null, null, null, null, null, null, null, null, null, null, null, null, null, null, null, null, null, null, null, null, null, null, null, null, null, null, null, null, null, null, null, null, null, null, null, null, null, null, null, null, null, null, null, null, null, null, null, null, null, null, null, null, null, null, null, null, null, null, null, null, null, null, null, null, null, null, null, null, null], [null, null, null, null, null, null, null, null, null, null, null, null, null, null, null, null, null, null, null, null, null, null, null, null, null, null, null, null, null, null, null, null, null, null, null, null, null, null, null, null, null, null, null, null, null, null, null, null, null, null, null, null, null, null, null, null, null, null, null, null, null, null, null, null, null, 0.7752989000478241, null, null, null, null, null, null, null, null, null, null, null, null, null, null, null, null, null, null, null, null, null, null, null, null, null], [null, null, null, null, null, null, null, null, null, null, null, null, null, null, null, null, null, null, null, null, null, null, null, null, null, null, null, null, 0.772030926191615, null, null, null, null, null, null, null, null, null, null, null, null, null, null, null, null, null, null, null, null, null, null, null, null, null, null, null, null, null, null, null, null, null, null, null, null, null, null, null, null, null, null, null, null, null, null, null, null, null, null, null, null, null, null, null, null, null, null, null, null, null, null], [null, null, null, null, null, null, null, null, null, null, null, null, null, null, null, null, null, null, 0.7720229555236728, null, null, null, null, null, null, null, null, null, null, null, null, null, null, null, null, null, null, null, null, null, null, null, null, null, null, null, null, null, null, null, null, null, null, null, null, null, null, null, null, null, null, null, null, null, null, null, null, null, null, null, null, null, null, null, null, null, null, null, null, null, null, null, null, null, null, null, null, null, null, null, null], [null, null, null, null, null, null, null, null, null, null, null, null, null, null, null, null, null, null, null, null, null, null, null, null, null, null, null, null, null, null, null, null, null, null, null, null, null, null, null, null, null, null, null, null, null, null, null, null, null, null, null, null, null, null, null, null, null, null, null, null, null, null, null, null, null, null, null, null, null, null, null, null, null, null, null, null, null, null, null, null, null, null, null, null, null, 0.772038896859557, null, null, null, null, null], [null, null, 0.7687788936712897, null, null, null, null, null, null, null, null, null, null, null, null, null, null, null, null, null, null, null, null, null, null, null, null, null, null, null, null, null, null, null, null, null, null, null, null, null, null, null, null, null, null, null, null, null, null, null, null, null, null, null, null, null, null, null, null, null, null, null, null, null, null, null, null, null, null, null, null, null, null, null, null, null, null, null, null, null, null, null, null, null, null, null, null, null, null, null, null], [null, null, null, null, null, null, null, null, null, null, null, null, null, null, null, null, null, null, null, null, null, null, null, null, null, null, null, null, null, null, null, null, null, 0.7736569424517775, null, null, null, null, null, null, null, null, null, null, null, null, null, null, null, null, null, null, null, null, null, null, null, null, null, null, null, null, null, null, null, null, null, null, null, null, null, null, null, null, null, null, null, null, null, null, null, null, null, null, null, null, null, null, null, null, null], [null, null, null, null, 0.7736649131197195, null, null, null, null, null, null, null, null, null, null, null, null, null, null, null, null, null, null, null, null, null, null, null, null, null, null, null, null, null, null, null, null, null, null, null, null, null, null, null, null, null, null, null, null, null, null, null, null, null, null, null, null, null, null, null, null, null, null, null, null, null, null, null, null, null, null, null, null, null, null, null, null, null, null, null, null, null, null, null, null, null, null, null, null, null, null], [null, null, null, null, null, null, null, null, null, null, null, null, null, null, null, null, null, null, null, null, null, null, null, null, null, null, null, null, null, null, null, null, null, null, null, null, null, null, null, null, null, null, null, null, null, null, null, null, null, null, null, null, null, null, null, null, null, 0.772038896859557, null, null, null, null, null, null, null, null, null, null, null, null, null, null, null, null, null, null, null, null, null, null, null, null, null, null, null, null, null, null, null, null, null], [null, 0.7687788936712897, null, null, null, null, null, null, null, null, null, null, null, null, null, null, null, null, null, null, null, null, null, null, null, null, null, null, null, null, null, null, null, null, null, null, null, null, null, null, null, null, null, null, null, null, null, null, null, null, null, null, null, null, null, null, null, null, null, null, null, null, null, null, null, null, null, null, null, null, null, null, null, null, null, null, null, null, null, null, null, null, null, null, null, null, null, null, null, null, null], [null, null, null, null, null, null, null, null, null, null, null, null, null, null, null, null, null, null, null, null, null, null, null, null, null, null, null, null, null, null, null, null, null, null, null, null, null, null, null, null, null, null, null, null, null, null, null, null, null, null, null, null, null, null, null, null, null, null, null, null, null, null, null, null, null, null, null, null, null, null, null, null, null, null, null, null, null, null, null, null, null, null, null, null, null, null, null, null, null, null, null]]}, {\"marker\": {\"color\": \"black\", \"line\": {\"color\": \"Grey\", \"width\": 0.5}}, \"mode\": \"markers\", \"showlegend\": false, \"type\": \"scatter\", \"x\": [26.88969370720006, 10.558708649211074, 11.826625851340674, 19.35765651524278, 77.68004545206622, 10.292291805381785, 98.0967162343124, 83.04327562087734, 54.0075957664511, 49.115148804082835, 50.37995865489235, 47.0438431122642, 52.05960913019239, 36.67624201412377, 64.06484116778154, 30.322455519367224, 40.49172691383036, 37.75332870669196, 61.249315706374226, 20.56461077964048, 37.52131766177265, 25.283392313787928, 62.64406078047532, 43.848831308970404, 30.982458364381465, 80.65147236146993, 35.8530912053142, 55.05628125336585, 34.85189860369787, 42.61135136284449, 25.791244138976534, 22.33245901286248, 30.6970002937702, 37.36591231904357, 39.176360288789944, 45.758680441829995, 55.55313335145694, 34.68618272435875, 15.08959465223565, 27.528005290395367, 27.705585157196623, 69.49443157815287, 48.529329924129044, 33.05684451127388, 40.16841854504082, 27.575424183794233, 52.57955982627725, 16.751074112363558, 23.942509577346407, 44.72416965513553, 37.99860973706503, 28.300035271147067, 62.40440263554319, 42.80386901283265, 42.207251867389765, 48.34031558025404, 57.55078560283737, 93.60283410146837, 33.160318824977814, 73.22191554687411, 38.93525207491412, 69.55474440201527, 10.416839127939792, 67.69966526968388, 36.35982867131296, 52.58935729627535, 29.183214355018862, 93.25053859608988, 87.4510971066798, 58.57011965780695, 46.65526395831218, 65.39564385033816, 98.96846917894307, 77.2335094434478, 75.63151254404556, 74.1063593318148, 82.48514736036189, 76.00244286328596, 32.52714724332147, 69.73604974887012, 85.72536170833567, 83.49395064469616, 85.04130032890805, 93.01257637754354, 90.18405964731953, 79.38568788231291, 80.25632818006979, 72.60181912398701, 95.76523208454782], \"y\": [1080, 1370, 1850, 1440, 540, 2000, 210, 330, 720, 780, 810, 690, 970, 470, 1370, 750, 450, 570, 890, 200, 380, 660, 1140, 1000, 1180, 580, 430, 320, 410, 820, 640, 310, 460, 550, 540, 780, 910, 690, 520, 270, 200, 270, 410, 360, 620, 500, 730, 260, 360, 830, 1760, 580, 1200, 1040, 870, 710, 940, 1170, 820, 480, 610, 1470, 1740, 1120, 1480, 1280, 1540, 1580, 1350, 1980, 770, 980, 530, 580, 420, 400, 240, 470, 660, 330, 390, 430, 400, 300, 310, 440, 230, 290, 350]}],\n",
              "                        {\"template\": {\"data\": {\"bar\": [{\"error_x\": {\"color\": \"#2a3f5f\"}, \"error_y\": {\"color\": \"#2a3f5f\"}, \"marker\": {\"line\": {\"color\": \"#E5ECF6\", \"width\": 0.5}}, \"type\": \"bar\"}], \"barpolar\": [{\"marker\": {\"line\": {\"color\": \"#E5ECF6\", \"width\": 0.5}}, \"type\": \"barpolar\"}], \"carpet\": [{\"aaxis\": {\"endlinecolor\": \"#2a3f5f\", \"gridcolor\": \"white\", \"linecolor\": \"white\", \"minorgridcolor\": \"white\", \"startlinecolor\": \"#2a3f5f\"}, \"baxis\": {\"endlinecolor\": \"#2a3f5f\", \"gridcolor\": \"white\", \"linecolor\": \"white\", \"minorgridcolor\": \"white\", \"startlinecolor\": \"#2a3f5f\"}, \"type\": \"carpet\"}], \"choropleth\": [{\"colorbar\": {\"outlinewidth\": 0, \"ticks\": \"\"}, \"type\": \"choropleth\"}], \"contour\": [{\"colorbar\": {\"outlinewidth\": 0, \"ticks\": \"\"}, \"colorscale\": [[0.0, \"#0d0887\"], [0.1111111111111111, \"#46039f\"], [0.2222222222222222, \"#7201a8\"], [0.3333333333333333, \"#9c179e\"], [0.4444444444444444, \"#bd3786\"], [0.5555555555555556, \"#d8576b\"], [0.6666666666666666, \"#ed7953\"], [0.7777777777777778, \"#fb9f3a\"], [0.8888888888888888, \"#fdca26\"], [1.0, \"#f0f921\"]], \"type\": \"contour\"}], \"contourcarpet\": [{\"colorbar\": {\"outlinewidth\": 0, \"ticks\": \"\"}, \"type\": \"contourcarpet\"}], \"heatmap\": [{\"colorbar\": {\"outlinewidth\": 0, \"ticks\": \"\"}, \"colorscale\": [[0.0, \"#0d0887\"], [0.1111111111111111, \"#46039f\"], [0.2222222222222222, \"#7201a8\"], [0.3333333333333333, \"#9c179e\"], [0.4444444444444444, \"#bd3786\"], [0.5555555555555556, \"#d8576b\"], [0.6666666666666666, \"#ed7953\"], [0.7777777777777778, \"#fb9f3a\"], [0.8888888888888888, \"#fdca26\"], [1.0, \"#f0f921\"]], \"type\": \"heatmap\"}], \"heatmapgl\": [{\"colorbar\": {\"outlinewidth\": 0, \"ticks\": \"\"}, \"colorscale\": [[0.0, \"#0d0887\"], [0.1111111111111111, \"#46039f\"], [0.2222222222222222, \"#7201a8\"], [0.3333333333333333, \"#9c179e\"], [0.4444444444444444, \"#bd3786\"], [0.5555555555555556, \"#d8576b\"], [0.6666666666666666, \"#ed7953\"], [0.7777777777777778, \"#fb9f3a\"], [0.8888888888888888, \"#fdca26\"], [1.0, \"#f0f921\"]], \"type\": \"heatmapgl\"}], \"histogram\": [{\"marker\": {\"colorbar\": {\"outlinewidth\": 0, \"ticks\": \"\"}}, \"type\": \"histogram\"}], \"histogram2d\": [{\"colorbar\": {\"outlinewidth\": 0, \"ticks\": \"\"}, \"colorscale\": [[0.0, \"#0d0887\"], [0.1111111111111111, \"#46039f\"], [0.2222222222222222, \"#7201a8\"], [0.3333333333333333, \"#9c179e\"], [0.4444444444444444, \"#bd3786\"], [0.5555555555555556, \"#d8576b\"], [0.6666666666666666, \"#ed7953\"], [0.7777777777777778, \"#fb9f3a\"], [0.8888888888888888, \"#fdca26\"], [1.0, \"#f0f921\"]], \"type\": \"histogram2d\"}], \"histogram2dcontour\": [{\"colorbar\": {\"outlinewidth\": 0, \"ticks\": \"\"}, \"colorscale\": [[0.0, \"#0d0887\"], [0.1111111111111111, \"#46039f\"], [0.2222222222222222, \"#7201a8\"], [0.3333333333333333, \"#9c179e\"], [0.4444444444444444, \"#bd3786\"], [0.5555555555555556, \"#d8576b\"], [0.6666666666666666, \"#ed7953\"], [0.7777777777777778, \"#fb9f3a\"], [0.8888888888888888, \"#fdca26\"], [1.0, \"#f0f921\"]], \"type\": \"histogram2dcontour\"}], \"mesh3d\": [{\"colorbar\": {\"outlinewidth\": 0, \"ticks\": \"\"}, \"type\": \"mesh3d\"}], \"parcoords\": [{\"line\": {\"colorbar\": {\"outlinewidth\": 0, \"ticks\": \"\"}}, \"type\": \"parcoords\"}], \"pie\": [{\"automargin\": true, \"type\": \"pie\"}], \"scatter\": [{\"marker\": {\"colorbar\": {\"outlinewidth\": 0, \"ticks\": \"\"}}, \"type\": \"scatter\"}], \"scatter3d\": [{\"line\": {\"colorbar\": {\"outlinewidth\": 0, \"ticks\": \"\"}}, \"marker\": {\"colorbar\": {\"outlinewidth\": 0, \"ticks\": \"\"}}, \"type\": \"scatter3d\"}], \"scattercarpet\": [{\"marker\": {\"colorbar\": {\"outlinewidth\": 0, \"ticks\": \"\"}}, \"type\": \"scattercarpet\"}], \"scattergeo\": [{\"marker\": {\"colorbar\": {\"outlinewidth\": 0, \"ticks\": \"\"}}, \"type\": \"scattergeo\"}], \"scattergl\": [{\"marker\": {\"colorbar\": {\"outlinewidth\": 0, \"ticks\": \"\"}}, \"type\": \"scattergl\"}], \"scattermapbox\": [{\"marker\": {\"colorbar\": {\"outlinewidth\": 0, \"ticks\": \"\"}}, \"type\": \"scattermapbox\"}], \"scatterpolar\": [{\"marker\": {\"colorbar\": {\"outlinewidth\": 0, \"ticks\": \"\"}}, \"type\": \"scatterpolar\"}], \"scatterpolargl\": [{\"marker\": {\"colorbar\": {\"outlinewidth\": 0, \"ticks\": \"\"}}, \"type\": \"scatterpolargl\"}], \"scatterternary\": [{\"marker\": {\"colorbar\": {\"outlinewidth\": 0, \"ticks\": \"\"}}, \"type\": \"scatterternary\"}], \"surface\": [{\"colorbar\": {\"outlinewidth\": 0, \"ticks\": \"\"}, \"colorscale\": [[0.0, \"#0d0887\"], [0.1111111111111111, \"#46039f\"], [0.2222222222222222, \"#7201a8\"], [0.3333333333333333, \"#9c179e\"], [0.4444444444444444, \"#bd3786\"], [0.5555555555555556, \"#d8576b\"], [0.6666666666666666, \"#ed7953\"], [0.7777777777777778, \"#fb9f3a\"], [0.8888888888888888, \"#fdca26\"], [1.0, \"#f0f921\"]], \"type\": \"surface\"}], \"table\": [{\"cells\": {\"fill\": {\"color\": \"#EBF0F8\"}, \"line\": {\"color\": \"white\"}}, \"header\": {\"fill\": {\"color\": \"#C8D4E3\"}, \"line\": {\"color\": \"white\"}}, \"type\": \"table\"}]}, \"layout\": {\"annotationdefaults\": {\"arrowcolor\": \"#2a3f5f\", \"arrowhead\": 0, \"arrowwidth\": 1}, \"coloraxis\": {\"colorbar\": {\"outlinewidth\": 0, \"ticks\": \"\"}}, \"colorscale\": {\"diverging\": [[0, \"#8e0152\"], [0.1, \"#c51b7d\"], [0.2, \"#de77ae\"], [0.3, \"#f1b6da\"], [0.4, \"#fde0ef\"], [0.5, \"#f7f7f7\"], [0.6, \"#e6f5d0\"], [0.7, \"#b8e186\"], [0.8, \"#7fbc41\"], [0.9, \"#4d9221\"], [1, \"#276419\"]], \"sequential\": [[0.0, \"#0d0887\"], [0.1111111111111111, \"#46039f\"], [0.2222222222222222, \"#7201a8\"], [0.3333333333333333, \"#9c179e\"], [0.4444444444444444, \"#bd3786\"], [0.5555555555555556, \"#d8576b\"], [0.6666666666666666, \"#ed7953\"], [0.7777777777777778, \"#fb9f3a\"], [0.8888888888888888, \"#fdca26\"], [1.0, \"#f0f921\"]], \"sequentialminus\": [[0.0, \"#0d0887\"], [0.1111111111111111, \"#46039f\"], [0.2222222222222222, \"#7201a8\"], [0.3333333333333333, \"#9c179e\"], [0.4444444444444444, \"#bd3786\"], [0.5555555555555556, \"#d8576b\"], [0.6666666666666666, \"#ed7953\"], [0.7777777777777778, \"#fb9f3a\"], [0.8888888888888888, \"#fdca26\"], [1.0, \"#f0f921\"]]}, \"colorway\": [\"#636efa\", \"#EF553B\", \"#00cc96\", \"#ab63fa\", \"#FFA15A\", \"#19d3f3\", \"#FF6692\", \"#B6E880\", \"#FF97FF\", \"#FECB52\"], \"font\": {\"color\": \"#2a3f5f\"}, \"geo\": {\"bgcolor\": \"white\", \"lakecolor\": \"white\", \"landcolor\": \"#E5ECF6\", \"showlakes\": true, \"showland\": true, \"subunitcolor\": \"white\"}, \"hoverlabel\": {\"align\": \"left\"}, \"hovermode\": \"closest\", \"mapbox\": {\"style\": \"light\"}, \"paper_bgcolor\": \"white\", \"plot_bgcolor\": \"#E5ECF6\", \"polar\": {\"angularaxis\": {\"gridcolor\": \"white\", \"linecolor\": \"white\", \"ticks\": \"\"}, \"bgcolor\": \"#E5ECF6\", \"radialaxis\": {\"gridcolor\": \"white\", \"linecolor\": \"white\", \"ticks\": \"\"}}, \"scene\": {\"xaxis\": {\"backgroundcolor\": \"#E5ECF6\", \"gridcolor\": \"white\", \"gridwidth\": 2, \"linecolor\": \"white\", \"showbackground\": true, \"ticks\": \"\", \"zerolinecolor\": \"white\"}, \"yaxis\": {\"backgroundcolor\": \"#E5ECF6\", \"gridcolor\": \"white\", \"gridwidth\": 2, \"linecolor\": \"white\", \"showbackground\": true, \"ticks\": \"\", \"zerolinecolor\": \"white\"}, \"zaxis\": {\"backgroundcolor\": \"#E5ECF6\", \"gridcolor\": \"white\", \"gridwidth\": 2, \"linecolor\": \"white\", \"showbackground\": true, \"ticks\": \"\", \"zerolinecolor\": \"white\"}}, \"shapedefaults\": {\"line\": {\"color\": \"#2a3f5f\"}}, \"ternary\": {\"aaxis\": {\"gridcolor\": \"white\", \"linecolor\": \"white\", \"ticks\": \"\"}, \"baxis\": {\"gridcolor\": \"white\", \"linecolor\": \"white\", \"ticks\": \"\"}, \"bgcolor\": \"#E5ECF6\", \"caxis\": {\"gridcolor\": \"white\", \"linecolor\": \"white\", \"ticks\": \"\"}}, \"title\": {\"x\": 0.05}, \"xaxis\": {\"automargin\": true, \"gridcolor\": \"white\", \"linecolor\": \"white\", \"ticks\": \"\", \"title\": {\"standoff\": 15}, \"zerolinecolor\": \"white\", \"zerolinewidth\": 2}, \"yaxis\": {\"automargin\": true, \"gridcolor\": \"white\", \"linecolor\": \"white\", \"ticks\": \"\", \"title\": {\"standoff\": 15}, \"zerolinecolor\": \"white\", \"zerolinewidth\": 2}}}, \"title\": {\"text\": \"Contour Plot\"}, \"xaxis\": {\"range\": [0.9633628526596876, 2.0446460908514514], \"title\": {\"text\": \"max_depth\"}, \"type\": \"log\"}, \"yaxis\": {\"range\": [110.0, 2090.0], \"title\": {\"text\": \"n_estimators\"}}},\n",
              "                        {\"responsive\": true}\n",
              "                    ).then(function(){\n",
              "                            \n",
              "var gd = document.getElementById('76ef25d3-7d18-444e-a281-1e55b6d4085a');\n",
              "var x = new MutationObserver(function (mutations, observer) {{\n",
              "        var display = window.getComputedStyle(gd).display;\n",
              "        if (!display || display === 'none') {{\n",
              "            console.log([gd, 'removed!']);\n",
              "            Plotly.purge(gd);\n",
              "            observer.disconnect();\n",
              "        }}\n",
              "}});\n",
              "\n",
              "// Listen for the removal of the full notebook cells\n",
              "var notebookContainer = gd.closest('#notebook-container');\n",
              "if (notebookContainer) {{\n",
              "    x.observe(notebookContainer, {childList: true});\n",
              "}}\n",
              "\n",
              "// Listen for the clearing of the current output cell\n",
              "var outputEl = gd.closest('.output');\n",
              "if (outputEl) {{\n",
              "    x.observe(outputEl, {childList: true});\n",
              "}}\n",
              "\n",
              "                        })\n",
              "                };\n",
              "                \n",
              "            </script>\n",
              "        </div>\n",
              "</body>\n",
              "</html>"
            ]
          },
          "metadata": {
            "tags": []
          }
        }
      ]
    },
    {
      "cell_type": "code",
      "metadata": {
        "id": "2E_9A7AGflHb"
      },
      "source": [
        ""
      ],
      "execution_count": null,
      "outputs": []
    }
  ]
}